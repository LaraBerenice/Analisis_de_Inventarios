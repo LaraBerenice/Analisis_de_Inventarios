{
 "cells": [
  {
   "cell_type": "markdown",
   "metadata": {},
   "source": [
    "#### Algunas cuestiones del codigo imprtantes para backup"
   ]
  },
  {
   "cell_type": "code",
   "execution_count": null,
   "metadata": {},
   "outputs": [],
   "source": [
    "\n",
    "# docker cp <nombre_o_id_del_contenedor>:/var/lib/postgresql/data /ruta/local/donde/guardar"
   ]
  },
  {
   "cell_type": "code",
   "execution_count": null,
   "metadata": {},
   "outputs": [],
   "source": [
    "#sudo -i --> privilegio de superusuario"
   ]
  },
  {
   "cell_type": "markdown",
   "metadata": {},
   "source": [
    "\n",
    "    - **/var/lib/postgresql/data** es la ruta dentro del contenedor donde PostgreSQL almacena sus datos (es la ruta predeterminada de PostgreSQL en la imagen oficial).\n",
    "    - **postgres_data** Es un volumen que se almacena en el sistema de archivos de Docker en el host donde se copia y guarda la data que esta en el contenedor."
   ]
  },
  {
   "cell_type": "code",
   "execution_count": null,
   "metadata": {},
   "outputs": [],
   "source": [
    "#  /var/lib/postgresql/data (ruta posgresql en contenedor)\n",
    "#  /var/lib/docker/volumes/name_volumen/data(ruta del volumen en el host)"
   ]
  },
  {
   "cell_type": "markdown",
   "metadata": {},
   "source": [
    "1. /var/lib/postgresql/data dentro del contenedor:\n",
    "\n",
    "    Esta es la ruta predeterminada en un contenedor Docker para que PostgreSQL almacene sus datos (bases de datos, configuraciones, etc.).\n",
    "    Cuando ejecutas PostgreSQL en un contenedor Docker, los datos del servicio generalmente se guardan en este directorio dentro del contenedor.\n",
    "\n",
    "2. postgres_data como volumen:\n",
    "\n",
    "    postgres_data es el nombre del volumen que se utiliza para persistir los datos generados dentro del contenedor.\n",
    "    Los volúmenes en Docker permiten que los datos sean almacenados fuera del contenedor, en el host (tu máquina física o virtual).\n",
    "    Este volumen se monta en el contenedor en la ruta /var/lib/postgresql/data, lo que significa que cualquier dato que se genere en esa ruta dentro del contenedor se guarda en el volumen postgres_data y no se pierde incluso si el contenedor se detiene o se elimina.\n",
    "\n",
    "Resumen\n",
    "\n",
    "Tu descripción es correcta:\n",
    "\n",
    "    /var/lib/postgresql/data es la ubicación dentro del contenedor donde PostgreSQL guarda sus datos.\n",
    "    postgres_data es un volumen de Docker que almacena esos datos en el sistema de archivos del host, lo que garantiza la persistencia de los mismos fuera del contenedor.\n",
    "\n",
    "Ejemplo de cómo se monta el volumen en Docker:\n",
    "\n",
    "Si estás ejecutando un contenedor de PostgreSQL, puedes montar el volumen de la siguiente forma:\n",
    "\n",
    "docker run -d \\\n",
    "  --name postgres-container \\\n",
    "  -v postgres_data:/var/lib/postgresql/data \\\n",
    "  postgres:latest\n",
    "\n",
    "Esto hace que los datos de PostgreSQL se almacenen en el volumen postgres_data y se monten en /var/lib/postgresql/data dentro del contenedor."
   ]
  }
 ],
 "metadata": {
  "kernelspec": {
   "display_name": "Python 3",
   "language": "python",
   "name": "python3"
  },
  "language_info": {
   "name": "python",
   "version": "3.12.3"
  }
 },
 "nbformat": 4,
 "nbformat_minor": 2
}
