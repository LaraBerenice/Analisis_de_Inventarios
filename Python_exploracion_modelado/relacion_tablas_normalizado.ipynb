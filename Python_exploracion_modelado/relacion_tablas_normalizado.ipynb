{
 "cells": [
  {
   "cell_type": "markdown",
   "metadata": {},
   "source": [
    "# REVISION DE DATA Y GENERACION DE DIM TABLES Y FACT TABLES"
   ]
  },
  {
   "cell_type": "markdown",
   "metadata": {},
   "source": [
    "#### Abrimos los 6 archivos"
   ]
  },
  {
   "cell_type": "code",
   "execution_count": 1,
   "metadata": {},
   "outputs": [],
   "source": [
    "import pandas as pd"
   ]
  },
  {
   "cell_type": "code",
   "execution_count": 3,
   "metadata": {},
   "outputs": [],
   "source": [
    "df_SalesFinal = pd.read_csv('D:/OneDrive/nana/cursos/HENRY_DATA SCIENCE_DATA ANALYTICS/DATA ANALYTICS/CARRERA/MODULOS/PF_grupal/PF_final/SalesFINAL12312016.csv')"
   ]
  },
  {
   "cell_type": "code",
   "execution_count": 4,
   "metadata": {},
   "outputs": [],
   "source": [
    "df_PurchasesFinal = pd.read_csv('D:/OneDrive/nana/cursos/HENRY_DATA SCIENCE_DATA ANALYTICS/DATA ANALYTICS/CARRERA/MODULOS/PF_grupal/PF_final/PurchasesFINAL12312016.csv')"
   ]
  },
  {
   "cell_type": "code",
   "execution_count": 5,
   "metadata": {},
   "outputs": [],
   "source": [
    "df_BegInv = pd.read_csv('D:/OneDrive/nana/cursos/HENRY_DATA SCIENCE_DATA ANALYTICS/DATA ANALYTICS/CARRERA/MODULOS/PF_grupal/PF_final/BegInvFINAL12312016.csv')\n",
    "df_EndInv = pd.read_csv('D:/OneDrive/nana/cursos/HENRY_DATA SCIENCE_DATA ANALYTICS/DATA ANALYTICS/CARRERA/MODULOS/PF_grupal/PF_final/EndInvFINAL12312016.csv')"
   ]
  },
  {
   "cell_type": "code",
   "execution_count": 6,
   "metadata": {},
   "outputs": [],
   "source": [
    "df_PurchasePrices = pd.read_csv('D:/OneDrive/nana/cursos/HENRY_DATA SCIENCE_DATA ANALYTICS/DATA ANALYTICS/CARRERA/MODULOS/PF_grupal/PF_final/2017PurchasePricesDec.csv')\n",
    "df_InvoicePurchases = pd.read_csv('D:/OneDrive/nana/cursos/HENRY_DATA SCIENCE_DATA ANALYTICS/DATA ANALYTICS/CARRERA/MODULOS/PF_grupal/PF_final/InvoicePurchases12312016.csv')"
   ]
  },
  {
   "cell_type": "markdown",
   "metadata": {},
   "source": [
    "#### Revisamos la data"
   ]
  },
  {
   "cell_type": "code",
   "execution_count": 7,
   "metadata": {},
   "outputs": [
    {
     "data": {
      "text/plain": [
       "(2372474, 16)"
      ]
     },
     "execution_count": 7,
     "metadata": {},
     "output_type": "execute_result"
    }
   ],
   "source": [
    "df_PurchasesFinal.shape"
   ]
  },
  {
   "cell_type": "code",
   "execution_count": 13,
   "metadata": {},
   "outputs": [
    {
     "data": {
      "text/html": [
       "<div>\n",
       "<style scoped>\n",
       "    .dataframe tbody tr th:only-of-type {\n",
       "        vertical-align: middle;\n",
       "    }\n",
       "\n",
       "    .dataframe tbody tr th {\n",
       "        vertical-align: top;\n",
       "    }\n",
       "\n",
       "    .dataframe thead th {\n",
       "        text-align: right;\n",
       "    }\n",
       "</style>\n",
       "<table border=\"1\" class=\"dataframe\">\n",
       "  <thead>\n",
       "    <tr style=\"text-align: right;\">\n",
       "      <th></th>\n",
       "      <th>InventoryId</th>\n",
       "      <th>Store</th>\n",
       "      <th>Brand</th>\n",
       "      <th>Description</th>\n",
       "      <th>Size</th>\n",
       "      <th>VendorNumber</th>\n",
       "      <th>VendorName</th>\n",
       "      <th>PONumber</th>\n",
       "      <th>PODate</th>\n",
       "      <th>ReceivingDate</th>\n",
       "      <th>InvoiceDate</th>\n",
       "      <th>PayDate</th>\n",
       "      <th>PurchasePrice</th>\n",
       "      <th>Quantity</th>\n",
       "      <th>Dollars</th>\n",
       "      <th>Classification</th>\n",
       "    </tr>\n",
       "  </thead>\n",
       "  <tbody>\n",
       "    <tr>\n",
       "      <th>0</th>\n",
       "      <td>69_MOUNTMEND_8412</td>\n",
       "      <td>69</td>\n",
       "      <td>8412</td>\n",
       "      <td>Tequila Ocho Plata Fresno</td>\n",
       "      <td>750mL</td>\n",
       "      <td>105</td>\n",
       "      <td>ALTAMAR BRANDS LLC</td>\n",
       "      <td>8124</td>\n",
       "      <td>2015-12-21</td>\n",
       "      <td>2016-01-02</td>\n",
       "      <td>2016-01-04</td>\n",
       "      <td>2016-02-16</td>\n",
       "      <td>35.71</td>\n",
       "      <td>6</td>\n",
       "      <td>214.26</td>\n",
       "      <td>1</td>\n",
       "    </tr>\n",
       "    <tr>\n",
       "      <th>1</th>\n",
       "      <td>30_CULCHETH_5255</td>\n",
       "      <td>30</td>\n",
       "      <td>5255</td>\n",
       "      <td>TGI Fridays Ultimte Mudslide</td>\n",
       "      <td>1.75L</td>\n",
       "      <td>4466</td>\n",
       "      <td>AMERICAN VINTAGE BEVERAGE</td>\n",
       "      <td>8137</td>\n",
       "      <td>2015-12-22</td>\n",
       "      <td>2016-01-01</td>\n",
       "      <td>2016-01-07</td>\n",
       "      <td>2016-02-21</td>\n",
       "      <td>9.35</td>\n",
       "      <td>4</td>\n",
       "      <td>37.40</td>\n",
       "      <td>1</td>\n",
       "    </tr>\n",
       "    <tr>\n",
       "      <th>2</th>\n",
       "      <td>34_PITMERDEN_5215</td>\n",
       "      <td>34</td>\n",
       "      <td>5215</td>\n",
       "      <td>TGI Fridays Long Island Iced</td>\n",
       "      <td>1.75L</td>\n",
       "      <td>4466</td>\n",
       "      <td>AMERICAN VINTAGE BEVERAGE</td>\n",
       "      <td>8137</td>\n",
       "      <td>2015-12-22</td>\n",
       "      <td>2016-01-02</td>\n",
       "      <td>2016-01-07</td>\n",
       "      <td>2016-02-21</td>\n",
       "      <td>9.41</td>\n",
       "      <td>5</td>\n",
       "      <td>47.05</td>\n",
       "      <td>1</td>\n",
       "    </tr>\n",
       "    <tr>\n",
       "      <th>3</th>\n",
       "      <td>1_HARDERSFIELD_5255</td>\n",
       "      <td>1</td>\n",
       "      <td>5255</td>\n",
       "      <td>TGI Fridays Ultimte Mudslide</td>\n",
       "      <td>1.75L</td>\n",
       "      <td>4466</td>\n",
       "      <td>AMERICAN VINTAGE BEVERAGE</td>\n",
       "      <td>8137</td>\n",
       "      <td>2015-12-22</td>\n",
       "      <td>2016-01-01</td>\n",
       "      <td>2016-01-07</td>\n",
       "      <td>2016-02-21</td>\n",
       "      <td>9.35</td>\n",
       "      <td>6</td>\n",
       "      <td>56.10</td>\n",
       "      <td>1</td>\n",
       "    </tr>\n",
       "    <tr>\n",
       "      <th>4</th>\n",
       "      <td>76_DONCASTER_2034</td>\n",
       "      <td>76</td>\n",
       "      <td>2034</td>\n",
       "      <td>Glendalough Double Barrel</td>\n",
       "      <td>750mL</td>\n",
       "      <td>388</td>\n",
       "      <td>ATLANTIC IMPORTING COMPANY</td>\n",
       "      <td>8169</td>\n",
       "      <td>2015-12-24</td>\n",
       "      <td>2016-01-02</td>\n",
       "      <td>2016-01-09</td>\n",
       "      <td>2016-02-16</td>\n",
       "      <td>21.32</td>\n",
       "      <td>5</td>\n",
       "      <td>106.60</td>\n",
       "      <td>1</td>\n",
       "    </tr>\n",
       "  </tbody>\n",
       "</table>\n",
       "</div>"
      ],
      "text/plain": [
       "           InventoryId  Store  Brand                   Description   Size  \\\n",
       "0    69_MOUNTMEND_8412     69   8412     Tequila Ocho Plata Fresno  750mL   \n",
       "1     30_CULCHETH_5255     30   5255  TGI Fridays Ultimte Mudslide  1.75L   \n",
       "2    34_PITMERDEN_5215     34   5215  TGI Fridays Long Island Iced  1.75L   \n",
       "3  1_HARDERSFIELD_5255      1   5255  TGI Fridays Ultimte Mudslide  1.75L   \n",
       "4    76_DONCASTER_2034     76   2034     Glendalough Double Barrel  750mL   \n",
       "\n",
       "   VendorNumber                   VendorName  PONumber      PODate  \\\n",
       "0           105  ALTAMAR BRANDS LLC               8124  2015-12-21   \n",
       "1          4466  AMERICAN VINTAGE BEVERAGE        8137  2015-12-22   \n",
       "2          4466  AMERICAN VINTAGE BEVERAGE        8137  2015-12-22   \n",
       "3          4466  AMERICAN VINTAGE BEVERAGE        8137  2015-12-22   \n",
       "4           388  ATLANTIC IMPORTING COMPANY       8169  2015-12-24   \n",
       "\n",
       "  ReceivingDate InvoiceDate     PayDate  PurchasePrice  Quantity  Dollars  \\\n",
       "0    2016-01-02  2016-01-04  2016-02-16          35.71         6   214.26   \n",
       "1    2016-01-01  2016-01-07  2016-02-21           9.35         4    37.40   \n",
       "2    2016-01-02  2016-01-07  2016-02-21           9.41         5    47.05   \n",
       "3    2016-01-01  2016-01-07  2016-02-21           9.35         6    56.10   \n",
       "4    2016-01-02  2016-01-09  2016-02-16          21.32         5   106.60   \n",
       "\n",
       "   Classification  \n",
       "0               1  \n",
       "1               1  \n",
       "2               1  \n",
       "3               1  \n",
       "4               1  "
      ]
     },
     "execution_count": 13,
     "metadata": {},
     "output_type": "execute_result"
    }
   ],
   "source": [
    "df_PurchasesFinal.head()"
   ]
  },
  {
   "cell_type": "code",
   "execution_count": 14,
   "metadata": {},
   "outputs": [
    {
     "name": "stdout",
     "output_type": "stream",
     "text": [
      "<class 'pandas.core.frame.DataFrame'>\n",
      "RangeIndex: 2372474 entries, 0 to 2372473\n",
      "Data columns (total 16 columns):\n",
      " #   Column          Dtype  \n",
      "---  ------          -----  \n",
      " 0   InventoryId     object \n",
      " 1   Store           int64  \n",
      " 2   Brand           int64  \n",
      " 3   Description     object \n",
      " 4   Size            object \n",
      " 5   VendorNumber    int64  \n",
      " 6   VendorName      object \n",
      " 7   PONumber        int64  \n",
      " 8   PODate          object \n",
      " 9   ReceivingDate   object \n",
      " 10  InvoiceDate     object \n",
      " 11  PayDate         object \n",
      " 12  PurchasePrice   float64\n",
      " 13  Quantity        int64  \n",
      " 14  Dollars         float64\n",
      " 15  Classification  int64  \n",
      "dtypes: float64(2), int64(6), object(8)\n",
      "memory usage: 289.6+ MB\n"
     ]
    }
   ],
   "source": [
    "df_PurchasesFinal.info()"
   ]
  },
  {
   "cell_type": "code",
   "execution_count": 8,
   "metadata": {},
   "outputs": [
    {
     "data": {
      "text/plain": [
       "(1048575, 14)"
      ]
     },
     "execution_count": 8,
     "metadata": {},
     "output_type": "execute_result"
    }
   ],
   "source": [
    "df_SalesFinal.shape"
   ]
  },
  {
   "cell_type": "code",
   "execution_count": 15,
   "metadata": {},
   "outputs": [
    {
     "data": {
      "text/html": [
       "<div>\n",
       "<style scoped>\n",
       "    .dataframe tbody tr th:only-of-type {\n",
       "        vertical-align: middle;\n",
       "    }\n",
       "\n",
       "    .dataframe tbody tr th {\n",
       "        vertical-align: top;\n",
       "    }\n",
       "\n",
       "    .dataframe thead th {\n",
       "        text-align: right;\n",
       "    }\n",
       "</style>\n",
       "<table border=\"1\" class=\"dataframe\">\n",
       "  <thead>\n",
       "    <tr style=\"text-align: right;\">\n",
       "      <th></th>\n",
       "      <th>InventoryId</th>\n",
       "      <th>Store</th>\n",
       "      <th>Brand</th>\n",
       "      <th>Description</th>\n",
       "      <th>Size</th>\n",
       "      <th>SalesQuantity</th>\n",
       "      <th>SalesDollars</th>\n",
       "      <th>SalesPrice</th>\n",
       "      <th>SalesDate</th>\n",
       "      <th>Volume</th>\n",
       "      <th>Classification</th>\n",
       "      <th>ExciseTax</th>\n",
       "      <th>VendorNo</th>\n",
       "      <th>VendorName</th>\n",
       "    </tr>\n",
       "  </thead>\n",
       "  <tbody>\n",
       "    <tr>\n",
       "      <th>0</th>\n",
       "      <td>1_HARDERSFIELD_1004</td>\n",
       "      <td>1</td>\n",
       "      <td>1004</td>\n",
       "      <td>Jim Beam w/2 Rocks Glasses</td>\n",
       "      <td>750mL</td>\n",
       "      <td>1</td>\n",
       "      <td>16.49</td>\n",
       "      <td>16.49</td>\n",
       "      <td>1/1/2016</td>\n",
       "      <td>750</td>\n",
       "      <td>1</td>\n",
       "      <td>0.79</td>\n",
       "      <td>12546</td>\n",
       "      <td>JIM BEAM BRANDS COMPANY</td>\n",
       "    </tr>\n",
       "    <tr>\n",
       "      <th>1</th>\n",
       "      <td>1_HARDERSFIELD_1004</td>\n",
       "      <td>1</td>\n",
       "      <td>1004</td>\n",
       "      <td>Jim Beam w/2 Rocks Glasses</td>\n",
       "      <td>750mL</td>\n",
       "      <td>2</td>\n",
       "      <td>32.98</td>\n",
       "      <td>16.49</td>\n",
       "      <td>1/2/2016</td>\n",
       "      <td>750</td>\n",
       "      <td>1</td>\n",
       "      <td>1.57</td>\n",
       "      <td>12546</td>\n",
       "      <td>JIM BEAM BRANDS COMPANY</td>\n",
       "    </tr>\n",
       "    <tr>\n",
       "      <th>2</th>\n",
       "      <td>1_HARDERSFIELD_1004</td>\n",
       "      <td>1</td>\n",
       "      <td>1004</td>\n",
       "      <td>Jim Beam w/2 Rocks Glasses</td>\n",
       "      <td>750mL</td>\n",
       "      <td>1</td>\n",
       "      <td>16.49</td>\n",
       "      <td>16.49</td>\n",
       "      <td>1/3/2016</td>\n",
       "      <td>750</td>\n",
       "      <td>1</td>\n",
       "      <td>0.79</td>\n",
       "      <td>12546</td>\n",
       "      <td>JIM BEAM BRANDS COMPANY</td>\n",
       "    </tr>\n",
       "    <tr>\n",
       "      <th>3</th>\n",
       "      <td>1_HARDERSFIELD_1004</td>\n",
       "      <td>1</td>\n",
       "      <td>1004</td>\n",
       "      <td>Jim Beam w/2 Rocks Glasses</td>\n",
       "      <td>750mL</td>\n",
       "      <td>1</td>\n",
       "      <td>14.49</td>\n",
       "      <td>14.49</td>\n",
       "      <td>1/8/2016</td>\n",
       "      <td>750</td>\n",
       "      <td>1</td>\n",
       "      <td>0.79</td>\n",
       "      <td>12546</td>\n",
       "      <td>JIM BEAM BRANDS COMPANY</td>\n",
       "    </tr>\n",
       "    <tr>\n",
       "      <th>4</th>\n",
       "      <td>1_HARDERSFIELD_1005</td>\n",
       "      <td>1</td>\n",
       "      <td>1005</td>\n",
       "      <td>Maker's Mark Combo Pack</td>\n",
       "      <td>375mL 2 Pk</td>\n",
       "      <td>2</td>\n",
       "      <td>69.98</td>\n",
       "      <td>34.99</td>\n",
       "      <td>1/9/2016</td>\n",
       "      <td>375</td>\n",
       "      <td>1</td>\n",
       "      <td>0.79</td>\n",
       "      <td>12546</td>\n",
       "      <td>JIM BEAM BRANDS COMPANY</td>\n",
       "    </tr>\n",
       "  </tbody>\n",
       "</table>\n",
       "</div>"
      ],
      "text/plain": [
       "           InventoryId  Store  Brand                 Description        Size  \\\n",
       "0  1_HARDERSFIELD_1004      1   1004  Jim Beam w/2 Rocks Glasses       750mL   \n",
       "1  1_HARDERSFIELD_1004      1   1004  Jim Beam w/2 Rocks Glasses       750mL   \n",
       "2  1_HARDERSFIELD_1004      1   1004  Jim Beam w/2 Rocks Glasses       750mL   \n",
       "3  1_HARDERSFIELD_1004      1   1004  Jim Beam w/2 Rocks Glasses       750mL   \n",
       "4  1_HARDERSFIELD_1005      1   1005     Maker's Mark Combo Pack  375mL 2 Pk   \n",
       "\n",
       "   SalesQuantity  SalesDollars  SalesPrice SalesDate  Volume  Classification  \\\n",
       "0              1         16.49       16.49  1/1/2016     750               1   \n",
       "1              2         32.98       16.49  1/2/2016     750               1   \n",
       "2              1         16.49       16.49  1/3/2016     750               1   \n",
       "3              1         14.49       14.49  1/8/2016     750               1   \n",
       "4              2         69.98       34.99  1/9/2016     375               1   \n",
       "\n",
       "   ExciseTax  VendorNo                   VendorName  \n",
       "0       0.79     12546  JIM BEAM BRANDS COMPANY      \n",
       "1       1.57     12546  JIM BEAM BRANDS COMPANY      \n",
       "2       0.79     12546  JIM BEAM BRANDS COMPANY      \n",
       "3       0.79     12546  JIM BEAM BRANDS COMPANY      \n",
       "4       0.79     12546  JIM BEAM BRANDS COMPANY      "
      ]
     },
     "execution_count": 15,
     "metadata": {},
     "output_type": "execute_result"
    }
   ],
   "source": [
    "df_SalesFinal.head()"
   ]
  },
  {
   "cell_type": "code",
   "execution_count": 16,
   "metadata": {},
   "outputs": [
    {
     "name": "stdout",
     "output_type": "stream",
     "text": [
      "<class 'pandas.core.frame.DataFrame'>\n",
      "RangeIndex: 1048575 entries, 0 to 1048574\n",
      "Data columns (total 14 columns):\n",
      " #   Column          Non-Null Count    Dtype  \n",
      "---  ------          --------------    -----  \n",
      " 0   InventoryId     1048575 non-null  object \n",
      " 1   Store           1048575 non-null  int64  \n",
      " 2   Brand           1048575 non-null  int64  \n",
      " 3   Description     1048575 non-null  object \n",
      " 4   Size            1048575 non-null  object \n",
      " 5   SalesQuantity   1048575 non-null  int64  \n",
      " 6   SalesDollars    1048575 non-null  float64\n",
      " 7   SalesPrice      1048575 non-null  float64\n",
      " 8   SalesDate       1048575 non-null  object \n",
      " 9   Volume          1048575 non-null  int64  \n",
      " 10  Classification  1048575 non-null  int64  \n",
      " 11  ExciseTax       1048575 non-null  float64\n",
      " 12  VendorNo        1048575 non-null  int64  \n",
      " 13  VendorName      1048575 non-null  object \n",
      "dtypes: float64(3), int64(6), object(5)\n",
      "memory usage: 112.0+ MB\n"
     ]
    }
   ],
   "source": [
    "df_SalesFinal.info()"
   ]
  },
  {
   "cell_type": "code",
   "execution_count": 9,
   "metadata": {},
   "outputs": [
    {
     "data": {
      "text/plain": [
       "(206529, 9)"
      ]
     },
     "execution_count": 9,
     "metadata": {},
     "output_type": "execute_result"
    }
   ],
   "source": [
    "df_BegInv.shape"
   ]
  },
  {
   "cell_type": "code",
   "execution_count": 17,
   "metadata": {},
   "outputs": [
    {
     "data": {
      "text/html": [
       "<div>\n",
       "<style scoped>\n",
       "    .dataframe tbody tr th:only-of-type {\n",
       "        vertical-align: middle;\n",
       "    }\n",
       "\n",
       "    .dataframe tbody tr th {\n",
       "        vertical-align: top;\n",
       "    }\n",
       "\n",
       "    .dataframe thead th {\n",
       "        text-align: right;\n",
       "    }\n",
       "</style>\n",
       "<table border=\"1\" class=\"dataframe\">\n",
       "  <thead>\n",
       "    <tr style=\"text-align: right;\">\n",
       "      <th></th>\n",
       "      <th>InventoryId</th>\n",
       "      <th>Store</th>\n",
       "      <th>City</th>\n",
       "      <th>Brand</th>\n",
       "      <th>Description</th>\n",
       "      <th>Size</th>\n",
       "      <th>onHand</th>\n",
       "      <th>Price</th>\n",
       "      <th>startDate</th>\n",
       "    </tr>\n",
       "  </thead>\n",
       "  <tbody>\n",
       "    <tr>\n",
       "      <th>0</th>\n",
       "      <td>1_HARDERSFIELD_58</td>\n",
       "      <td>1</td>\n",
       "      <td>HARDERSFIELD</td>\n",
       "      <td>58</td>\n",
       "      <td>Gekkeikan Black &amp; Gold Sake</td>\n",
       "      <td>750mL</td>\n",
       "      <td>8</td>\n",
       "      <td>12.99</td>\n",
       "      <td>2016-01-01</td>\n",
       "    </tr>\n",
       "    <tr>\n",
       "      <th>1</th>\n",
       "      <td>1_HARDERSFIELD_60</td>\n",
       "      <td>1</td>\n",
       "      <td>HARDERSFIELD</td>\n",
       "      <td>60</td>\n",
       "      <td>Canadian Club 1858 VAP</td>\n",
       "      <td>750mL</td>\n",
       "      <td>7</td>\n",
       "      <td>10.99</td>\n",
       "      <td>2016-01-01</td>\n",
       "    </tr>\n",
       "    <tr>\n",
       "      <th>2</th>\n",
       "      <td>1_HARDERSFIELD_62</td>\n",
       "      <td>1</td>\n",
       "      <td>HARDERSFIELD</td>\n",
       "      <td>62</td>\n",
       "      <td>Herradura Silver Tequila</td>\n",
       "      <td>750mL</td>\n",
       "      <td>6</td>\n",
       "      <td>36.99</td>\n",
       "      <td>2016-01-01</td>\n",
       "    </tr>\n",
       "    <tr>\n",
       "      <th>3</th>\n",
       "      <td>1_HARDERSFIELD_63</td>\n",
       "      <td>1</td>\n",
       "      <td>HARDERSFIELD</td>\n",
       "      <td>63</td>\n",
       "      <td>Herradura Reposado Tequila</td>\n",
       "      <td>750mL</td>\n",
       "      <td>3</td>\n",
       "      <td>38.99</td>\n",
       "      <td>2016-01-01</td>\n",
       "    </tr>\n",
       "    <tr>\n",
       "      <th>4</th>\n",
       "      <td>1_HARDERSFIELD_72</td>\n",
       "      <td>1</td>\n",
       "      <td>HARDERSFIELD</td>\n",
       "      <td>72</td>\n",
       "      <td>No. 3 London Dry Gin</td>\n",
       "      <td>750mL</td>\n",
       "      <td>6</td>\n",
       "      <td>34.99</td>\n",
       "      <td>2016-01-01</td>\n",
       "    </tr>\n",
       "  </tbody>\n",
       "</table>\n",
       "</div>"
      ],
      "text/plain": [
       "         InventoryId  Store          City  Brand                  Description  \\\n",
       "0  1_HARDERSFIELD_58      1  HARDERSFIELD     58  Gekkeikan Black & Gold Sake   \n",
       "1  1_HARDERSFIELD_60      1  HARDERSFIELD     60       Canadian Club 1858 VAP   \n",
       "2  1_HARDERSFIELD_62      1  HARDERSFIELD     62     Herradura Silver Tequila   \n",
       "3  1_HARDERSFIELD_63      1  HARDERSFIELD     63   Herradura Reposado Tequila   \n",
       "4  1_HARDERSFIELD_72      1  HARDERSFIELD     72         No. 3 London Dry Gin   \n",
       "\n",
       "    Size  onHand  Price   startDate  \n",
       "0  750mL       8  12.99  2016-01-01  \n",
       "1  750mL       7  10.99  2016-01-01  \n",
       "2  750mL       6  36.99  2016-01-01  \n",
       "3  750mL       3  38.99  2016-01-01  \n",
       "4  750mL       6  34.99  2016-01-01  "
      ]
     },
     "execution_count": 17,
     "metadata": {},
     "output_type": "execute_result"
    }
   ],
   "source": [
    "df_BegInv.head()"
   ]
  },
  {
   "cell_type": "code",
   "execution_count": 18,
   "metadata": {},
   "outputs": [
    {
     "name": "stdout",
     "output_type": "stream",
     "text": [
      "<class 'pandas.core.frame.DataFrame'>\n",
      "RangeIndex: 206529 entries, 0 to 206528\n",
      "Data columns (total 9 columns):\n",
      " #   Column       Non-Null Count   Dtype  \n",
      "---  ------       --------------   -----  \n",
      " 0   InventoryId  206529 non-null  object \n",
      " 1   Store        206529 non-null  int64  \n",
      " 2   City         206529 non-null  object \n",
      " 3   Brand        206529 non-null  int64  \n",
      " 4   Description  206529 non-null  object \n",
      " 5   Size         206529 non-null  object \n",
      " 6   onHand       206529 non-null  int64  \n",
      " 7   Price        206529 non-null  float64\n",
      " 8   startDate    206529 non-null  object \n",
      "dtypes: float64(1), int64(3), object(5)\n",
      "memory usage: 14.2+ MB\n"
     ]
    }
   ],
   "source": [
    "df_BegInv.info()"
   ]
  },
  {
   "cell_type": "code",
   "execution_count": 10,
   "metadata": {},
   "outputs": [
    {
     "data": {
      "text/plain": [
       "(224489, 9)"
      ]
     },
     "execution_count": 10,
     "metadata": {},
     "output_type": "execute_result"
    }
   ],
   "source": [
    "df_EndInv.shape"
   ]
  },
  {
   "cell_type": "code",
   "execution_count": 19,
   "metadata": {},
   "outputs": [
    {
     "data": {
      "text/html": [
       "<div>\n",
       "<style scoped>\n",
       "    .dataframe tbody tr th:only-of-type {\n",
       "        vertical-align: middle;\n",
       "    }\n",
       "\n",
       "    .dataframe tbody tr th {\n",
       "        vertical-align: top;\n",
       "    }\n",
       "\n",
       "    .dataframe thead th {\n",
       "        text-align: right;\n",
       "    }\n",
       "</style>\n",
       "<table border=\"1\" class=\"dataframe\">\n",
       "  <thead>\n",
       "    <tr style=\"text-align: right;\">\n",
       "      <th></th>\n",
       "      <th>InventoryId</th>\n",
       "      <th>Store</th>\n",
       "      <th>City</th>\n",
       "      <th>Brand</th>\n",
       "      <th>Description</th>\n",
       "      <th>Size</th>\n",
       "      <th>onHand</th>\n",
       "      <th>Price</th>\n",
       "      <th>endDate</th>\n",
       "    </tr>\n",
       "  </thead>\n",
       "  <tbody>\n",
       "    <tr>\n",
       "      <th>0</th>\n",
       "      <td>1_HARDERSFIELD_58</td>\n",
       "      <td>1</td>\n",
       "      <td>HARDERSFIELD</td>\n",
       "      <td>58</td>\n",
       "      <td>Gekkeikan Black &amp; Gold Sake</td>\n",
       "      <td>750mL</td>\n",
       "      <td>11</td>\n",
       "      <td>12.99</td>\n",
       "      <td>2016-12-31</td>\n",
       "    </tr>\n",
       "    <tr>\n",
       "      <th>1</th>\n",
       "      <td>1_HARDERSFIELD_62</td>\n",
       "      <td>1</td>\n",
       "      <td>HARDERSFIELD</td>\n",
       "      <td>62</td>\n",
       "      <td>Herradura Silver Tequila</td>\n",
       "      <td>750mL</td>\n",
       "      <td>7</td>\n",
       "      <td>36.99</td>\n",
       "      <td>2016-12-31</td>\n",
       "    </tr>\n",
       "    <tr>\n",
       "      <th>2</th>\n",
       "      <td>1_HARDERSFIELD_63</td>\n",
       "      <td>1</td>\n",
       "      <td>HARDERSFIELD</td>\n",
       "      <td>63</td>\n",
       "      <td>Herradura Reposado Tequila</td>\n",
       "      <td>750mL</td>\n",
       "      <td>7</td>\n",
       "      <td>38.99</td>\n",
       "      <td>2016-12-31</td>\n",
       "    </tr>\n",
       "    <tr>\n",
       "      <th>3</th>\n",
       "      <td>1_HARDERSFIELD_72</td>\n",
       "      <td>1</td>\n",
       "      <td>HARDERSFIELD</td>\n",
       "      <td>72</td>\n",
       "      <td>No. 3 London Dry Gin</td>\n",
       "      <td>750mL</td>\n",
       "      <td>4</td>\n",
       "      <td>34.99</td>\n",
       "      <td>2016-12-31</td>\n",
       "    </tr>\n",
       "    <tr>\n",
       "      <th>4</th>\n",
       "      <td>1_HARDERSFIELD_75</td>\n",
       "      <td>1</td>\n",
       "      <td>HARDERSFIELD</td>\n",
       "      <td>75</td>\n",
       "      <td>Three Olives Tomato Vodka</td>\n",
       "      <td>750mL</td>\n",
       "      <td>7</td>\n",
       "      <td>14.99</td>\n",
       "      <td>2016-12-31</td>\n",
       "    </tr>\n",
       "  </tbody>\n",
       "</table>\n",
       "</div>"
      ],
      "text/plain": [
       "         InventoryId  Store          City  Brand                  Description  \\\n",
       "0  1_HARDERSFIELD_58      1  HARDERSFIELD     58  Gekkeikan Black & Gold Sake   \n",
       "1  1_HARDERSFIELD_62      1  HARDERSFIELD     62     Herradura Silver Tequila   \n",
       "2  1_HARDERSFIELD_63      1  HARDERSFIELD     63   Herradura Reposado Tequila   \n",
       "3  1_HARDERSFIELD_72      1  HARDERSFIELD     72         No. 3 London Dry Gin   \n",
       "4  1_HARDERSFIELD_75      1  HARDERSFIELD     75    Three Olives Tomato Vodka   \n",
       "\n",
       "    Size  onHand  Price     endDate  \n",
       "0  750mL      11  12.99  2016-12-31  \n",
       "1  750mL       7  36.99  2016-12-31  \n",
       "2  750mL       7  38.99  2016-12-31  \n",
       "3  750mL       4  34.99  2016-12-31  \n",
       "4  750mL       7  14.99  2016-12-31  "
      ]
     },
     "execution_count": 19,
     "metadata": {},
     "output_type": "execute_result"
    }
   ],
   "source": [
    "df_EndInv.head()"
   ]
  },
  {
   "cell_type": "code",
   "execution_count": 20,
   "metadata": {},
   "outputs": [
    {
     "name": "stdout",
     "output_type": "stream",
     "text": [
      "<class 'pandas.core.frame.DataFrame'>\n",
      "RangeIndex: 224489 entries, 0 to 224488\n",
      "Data columns (total 9 columns):\n",
      " #   Column       Non-Null Count   Dtype  \n",
      "---  ------       --------------   -----  \n",
      " 0   InventoryId  224489 non-null  object \n",
      " 1   Store        224489 non-null  int64  \n",
      " 2   City         223205 non-null  object \n",
      " 3   Brand        224489 non-null  int64  \n",
      " 4   Description  224489 non-null  object \n",
      " 5   Size         224489 non-null  object \n",
      " 6   onHand       224489 non-null  int64  \n",
      " 7   Price        224489 non-null  float64\n",
      " 8   endDate      224489 non-null  object \n",
      "dtypes: float64(1), int64(3), object(5)\n",
      "memory usage: 15.4+ MB\n"
     ]
    }
   ],
   "source": [
    "df_EndInv.info()"
   ]
  },
  {
   "cell_type": "code",
   "execution_count": 11,
   "metadata": {},
   "outputs": [
    {
     "data": {
      "text/plain": [
       "(5543, 10)"
      ]
     },
     "execution_count": 11,
     "metadata": {},
     "output_type": "execute_result"
    }
   ],
   "source": [
    "df_InvoicePurchases.shape"
   ]
  },
  {
   "cell_type": "code",
   "execution_count": 21,
   "metadata": {},
   "outputs": [
    {
     "data": {
      "text/html": [
       "<div>\n",
       "<style scoped>\n",
       "    .dataframe tbody tr th:only-of-type {\n",
       "        vertical-align: middle;\n",
       "    }\n",
       "\n",
       "    .dataframe tbody tr th {\n",
       "        vertical-align: top;\n",
       "    }\n",
       "\n",
       "    .dataframe thead th {\n",
       "        text-align: right;\n",
       "    }\n",
       "</style>\n",
       "<table border=\"1\" class=\"dataframe\">\n",
       "  <thead>\n",
       "    <tr style=\"text-align: right;\">\n",
       "      <th></th>\n",
       "      <th>VendorNumber</th>\n",
       "      <th>VendorName</th>\n",
       "      <th>InvoiceDate</th>\n",
       "      <th>PONumber</th>\n",
       "      <th>PODate</th>\n",
       "      <th>PayDate</th>\n",
       "      <th>Quantity</th>\n",
       "      <th>Dollars</th>\n",
       "      <th>Freight</th>\n",
       "      <th>Approval</th>\n",
       "    </tr>\n",
       "  </thead>\n",
       "  <tbody>\n",
       "    <tr>\n",
       "      <th>0</th>\n",
       "      <td>105</td>\n",
       "      <td>ALTAMAR BRANDS LLC</td>\n",
       "      <td>2016-01-04</td>\n",
       "      <td>8124</td>\n",
       "      <td>2015-12-21</td>\n",
       "      <td>2016-02-16</td>\n",
       "      <td>6</td>\n",
       "      <td>214.26</td>\n",
       "      <td>3.47</td>\n",
       "      <td>NaN</td>\n",
       "    </tr>\n",
       "    <tr>\n",
       "      <th>1</th>\n",
       "      <td>4466</td>\n",
       "      <td>AMERICAN VINTAGE BEVERAGE</td>\n",
       "      <td>2016-01-07</td>\n",
       "      <td>8137</td>\n",
       "      <td>2015-12-22</td>\n",
       "      <td>2016-02-21</td>\n",
       "      <td>15</td>\n",
       "      <td>140.55</td>\n",
       "      <td>8.57</td>\n",
       "      <td>NaN</td>\n",
       "    </tr>\n",
       "    <tr>\n",
       "      <th>2</th>\n",
       "      <td>388</td>\n",
       "      <td>ATLANTIC IMPORTING COMPANY</td>\n",
       "      <td>2016-01-09</td>\n",
       "      <td>8169</td>\n",
       "      <td>2015-12-24</td>\n",
       "      <td>2016-02-16</td>\n",
       "      <td>5</td>\n",
       "      <td>106.60</td>\n",
       "      <td>4.61</td>\n",
       "      <td>NaN</td>\n",
       "    </tr>\n",
       "    <tr>\n",
       "      <th>3</th>\n",
       "      <td>480</td>\n",
       "      <td>BACARDI USA INC</td>\n",
       "      <td>2016-01-12</td>\n",
       "      <td>8106</td>\n",
       "      <td>2015-12-20</td>\n",
       "      <td>2016-02-05</td>\n",
       "      <td>10100</td>\n",
       "      <td>137483.78</td>\n",
       "      <td>2935.20</td>\n",
       "      <td>NaN</td>\n",
       "    </tr>\n",
       "    <tr>\n",
       "      <th>4</th>\n",
       "      <td>516</td>\n",
       "      <td>BANFI PRODUCTS CORP</td>\n",
       "      <td>2016-01-07</td>\n",
       "      <td>8170</td>\n",
       "      <td>2015-12-24</td>\n",
       "      <td>2016-02-12</td>\n",
       "      <td>1935</td>\n",
       "      <td>15527.25</td>\n",
       "      <td>429.20</td>\n",
       "      <td>NaN</td>\n",
       "    </tr>\n",
       "  </tbody>\n",
       "</table>\n",
       "</div>"
      ],
      "text/plain": [
       "   VendorNumber                   VendorName InvoiceDate  PONumber  \\\n",
       "0           105  ALTAMAR BRANDS LLC           2016-01-04      8124   \n",
       "1          4466  AMERICAN VINTAGE BEVERAGE    2016-01-07      8137   \n",
       "2           388  ATLANTIC IMPORTING COMPANY   2016-01-09      8169   \n",
       "3           480  BACARDI USA INC              2016-01-12      8106   \n",
       "4           516  BANFI PRODUCTS CORP          2016-01-07      8170   \n",
       "\n",
       "       PODate     PayDate  Quantity    Dollars  Freight Approval  \n",
       "0  2015-12-21  2016-02-16         6     214.26     3.47      NaN  \n",
       "1  2015-12-22  2016-02-21        15     140.55     8.57      NaN  \n",
       "2  2015-12-24  2016-02-16         5     106.60     4.61      NaN  \n",
       "3  2015-12-20  2016-02-05     10100  137483.78  2935.20      NaN  \n",
       "4  2015-12-24  2016-02-12      1935   15527.25   429.20      NaN  "
      ]
     },
     "execution_count": 21,
     "metadata": {},
     "output_type": "execute_result"
    }
   ],
   "source": [
    "df_InvoicePurchases.head()"
   ]
  },
  {
   "cell_type": "code",
   "execution_count": 22,
   "metadata": {},
   "outputs": [
    {
     "name": "stdout",
     "output_type": "stream",
     "text": [
      "<class 'pandas.core.frame.DataFrame'>\n",
      "RangeIndex: 5543 entries, 0 to 5542\n",
      "Data columns (total 10 columns):\n",
      " #   Column        Non-Null Count  Dtype  \n",
      "---  ------        --------------  -----  \n",
      " 0   VendorNumber  5543 non-null   int64  \n",
      " 1   VendorName    5543 non-null   object \n",
      " 2   InvoiceDate   5543 non-null   object \n",
      " 3   PONumber      5543 non-null   int64  \n",
      " 4   PODate        5543 non-null   object \n",
      " 5   PayDate       5543 non-null   object \n",
      " 6   Quantity      5543 non-null   int64  \n",
      " 7   Dollars       5543 non-null   float64\n",
      " 8   Freight       5543 non-null   float64\n",
      " 9   Approval      374 non-null    object \n",
      "dtypes: float64(2), int64(3), object(5)\n",
      "memory usage: 433.2+ KB\n"
     ]
    }
   ],
   "source": [
    "df_InvoicePurchases.info()"
   ]
  },
  {
   "cell_type": "code",
   "execution_count": 12,
   "metadata": {},
   "outputs": [
    {
     "data": {
      "text/plain": [
       "(12261, 9)"
      ]
     },
     "execution_count": 12,
     "metadata": {},
     "output_type": "execute_result"
    }
   ],
   "source": [
    "df_PurchasePrices.shape"
   ]
  },
  {
   "cell_type": "code",
   "execution_count": 23,
   "metadata": {},
   "outputs": [
    {
     "data": {
      "text/html": [
       "<div>\n",
       "<style scoped>\n",
       "    .dataframe tbody tr th:only-of-type {\n",
       "        vertical-align: middle;\n",
       "    }\n",
       "\n",
       "    .dataframe tbody tr th {\n",
       "        vertical-align: top;\n",
       "    }\n",
       "\n",
       "    .dataframe thead th {\n",
       "        text-align: right;\n",
       "    }\n",
       "</style>\n",
       "<table border=\"1\" class=\"dataframe\">\n",
       "  <thead>\n",
       "    <tr style=\"text-align: right;\">\n",
       "      <th></th>\n",
       "      <th>Brand</th>\n",
       "      <th>Description</th>\n",
       "      <th>Price</th>\n",
       "      <th>Size</th>\n",
       "      <th>Volume</th>\n",
       "      <th>Classification</th>\n",
       "      <th>PurchasePrice</th>\n",
       "      <th>VendorNumber</th>\n",
       "      <th>VendorName</th>\n",
       "    </tr>\n",
       "  </thead>\n",
       "  <tbody>\n",
       "    <tr>\n",
       "      <th>0</th>\n",
       "      <td>58</td>\n",
       "      <td>Gekkeikan Black &amp; Gold Sake</td>\n",
       "      <td>12.99</td>\n",
       "      <td>750mL</td>\n",
       "      <td>750</td>\n",
       "      <td>1</td>\n",
       "      <td>9.28</td>\n",
       "      <td>8320</td>\n",
       "      <td>SHAW ROSS INT L IMP LTD</td>\n",
       "    </tr>\n",
       "    <tr>\n",
       "      <th>1</th>\n",
       "      <td>62</td>\n",
       "      <td>Herradura Silver Tequila</td>\n",
       "      <td>36.99</td>\n",
       "      <td>750mL</td>\n",
       "      <td>750</td>\n",
       "      <td>1</td>\n",
       "      <td>28.67</td>\n",
       "      <td>1128</td>\n",
       "      <td>BROWN-FORMAN CORP</td>\n",
       "    </tr>\n",
       "    <tr>\n",
       "      <th>2</th>\n",
       "      <td>63</td>\n",
       "      <td>Herradura Reposado Tequila</td>\n",
       "      <td>38.99</td>\n",
       "      <td>750mL</td>\n",
       "      <td>750</td>\n",
       "      <td>1</td>\n",
       "      <td>30.46</td>\n",
       "      <td>1128</td>\n",
       "      <td>BROWN-FORMAN CORP</td>\n",
       "    </tr>\n",
       "    <tr>\n",
       "      <th>3</th>\n",
       "      <td>72</td>\n",
       "      <td>No. 3 London Dry Gin</td>\n",
       "      <td>34.99</td>\n",
       "      <td>750mL</td>\n",
       "      <td>750</td>\n",
       "      <td>1</td>\n",
       "      <td>26.11</td>\n",
       "      <td>9165</td>\n",
       "      <td>ULTRA BEVERAGE COMPANY LLP</td>\n",
       "    </tr>\n",
       "    <tr>\n",
       "      <th>4</th>\n",
       "      <td>75</td>\n",
       "      <td>Three Olives Tomato Vodka</td>\n",
       "      <td>14.99</td>\n",
       "      <td>750mL</td>\n",
       "      <td>750</td>\n",
       "      <td>1</td>\n",
       "      <td>10.94</td>\n",
       "      <td>7245</td>\n",
       "      <td>PROXIMO SPIRITS INC.</td>\n",
       "    </tr>\n",
       "  </tbody>\n",
       "</table>\n",
       "</div>"
      ],
      "text/plain": [
       "   Brand                  Description  Price   Size Volume  Classification  \\\n",
       "0     58  Gekkeikan Black & Gold Sake  12.99  750mL    750               1   \n",
       "1     62     Herradura Silver Tequila  36.99  750mL    750               1   \n",
       "2     63   Herradura Reposado Tequila  38.99  750mL    750               1   \n",
       "3     72         No. 3 London Dry Gin  34.99  750mL    750               1   \n",
       "4     75    Three Olives Tomato Vodka  14.99  750mL    750               1   \n",
       "\n",
       "   PurchasePrice  VendorNumber                   VendorName  \n",
       "0           9.28          8320  SHAW ROSS INT L IMP LTD      \n",
       "1          28.67          1128  BROWN-FORMAN CORP            \n",
       "2          30.46          1128  BROWN-FORMAN CORP            \n",
       "3          26.11          9165  ULTRA BEVERAGE COMPANY LLP   \n",
       "4          10.94          7245  PROXIMO SPIRITS INC.         "
      ]
     },
     "execution_count": 23,
     "metadata": {},
     "output_type": "execute_result"
    }
   ],
   "source": [
    "df_PurchasePrices.head()"
   ]
  },
  {
   "cell_type": "code",
   "execution_count": 24,
   "metadata": {},
   "outputs": [
    {
     "name": "stdout",
     "output_type": "stream",
     "text": [
      "<class 'pandas.core.frame.DataFrame'>\n",
      "RangeIndex: 12261 entries, 0 to 12260\n",
      "Data columns (total 9 columns):\n",
      " #   Column          Non-Null Count  Dtype  \n",
      "---  ------          --------------  -----  \n",
      " 0   Brand           12261 non-null  int64  \n",
      " 1   Description     12260 non-null  object \n",
      " 2   Price           12261 non-null  float64\n",
      " 3   Size            12260 non-null  object \n",
      " 4   Volume          12260 non-null  object \n",
      " 5   Classification  12261 non-null  int64  \n",
      " 6   PurchasePrice   12261 non-null  float64\n",
      " 7   VendorNumber    12261 non-null  int64  \n",
      " 8   VendorName      12261 non-null  object \n",
      "dtypes: float64(2), int64(3), object(4)\n",
      "memory usage: 862.2+ KB\n"
     ]
    }
   ],
   "source": [
    "df_PurchasePrices.info()"
   ]
  },
  {
   "cell_type": "markdown",
   "metadata": {},
   "source": [
    "#### Buscando claves primarias"
   ]
  },
  {
   "cell_type": "code",
   "execution_count": 25,
   "metadata": {},
   "outputs": [
    {
     "data": {
      "text/plain": [
       "InventoryId\n",
       "79_BALLYMENA_90089    1\n",
       "79_BALLYMENA_46568    1\n",
       "79_BALLYMENA_46551    1\n",
       "79_BALLYMENA_46489    1\n",
       "79_BALLYMENA_46476    1\n",
       "                     ..\n",
       "1_HARDERSFIELD_75     1\n",
       "1_HARDERSFIELD_72     1\n",
       "1_HARDERSFIELD_63     1\n",
       "1_HARDERSFIELD_62     1\n",
       "1_HARDERSFIELD_60     1\n",
       "Name: count, Length: 206529, dtype: int64"
      ]
     },
     "execution_count": 25,
     "metadata": {},
     "output_type": "execute_result"
    }
   ],
   "source": [
    "df_BegInv['InventoryId'].value_counts() # si es clave primaria"
   ]
  },
  {
   "cell_type": "code",
   "execution_count": 26,
   "metadata": {},
   "outputs": [
    {
     "data": {
      "text/plain": [
       "InventoryId\n",
       "81_PEMBROKE_90604     1\n",
       "1_HARDERSFIELD_58     1\n",
       "1_HARDERSFIELD_62     1\n",
       "1_HARDERSFIELD_63     1\n",
       "1_HARDERSFIELD_72     1\n",
       "                     ..\n",
       "1_HARDERSFIELD_192    1\n",
       "1_HARDERSFIELD_178    1\n",
       "1_HARDERSFIELD_175    1\n",
       "1_HARDERSFIELD_171    1\n",
       "1_HARDERSFIELD_159    1\n",
       "Name: count, Length: 224489, dtype: int64"
      ]
     },
     "execution_count": 26,
     "metadata": {},
     "output_type": "execute_result"
    }
   ],
   "source": [
    "df_EndInv['InventoryId'].value_counts() # si es calve primaria"
   ]
  },
  {
   "cell_type": "code",
   "execution_count": 28,
   "metadata": {},
   "outputs": [
    {
     "data": {
      "text/plain": [
       "Brand\n",
       "46964    1\n",
       "58       1\n",
       "62       1\n",
       "63       1\n",
       "72       1\n",
       "        ..\n",
       "168      1\n",
       "126      1\n",
       "115      1\n",
       "79       1\n",
       "77       1\n",
       "Name: count, Length: 12261, dtype: int64"
      ]
     },
     "execution_count": 28,
     "metadata": {},
     "output_type": "execute_result"
    }
   ],
   "source": [
    "df_PurchasePrices['Brand'].value_counts() # si es clave primaria"
   ]
  },
  {
   "cell_type": "code",
   "execution_count": 31,
   "metadata": {},
   "outputs": [
    {
     "data": {
      "text/plain": [
       "Brand\n",
       "77       79\n",
       "8678     79\n",
       "8691     79\n",
       "3344     79\n",
       "3352     79\n",
       "         ..\n",
       "14193     1\n",
       "24229     1\n",
       "24161     1\n",
       "23288     1\n",
       "23135     1\n",
       "Name: count, Length: 8094, dtype: int64"
      ]
     },
     "execution_count": 31,
     "metadata": {},
     "output_type": "execute_result"
    }
   ],
   "source": [
    "df_BegInv['Brand'].value_counts()"
   ]
  },
  {
   "cell_type": "code",
   "execution_count": 32,
   "metadata": {},
   "outputs": [
    {
     "data": {
      "text/plain": [
       "Brand\n",
       "3654     80\n",
       "3488     80\n",
       "2122     80\n",
       "3724     80\n",
       "3502     80\n",
       "         ..\n",
       "4114      1\n",
       "3648      1\n",
       "1605      1\n",
       "24109     1\n",
       "17444     1\n",
       "Name: count, Length: 9653, dtype: int64"
      ]
     },
     "execution_count": 32,
     "metadata": {},
     "output_type": "execute_result"
    }
   ],
   "source": [
    "df_EndInv['Brand'].value_counts()"
   ]
  },
  {
   "cell_type": "code",
   "execution_count": 29,
   "metadata": {},
   "outputs": [
    {
     "data": {
      "text/plain": [
       "PONumber\n",
       "13574    1\n",
       "8124     1\n",
       "8137     1\n",
       "8169     1\n",
       "8106     1\n",
       "        ..\n",
       "8152     1\n",
       "8107     1\n",
       "8151     1\n",
       "8172     1\n",
       "8171     1\n",
       "Name: count, Length: 5543, dtype: int64"
      ]
     },
     "execution_count": 29,
     "metadata": {},
     "output_type": "execute_result"
    }
   ],
   "source": [
    "df_InvoicePurchases['PONumber'].value_counts() # si es clave primaria"
   ]
  },
  {
   "cell_type": "code",
   "execution_count": 30,
   "metadata": {},
   "outputs": [
    {
     "data": {
      "text/plain": [
       "PONumber\n",
       "10936    6108\n",
       "13487    5594\n",
       "11300    5532\n",
       "13597    5532\n",
       "11191    5529\n",
       "         ... \n",
       "12887       1\n",
       "12928       1\n",
       "12990       1\n",
       "13015       1\n",
       "13002       1\n",
       "Name: count, Length: 5543, dtype: int64"
      ]
     },
     "execution_count": 30,
     "metadata": {},
     "output_type": "execute_result"
    }
   ],
   "source": [
    "df_PurchasesFinal['PONumber'].value_counts()"
   ]
  },
  {
   "cell_type": "code",
   "execution_count": 33,
   "metadata": {},
   "outputs": [
    {
     "data": {
      "text/plain": [
       "InvoiceDate\n",
       "2016-08-16    29989\n",
       "2016-10-25    25231\n",
       "2016-12-19    22080\n",
       "2016-09-13    22057\n",
       "2016-06-06    22040\n",
       "              ...  \n",
       "2016-03-26      438\n",
       "2016-08-20      315\n",
       "2016-01-04      148\n",
       "2016-05-14      104\n",
       "2016-08-05       60\n",
       "Name: count, Length: 373, dtype: int64"
      ]
     },
     "execution_count": 33,
     "metadata": {},
     "output_type": "execute_result"
    }
   ],
   "source": [
    "df_PurchasesFinal['InvoiceDate'].value_counts()"
   ]
  },
  {
   "cell_type": "code",
   "execution_count": 34,
   "metadata": {},
   "outputs": [
    {
     "data": {
      "text/plain": [
       "InvoiceDate\n",
       "2016-07-04    43\n",
       "2016-07-11    35\n",
       "2017-01-03    33\n",
       "2016-08-08    32\n",
       "2016-08-16    31\n",
       "              ..\n",
       "2016-08-10     4\n",
       "2016-06-02     4\n",
       "2016-06-25     4\n",
       "2016-04-27     4\n",
       "2016-11-16     4\n",
       "Name: count, Length: 373, dtype: int64"
      ]
     },
     "execution_count": 34,
     "metadata": {},
     "output_type": "execute_result"
    }
   ],
   "source": [
    "df_InvoicePurchases['InvoiceDate'].value_counts()"
   ]
  },
  {
   "cell_type": "code",
   "execution_count": 37,
   "metadata": {},
   "outputs": [
    {
     "data": {
      "text/plain": [
       "PODate\n",
       "2016-06-27    24752\n",
       "2016-12-02    22318\n",
       "2016-10-31    21681\n",
       "2016-12-23    18285\n",
       "2016-05-19    17458\n",
       "              ...  \n",
       "2015-12-22     1196\n",
       "2016-10-16     1166\n",
       "2015-12-25      947\n",
       "2015-12-21      415\n",
       "2016-10-24      346\n",
       "Name: count, Length: 319, dtype: int64"
      ]
     },
     "execution_count": 37,
     "metadata": {},
     "output_type": "execute_result"
    }
   ],
   "source": [
    "df_PurchasesFinal['PODate'].value_counts()"
   ]
  },
  {
   "cell_type": "code",
   "execution_count": 39,
   "metadata": {},
   "outputs": [
    {
     "data": {
      "text/plain": [
       "PODate\n",
       "2016-06-25    86\n",
       "2016-09-23    76\n",
       "2016-03-18    26\n",
       "2016-07-01    26\n",
       "2016-10-26    25\n",
       "              ..\n",
       "2016-03-15     9\n",
       "2016-02-14     9\n",
       "2016-07-06     8\n",
       "2016-11-02     8\n",
       "2016-08-29     7\n",
       "Name: count, Length: 319, dtype: int64"
      ]
     },
     "execution_count": 39,
     "metadata": {},
     "output_type": "execute_result"
    }
   ],
   "source": [
    "df_InvoicePurchases['PODate'].value_counts()"
   ]
  },
  {
   "cell_type": "code",
   "execution_count": 40,
   "metadata": {},
   "outputs": [
    {
     "data": {
      "text/plain": [
       "PayDate\n",
       "2016-08-14    31\n",
       "2016-08-12    30\n",
       "2016-11-12    30\n",
       "2016-08-18    29\n",
       "2016-11-04    27\n",
       "              ..\n",
       "2017-02-18     5\n",
       "2017-02-14     5\n",
       "2016-02-09     3\n",
       "2017-02-15     3\n",
       "2016-02-08     2\n",
       "Name: count, Length: 382, dtype: int64"
      ]
     },
     "execution_count": 40,
     "metadata": {},
     "output_type": "execute_result"
    }
   ],
   "source": [
    "df_InvoicePurchases['PayDate'].value_counts()"
   ]
  },
  {
   "cell_type": "code",
   "execution_count": 41,
   "metadata": {},
   "outputs": [
    {
     "data": {
      "text/plain": [
       "PayDate\n",
       "2016-09-10    19713\n",
       "2017-02-02    18077\n",
       "2016-10-16    17693\n",
       "2017-01-21    16964\n",
       "2016-08-26    16310\n",
       "              ...  \n",
       "2016-02-08      305\n",
       "2016-02-04      259\n",
       "2017-02-19      111\n",
       "2016-02-07      110\n",
       "2017-02-15       70\n",
       "Name: count, Length: 382, dtype: int64"
      ]
     },
     "execution_count": 41,
     "metadata": {},
     "output_type": "execute_result"
    }
   ],
   "source": [
    "df_PurchasesFinal['PayDate'].value_counts()"
   ]
  },
  {
   "cell_type": "code",
   "execution_count": 42,
   "metadata": {},
   "outputs": [
    {
     "data": {
      "text/plain": [
       "VendorName\n",
       "AMERICAN VINTAGE BEVERAGE      55\n",
       "SAZERAC CO INC                 55\n",
       "BACARDI USA INC                55\n",
       "BANFI PRODUCTS CORP            55\n",
       "BROWN-FORMAN CORP              55\n",
       "                               ..\n",
       "CAPSTONE INTERNATIONAL          1\n",
       "TRUETT HURST                    1\n",
       "FLAVOR ESSENCE INC              1\n",
       "LAUREATE IMPORTS CO             1\n",
       "AAPER ALCOHOL & CHEMICAL CO     1\n",
       "Name: count, Length: 129, dtype: int64"
      ]
     },
     "execution_count": 42,
     "metadata": {},
     "output_type": "execute_result"
    }
   ],
   "source": [
    "df_InvoicePurchases['VendorName'].value_counts()"
   ]
  },
  {
   "cell_type": "code",
   "execution_count": 43,
   "metadata": {},
   "outputs": [
    {
     "data": {
      "text/plain": [
       "VendorName\n",
       "DIAGEO NORTH AMERICA INC       243326\n",
       "JIM BEAM BRANDS COMPANY        189832\n",
       "CONSTELLATION BRANDS INC       185574\n",
       "MARTIGNETTI COMPANIES          176487\n",
       "E & J GALLO WINERY             162567\n",
       "                                ...  \n",
       "CAPSTONE INTERNATIONAL              1\n",
       "TRUETT HURST                        1\n",
       "FLAVOR ESSENCE INC                  1\n",
       "LAUREATE IMPORTS CO                 1\n",
       "AAPER ALCOHOL & CHEMICAL CO         1\n",
       "Name: count, Length: 129, dtype: int64"
      ]
     },
     "execution_count": 43,
     "metadata": {},
     "output_type": "execute_result"
    }
   ],
   "source": [
    "df_PurchasesFinal['VendorName'].value_counts()"
   ]
  },
  {
   "cell_type": "code",
   "execution_count": 47,
   "metadata": {},
   "outputs": [
    {
     "data": {
      "text/plain": [
       "Quantity\n",
       "12       228\n",
       "24       109\n",
       "6         90\n",
       "36        84\n",
       "48        67\n",
       "        ... \n",
       "6708       1\n",
       "6692       1\n",
       "10973      1\n",
       "43240      1\n",
       "8466       1\n",
       "Name: count, Length: 2895, dtype: int64"
      ]
     },
     "execution_count": 47,
     "metadata": {},
     "output_type": "execute_result"
    }
   ],
   "source": [
    "df_InvoicePurchases['Quantity'].value_counts()"
   ]
  },
  {
   "cell_type": "code",
   "execution_count": 48,
   "metadata": {},
   "outputs": [
    {
     "data": {
      "text/plain": [
       "Quantity\n",
       "12     627805\n",
       "6      499448\n",
       "11     171280\n",
       "5      160343\n",
       "4      129921\n",
       "        ...  \n",
       "750         1\n",
       "602         1\n",
       "912         1\n",
       "422         1\n",
       "552         1\n",
       "Name: count, Length: 686, dtype: int64"
      ]
     },
     "execution_count": 48,
     "metadata": {},
     "output_type": "execute_result"
    }
   ],
   "source": [
    "df_PurchasesFinal['Quantity'].value_counts()"
   ]
  },
  {
   "cell_type": "code",
   "execution_count": 49,
   "metadata": {},
   "outputs": [
    {
     "data": {
      "text/plain": [
       "Dollars\n",
       "214.26       22\n",
       "52.08        18\n",
       "120.72       12\n",
       "84.30         9\n",
       "428.52        8\n",
       "             ..\n",
       "1563.00       1\n",
       "37300.48      1\n",
       "202815.78     1\n",
       "149007.56     1\n",
       "277542.68     1\n",
       "Name: count, Length: 5226, dtype: int64"
      ]
     },
     "execution_count": 49,
     "metadata": {},
     "output_type": "execute_result"
    }
   ],
   "source": [
    "df_InvoicePurchases['Dollars'].value_counts()"
   ]
  },
  {
   "cell_type": "code",
   "execution_count": 50,
   "metadata": {},
   "outputs": [
    {
     "data": {
      "text/plain": [
       "Dollars\n",
       "39.96      7595\n",
       "63.12      7404\n",
       "85.68      6978\n",
       "78.36      6320\n",
       "72.84      5885\n",
       "           ... \n",
       "680.74        1\n",
       "132.05        1\n",
       "387.03        1\n",
       "722.26        1\n",
       "1020.11       1\n",
       "Name: count, Length: 33567, dtype: int64"
      ]
     },
     "execution_count": 50,
     "metadata": {},
     "output_type": "execute_result"
    }
   ],
   "source": [
    "df_PurchasesFinal['Dollars'].value_counts()"
   ]
  },
  {
   "cell_type": "code",
   "execution_count": 45,
   "metadata": {},
   "outputs": [
    {
     "data": {
      "text/plain": [
       "VendorNumber\n",
       "4425      82\n",
       "2000      67\n",
       "1587      58\n",
       "4380      55\n",
       "516       55\n",
       "          ..\n",
       "1439       1\n",
       "201359     1\n",
       "9099       1\n",
       "4901       1\n",
       "54         1\n",
       "Name: count, Length: 126, dtype: int64"
      ]
     },
     "execution_count": 45,
     "metadata": {},
     "output_type": "execute_result"
    }
   ],
   "source": [
    "df_InvoicePurchases['VendorNumber'].value_counts()"
   ]
  },
  {
   "cell_type": "code",
   "execution_count": 46,
   "metadata": {},
   "outputs": [
    {
     "data": {
      "text/plain": [
       "VendorNumber\n",
       "3960      243326\n",
       "12546     189832\n",
       "1392      185574\n",
       "4425      176781\n",
       "3252      162567\n",
       "           ...  \n",
       "1439           1\n",
       "201359         1\n",
       "9099           1\n",
       "4901           1\n",
       "54             1\n",
       "Name: count, Length: 126, dtype: int64"
      ]
     },
     "execution_count": 46,
     "metadata": {},
     "output_type": "execute_result"
    }
   ],
   "source": [
    "df_PurchasesFinal['VendorNumber'].value_counts()"
   ]
  },
  {
   "cell_type": "markdown",
   "metadata": {},
   "source": [
    "#### Se detecta que hay 126 VendorNumber pero 129 VendorName, se revisa y corrige en el dataframe df_InvoicePurchase"
   ]
  },
  {
   "cell_type": "code",
   "execution_count": 51,
   "metadata": {},
   "outputs": [
    {
     "name": "stdout",
     "output_type": "stream",
     "text": [
      "    VendorNumber  VendorName\n",
      "19          1587           2\n",
      "25          2000           2\n",
      "42          4425           2\n",
      "Numero de VendorNumber con más de un unico VendorName: 3\n"
     ]
    }
   ],
   "source": [
    "# Agrupar por 'VendorNumber' y contar los valores únicos de 'VendorName'\n",
    "df_grouped = df_InvoicePurchases.groupby('VendorNumber')['VendorName'].nunique().reset_index()\n",
    "\n",
    "# Filtrar los casos donde hay más de un valor único de 'VendorName'\n",
    "df_multiple_vendorname = df_grouped[df_grouped['VendorName'] > 1]\n",
    "\n",
    "# Ver cuántos VendorNumber tienen más de un VendorName\n",
    "count_vendorname= df_multiple_vendorname.shape[0]\n",
    "\n",
    "# Mostrar los VendorNumber con más de un VendorName\n",
    "print(df_multiple_vendorname[['VendorNumber', 'VendorName']])\n",
    "\n",
    "# Mostrar cuántos VendorNumber tienen más de un VendorName\n",
    "print(f\"Numero de VendorNumber con más de un unico VendorName: {count_vendorname}\")\n"
   ]
  },
  {
   "cell_type": "code",
   "execution_count": 53,
   "metadata": {},
   "outputs": [
    {
     "data": {
      "text/plain": [
       "array(['VINEYARD BRANDS INC        ', 'VINEYARD BRANDS LLC        '],\n",
       "      dtype=object)"
      ]
     },
     "execution_count": 53,
     "metadata": {},
     "output_type": "execute_result"
    }
   ],
   "source": [
    "# Filtrar la fila donde 'VendorNumber' es igual a 1587\n",
    "row_VendorNumber_1587 = df_InvoicePurchases[df_InvoicePurchases['VendorNumber'] == 1587]\n",
    "\n",
    "# Mostrar la fila\n",
    "row_VendorNumber_1587['VendorName'].unique()\n"
   ]
  },
  {
   "cell_type": "code",
   "execution_count": 54,
   "metadata": {},
   "outputs": [
    {
     "data": {
      "text/plain": [
       "array(['SOUTHERN WINE & SPIRITS NE ', 'SOUTHERN GLAZERS W&S OF NE '],\n",
       "      dtype=object)"
      ]
     },
     "execution_count": 54,
     "metadata": {},
     "output_type": "execute_result"
    }
   ],
   "source": [
    "# Filtrar la fila donde 'VendorNumber' es igual a 2000\n",
    "row_VendorNumber_2000 = df_InvoicePurchases[df_InvoicePurchases['VendorNumber'] == 2000]\n",
    "\n",
    "# Mostrar la fila\n",
    "row_VendorNumber_2000['VendorName'].unique()\n"
   ]
  },
  {
   "cell_type": "code",
   "execution_count": 55,
   "metadata": {},
   "outputs": [
    {
     "data": {
      "text/plain": [
       "array(['MARTIGNETTI COMPANIES ', 'MARTIGNETTI COMPANIES'], dtype=object)"
      ]
     },
     "execution_count": 55,
     "metadata": {},
     "output_type": "execute_result"
    }
   ],
   "source": [
    "# Filtrar la fila donde 'VendorNumber' es igual a 1587\n",
    "row_VendorNumber_4425 = df_InvoicePurchases[df_InvoicePurchases['VendorNumber'] == 4425]\n",
    "\n",
    "# Mostrar la fila\n",
    "row_VendorNumber_4425['VendorName'].unique()\n"
   ]
  },
  {
   "cell_type": "markdown",
   "metadata": {},
   "source": [
    "#### Se observa que hay espacios en blanco en las tablas. Primero se corrige este error en todas las tablas"
   ]
  },
  {
   "cell_type": "code",
   "execution_count": 56,
   "metadata": {},
   "outputs": [],
   "source": [
    "# Eliminar espacios en blanco al inicio y al final de cada texto en todas las columnas de texto\n",
    "df_PurchasesFinal = df_PurchasesFinal.map(lambda x: x.strip() if isinstance(x, str) else x)"
   ]
  },
  {
   "cell_type": "code",
   "execution_count": 57,
   "metadata": {},
   "outputs": [],
   "source": [
    "# Eliminar espacios en blanco al inicio y al final de cada texto en todas las columnas de texto\n",
    "df_SalesFinal = df_SalesFinal.map(lambda x: x.strip() if isinstance(x, str) else x)"
   ]
  },
  {
   "cell_type": "code",
   "execution_count": 58,
   "metadata": {},
   "outputs": [],
   "source": [
    "# Eliminar espacios en blanco al inicio y al final de cada texto en todas las columnas de texto\n",
    "df_BegInv = df_BegInv.map(lambda x: x.strip() if isinstance(x, str) else x)"
   ]
  },
  {
   "cell_type": "code",
   "execution_count": 59,
   "metadata": {},
   "outputs": [],
   "source": [
    "# Eliminar espacios en blanco al inicio y al final de cada texto en todas las columnas de texto\n",
    "df_EndInv = df_EndInv.map(lambda x: x.strip() if isinstance(x, str) else x)"
   ]
  },
  {
   "cell_type": "code",
   "execution_count": 60,
   "metadata": {},
   "outputs": [],
   "source": [
    "# Eliminar espacios en blanco al inicio y al final de cada texto en todas las columnas de texto\n",
    "df_InvoicePurchases = df_InvoicePurchases.map(lambda x: x.strip() if isinstance(x, str) else x)"
   ]
  },
  {
   "cell_type": "code",
   "execution_count": 61,
   "metadata": {},
   "outputs": [],
   "source": [
    "# Eliminar espacios en blanco al inicio y al final de cada texto en todas las columnas de texto\n",
    "df_PurchasePrices = df_PurchasePrices.map(lambda x: x.strip() if isinstance(x, str) else x)"
   ]
  },
  {
   "cell_type": "markdown",
   "metadata": {},
   "source": [
    "#### Revisamos nuevamente el conteo de mas de un vendor name"
   ]
  },
  {
   "cell_type": "code",
   "execution_count": 62,
   "metadata": {},
   "outputs": [
    {
     "name": "stdout",
     "output_type": "stream",
     "text": [
      "    VendorNumber  VendorName\n",
      "19          1587           2\n",
      "25          2000           2\n",
      "Numero de VendorNumber con más de un unico VendorName: 2\n"
     ]
    }
   ],
   "source": [
    "# Agrupar por 'VendorNumber' y contar los valores únicos de 'VendorName'\n",
    "df_grouped = df_InvoicePurchases.groupby('VendorNumber')['VendorName'].nunique().reset_index()\n",
    "\n",
    "# Filtrar los casos donde hay más de un valor único de 'VendorName'\n",
    "df_multiple_vendorname = df_grouped[df_grouped['VendorName'] > 1]\n",
    "\n",
    "# Ver cuántos VendorNumber tienen más de un VendorName\n",
    "count_vendorname= df_multiple_vendorname.shape[0]\n",
    "\n",
    "# Mostrar los VendorNumber con más de un VendorName\n",
    "print(df_multiple_vendorname[['VendorNumber', 'VendorName']])\n",
    "\n",
    "# Mostrar cuántos VendorNumber tienen más de un VendorName\n",
    "print(f\"Numero de VendorNumber con más de un unico VendorName: {count_vendorname}\")\n"
   ]
  },
  {
   "cell_type": "markdown",
   "metadata": {},
   "source": [
    "#### Verificamos el nombre correcto en las tablas de inventarios y precios de compra"
   ]
  },
  {
   "cell_type": "code",
   "execution_count": 63,
   "metadata": {},
   "outputs": [
    {
     "data": {
      "text/plain": [
       "array(['VINEYARD BRANDS INC', 'VINEYARD BRANDS LLC'], dtype=object)"
      ]
     },
     "execution_count": 63,
     "metadata": {},
     "output_type": "execute_result"
    }
   ],
   "source": [
    "# Filtrar la fila donde 'VendorNumber' es igual a 1587\n",
    "row_VendorNumber_1587 = df_PurchasePrices[df_PurchasePrices['VendorNumber'] == 1587]\n",
    "\n",
    "# Mostrar la fila\n",
    "row_VendorNumber_1587['VendorName'].unique()\n"
   ]
  },
  {
   "cell_type": "code",
   "execution_count": 66,
   "metadata": {},
   "outputs": [
    {
     "data": {
      "text/plain": [
       "array(['VINEYARD BRANDS INC'], dtype=object)"
      ]
     },
     "execution_count": 66,
     "metadata": {},
     "output_type": "execute_result"
    }
   ],
   "source": [
    "# Filtrar la fila donde 'VendorNumber' es igual a 1587\n",
    "row_VendorNumber_1587 = df_SalesFinal[df_SalesFinal['VendorNo'] == 1587]\n",
    "\n",
    "# Mostrar la fila\n",
    "row_VendorNumber_1587['VendorName'].unique()\n"
   ]
  },
  {
   "cell_type": "code",
   "execution_count": 68,
   "metadata": {},
   "outputs": [
    {
     "data": {
      "text/plain": [
       "array(['2016-01-04', '2016-01-11', '2016-01-18', '2016-02-02',\n",
       "       '2016-02-03', '2016-02-09', '2016-02-22', '2016-03-01',\n",
       "       '2016-03-08', '2016-03-11', '2016-03-21', '2016-03-28',\n",
       "       '2016-04-01', '2016-04-08', '2016-04-15', '2016-04-18',\n",
       "       '2016-04-30', '2016-05-07', '2016-05-12', '2016-05-23',\n",
       "       '2016-05-28', '2016-05-31', '2016-06-13', '2016-06-19',\n",
       "       '2016-06-27', '2016-07-01', '2016-07-04', '2016-07-07',\n",
       "       '2016-07-12', '2016-07-23', '2016-07-30', '2016-08-08',\n",
       "       '2016-08-12', '2016-08-16', '2016-08-30', '2016-08-31',\n",
       "       '2016-09-06', '2016-09-20', '2016-09-23', '2016-10-01',\n",
       "       '2016-10-08', '2016-10-07', '2016-10-10', '2016-10-23',\n",
       "       '2016-10-27', '2016-11-04', '2016-11-12', '2016-11-15',\n",
       "       '2016-11-29', '2016-12-06', '2016-12-09', '2016-12-18',\n",
       "       '2016-12-25', '2016-12-29', '2017-01-03'], dtype=object)"
      ]
     },
     "execution_count": 68,
     "metadata": {},
     "output_type": "execute_result"
    }
   ],
   "source": [
    "# Filtrar la fila donde 'VendorName' es igual a 'VINEYARD BRANDS INC'\n",
    "row_VendorName_1 = df_InvoicePurchases[df_InvoicePurchases['VendorName'] == 'VINEYARD BRANDS INC']\n",
    "\n",
    "# Verificar la cantidad de compras\n",
    "row_VendorName_1['InvoiceDate'].unique()\n"
   ]
  },
  {
   "cell_type": "code",
   "execution_count": 67,
   "metadata": {},
   "outputs": [
    {
     "data": {
      "text/plain": [
       "array(['2016-12-05', '2016-12-25', '2017-01-03'], dtype=object)"
      ]
     },
     "execution_count": 67,
     "metadata": {},
     "output_type": "execute_result"
    }
   ],
   "source": [
    "# Filtrar la fila donde 'VendorName' es igual a 'VINEYARD BRANDS LLC'\n",
    "row_VendorName_1 = df_InvoicePurchases[df_InvoicePurchases['VendorName'] == 'VINEYARD BRANDS LLC']\n",
    "\n",
    "# Verificar la cantidad de compras\n",
    "row_VendorName_1['InvoiceDate'].unique()\n"
   ]
  },
  {
   "cell_type": "markdown",
   "metadata": {},
   "source": [
    "#### Corregimos el nombre en df_InvoicePurchase en vendor que ha tenido menos compras (nombre erróneo)"
   ]
  },
  {
   "cell_type": "code",
   "execution_count": 69,
   "metadata": {},
   "outputs": [],
   "source": [
    "# Verificar si el nombre incorrecto está en la columna VendorName y corregirlo\n",
    "df_InvoicePurchases.loc[df_InvoicePurchases['VendorName'] == 'VINEYARD BRANDS LLC', 'VendorName'] = 'VINEYARD BRANDS INC'\n"
   ]
  },
  {
   "cell_type": "code",
   "execution_count": 70,
   "metadata": {},
   "outputs": [
    {
     "data": {
      "text/plain": [
       "array(['VINEYARD BRANDS INC'], dtype=object)"
      ]
     },
     "execution_count": 70,
     "metadata": {},
     "output_type": "execute_result"
    }
   ],
   "source": [
    "# Revisamos nuevamente\n",
    "# Filtrar la fila donde 'VendorNumber' es igual a 1587\n",
    "row_VendorNumber_1587 = df_InvoicePurchases[df_InvoicePurchases['VendorNumber'] == 1587]\n",
    "\n",
    "# Mostrar la fila\n",
    "row_VendorNumber_1587['VendorName'].unique()\n"
   ]
  },
  {
   "cell_type": "markdown",
   "metadata": {},
   "source": [
    "#### Repetimos el paso para el otro nombre"
   ]
  },
  {
   "cell_type": "code",
   "execution_count": 73,
   "metadata": {},
   "outputs": [
    {
     "data": {
      "text/plain": [
       "array(['SOUTHERN WINE & SPIRITS NE', 'SOUTHERN GLAZERS W&S OF NE'],\n",
       "      dtype=object)"
      ]
     },
     "execution_count": 73,
     "metadata": {},
     "output_type": "execute_result"
    }
   ],
   "source": [
    "# Filtrar la fila donde 'VendorNumber' es igual a 2000\n",
    "row_VendorNumber_2000 = df_PurchasePrices[df_PurchasePrices['VendorNumber'] == 2000]\n",
    "\n",
    "# Mostrar la fila\n",
    "row_VendorNumber_2000['VendorName'].unique()\n"
   ]
  },
  {
   "cell_type": "code",
   "execution_count": 75,
   "metadata": {},
   "outputs": [
    {
     "data": {
      "text/plain": [
       "array(['SOUTHERN WINE & SPIRITS NE'], dtype=object)"
      ]
     },
     "execution_count": 75,
     "metadata": {},
     "output_type": "execute_result"
    }
   ],
   "source": [
    "# Filtrar la fila donde 'VendorNumber' es igual a 2000\n",
    "row_VendorNumber_2000 = df_SalesFinal[df_SalesFinal['VendorNo'] == 2000]\n",
    "\n",
    "# Mostrar la fila\n",
    "row_VendorNumber_2000['VendorName'].unique()\n"
   ]
  },
  {
   "cell_type": "code",
   "execution_count": 72,
   "metadata": {},
   "outputs": [
    {
     "data": {
      "text/plain": [
       "array(['2016-01-05', '2016-01-17', '2016-01-21', '2016-01-31',\n",
       "       '2016-02-02', '2016-02-10', '2016-02-19', '2016-03-01',\n",
       "       '2016-02-29', '2016-03-07', '2016-03-15', '2016-03-28',\n",
       "       '2016-04-01', '2016-04-05', '2016-04-16', '2016-04-19',\n",
       "       '2016-04-28', '2016-05-08', '2016-05-09', '2016-05-18',\n",
       "       '2016-05-25', '2016-06-06', '2016-06-07', '2016-06-19',\n",
       "       '2016-06-23', '2016-07-05', '2016-07-04', '2016-07-08',\n",
       "       '2016-07-12', '2016-07-20', '2016-07-26', '2016-08-08',\n",
       "       '2016-08-11', '2016-08-16', '2016-08-22', '2016-08-31',\n",
       "       '2016-09-05', '2016-09-13', '2016-09-26', '2016-09-29',\n",
       "       '2016-10-08', '2016-10-07', '2016-10-11', '2016-10-22',\n",
       "       '2016-10-29', '2016-11-02', '2016-11-12', '2016-11-19',\n",
       "       '2016-11-28', '2016-12-01', '2016-12-08', '2016-12-17',\n",
       "       '2016-12-26', '2016-12-30', '2017-01-08'], dtype=object)"
      ]
     },
     "execution_count": 72,
     "metadata": {},
     "output_type": "execute_result"
    }
   ],
   "source": [
    "# Filtrar la fila donde 'VendorName' es igual a 'SOUTHERN WINE & SPIRITS NE'\n",
    "row_VendorName_2000 = df_InvoicePurchases[df_InvoicePurchases['VendorName'] == 'SOUTHERN WINE & SPIRITS NE']\n",
    "\n",
    "# Verificar la cantidad de compras\n",
    "row_VendorName_2000['InvoiceDate'].unique()\n"
   ]
  },
  {
   "cell_type": "code",
   "execution_count": 76,
   "metadata": {},
   "outputs": [
    {
     "data": {
      "text/plain": [
       "array(['2016-09-17', '2016-09-24', '2016-09-27', '2016-10-07',\n",
       "       '2016-10-16', '2016-10-23', '2016-11-01', '2016-11-07',\n",
       "       '2016-11-26', '2016-11-30', '2016-12-12', '2016-12-27'],\n",
       "      dtype=object)"
      ]
     },
     "execution_count": 76,
     "metadata": {},
     "output_type": "execute_result"
    }
   ],
   "source": [
    "# Filtrar la fila donde 'VendorName' es igual a 'SOUTHERN GLAZERS W&S OF NE'\n",
    "row_VendorName_2000 = df_InvoicePurchases[df_InvoicePurchases['VendorName'] == 'SOUTHERN GLAZERS W&S OF NE']\n",
    "\n",
    "# Verificar la cantidad de compras\n",
    "row_VendorName_2000['InvoiceDate'].unique()\n"
   ]
  },
  {
   "cell_type": "markdown",
   "metadata": {},
   "source": [
    "#### Corregimos el nombre en df_InvoicePurchase en vendor que ha tenido menos compras (nombre erróneo)"
   ]
  },
  {
   "cell_type": "code",
   "execution_count": 77,
   "metadata": {},
   "outputs": [],
   "source": [
    "# Verificar si el nombre incorrecto está en la columna VendorName y corregirlo\n",
    "df_InvoicePurchases.loc[df_InvoicePurchases['VendorName'] == 'SOUTHERN GLAZERS W&S OF NE', 'VendorName'] = 'SOUTHERN WINE & SPIRITS NE'\n"
   ]
  },
  {
   "cell_type": "code",
   "execution_count": 78,
   "metadata": {},
   "outputs": [
    {
     "data": {
      "text/plain": [
       "array(['SOUTHERN WINE & SPIRITS NE'], dtype=object)"
      ]
     },
     "execution_count": 78,
     "metadata": {},
     "output_type": "execute_result"
    }
   ],
   "source": [
    "# Filtrar la fila donde 'VendorNumber' es igual a 2000\n",
    "row_VendorNumber_2000 = df_InvoicePurchases[df_InvoicePurchases['VendorNumber'] == 2000]\n",
    "\n",
    "# Mostrar la fila\n",
    "row_VendorNumber_2000['VendorName'].unique()\n"
   ]
  },
  {
   "cell_type": "markdown",
   "metadata": {},
   "source": [
    "### Analizamos las tablas para definir la normalizacion"
   ]
  },
  {
   "cell_type": "code",
   "execution_count": 80,
   "metadata": {},
   "outputs": [
    {
     "data": {
      "text/plain": [
       "(5543, 10)"
      ]
     },
     "execution_count": 80,
     "metadata": {},
     "output_type": "execute_result"
    }
   ],
   "source": [
    "df_InvoicePurchases.shape"
   ]
  },
  {
   "cell_type": "code",
   "execution_count": 81,
   "metadata": {},
   "outputs": [
    {
     "data": {
      "text/plain": [
       "Freight\n",
       "0.26       13\n",
       "0.23       11\n",
       "0.60       11\n",
       "0.52       10\n",
       "0.44        9\n",
       "           ..\n",
       "2027.87     1\n",
       "127.05      1\n",
       "408.72      1\n",
       "5972.45     1\n",
       "321.02      1\n",
       "Name: count, Length: 4052, dtype: int64"
      ]
     },
     "execution_count": 81,
     "metadata": {},
     "output_type": "execute_result"
    }
   ],
   "source": [
    "df_InvoicePurchases['Freight'].value_counts()"
   ]
  },
  {
   "cell_type": "code",
   "execution_count": 79,
   "metadata": {},
   "outputs": [
    {
     "data": {
      "text/plain": [
       "Dollars\n",
       "214.26       22\n",
       "52.08        18\n",
       "120.72       12\n",
       "84.30         9\n",
       "428.52        8\n",
       "             ..\n",
       "1563.00       1\n",
       "37300.48      1\n",
       "202815.78     1\n",
       "149007.56     1\n",
       "277542.68     1\n",
       "Name: count, Length: 5226, dtype: int64"
      ]
     },
     "execution_count": 79,
     "metadata": {},
     "output_type": "execute_result"
    }
   ],
   "source": [
    "df_InvoicePurchases['Dollars'].value_counts()"
   ]
  },
  {
   "cell_type": "code",
   "execution_count": 83,
   "metadata": {},
   "outputs": [
    {
     "data": {
      "text/plain": [
       "InvoiceDate\n",
       "2016-07-04    43\n",
       "2016-07-11    35\n",
       "2017-01-03    33\n",
       "2016-08-08    32\n",
       "2016-08-16    31\n",
       "              ..\n",
       "2016-08-10     4\n",
       "2016-06-02     4\n",
       "2016-06-25     4\n",
       "2016-04-27     4\n",
       "2016-11-16     4\n",
       "Name: count, Length: 373, dtype: int64"
      ]
     },
     "execution_count": 83,
     "metadata": {},
     "output_type": "execute_result"
    }
   ],
   "source": [
    "df_InvoicePurchases['InvoiceDate'].value_counts()"
   ]
  },
  {
   "cell_type": "code",
   "execution_count": 84,
   "metadata": {},
   "outputs": [
    {
     "data": {
      "text/plain": [
       "PODate\n",
       "2016-06-25    86\n",
       "2016-09-23    76\n",
       "2016-03-18    26\n",
       "2016-07-01    26\n",
       "2016-10-26    25\n",
       "              ..\n",
       "2016-03-15     9\n",
       "2016-02-14     9\n",
       "2016-07-06     8\n",
       "2016-11-02     8\n",
       "2016-08-29     7\n",
       "Name: count, Length: 319, dtype: int64"
      ]
     },
     "execution_count": 84,
     "metadata": {},
     "output_type": "execute_result"
    }
   ],
   "source": [
    "df_InvoicePurchases['PODate'].value_counts()"
   ]
  },
  {
   "cell_type": "code",
   "execution_count": 85,
   "metadata": {},
   "outputs": [
    {
     "data": {
      "text/plain": [
       "PONumber\n",
       "13574    1\n",
       "8124     1\n",
       "8137     1\n",
       "8169     1\n",
       "8106     1\n",
       "        ..\n",
       "8152     1\n",
       "8107     1\n",
       "8151     1\n",
       "8172     1\n",
       "8171     1\n",
       "Name: count, Length: 5543, dtype: int64"
      ]
     },
     "execution_count": 85,
     "metadata": {},
     "output_type": "execute_result"
    }
   ],
   "source": [
    "df_InvoicePurchases['PONumber'].value_counts()"
   ]
  },
  {
   "cell_type": "code",
   "execution_count": 87,
   "metadata": {},
   "outputs": [
    {
     "data": {
      "text/plain": [
       "PayDate\n",
       "2016-08-14    31\n",
       "2016-08-12    30\n",
       "2016-11-12    30\n",
       "2016-08-18    29\n",
       "2016-11-04    27\n",
       "              ..\n",
       "2017-02-18     5\n",
       "2017-02-14     5\n",
       "2016-02-09     3\n",
       "2017-02-15     3\n",
       "2016-02-08     2\n",
       "Name: count, Length: 382, dtype: int64"
      ]
     },
     "execution_count": 87,
     "metadata": {},
     "output_type": "execute_result"
    }
   ],
   "source": [
    "df_InvoicePurchases['PayDate'].value_counts()"
   ]
  },
  {
   "cell_type": "code",
   "execution_count": 88,
   "metadata": {},
   "outputs": [
    {
     "data": {
      "text/plain": [
       "Quantity\n",
       "12       228\n",
       "24       109\n",
       "6         90\n",
       "36        84\n",
       "48        67\n",
       "        ... \n",
       "6708       1\n",
       "6692       1\n",
       "10973      1\n",
       "43240      1\n",
       "8466       1\n",
       "Name: count, Length: 2895, dtype: int64"
      ]
     },
     "execution_count": 88,
     "metadata": {},
     "output_type": "execute_result"
    }
   ],
   "source": [
    "df_InvoicePurchases['Quantity'].value_counts()"
   ]
  },
  {
   "cell_type": "code",
   "execution_count": 89,
   "metadata": {},
   "outputs": [
    {
     "data": {
      "text/plain": [
       "VendorName\n",
       "MARTIGNETTI COMPANIES          82\n",
       "SOUTHERN WINE & SPIRITS NE     67\n",
       "VINEYARD BRANDS INC            58\n",
       "CHARLES JACQUIN ET CIE INC     55\n",
       "BANFI PRODUCTS CORP            55\n",
       "                               ..\n",
       "CAPSTONE INTERNATIONAL          1\n",
       "FLAVOR ESSENCE INC              1\n",
       "TRUETT HURST                    1\n",
       "LAUREATE IMPORTS CO             1\n",
       "AAPER ALCOHOL & CHEMICAL CO     1\n",
       "Name: count, Length: 126, dtype: int64"
      ]
     },
     "execution_count": 89,
     "metadata": {},
     "output_type": "execute_result"
    }
   ],
   "source": [
    "df_InvoicePurchases['VendorName'].value_counts()"
   ]
  },
  {
   "cell_type": "code",
   "execution_count": 90,
   "metadata": {},
   "outputs": [
    {
     "data": {
      "text/plain": [
       "VendorNumber\n",
       "4425      82\n",
       "2000      67\n",
       "1587      58\n",
       "4380      55\n",
       "516       55\n",
       "          ..\n",
       "1439       1\n",
       "201359     1\n",
       "9099       1\n",
       "4901       1\n",
       "54         1\n",
       "Name: count, Length: 126, dtype: int64"
      ]
     },
     "execution_count": 90,
     "metadata": {},
     "output_type": "execute_result"
    }
   ],
   "source": [
    "df_InvoicePurchases['VendorNumber'].value_counts()"
   ]
  },
  {
   "cell_type": "markdown",
   "metadata": {},
   "source": [
    "### Guardamos nuestros archivos con las correcciones hechas hasta este momento"
   ]
  },
  {
   "cell_type": "code",
   "execution_count": 91,
   "metadata": {},
   "outputs": [],
   "source": [
    "df_InvoicePurchases.to_csv('InvoicePurchases.csv', index=False)\n",
    "df_PurchasePrices.to_csv('PurchasePrices.csv', index=False)\n",
    "df_BegInv.to_csv('BegInv.csv', index=False)\n",
    "df_EndInv.to_csv('EndInv.csv', index=False)\n",
    "df_SalesFinal.to_csv('SalesFinal.csv', index=False)\n",
    "df_PurchasesFinal.to_csv('PurchasesFinal.csv', index=False)\n"
   ]
  },
  {
   "cell_type": "markdown",
   "metadata": {},
   "source": [
    "#### Volvemos a abrir"
   ]
  },
  {
   "cell_type": "code",
   "execution_count": 92,
   "metadata": {},
   "outputs": [],
   "source": [
    "import pandas as pd"
   ]
  },
  {
   "cell_type": "code",
   "execution_count": 93,
   "metadata": {},
   "outputs": [],
   "source": [
    "df_InvoicePurchases= pd.read_csv('InvoicePurchases.csv')\n",
    "df_PurchasePrices =pd.read_csv('PurchasePrices.csv')\n",
    "df_BegInv= pd.read_csv('BegInv.csv')\n",
    "df_EndInv= pd.read_csv('EndInv.csv')\n",
    "df_SalesFinal= pd.read_csv('SalesFinal.csv')\n",
    "df_PurchasesFinal = pd.read_csv('PurchasesFinal.csv')\n"
   ]
  },
  {
   "cell_type": "code",
   "execution_count": 94,
   "metadata": {},
   "outputs": [
    {
     "data": {
      "text/plain": [
       "Approval\n",
       "Frank Delahunt    374\n",
       "Name: count, dtype: int64"
      ]
     },
     "execution_count": 94,
     "metadata": {},
     "output_type": "execute_result"
    }
   ],
   "source": [
    "df_InvoicePurchases['Approval'].value_counts()"
   ]
  },
  {
   "cell_type": "code",
   "execution_count": 99,
   "metadata": {},
   "outputs": [
    {
     "data": {
      "text/plain": [
       "array([nan, 'Frank Delahunt'], dtype=object)"
      ]
     },
     "execution_count": 99,
     "metadata": {},
     "output_type": "execute_result"
    }
   ],
   "source": [
    "df_InvoicePurchases['Approval'].unique()"
   ]
  },
  {
   "cell_type": "code",
   "execution_count": 95,
   "metadata": {},
   "outputs": [
    {
     "name": "stdout",
     "output_type": "stream",
     "text": [
      "Empty DataFrame\n",
      "Columns: [InvoiceDate, Approval]\n",
      "Index: []\n",
      "Numero de InvoiceDate con más de un unico Approval: 0\n"
     ]
    }
   ],
   "source": [
    "# Agrupar por 'InvoiceDate' y contar los valores únicos de 'Approval'\n",
    "df_grouped = df_InvoicePurchases.groupby('InvoiceDate')['Approval'].nunique().reset_index()\n",
    "\n",
    "# Filtrar los casos donde hay más de un valor único de 'Approval'\n",
    "df_multiple_approval = df_grouped[df_grouped['Approval'] > 1]\n",
    "\n",
    "# Ver cuántos InvoiceDate tienen más de un Approval\n",
    "count_approval= df_multiple_approval.shape[0]\n",
    "\n",
    "# Mostrar los InvoiceDate con más de un Approval\n",
    "print(df_multiple_approval[['InvoiceDate', 'Approval']])\n",
    "\n",
    "# Mostrar cuántos InvoiceDate tienen más de un Approval\n",
    "print(f\"Numero de InvoiceDate con más de un unico Approval: {count_approval}\")\n"
   ]
  },
  {
   "cell_type": "code",
   "execution_count": 100,
   "metadata": {},
   "outputs": [
    {
     "data": {
      "text/plain": [
       "VendorNo\n",
       "3960      125869\n",
       "12546      94057\n",
       "4425       76625\n",
       "1392       70792\n",
       "3252       65240\n",
       "           ...  \n",
       "172662         1\n",
       "9710           1\n",
       "1265           1\n",
       "2              1\n",
       "1002           1\n",
       "Name: count, Length: 116, dtype: int64"
      ]
     },
     "execution_count": 100,
     "metadata": {},
     "output_type": "execute_result"
    }
   ],
   "source": [
    "df_SalesFinal['VendorNo'].value_counts()"
   ]
  },
  {
   "cell_type": "code",
   "execution_count": 101,
   "metadata": {},
   "outputs": [
    {
     "data": {
      "text/plain": [
       "VendorNumber\n",
       "3960      243326\n",
       "12546     189832\n",
       "1392      185574\n",
       "4425      176781\n",
       "3252      162567\n",
       "           ...  \n",
       "1439           1\n",
       "201359         1\n",
       "9099           1\n",
       "4901           1\n",
       "54             1\n",
       "Name: count, Length: 126, dtype: int64"
      ]
     },
     "execution_count": 101,
     "metadata": {},
     "output_type": "execute_result"
    }
   ],
   "source": [
    "df_PurchasesFinal['VendorNumber'].value_counts()"
   ]
  },
  {
   "cell_type": "code",
   "execution_count": 102,
   "metadata": {},
   "outputs": [
    {
     "data": {
      "text/plain": [
       "VendorNumber\n",
       "4425      82\n",
       "2000      67\n",
       "1587      58\n",
       "4380      55\n",
       "516       55\n",
       "          ..\n",
       "1439       1\n",
       "201359     1\n",
       "9099       1\n",
       "4901       1\n",
       "54         1\n",
       "Name: count, Length: 126, dtype: int64"
      ]
     },
     "execution_count": 102,
     "metadata": {},
     "output_type": "execute_result"
    }
   ],
   "source": [
    "df_InvoicePurchases['VendorNumber'].value_counts()"
   ]
  },
  {
   "cell_type": "markdown",
   "metadata": {},
   "source": [
    "### Creamos la Tabla DimVendor de la Tabla InvoicePurchase"
   ]
  },
  {
   "cell_type": "code",
   "execution_count": 105,
   "metadata": {},
   "outputs": [
    {
     "data": {
      "text/plain": [
       "Index(['VendorNumber', 'VendorName', 'InvoiceDate', 'PONumber', 'PODate',\n",
       "       'PayDate', 'Quantity', 'Dollars', 'Freight', 'Approval'],\n",
       "      dtype='object')"
      ]
     },
     "execution_count": 105,
     "metadata": {},
     "output_type": "execute_result"
    }
   ],
   "source": [
    "df_InvoicePurchases.columns"
   ]
  },
  {
   "cell_type": "code",
   "execution_count": 146,
   "metadata": {},
   "outputs": [],
   "source": [
    "# Extraer valores únicos de algunas de las columnas de InvoicePrice\n",
    "DimVendor = df_InvoicePurchases[['VendorNumber', 'VendorName']].drop_duplicates().reset_index(drop=True)\n"
   ]
  },
  {
   "cell_type": "code",
   "execution_count": 148,
   "metadata": {},
   "outputs": [
    {
     "data": {
      "text/plain": [
       "(126, 2)"
      ]
     },
     "execution_count": 148,
     "metadata": {},
     "output_type": "execute_result"
    }
   ],
   "source": [
    "DimVendor.shape"
   ]
  },
  {
   "cell_type": "code",
   "execution_count": 147,
   "metadata": {},
   "outputs": [
    {
     "name": "stdout",
     "output_type": "stream",
     "text": [
      "<class 'pandas.core.frame.DataFrame'>\n",
      "RangeIndex: 126 entries, 0 to 125\n",
      "Data columns (total 2 columns):\n",
      " #   Column        Non-Null Count  Dtype \n",
      "---  ------        --------------  ----- \n",
      " 0   VendorNumber  126 non-null    int64 \n",
      " 1   VendorName    126 non-null    object\n",
      "dtypes: int64(1), object(1)\n",
      "memory usage: 2.1+ KB\n"
     ]
    }
   ],
   "source": [
    "DimVendor.info()"
   ]
  },
  {
   "cell_type": "code",
   "execution_count": 149,
   "metadata": {},
   "outputs": [
    {
     "data": {
      "text/plain": [
       "VendorNumber\n",
       "105       1\n",
       "4466      1\n",
       "388       1\n",
       "480       1\n",
       "516       1\n",
       "         ..\n",
       "201359    1\n",
       "4901      1\n",
       "90059     1\n",
       "5083      1\n",
       "54        1\n",
       "Name: count, Length: 126, dtype: int64"
      ]
     },
     "execution_count": 149,
     "metadata": {},
     "output_type": "execute_result"
    }
   ],
   "source": [
    "DimVendor['VendorNumber'].value_counts()"
   ]
  },
  {
   "cell_type": "code",
   "execution_count": 150,
   "metadata": {},
   "outputs": [
    {
     "data": {
      "text/plain": [
       "VendorName\n",
       "ALTAMAR BRANDS LLC             1\n",
       "AMERICAN VINTAGE BEVERAGE      1\n",
       "ATLANTIC IMPORTING COMPANY     1\n",
       "BACARDI USA INC                1\n",
       "BANFI PRODUCTS CORP            1\n",
       "                              ..\n",
       "FLAVOR ESSENCE INC             1\n",
       "LAUREATE IMPORTS CO            1\n",
       "BLACK COVE BEVERAGES           1\n",
       "LOYAL DOG WINERY               1\n",
       "AAPER ALCOHOL & CHEMICAL CO    1\n",
       "Name: count, Length: 126, dtype: int64"
      ]
     },
     "execution_count": 150,
     "metadata": {},
     "output_type": "execute_result"
    }
   ],
   "source": [
    "DimVendor['VendorName'].value_counts()"
   ]
  },
  {
   "cell_type": "markdown",
   "metadata": {},
   "source": [
    "#### Reviso que no tenga datos nulos"
   ]
  },
  {
   "cell_type": "code",
   "execution_count": 151,
   "metadata": {},
   "outputs": [
    {
     "name": "stdout",
     "output_type": "stream",
     "text": [
      "Series([], dtype: int64)\n"
     ]
    }
   ],
   "source": [
    "total_nulos_vendor = DimVendor.isnull().sum()[DimVendor.isnull().sum()>0]\n",
    "print(total_nulos_vendor)"
   ]
  },
  {
   "cell_type": "markdown",
   "metadata": {},
   "source": [
    "### Creamos el ID para DimVendor"
   ]
  },
  {
   "cell_type": "code",
   "execution_count": 152,
   "metadata": {},
   "outputs": [],
   "source": [
    "# Generar VendroID en DimVendor\n",
    "DimVendor['VendorID'] = DimVendor.index + 1"
   ]
  },
  {
   "cell_type": "code",
   "execution_count": 153,
   "metadata": {},
   "outputs": [
    {
     "name": "stdout",
     "output_type": "stream",
     "text": [
      "<class 'pandas.core.frame.DataFrame'>\n",
      "RangeIndex: 126 entries, 0 to 125\n",
      "Data columns (total 3 columns):\n",
      " #   Column        Non-Null Count  Dtype \n",
      "---  ------        --------------  ----- \n",
      " 0   VendorNumber  126 non-null    int64 \n",
      " 1   VendorName    126 non-null    object\n",
      " 2   VendorID      126 non-null    int64 \n",
      "dtypes: int64(2), object(1)\n",
      "memory usage: 3.1+ KB\n"
     ]
    }
   ],
   "source": [
    "DimVendor.info()"
   ]
  },
  {
   "cell_type": "code",
   "execution_count": 154,
   "metadata": {},
   "outputs": [
    {
     "data": {
      "text/plain": [
       "VendorNumber     int64\n",
       "VendorName      object\n",
       "VendorID         int64\n",
       "dtype: object"
      ]
     },
     "execution_count": 154,
     "metadata": {},
     "output_type": "execute_result"
    }
   ],
   "source": [
    "DimVendor.dtypes"
   ]
  },
  {
   "cell_type": "markdown",
   "metadata": {},
   "source": [
    "### Ahora revisamos la Tabla InvoicePurchase y agregamos el VendorID"
   ]
  },
  {
   "cell_type": "markdown",
   "metadata": {},
   "source": [
    "#### Primero Eliminamos la columna approval que no es util para nuestros cálculos"
   ]
  },
  {
   "cell_type": "code",
   "execution_count": 155,
   "metadata": {},
   "outputs": [],
   "source": [
    "# Elimino la columna 'Approval'\n",
    "df_InvoicePurchases=df_InvoicePurchases.drop(columns=['Approval'])"
   ]
  },
  {
   "cell_type": "code",
   "execution_count": 156,
   "metadata": {},
   "outputs": [
    {
     "data": {
      "text/plain": [
       "Index(['VendorNumber', 'VendorName', 'VendorID'], dtype='object')"
      ]
     },
     "execution_count": 156,
     "metadata": {},
     "output_type": "execute_result"
    }
   ],
   "source": [
    "DimVendor.columns"
   ]
  },
  {
   "cell_type": "code",
   "execution_count": 157,
   "metadata": {},
   "outputs": [
    {
     "data": {
      "text/plain": [
       "Index(['VendorNumber', 'VendorName', 'InvoiceDate', 'PONumber', 'PODate',\n",
       "       'PayDate', 'Quantity', 'Dollars', 'Freight'],\n",
       "      dtype='object')"
      ]
     },
     "execution_count": 157,
     "metadata": {},
     "output_type": "execute_result"
    }
   ],
   "source": [
    "df_InvoicePurchases.columns"
   ]
  },
  {
   "cell_type": "code",
   "execution_count": 158,
   "metadata": {},
   "outputs": [
    {
     "data": {
      "text/plain": [
       "(5543, 9)"
      ]
     },
     "execution_count": 158,
     "metadata": {},
     "output_type": "execute_result"
    }
   ],
   "source": [
    "df_InvoicePurchases.shape"
   ]
  },
  {
   "cell_type": "code",
   "execution_count": 171,
   "metadata": {},
   "outputs": [
    {
     "data": {
      "text/plain": [
       "InvoiceDate\n",
       "2016-07-04    43\n",
       "2016-07-11    35\n",
       "2017-01-03    33\n",
       "2016-08-08    32\n",
       "2016-08-16    31\n",
       "              ..\n",
       "2016-08-10     4\n",
       "2016-06-02     4\n",
       "2016-06-25     4\n",
       "2016-04-27     4\n",
       "2016-11-16     4\n",
       "Name: count, Length: 373, dtype: int64"
      ]
     },
     "execution_count": 171,
     "metadata": {},
     "output_type": "execute_result"
    }
   ],
   "source": [
    "df_InvoicePurchases['InvoiceDate'].value_counts()"
   ]
  },
  {
   "cell_type": "code",
   "execution_count": 169,
   "metadata": {},
   "outputs": [
    {
     "name": "stdout",
     "output_type": "stream",
     "text": [
      "La columna \"InvoiceDate\" tiene 373 valores únicos.\n"
     ]
    }
   ],
   "source": [
    "# Contar los valores únicos en la columna 'InvoiceDate'\n",
    "unique_dates = df_InvoicePurchases['InvoiceDate'].nunique()\n",
    "\n",
    "# Mostrar el resultado\n",
    "print(f'La columna \"InvoiceDate\" tiene {unique_dates} valores únicos.')\n"
   ]
  },
  {
   "cell_type": "markdown",
   "metadata": {},
   "source": [
    "#### Insertamos VendorID a la tabla InvoicePurchase y le cambiamos el nombre por Ordenes_Compra"
   ]
  },
  {
   "cell_type": "code",
   "execution_count": 159,
   "metadata": {},
   "outputs": [],
   "source": [
    "# Realizar un merge entre InvoicePurchase con DimVendor basándose en la columna VendorNumber\n",
    "Ordenes_Compra = df_InvoicePurchases.merge(DimVendor[['VendorID','VendorNumber']], left_on='VendorNumber', right_on='VendorNumber', how='left')\n"
   ]
  },
  {
   "cell_type": "code",
   "execution_count": 160,
   "metadata": {},
   "outputs": [
    {
     "data": {
      "text/plain": [
       "Index(['VendorNumber', 'VendorName', 'InvoiceDate', 'PONumber', 'PODate',\n",
       "       'PayDate', 'Quantity', 'Dollars', 'Freight', 'VendorID'],\n",
       "      dtype='object')"
      ]
     },
     "execution_count": 160,
     "metadata": {},
     "output_type": "execute_result"
    }
   ],
   "source": [
    "Ordenes_Compra.columns"
   ]
  },
  {
   "cell_type": "markdown",
   "metadata": {},
   "source": [
    "### Eliminamos columnas redundantes"
   ]
  },
  {
   "cell_type": "code",
   "execution_count": 161,
   "metadata": {},
   "outputs": [],
   "source": [
    "# Elimino la columna 'VendorNumber' y 'VendorName'\n",
    "Ordenes_Compra = Ordenes_Compra.drop(columns=['VendorNumber','VendorName'])\n"
   ]
  },
  {
   "cell_type": "code",
   "execution_count": 162,
   "metadata": {},
   "outputs": [
    {
     "data": {
      "text/plain": [
       "Index(['InvoiceDate', 'PONumber', 'PODate', 'PayDate', 'Quantity', 'Dollars',\n",
       "       'Freight', 'VendorID'],\n",
       "      dtype='object')"
      ]
     },
     "execution_count": 162,
     "metadata": {},
     "output_type": "execute_result"
    }
   ],
   "source": [
    "Ordenes_Compra.columns"
   ]
  },
  {
   "cell_type": "code",
   "execution_count": 164,
   "metadata": {},
   "outputs": [
    {
     "data": {
      "text/plain": [
       "(5543, 8)"
      ]
     },
     "execution_count": 164,
     "metadata": {},
     "output_type": "execute_result"
    }
   ],
   "source": [
    "Ordenes_Compra.shape"
   ]
  },
  {
   "cell_type": "code",
   "execution_count": 165,
   "metadata": {},
   "outputs": [
    {
     "data": {
      "text/plain": [
       "PONumber\n",
       "13574    1\n",
       "8124     1\n",
       "8137     1\n",
       "8169     1\n",
       "8106     1\n",
       "        ..\n",
       "8152     1\n",
       "8107     1\n",
       "8151     1\n",
       "8172     1\n",
       "8171     1\n",
       "Name: count, Length: 5543, dtype: int64"
      ]
     },
     "execution_count": 165,
     "metadata": {},
     "output_type": "execute_result"
    }
   ],
   "source": [
    "Ordenes_Compra['PONumber'].value_counts()\n"
   ]
  },
  {
   "cell_type": "code",
   "execution_count": 167,
   "metadata": {},
   "outputs": [
    {
     "data": {
      "text/plain": [
       "<bound method Series.unique of 0        8124\n",
       "1        8137\n",
       "2        8169\n",
       "3        8106\n",
       "4        8170\n",
       "        ...  \n",
       "5538    13626\n",
       "5539    13661\n",
       "5540    13643\n",
       "5541    13602\n",
       "5542    13574\n",
       "Name: PONumber, Length: 5543, dtype: int64>"
      ]
     },
     "execution_count": 167,
     "metadata": {},
     "output_type": "execute_result"
    }
   ],
   "source": [
    "Ordenes_Compra['PONumber'].unique"
   ]
  },
  {
   "cell_type": "markdown",
   "metadata": {},
   "source": [
    "#### Reviso nulos"
   ]
  },
  {
   "cell_type": "code",
   "execution_count": 163,
   "metadata": {},
   "outputs": [
    {
     "name": "stdout",
     "output_type": "stream",
     "text": [
      "Series([], dtype: int64)\n"
     ]
    }
   ],
   "source": [
    "total_nulos_oc = Ordenes_Compra.isnull().sum()[Ordenes_Compra.isnull().sum()>0]\n",
    "print(total_nulos_oc)"
   ]
  },
  {
   "cell_type": "code",
   "execution_count": null,
   "metadata": {},
   "outputs": [],
   "source": [
    "# Elimino la columna 'VendorNumber' y 'VendorName'\n",
    "Ordenes_Compra = Ordenes_Compra.drop(columns=['VendorNumber','VendorName'])\n"
   ]
  },
  {
   "cell_type": "markdown",
   "metadata": {},
   "source": [
    "### Ahora revisamos la Tabla PurchasesFinal y agregamos el OC_ID y le cambiamos el nombre a Fact_Detalles_Compra"
   ]
  },
  {
   "cell_type": "markdown",
   "metadata": {},
   "source": [
    "#### Creamos el OrdenCompraID en la nueva dataframe Ordenes_Compra"
   ]
  },
  {
   "cell_type": "code",
   "execution_count": 176,
   "metadata": {},
   "outputs": [],
   "source": [
    "# Generar OrdenCompraID en Ordenes_Compra\n",
    "Ordenes_Compra['OrdenCompraID'] = Ordenes_Compra.index + 1"
   ]
  },
  {
   "cell_type": "code",
   "execution_count": 173,
   "metadata": {},
   "outputs": [
    {
     "data": {
      "text/plain": [
       "PONumber\n",
       "10936    6108\n",
       "13487    5594\n",
       "11300    5532\n",
       "13597    5532\n",
       "11191    5529\n",
       "         ... \n",
       "12887       1\n",
       "12928       1\n",
       "12990       1\n",
       "13015       1\n",
       "13002       1\n",
       "Name: count, Length: 5543, dtype: int64"
      ]
     },
     "execution_count": 173,
     "metadata": {},
     "output_type": "execute_result"
    }
   ],
   "source": [
    "df_PurchasesFinal['PONumber'].value_counts()"
   ]
  },
  {
   "cell_type": "code",
   "execution_count": 175,
   "metadata": {},
   "outputs": [
    {
     "data": {
      "text/plain": [
       "PONumber\n",
       "13574    1\n",
       "8124     1\n",
       "8137     1\n",
       "8169     1\n",
       "8106     1\n",
       "        ..\n",
       "8152     1\n",
       "8107     1\n",
       "8151     1\n",
       "8172     1\n",
       "8171     1\n",
       "Name: count, Length: 5543, dtype: int64"
      ]
     },
     "execution_count": 175,
     "metadata": {},
     "output_type": "execute_result"
    }
   ],
   "source": [
    "Ordenes_Compra['PONumber'].value_counts()"
   ]
  },
  {
   "cell_type": "code",
   "execution_count": 177,
   "metadata": {},
   "outputs": [
    {
     "data": {
      "text/plain": [
       "Index(['InventoryId', 'Store', 'Brand', 'Description', 'Size', 'VendorNumber',\n",
       "       'VendorName', 'PONumber', 'PODate', 'ReceivingDate', 'InvoiceDate',\n",
       "       'PayDate', 'PurchasePrice', 'Quantity', 'Dollars', 'Classification'],\n",
       "      dtype='object')"
      ]
     },
     "execution_count": 177,
     "metadata": {},
     "output_type": "execute_result"
    }
   ],
   "source": [
    "df_PurchasesFinal.columns"
   ]
  },
  {
   "cell_type": "code",
   "execution_count": 178,
   "metadata": {},
   "outputs": [
    {
     "data": {
      "text/plain": [
       "Index(['InvoiceDate', 'PONumber', 'PODate', 'PayDate', 'Quantity', 'Dollars',\n",
       "       'Freight', 'VendorID', 'OrdenCompraID'],\n",
       "      dtype='object')"
      ]
     },
     "execution_count": 178,
     "metadata": {},
     "output_type": "execute_result"
    }
   ],
   "source": [
    "Ordenes_Compra.columns"
   ]
  },
  {
   "cell_type": "code",
   "execution_count": 179,
   "metadata": {},
   "outputs": [],
   "source": [
    "# Realizar un merge entre PurchaseFinal y Ordenes_Compra basándose en la columna PONumber\n",
    "# y cambiamos el nombre de la tabla PurchasesFinal\n",
    "Fact_Detalle_Compras = df_PurchasesFinal.merge(Ordenes_Compra[['PONumber', 'OrdenCompraID']], left_on='PONumber', right_on='PONumber', how='left')\n"
   ]
  },
  {
   "cell_type": "code",
   "execution_count": 180,
   "metadata": {},
   "outputs": [
    {
     "data": {
      "text/plain": [
       "OrdenCompraID\n",
       "2823    6108\n",
       "5356    5594\n",
       "3130    5532\n",
       "5498    5532\n",
       "3026    5529\n",
       "        ... \n",
       "4802       1\n",
       "4810       1\n",
       "4908       1\n",
       "4835       1\n",
       "4859       1\n",
       "Name: count, Length: 5543, dtype: int64"
      ]
     },
     "execution_count": 180,
     "metadata": {},
     "output_type": "execute_result"
    }
   ],
   "source": [
    "Fact_Detalle_Compras['OrdenCompraID'].value_counts()"
   ]
  },
  {
   "cell_type": "code",
   "execution_count": 182,
   "metadata": {},
   "outputs": [
    {
     "data": {
      "text/plain": [
       "PONumber\n",
       "10936    6108\n",
       "13487    5594\n",
       "11300    5532\n",
       "13597    5532\n",
       "11191    5529\n",
       "         ... \n",
       "12887       1\n",
       "12928       1\n",
       "12990       1\n",
       "13015       1\n",
       "13002       1\n",
       "Name: count, Length: 5543, dtype: int64"
      ]
     },
     "execution_count": 182,
     "metadata": {},
     "output_type": "execute_result"
    }
   ],
   "source": [
    "Fact_Detalle_Compras['PONumber'].value_counts()"
   ]
  },
  {
   "cell_type": "code",
   "execution_count": 181,
   "metadata": {},
   "outputs": [
    {
     "data": {
      "text/plain": [
       "Index(['InventoryId', 'Store', 'Brand', 'Description', 'Size', 'VendorNumber',\n",
       "       'VendorName', 'PONumber', 'PODate', 'ReceivingDate', 'InvoiceDate',\n",
       "       'PayDate', 'PurchasePrice', 'Quantity', 'Dollars', 'Classification',\n",
       "       'OrdenCompraID'],\n",
       "      dtype='object')"
      ]
     },
     "execution_count": 181,
     "metadata": {},
     "output_type": "execute_result"
    }
   ],
   "source": [
    "Fact_Detalle_Compras.columns"
   ]
  },
  {
   "cell_type": "code",
   "execution_count": 183,
   "metadata": {},
   "outputs": [
    {
     "data": {
      "text/plain": [
       "Index(['InvoiceDate', 'PONumber', 'PODate', 'PayDate', 'Quantity', 'Dollars',\n",
       "       'Freight', 'VendorID', 'OrdenCompraID'],\n",
       "      dtype='object')"
      ]
     },
     "execution_count": 183,
     "metadata": {},
     "output_type": "execute_result"
    }
   ],
   "source": [
    "Ordenes_Compra.columns"
   ]
  },
  {
   "cell_type": "markdown",
   "metadata": {},
   "source": [
    "### Borramos columnas redundantes"
   ]
  },
  {
   "cell_type": "code",
   "execution_count": 184,
   "metadata": {},
   "outputs": [],
   "source": [
    "# Elimino las columnas redundantes\n",
    "Fact_Detalle_Compras = Fact_Detalle_Compras.drop(columns=['VendorNumber', 'VendorName', 'PONumber', 'PODate', 'InvoiceDate','PayDate'])\n"
   ]
  },
  {
   "cell_type": "code",
   "execution_count": 185,
   "metadata": {},
   "outputs": [
    {
     "data": {
      "text/plain": [
       "Index(['InventoryId', 'Store', 'Brand', 'Description', 'Size', 'ReceivingDate',\n",
       "       'PurchasePrice', 'Quantity', 'Dollars', 'Classification',\n",
       "       'OrdenCompraID'],\n",
       "      dtype='object')"
      ]
     },
     "execution_count": 185,
     "metadata": {},
     "output_type": "execute_result"
    }
   ],
   "source": [
    "Fact_Detalle_Compras.columns"
   ]
  },
  {
   "cell_type": "code",
   "execution_count": 186,
   "metadata": {},
   "outputs": [
    {
     "name": "stdout",
     "output_type": "stream",
     "text": [
      "<class 'pandas.core.frame.DataFrame'>\n",
      "RangeIndex: 2372474 entries, 0 to 2372473\n",
      "Data columns (total 11 columns):\n",
      " #   Column          Dtype  \n",
      "---  ------          -----  \n",
      " 0   InventoryId     object \n",
      " 1   Store           int64  \n",
      " 2   Brand           int64  \n",
      " 3   Description     object \n",
      " 4   Size            object \n",
      " 5   ReceivingDate   object \n",
      " 6   PurchasePrice   float64\n",
      " 7   Quantity        int64  \n",
      " 8   Dollars         float64\n",
      " 9   Classification  int64  \n",
      " 10  OrdenCompraID   int64  \n",
      "dtypes: float64(2), int64(5), object(4)\n",
      "memory usage: 199.1+ MB\n"
     ]
    }
   ],
   "source": [
    "Fact_Detalle_Compras.info()"
   ]
  },
  {
   "cell_type": "markdown",
   "metadata": {},
   "source": [
    "#### Revisamos nulos"
   ]
  },
  {
   "cell_type": "code",
   "execution_count": 187,
   "metadata": {},
   "outputs": [
    {
     "name": "stdout",
     "output_type": "stream",
     "text": [
      "Size    3\n",
      "dtype: int64\n"
     ]
    }
   ],
   "source": [
    "total_nulos_detalle_oc = Fact_Detalle_Compras.isnull().sum()[Fact_Detalle_Compras.isnull().sum()>0]\n",
    "print(total_nulos_detalle_oc)"
   ]
  },
  {
   "cell_type": "code",
   "execution_count": 188,
   "metadata": {},
   "outputs": [
    {
     "name": "stdout",
     "output_type": "stream",
     "text": [
      "                 InventoryId  Store  Brand                 Description Size  \\\n",
      "1109668    34_PITMERDEN_3121     34   3121    Pinnacle Rainbow Sherbet  NaN   \n",
      "1112426    34_PITMERDEN_5678     34   5678      Skinnygirl Pina Colada  NaN   \n",
      "1116302  39_EASTHALLOW_15365     39  15365  Alabaster 07 Tinta de Toro  NaN   \n",
      "\n",
      "        ReceivingDate  PurchasePrice  Quantity  Dollars  Classification  \\\n",
      "1109668    2016-07-04           6.93         7    48.51               1   \n",
      "1112426    2016-07-09           6.93         6    41.58               1   \n",
      "1116302    2016-07-07          91.83         1    91.83               2   \n",
      "\n",
      "         OrdenCompraID  \n",
      "1109668           2839  \n",
      "1112426           2839  \n",
      "1116302           2846  \n"
     ]
    }
   ],
   "source": [
    "print(Fact_Detalle_Compras[Fact_Detalle_Compras['Size'].isnull()])"
   ]
  },
  {
   "cell_type": "markdown",
   "metadata": {},
   "source": [
    "### Guardamos nuestras nuevas tablas DimVendor, Ordenes_Compra y Fact_Detalle_Compras"
   ]
  },
  {
   "cell_type": "code",
   "execution_count": 189,
   "metadata": {},
   "outputs": [],
   "source": [
    "Ordenes_Compra.to_csv('Dim_OrdenesCompra.csv', index=False)\n",
    "DimVendor.to_csv('Dim_Vendor.csv', index=False)\n",
    "Fact_Detalle_Compras.to_csv('Fact_DetalleCompras.csv', index=False)\n"
   ]
  },
  {
   "cell_type": "markdown",
   "metadata": {},
   "source": [
    "#### Abrimos nuestros nuevos archivos"
   ]
  },
  {
   "cell_type": "code",
   "execution_count": 191,
   "metadata": {},
   "outputs": [],
   "source": [
    "Ordenes_Compra = pd.read_csv('Dim_OrdenesCompra.csv')\n",
    "DimVendor = pd.read_csv('Dim_Vendor.csv')\n",
    "Fact_Detalle_Compras = pd.read_csv('Fact_DetalleCompras.csv')"
   ]
  },
  {
   "cell_type": "markdown",
   "metadata": {},
   "source": [
    "### Seguimos con la limpieza de Fact_Detalle_Compras"
   ]
  },
  {
   "cell_type": "code",
   "execution_count": 192,
   "metadata": {},
   "outputs": [
    {
     "name": "stdout",
     "output_type": "stream",
     "text": [
      "Size    3\n",
      "dtype: int64\n"
     ]
    }
   ],
   "source": [
    "total_nulos_detalle_compras = Fact_Detalle_Compras.isnull().sum()[Fact_Detalle_Compras.isnull().sum()>0]\n",
    "print(total_nulos_detalle_compras)"
   ]
  },
  {
   "cell_type": "code",
   "execution_count": 193,
   "metadata": {},
   "outputs": [
    {
     "data": {
      "text/html": [
       "<div>\n",
       "<style scoped>\n",
       "    .dataframe tbody tr th:only-of-type {\n",
       "        vertical-align: middle;\n",
       "    }\n",
       "\n",
       "    .dataframe tbody tr th {\n",
       "        vertical-align: top;\n",
       "    }\n",
       "\n",
       "    .dataframe thead th {\n",
       "        text-align: right;\n",
       "    }\n",
       "</style>\n",
       "<table border=\"1\" class=\"dataframe\">\n",
       "  <thead>\n",
       "    <tr style=\"text-align: right;\">\n",
       "      <th></th>\n",
       "      <th>InventoryId</th>\n",
       "      <th>Store</th>\n",
       "      <th>Brand</th>\n",
       "      <th>Description</th>\n",
       "      <th>Size</th>\n",
       "      <th>ReceivingDate</th>\n",
       "      <th>PurchasePrice</th>\n",
       "      <th>Quantity</th>\n",
       "      <th>Dollars</th>\n",
       "      <th>Classification</th>\n",
       "      <th>OrdenCompraID</th>\n",
       "    </tr>\n",
       "  </thead>\n",
       "  <tbody>\n",
       "    <tr>\n",
       "      <th>1109668</th>\n",
       "      <td>34_PITMERDEN_3121</td>\n",
       "      <td>34</td>\n",
       "      <td>3121</td>\n",
       "      <td>Pinnacle Rainbow Sherbet</td>\n",
       "      <td>NaN</td>\n",
       "      <td>2016-07-04</td>\n",
       "      <td>6.93</td>\n",
       "      <td>7</td>\n",
       "      <td>48.51</td>\n",
       "      <td>1</td>\n",
       "      <td>2839</td>\n",
       "    </tr>\n",
       "    <tr>\n",
       "      <th>1112426</th>\n",
       "      <td>34_PITMERDEN_5678</td>\n",
       "      <td>34</td>\n",
       "      <td>5678</td>\n",
       "      <td>Skinnygirl Pina Colada</td>\n",
       "      <td>NaN</td>\n",
       "      <td>2016-07-09</td>\n",
       "      <td>6.93</td>\n",
       "      <td>6</td>\n",
       "      <td>41.58</td>\n",
       "      <td>1</td>\n",
       "      <td>2839</td>\n",
       "    </tr>\n",
       "    <tr>\n",
       "      <th>1116302</th>\n",
       "      <td>39_EASTHALLOW_15365</td>\n",
       "      <td>39</td>\n",
       "      <td>15365</td>\n",
       "      <td>Alabaster 07 Tinta de Toro</td>\n",
       "      <td>NaN</td>\n",
       "      <td>2016-07-07</td>\n",
       "      <td>91.83</td>\n",
       "      <td>1</td>\n",
       "      <td>91.83</td>\n",
       "      <td>2</td>\n",
       "      <td>2846</td>\n",
       "    </tr>\n",
       "  </tbody>\n",
       "</table>\n",
       "</div>"
      ],
      "text/plain": [
       "                 InventoryId  Store  Brand                 Description Size  \\\n",
       "1109668    34_PITMERDEN_3121     34   3121    Pinnacle Rainbow Sherbet  NaN   \n",
       "1112426    34_PITMERDEN_5678     34   5678      Skinnygirl Pina Colada  NaN   \n",
       "1116302  39_EASTHALLOW_15365     39  15365  Alabaster 07 Tinta de Toro  NaN   \n",
       "\n",
       "        ReceivingDate  PurchasePrice  Quantity  Dollars  Classification  \\\n",
       "1109668    2016-07-04           6.93         7    48.51               1   \n",
       "1112426    2016-07-09           6.93         6    41.58               1   \n",
       "1116302    2016-07-07          91.83         1    91.83               2   \n",
       "\n",
       "         OrdenCompraID  \n",
       "1109668           2839  \n",
       "1112426           2839  \n",
       "1116302           2846  "
      ]
     },
     "execution_count": 193,
     "metadata": {},
     "output_type": "execute_result"
    }
   ],
   "source": [
    "Fact_Detalle_Compras[Fact_Detalle_Compras['Size'].isnull()]"
   ]
  },
  {
   "cell_type": "markdown",
   "metadata": {},
   "source": [
    "### Iniciamos la inspección de PurchasePrices"
   ]
  },
  {
   "cell_type": "code",
   "execution_count": 194,
   "metadata": {},
   "outputs": [
    {
     "data": {
      "text/plain": [
       "(12261, 9)"
      ]
     },
     "execution_count": 194,
     "metadata": {},
     "output_type": "execute_result"
    }
   ],
   "source": [
    "df_PurchasePrices.shape"
   ]
  },
  {
   "cell_type": "code",
   "execution_count": 195,
   "metadata": {},
   "outputs": [
    {
     "data": {
      "text/plain": [
       "Brand\n",
       "46964    1\n",
       "58       1\n",
       "62       1\n",
       "63       1\n",
       "72       1\n",
       "        ..\n",
       "168      1\n",
       "126      1\n",
       "115      1\n",
       "79       1\n",
       "77       1\n",
       "Name: count, Length: 12261, dtype: int64"
      ]
     },
     "execution_count": 195,
     "metadata": {},
     "output_type": "execute_result"
    }
   ],
   "source": [
    "df_PurchasePrices['Brand'].value_counts() # es la clave primaria"
   ]
  },
  {
   "cell_type": "code",
   "execution_count": 196,
   "metadata": {},
   "outputs": [
    {
     "data": {
      "text/html": [
       "<div>\n",
       "<style scoped>\n",
       "    .dataframe tbody tr th:only-of-type {\n",
       "        vertical-align: middle;\n",
       "    }\n",
       "\n",
       "    .dataframe tbody tr th {\n",
       "        vertical-align: top;\n",
       "    }\n",
       "\n",
       "    .dataframe thead th {\n",
       "        text-align: right;\n",
       "    }\n",
       "</style>\n",
       "<table border=\"1\" class=\"dataframe\">\n",
       "  <thead>\n",
       "    <tr style=\"text-align: right;\">\n",
       "      <th></th>\n",
       "      <th>Brand</th>\n",
       "      <th>Description</th>\n",
       "      <th>Price</th>\n",
       "      <th>Size</th>\n",
       "      <th>Volume</th>\n",
       "      <th>Classification</th>\n",
       "      <th>PurchasePrice</th>\n",
       "      <th>VendorNumber</th>\n",
       "      <th>VendorName</th>\n",
       "    </tr>\n",
       "  </thead>\n",
       "  <tbody>\n",
       "    <tr>\n",
       "      <th>0</th>\n",
       "      <td>58</td>\n",
       "      <td>Gekkeikan Black &amp; Gold Sake</td>\n",
       "      <td>12.99</td>\n",
       "      <td>750mL</td>\n",
       "      <td>750</td>\n",
       "      <td>1</td>\n",
       "      <td>9.28</td>\n",
       "      <td>8320</td>\n",
       "      <td>SHAW ROSS INT L IMP LTD</td>\n",
       "    </tr>\n",
       "    <tr>\n",
       "      <th>1</th>\n",
       "      <td>62</td>\n",
       "      <td>Herradura Silver Tequila</td>\n",
       "      <td>36.99</td>\n",
       "      <td>750mL</td>\n",
       "      <td>750</td>\n",
       "      <td>1</td>\n",
       "      <td>28.67</td>\n",
       "      <td>1128</td>\n",
       "      <td>BROWN-FORMAN CORP</td>\n",
       "    </tr>\n",
       "    <tr>\n",
       "      <th>2</th>\n",
       "      <td>63</td>\n",
       "      <td>Herradura Reposado Tequila</td>\n",
       "      <td>38.99</td>\n",
       "      <td>750mL</td>\n",
       "      <td>750</td>\n",
       "      <td>1</td>\n",
       "      <td>30.46</td>\n",
       "      <td>1128</td>\n",
       "      <td>BROWN-FORMAN CORP</td>\n",
       "    </tr>\n",
       "    <tr>\n",
       "      <th>3</th>\n",
       "      <td>72</td>\n",
       "      <td>No. 3 London Dry Gin</td>\n",
       "      <td>34.99</td>\n",
       "      <td>750mL</td>\n",
       "      <td>750</td>\n",
       "      <td>1</td>\n",
       "      <td>26.11</td>\n",
       "      <td>9165</td>\n",
       "      <td>ULTRA BEVERAGE COMPANY LLP</td>\n",
       "    </tr>\n",
       "    <tr>\n",
       "      <th>4</th>\n",
       "      <td>75</td>\n",
       "      <td>Three Olives Tomato Vodka</td>\n",
       "      <td>14.99</td>\n",
       "      <td>750mL</td>\n",
       "      <td>750</td>\n",
       "      <td>1</td>\n",
       "      <td>10.94</td>\n",
       "      <td>7245</td>\n",
       "      <td>PROXIMO SPIRITS INC.</td>\n",
       "    </tr>\n",
       "  </tbody>\n",
       "</table>\n",
       "</div>"
      ],
      "text/plain": [
       "   Brand                  Description  Price   Size Volume  Classification  \\\n",
       "0     58  Gekkeikan Black & Gold Sake  12.99  750mL    750               1   \n",
       "1     62     Herradura Silver Tequila  36.99  750mL    750               1   \n",
       "2     63   Herradura Reposado Tequila  38.99  750mL    750               1   \n",
       "3     72         No. 3 London Dry Gin  34.99  750mL    750               1   \n",
       "4     75    Three Olives Tomato Vodka  14.99  750mL    750               1   \n",
       "\n",
       "   PurchasePrice  VendorNumber                  VendorName  \n",
       "0           9.28          8320     SHAW ROSS INT L IMP LTD  \n",
       "1          28.67          1128           BROWN-FORMAN CORP  \n",
       "2          30.46          1128           BROWN-FORMAN CORP  \n",
       "3          26.11          9165  ULTRA BEVERAGE COMPANY LLP  \n",
       "4          10.94          7245        PROXIMO SPIRITS INC.  "
      ]
     },
     "execution_count": 196,
     "metadata": {},
     "output_type": "execute_result"
    }
   ],
   "source": [
    "df_PurchasePrices.head()"
   ]
  },
  {
   "cell_type": "code",
   "execution_count": 197,
   "metadata": {},
   "outputs": [
    {
     "name": "stdout",
     "output_type": "stream",
     "text": [
      "<class 'pandas.core.frame.DataFrame'>\n",
      "RangeIndex: 12261 entries, 0 to 12260\n",
      "Data columns (total 9 columns):\n",
      " #   Column          Non-Null Count  Dtype  \n",
      "---  ------          --------------  -----  \n",
      " 0   Brand           12261 non-null  int64  \n",
      " 1   Description     12260 non-null  object \n",
      " 2   Price           12261 non-null  float64\n",
      " 3   Size            12260 non-null  object \n",
      " 4   Volume          12260 non-null  object \n",
      " 5   Classification  12261 non-null  int64  \n",
      " 6   PurchasePrice   12261 non-null  float64\n",
      " 7   VendorNumber    12261 non-null  int64  \n",
      " 8   VendorName      12261 non-null  object \n",
      "dtypes: float64(2), int64(3), object(4)\n",
      "memory usage: 862.2+ KB\n"
     ]
    }
   ],
   "source": [
    "df_PurchasePrices.info()"
   ]
  },
  {
   "cell_type": "code",
   "execution_count": 198,
   "metadata": {},
   "outputs": [
    {
     "name": "stdout",
     "output_type": "stream",
     "text": [
      "Description    1\n",
      "Size           1\n",
      "Volume         1\n",
      "dtype: int64\n"
     ]
    }
   ],
   "source": [
    "total_nulos_pp = df_PurchasePrices.isnull().sum()[df_PurchasePrices.isnull().sum()>0]\n",
    "print(total_nulos_pp)"
   ]
  },
  {
   "cell_type": "markdown",
   "metadata": {},
   "source": [
    "#### Se identifica la fila con valores vacios"
   ]
  },
  {
   "cell_type": "code",
   "execution_count": 199,
   "metadata": {},
   "outputs": [
    {
     "data": {
      "text/html": [
       "<div>\n",
       "<style scoped>\n",
       "    .dataframe tbody tr th:only-of-type {\n",
       "        vertical-align: middle;\n",
       "    }\n",
       "\n",
       "    .dataframe tbody tr th {\n",
       "        vertical-align: top;\n",
       "    }\n",
       "\n",
       "    .dataframe thead th {\n",
       "        text-align: right;\n",
       "    }\n",
       "</style>\n",
       "<table border=\"1\" class=\"dataframe\">\n",
       "  <thead>\n",
       "    <tr style=\"text-align: right;\">\n",
       "      <th></th>\n",
       "      <th>Brand</th>\n",
       "      <th>Description</th>\n",
       "      <th>Price</th>\n",
       "      <th>Size</th>\n",
       "      <th>Volume</th>\n",
       "      <th>Classification</th>\n",
       "      <th>PurchasePrice</th>\n",
       "      <th>VendorNumber</th>\n",
       "      <th>VendorName</th>\n",
       "    </tr>\n",
       "  </thead>\n",
       "  <tbody>\n",
       "    <tr>\n",
       "      <th>7915</th>\n",
       "      <td>4202</td>\n",
       "      <td>NaN</td>\n",
       "      <td>0.0</td>\n",
       "      <td>NaN</td>\n",
       "      <td>NaN</td>\n",
       "      <td>1</td>\n",
       "      <td>11.19</td>\n",
       "      <td>480</td>\n",
       "      <td>BACARDI USA INC</td>\n",
       "    </tr>\n",
       "  </tbody>\n",
       "</table>\n",
       "</div>"
      ],
      "text/plain": [
       "      Brand Description  Price Size Volume  Classification  PurchasePrice  \\\n",
       "7915   4202         NaN    0.0  NaN    NaN               1          11.19   \n",
       "\n",
       "      VendorNumber       VendorName  \n",
       "7915           480  BACARDI USA INC  "
      ]
     },
     "execution_count": 199,
     "metadata": {},
     "output_type": "execute_result"
    }
   ],
   "source": [
    "df_PurchasePrices[df_PurchasePrices['Size'].isnull()]"
   ]
  },
  {
   "cell_type": "markdown",
   "metadata": {},
   "source": [
    "#### Reviso los datos correctos en las tablas de Inventario y ventas y compras que tambien tienen Brand"
   ]
  },
  {
   "cell_type": "code",
   "execution_count": 200,
   "metadata": {},
   "outputs": [
    {
     "name": "stdout",
     "output_type": "stream",
     "text": [
      "Empty DataFrame\n",
      "Columns: [InventoryId, Store, Brand, Description, Size, SalesQuantity, SalesDollars, SalesPrice, SalesDate, Volume, Classification, ExciseTax, VendorNo, VendorName]\n",
      "Index: []\n"
     ]
    }
   ],
   "source": [
    "# Filtrar la fila donde 'Brand' es igual a 4202\n",
    "row_brand_4202 = df_SalesFinal[df_SalesFinal['Brand'] == 4202]\n",
    "\n",
    "# Mostrar la fila\n",
    "print(row_brand_4202)\n"
   ]
  },
  {
   "cell_type": "code",
   "execution_count": 201,
   "metadata": {},
   "outputs": [
    {
     "name": "stdout",
     "output_type": "stream",
     "text": [
      "Empty DataFrame\n",
      "Columns: [InventoryId, Store, City, Brand, Description, Size, onHand, Price, startDate]\n",
      "Index: []\n"
     ]
    }
   ],
   "source": [
    "# Filtrar la fila donde 'Brand' es igual a 4202\n",
    "row_brand_4202 = df_BegInv[df_BegInv['Brand'] == 4202]\n",
    "\n",
    "# Mostrar la fila\n",
    "print(row_brand_4202)\n"
   ]
  },
  {
   "cell_type": "code",
   "execution_count": 202,
   "metadata": {},
   "outputs": [
    {
     "name": "stdout",
     "output_type": "stream",
     "text": [
      "Empty DataFrame\n",
      "Columns: [InventoryId, Store, City, Brand, Description, Size, onHand, Price, endDate]\n",
      "Index: []\n"
     ]
    }
   ],
   "source": [
    "# Filtrar la fila donde 'Brand' es igual a 4202\n",
    "row_brand_4202 = df_EndInv[df_EndInv['Brand'] == 4202]\n",
    "\n",
    "# Mostrar la fila\n",
    "print(row_brand_4202)\n"
   ]
  },
  {
   "cell_type": "code",
   "execution_count": 203,
   "metadata": {},
   "outputs": [
    {
     "name": "stdout",
     "output_type": "stream",
     "text": [
      "Empty DataFrame\n",
      "Columns: [InventoryId, Store, Brand, Description, Size, ReceivingDate, PurchasePrice, Quantity, Dollars, Classification, OrdenCompraID]\n",
      "Index: []\n"
     ]
    }
   ],
   "source": [
    "# Filtrar la fila donde 'Brand' es igual a 4202\n",
    "row_brand_4202 = Fact_Detalle_Compras[Fact_Detalle_Compras['Brand'] == 4202]\n",
    "\n",
    "# Mostrar la fila\n",
    "print(row_brand_4202)\n"
   ]
  },
  {
   "cell_type": "markdown",
   "metadata": {},
   "source": [
    "#### Conclusion: no se encuentran datos para Size = 4202"
   ]
  },
  {
   "cell_type": "markdown",
   "metadata": {},
   "source": [
    "#### Se elimina la fila que contiene Brand = 4202"
   ]
  },
  {
   "cell_type": "code",
   "execution_count": 204,
   "metadata": {},
   "outputs": [
    {
     "data": {
      "text/html": [
       "<div>\n",
       "<style scoped>\n",
       "    .dataframe tbody tr th:only-of-type {\n",
       "        vertical-align: middle;\n",
       "    }\n",
       "\n",
       "    .dataframe tbody tr th {\n",
       "        vertical-align: top;\n",
       "    }\n",
       "\n",
       "    .dataframe thead th {\n",
       "        text-align: right;\n",
       "    }\n",
       "</style>\n",
       "<table border=\"1\" class=\"dataframe\">\n",
       "  <thead>\n",
       "    <tr style=\"text-align: right;\">\n",
       "      <th></th>\n",
       "      <th>Brand</th>\n",
       "      <th>Description</th>\n",
       "      <th>Price</th>\n",
       "      <th>Size</th>\n",
       "      <th>Volume</th>\n",
       "      <th>Classification</th>\n",
       "      <th>PurchasePrice</th>\n",
       "      <th>VendorNumber</th>\n",
       "      <th>VendorName</th>\n",
       "    </tr>\n",
       "  </thead>\n",
       "  <tbody>\n",
       "  </tbody>\n",
       "</table>\n",
       "</div>"
      ],
      "text/plain": [
       "Empty DataFrame\n",
       "Columns: [Brand, Description, Price, Size, Volume, Classification, PurchasePrice, VendorNumber, VendorName]\n",
       "Index: []"
      ]
     },
     "execution_count": 204,
     "metadata": {},
     "output_type": "execute_result"
    }
   ],
   "source": [
    "# Eliminar filas donde 'Brand' es igual a 4202\n",
    "df_PurchasePrices = df_PurchasePrices[df_PurchasePrices['Brand'] != 4202]\n",
    "\n",
    "# Mostrar el DataFrame actualizado (opcional)\n",
    "df_PurchasePrices[df_PurchasePrices['Brand'].isnull()]\n"
   ]
  },
  {
   "cell_type": "code",
   "execution_count": 205,
   "metadata": {},
   "outputs": [
    {
     "name": "stdout",
     "output_type": "stream",
     "text": [
      "Series([], dtype: int64)\n"
     ]
    }
   ],
   "source": [
    "total_nulos_pp = df_PurchasePrices.isnull().sum()[df_PurchasePrices.isnull().sum()>0]\n",
    "print(total_nulos_pp)"
   ]
  },
  {
   "cell_type": "code",
   "execution_count": 207,
   "metadata": {},
   "outputs": [
    {
     "name": "stdout",
     "output_type": "stream",
     "text": [
      "Series([], dtype: int64)\n"
     ]
    }
   ],
   "source": [
    "total_nulos_pp = df_PurchasePrices.isnull().sum()[df_PurchasePrices.isnull().sum()>0]\n",
    "print(total_nulos_pp)"
   ]
  },
  {
   "cell_type": "code",
   "execution_count": 210,
   "metadata": {},
   "outputs": [
    {
     "name": "stdout",
     "output_type": "stream",
     "text": [
      "Empty DataFrame\n",
      "Columns: [Brand, Description, Price, Size, Volume, Classification, PurchasePrice, VendorNumber, VendorName]\n",
      "Index: []\n"
     ]
    }
   ],
   "source": [
    "# Detectar valores NaN en la columna 'Size'\n",
    "nan_rows = df_PurchasePrices[df_PurchasePrices['Size'].isna()]\n",
    "\n",
    "# Mostrar las filas que contienen NaN en la columna 'Size'\n",
    "print(nan_rows)\n"
   ]
  },
  {
   "cell_type": "code",
   "execution_count": 212,
   "metadata": {},
   "outputs": [
    {
     "name": "stdout",
     "output_type": "stream",
     "text": [
      "       Brand                   Description  Price     Size   Volume  \\\n",
      "542     2993             Angostura Bitters   7.49  Unknown  Unknown   \n",
      "5921    9908      Tito's Copper Mug 2 Pack  21.01  Unknown  Unknown   \n",
      "8795    8992                      Group 92   1.99  Unknown  Unknown   \n",
      "10009  90590  Overture Champagne 2Glass Pk  19.95  Unknown  Unknown   \n",
      "\n",
      "       Classification  PurchasePrice  VendorNumber             VendorName  \n",
      "542                 1           5.39          5895  Mizkan Americas, Inc.  \n",
      "5921                1          16.15          4425  MARTIGNETTI COMPANIES  \n",
      "8795                1           1.43          1703   ALISA CARR BEVERAGES  \n",
      "10009               2          13.12          4425  MARTIGNETTI COMPANIES  \n"
     ]
    }
   ],
   "source": [
    "# Detectar valores no numéricos en la columna 'Size'\n",
    "non_numeric_rows = df_PurchasePrices[pd.to_numeric(df_PurchasePrices['Volume'], errors='coerce').isna()]\n",
    "\n",
    "# Mostrar las filas con valores no numéricos en la columna 'Size'\n",
    "print(non_numeric_rows)\n"
   ]
  },
  {
   "cell_type": "markdown",
   "metadata": {},
   "source": [
    "#### Busco en otras tablas los valores correctos de Size y Volumen para Brand 2993, 9908, 8992 y 90590"
   ]
  },
  {
   "cell_type": "code",
   "execution_count": 213,
   "metadata": {},
   "outputs": [
    {
     "name": "stdout",
     "output_type": "stream",
     "text": [
      "Empty DataFrame\n",
      "Columns: [InventoryId, Store, City, Brand, Description, Size, onHand, Price, endDate]\n",
      "Index: []\n"
     ]
    }
   ],
   "source": [
    "# Filtrar la fila donde 'Brand' es igual a 2993\n",
    "row_brand_2993 = df_EndInv[df_EndInv['Brand'] == 2993]\n",
    "\n",
    "# Mostrar la fila\n",
    "print(row_brand_2993)\n"
   ]
  },
  {
   "cell_type": "code",
   "execution_count": 214,
   "metadata": {},
   "outputs": [
    {
     "name": "stdout",
     "output_type": "stream",
     "text": [
      "Empty DataFrame\n",
      "Columns: [InventoryId, Store, City, Brand, Description, Size, onHand, Price, startDate]\n",
      "Index: []\n"
     ]
    }
   ],
   "source": [
    "# Filtrar la fila donde 'Brand' es igual a 2993\n",
    "row_brand_2993 = df_BegInv[df_BegInv['Brand'] == 2993]\n",
    "\n",
    "# Mostrar la fila\n",
    "print(row_brand_2993)\n"
   ]
  },
  {
   "cell_type": "code",
   "execution_count": 215,
   "metadata": {},
   "outputs": [
    {
     "name": "stdout",
     "output_type": "stream",
     "text": [
      "Empty DataFrame\n",
      "Columns: [InventoryId, Store, Brand, Description, Size, SalesQuantity, SalesDollars, SalesPrice, SalesDate, Volume, Classification, ExciseTax, VendorNo, VendorName]\n",
      "Index: []\n"
     ]
    }
   ],
   "source": [
    "# Filtrar la fila donde 'Brand' es igual a 2993\n",
    "row_brand_2993 = df_SalesFinal[df_SalesFinal['Brand'] == 2993]\n",
    "\n",
    "# Mostrar la fila\n",
    "print(row_brand_2993)\n"
   ]
  },
  {
   "cell_type": "code",
   "execution_count": 216,
   "metadata": {},
   "outputs": [
    {
     "name": "stdout",
     "output_type": "stream",
     "text": [
      "Empty DataFrame\n",
      "Columns: [InventoryId, Store, Brand, Description, Size, ReceivingDate, PurchasePrice, Quantity, Dollars, Classification, OrdenCompraID]\n",
      "Index: []\n"
     ]
    }
   ],
   "source": [
    "# Filtrar la fila donde 'Brand' es igual a 2993\n",
    "row_brand_2993 = Fact_Detalle_Compras[Fact_Detalle_Compras['Brand'] == 2993]\n",
    "\n",
    "# Mostrar la fila\n",
    "print(row_brand_2993)\n"
   ]
  },
  {
   "cell_type": "markdown",
   "metadata": {},
   "source": [
    "#### No se encontró informacion sobre Brand 2993"
   ]
  },
  {
   "cell_type": "code",
   "execution_count": 217,
   "metadata": {},
   "outputs": [
    {
     "name": "stdout",
     "output_type": "stream",
     "text": [
      "Empty DataFrame\n",
      "Columns: [InventoryId, Store, City, Brand, Description, Size, onHand, Price, endDate]\n",
      "Index: []\n"
     ]
    }
   ],
   "source": [
    "# Filtrar la fila donde 'Brand' es igual a 9908\n",
    "row_brand_9908 = df_EndInv[df_EndInv['Brand'] == 9908]\n",
    "\n",
    "# Mostrar la fila\n",
    "print(row_brand_9908)\n"
   ]
  },
  {
   "cell_type": "code",
   "execution_count": 218,
   "metadata": {},
   "outputs": [
    {
     "name": "stdout",
     "output_type": "stream",
     "text": [
      "Empty DataFrame\n",
      "Columns: [InventoryId, Store, City, Brand, Description, Size, onHand, Price, startDate]\n",
      "Index: []\n"
     ]
    }
   ],
   "source": [
    "# Filtrar la fila donde 'Brand' es igual a 9908\n",
    "row_brand_9908 = df_BegInv[df_BegInv['Brand'] == 9908]\n",
    "\n",
    "# Mostrar la fila\n",
    "print(row_brand_9908)\n"
   ]
  },
  {
   "cell_type": "code",
   "execution_count": 219,
   "metadata": {},
   "outputs": [
    {
     "name": "stdout",
     "output_type": "stream",
     "text": [
      "Empty DataFrame\n",
      "Columns: [InventoryId, Store, Brand, Description, Size, SalesQuantity, SalesDollars, SalesPrice, SalesDate, Volume, Classification, ExciseTax, VendorNo, VendorName]\n",
      "Index: []\n"
     ]
    }
   ],
   "source": [
    "# Filtrar la fila donde 'Brand' es igual a 9908\n",
    "row_brand_9908 = df_SalesFinal[df_SalesFinal['Brand'] == 9908]\n",
    "\n",
    "# Mostrar la fila\n",
    "print(row_brand_9908)\n"
   ]
  },
  {
   "cell_type": "code",
   "execution_count": 220,
   "metadata": {},
   "outputs": [
    {
     "name": "stdout",
     "output_type": "stream",
     "text": [
      "Empty DataFrame\n",
      "Columns: [InventoryId, Store, Brand, Description, Size, ReceivingDate, PurchasePrice, Quantity, Dollars, Classification, OrdenCompraID]\n",
      "Index: []\n"
     ]
    }
   ],
   "source": [
    "# Filtrar la fila donde 'Brand' es igual a 9908\n",
    "row_brand_9908 = Fact_Detalle_Compras[Fact_Detalle_Compras['Brand'] == 9908]\n",
    "\n",
    "# Mostrar la fila\n",
    "print(row_brand_9908)\n"
   ]
  },
  {
   "cell_type": "markdown",
   "metadata": {},
   "source": [
    "#### No se encontró informacion sobre Brand 9908"
   ]
  },
  {
   "cell_type": "code",
   "execution_count": 221,
   "metadata": {},
   "outputs": [
    {
     "name": "stdout",
     "output_type": "stream",
     "text": [
      "Empty DataFrame\n",
      "Columns: [InventoryId, Store, City, Brand, Description, Size, onHand, Price, endDate]\n",
      "Index: []\n"
     ]
    }
   ],
   "source": [
    "# Filtrar la fila donde 'Brand' es igual a 8992\n",
    "row_brand_8992 = df_EndInv[df_EndInv['Brand'] == 8992]\n",
    "\n",
    "# Mostrar la fila\n",
    "print(row_brand_8992)\n"
   ]
  },
  {
   "cell_type": "code",
   "execution_count": 222,
   "metadata": {},
   "outputs": [
    {
     "name": "stdout",
     "output_type": "stream",
     "text": [
      "Empty DataFrame\n",
      "Columns: [InventoryId, Store, City, Brand, Description, Size, onHand, Price, startDate]\n",
      "Index: []\n"
     ]
    }
   ],
   "source": [
    "# Filtrar la fila donde 'Brand' es igual a 8992\n",
    "row_brand_8992 = df_BegInv[df_BegInv['Brand'] == 8992]\n",
    "\n",
    "# Mostrar la fila\n",
    "print(row_brand_8992)\n"
   ]
  },
  {
   "cell_type": "code",
   "execution_count": 223,
   "metadata": {},
   "outputs": [
    {
     "name": "stdout",
     "output_type": "stream",
     "text": [
      "Empty DataFrame\n",
      "Columns: [InventoryId, Store, Brand, Description, Size, SalesQuantity, SalesDollars, SalesPrice, SalesDate, Volume, Classification, ExciseTax, VendorNo, VendorName]\n",
      "Index: []\n"
     ]
    }
   ],
   "source": [
    "# Filtrar la fila donde 'Brand' es igual a 8992\n",
    "row_brand_8992 = df_SalesFinal[df_SalesFinal['Brand'] == 8992]\n",
    "\n",
    "# Mostrar la fila\n",
    "print(row_brand_8992)\n"
   ]
  },
  {
   "cell_type": "code",
   "execution_count": 224,
   "metadata": {},
   "outputs": [
    {
     "name": "stdout",
     "output_type": "stream",
     "text": [
      "Empty DataFrame\n",
      "Columns: [InventoryId, Store, Brand, Description, Size, ReceivingDate, PurchasePrice, Quantity, Dollars, Classification, OrdenCompraID]\n",
      "Index: []\n"
     ]
    }
   ],
   "source": [
    "# Filtrar la fila donde 'Brand' es igual a 8992\n",
    "row_brand_8992 = Fact_Detalle_Compras[Fact_Detalle_Compras['Brand'] == 8992]\n",
    "\n",
    "# Mostrar la fila\n",
    "print(row_brand_8992)\n"
   ]
  },
  {
   "cell_type": "markdown",
   "metadata": {},
   "source": [
    "#### No se encontró informacion sobre Brand 8992"
   ]
  },
  {
   "cell_type": "code",
   "execution_count": 225,
   "metadata": {},
   "outputs": [
    {
     "name": "stdout",
     "output_type": "stream",
     "text": [
      "Empty DataFrame\n",
      "Columns: [InventoryId, Store, City, Brand, Description, Size, onHand, Price, endDate]\n",
      "Index: []\n"
     ]
    }
   ],
   "source": [
    "# Filtrar la fila donde 'Brand' es igual a 90590\n",
    "row_brand_90590 = df_EndInv[df_EndInv['Brand'] == 90590]\n",
    "\n",
    "# Mostrar la fila\n",
    "print(row_brand_90590)\n"
   ]
  },
  {
   "cell_type": "code",
   "execution_count": 226,
   "metadata": {},
   "outputs": [
    {
     "name": "stdout",
     "output_type": "stream",
     "text": [
      "Empty DataFrame\n",
      "Columns: [InventoryId, Store, City, Brand, Description, Size, onHand, Price, startDate]\n",
      "Index: []\n"
     ]
    }
   ],
   "source": [
    "# Filtrar la fila donde 'Brand' es igual a 90590\n",
    "row_brand_90590 = df_BegInv[df_BegInv['Brand'] == 90590]\n",
    "\n",
    "# Mostrar la fila\n",
    "print(row_brand_90590)\n"
   ]
  },
  {
   "cell_type": "code",
   "execution_count": 227,
   "metadata": {},
   "outputs": [
    {
     "name": "stdout",
     "output_type": "stream",
     "text": [
      "Empty DataFrame\n",
      "Columns: [InventoryId, Store, Brand, Description, Size, SalesQuantity, SalesDollars, SalesPrice, SalesDate, Volume, Classification, ExciseTax, VendorNo, VendorName]\n",
      "Index: []\n"
     ]
    }
   ],
   "source": [
    "# Filtrar la fila donde 'Brand' es igual a 90590\n",
    "row_brand_90590 = df_SalesFinal[df_SalesFinal['Brand'] == 90590]\n",
    "\n",
    "# Mostrar la fila\n",
    "print(row_brand_90590)\n"
   ]
  },
  {
   "cell_type": "code",
   "execution_count": 228,
   "metadata": {},
   "outputs": [
    {
     "name": "stdout",
     "output_type": "stream",
     "text": [
      "Empty DataFrame\n",
      "Columns: [InventoryId, Store, Brand, Description, Size, ReceivingDate, PurchasePrice, Quantity, Dollars, Classification, OrdenCompraID]\n",
      "Index: []\n"
     ]
    }
   ],
   "source": [
    "# Filtrar la fila donde 'Brand' es igual a 90590\n",
    "row_brand_90590 = Fact_Detalle_Compras[Fact_Detalle_Compras['Brand'] == 90590]\n",
    "\n",
    "# Mostrar la fila\n",
    "print(row_brand_90590)\n"
   ]
  },
  {
   "cell_type": "markdown",
   "metadata": {},
   "source": [
    "#### No se encontró informacion sobre Brand 90590"
   ]
  },
  {
   "cell_type": "markdown",
   "metadata": {},
   "source": [
    "#### Conclusion: borramos todas las filas con esas brand inexistentes"
   ]
  },
  {
   "cell_type": "code",
   "execution_count": 229,
   "metadata": {},
   "outputs": [],
   "source": [
    "# Eliminar las filas con los valores 2993, 9908, 8992 y 90590 en la columna 'Brand'\n",
    "df_PurchasePrices = df_PurchasePrices[~df_PurchasePrices['Brand'].isin([2993, 9908, 8992, 90590])]\n"
   ]
  },
  {
   "cell_type": "code",
   "execution_count": 230,
   "metadata": {},
   "outputs": [
    {
     "data": {
      "text/html": [
       "<div>\n",
       "<style scoped>\n",
       "    .dataframe tbody tr th:only-of-type {\n",
       "        vertical-align: middle;\n",
       "    }\n",
       "\n",
       "    .dataframe tbody tr th {\n",
       "        vertical-align: top;\n",
       "    }\n",
       "\n",
       "    .dataframe thead th {\n",
       "        text-align: right;\n",
       "    }\n",
       "</style>\n",
       "<table border=\"1\" class=\"dataframe\">\n",
       "  <thead>\n",
       "    <tr style=\"text-align: right;\">\n",
       "      <th></th>\n",
       "      <th>Brand</th>\n",
       "      <th>Description</th>\n",
       "      <th>Price</th>\n",
       "      <th>Size</th>\n",
       "      <th>Volume</th>\n",
       "      <th>Classification</th>\n",
       "      <th>PurchasePrice</th>\n",
       "      <th>VendorNumber</th>\n",
       "      <th>VendorName</th>\n",
       "    </tr>\n",
       "  </thead>\n",
       "  <tbody>\n",
       "  </tbody>\n",
       "</table>\n",
       "</div>"
      ],
      "text/plain": [
       "Empty DataFrame\n",
       "Columns: [Brand, Description, Price, Size, Volume, Classification, PurchasePrice, VendorNumber, VendorName]\n",
       "Index: []"
      ]
     },
     "execution_count": 230,
     "metadata": {},
     "output_type": "execute_result"
    }
   ],
   "source": [
    "# Mostrar el DataFrame actualizado\n",
    "df_PurchasePrices[df_PurchasePrices['Brand'].isnull()]"
   ]
  },
  {
   "cell_type": "code",
   "execution_count": 231,
   "metadata": {},
   "outputs": [
    {
     "name": "stdout",
     "output_type": "stream",
     "text": [
      "<class 'pandas.core.frame.DataFrame'>\n",
      "Index: 12256 entries, 0 to 12260\n",
      "Data columns (total 9 columns):\n",
      " #   Column          Non-Null Count  Dtype  \n",
      "---  ------          --------------  -----  \n",
      " 0   Brand           12256 non-null  int64  \n",
      " 1   Description     12256 non-null  object \n",
      " 2   Price           12256 non-null  float64\n",
      " 3   Size            12256 non-null  object \n",
      " 4   Volume          12256 non-null  object \n",
      " 5   Classification  12256 non-null  int64  \n",
      " 6   PurchasePrice   12256 non-null  float64\n",
      " 7   VendorNumber    12256 non-null  int64  \n",
      " 8   VendorName      12256 non-null  object \n",
      "dtypes: float64(2), int64(3), object(4)\n",
      "memory usage: 957.5+ KB\n"
     ]
    }
   ],
   "source": [
    "df_PurchasePrices.info()"
   ]
  },
  {
   "cell_type": "markdown",
   "metadata": {},
   "source": [
    "#### Regresamos a analizar la tabla Detalle_Compras"
   ]
  },
  {
   "cell_type": "code",
   "execution_count": 232,
   "metadata": {},
   "outputs": [
    {
     "name": "stdout",
     "output_type": "stream",
     "text": [
      "Size    3\n",
      "dtype: int64\n"
     ]
    }
   ],
   "source": [
    "total_nulos_detalle_oc = Fact_Detalle_Compras.isnull().sum()[Fact_Detalle_Compras.isnull().sum()>0]\n",
    "print(total_nulos_detalle_oc)\n"
   ]
  },
  {
   "cell_type": "code",
   "execution_count": 233,
   "metadata": {},
   "outputs": [
    {
     "data": {
      "text/html": [
       "<div>\n",
       "<style scoped>\n",
       "    .dataframe tbody tr th:only-of-type {\n",
       "        vertical-align: middle;\n",
       "    }\n",
       "\n",
       "    .dataframe tbody tr th {\n",
       "        vertical-align: top;\n",
       "    }\n",
       "\n",
       "    .dataframe thead th {\n",
       "        text-align: right;\n",
       "    }\n",
       "</style>\n",
       "<table border=\"1\" class=\"dataframe\">\n",
       "  <thead>\n",
       "    <tr style=\"text-align: right;\">\n",
       "      <th></th>\n",
       "      <th>InventoryId</th>\n",
       "      <th>Store</th>\n",
       "      <th>Brand</th>\n",
       "      <th>Description</th>\n",
       "      <th>Size</th>\n",
       "      <th>ReceivingDate</th>\n",
       "      <th>PurchasePrice</th>\n",
       "      <th>Quantity</th>\n",
       "      <th>Dollars</th>\n",
       "      <th>Classification</th>\n",
       "      <th>OrdenCompraID</th>\n",
       "    </tr>\n",
       "  </thead>\n",
       "  <tbody>\n",
       "    <tr>\n",
       "      <th>1109668</th>\n",
       "      <td>34_PITMERDEN_3121</td>\n",
       "      <td>34</td>\n",
       "      <td>3121</td>\n",
       "      <td>Pinnacle Rainbow Sherbet</td>\n",
       "      <td>NaN</td>\n",
       "      <td>2016-07-04</td>\n",
       "      <td>6.93</td>\n",
       "      <td>7</td>\n",
       "      <td>48.51</td>\n",
       "      <td>1</td>\n",
       "      <td>2839</td>\n",
       "    </tr>\n",
       "    <tr>\n",
       "      <th>1112426</th>\n",
       "      <td>34_PITMERDEN_5678</td>\n",
       "      <td>34</td>\n",
       "      <td>5678</td>\n",
       "      <td>Skinnygirl Pina Colada</td>\n",
       "      <td>NaN</td>\n",
       "      <td>2016-07-09</td>\n",
       "      <td>6.93</td>\n",
       "      <td>6</td>\n",
       "      <td>41.58</td>\n",
       "      <td>1</td>\n",
       "      <td>2839</td>\n",
       "    </tr>\n",
       "    <tr>\n",
       "      <th>1116302</th>\n",
       "      <td>39_EASTHALLOW_15365</td>\n",
       "      <td>39</td>\n",
       "      <td>15365</td>\n",
       "      <td>Alabaster 07 Tinta de Toro</td>\n",
       "      <td>NaN</td>\n",
       "      <td>2016-07-07</td>\n",
       "      <td>91.83</td>\n",
       "      <td>1</td>\n",
       "      <td>91.83</td>\n",
       "      <td>2</td>\n",
       "      <td>2846</td>\n",
       "    </tr>\n",
       "  </tbody>\n",
       "</table>\n",
       "</div>"
      ],
      "text/plain": [
       "                 InventoryId  Store  Brand                 Description Size  \\\n",
       "1109668    34_PITMERDEN_3121     34   3121    Pinnacle Rainbow Sherbet  NaN   \n",
       "1112426    34_PITMERDEN_5678     34   5678      Skinnygirl Pina Colada  NaN   \n",
       "1116302  39_EASTHALLOW_15365     39  15365  Alabaster 07 Tinta de Toro  NaN   \n",
       "\n",
       "        ReceivingDate  PurchasePrice  Quantity  Dollars  Classification  \\\n",
       "1109668    2016-07-04           6.93         7    48.51               1   \n",
       "1112426    2016-07-09           6.93         6    41.58               1   \n",
       "1116302    2016-07-07          91.83         1    91.83               2   \n",
       "\n",
       "         OrdenCompraID  \n",
       "1109668           2839  \n",
       "1112426           2839  \n",
       "1116302           2846  "
      ]
     },
     "execution_count": 233,
     "metadata": {},
     "output_type": "execute_result"
    }
   ],
   "source": [
    "Fact_Detalle_Compras[Fact_Detalle_Compras['Size'].isnull()]"
   ]
  },
  {
   "cell_type": "markdown",
   "metadata": {},
   "source": [
    "#### Busco en otras tablas los valores correctos de Size para Brand 3121, 5678 y 15365"
   ]
  },
  {
   "cell_type": "code",
   "execution_count": 235,
   "metadata": {},
   "outputs": [
    {
     "data": {
      "text/html": [
       "<div>\n",
       "<style scoped>\n",
       "    .dataframe tbody tr th:only-of-type {\n",
       "        vertical-align: middle;\n",
       "    }\n",
       "\n",
       "    .dataframe tbody tr th {\n",
       "        vertical-align: top;\n",
       "    }\n",
       "\n",
       "    .dataframe thead th {\n",
       "        text-align: right;\n",
       "    }\n",
       "</style>\n",
       "<table border=\"1\" class=\"dataframe\">\n",
       "  <thead>\n",
       "    <tr style=\"text-align: right;\">\n",
       "      <th></th>\n",
       "      <th>Brand</th>\n",
       "      <th>Description</th>\n",
       "      <th>Price</th>\n",
       "      <th>Size</th>\n",
       "      <th>Volume</th>\n",
       "      <th>Classification</th>\n",
       "      <th>PurchasePrice</th>\n",
       "      <th>VendorNumber</th>\n",
       "      <th>VendorName</th>\n",
       "    </tr>\n",
       "  </thead>\n",
       "  <tbody>\n",
       "    <tr>\n",
       "      <th>572</th>\n",
       "      <td>3121</td>\n",
       "      <td>Pinnacle Rainbow Sherbet</td>\n",
       "      <td>9.99</td>\n",
       "      <td>750mL</td>\n",
       "      <td>750</td>\n",
       "      <td>1</td>\n",
       "      <td>6.93</td>\n",
       "      <td>12546</td>\n",
       "      <td>JIM BEAM BRANDS COMPANY</td>\n",
       "    </tr>\n",
       "  </tbody>\n",
       "</table>\n",
       "</div>"
      ],
      "text/plain": [
       "     Brand               Description  Price   Size Volume  Classification  \\\n",
       "572   3121  Pinnacle Rainbow Sherbet   9.99  750mL    750               1   \n",
       "\n",
       "     PurchasePrice  VendorNumber               VendorName  \n",
       "572           6.93         12546  JIM BEAM BRANDS COMPANY  "
      ]
     },
     "execution_count": 235,
     "metadata": {},
     "output_type": "execute_result"
    }
   ],
   "source": [
    "# Filtrar la fila donde 'Brand' es igual a 3121\n",
    "row_brand_3121 = df_PurchasePrices[df_PurchasePrices['Brand'] == 3121]\n",
    "\n",
    "# Mostrar la fila\n",
    "row_brand_3121\n"
   ]
  },
  {
   "cell_type": "markdown",
   "metadata": {},
   "source": [
    "#### Verificamos si solo hay un size para cada Brand"
   ]
  },
  {
   "cell_type": "code",
   "execution_count": 237,
   "metadata": {},
   "outputs": [
    {
     "name": "stdout",
     "output_type": "stream",
     "text": [
      "Empty DataFrame\n",
      "Columns: [Brand, Size]\n",
      "Index: []\n",
      "Numero de Brand con más de un unico Size: 0\n"
     ]
    }
   ],
   "source": [
    "# Agrupar por 'Brand' y contar los valores únicos de 'Size'\n",
    "df_grouped = df_PurchasePrices.groupby('Brand')['Size'].nunique().reset_index()\n",
    "\n",
    "# Filtrar los casos donde hay más de un valor único de 'Size'\n",
    "df_multiple_size = df_grouped[df_grouped['Size'] > 1]\n",
    "\n",
    "# Ver cuántos Brand tienen más de un Size\n",
    "count_size= df_multiple_size.shape[0]\n",
    "\n",
    "# Mostrar los Brand con más de un Size\n",
    "print(df_multiple_size[['Brand', 'Size']])\n",
    "\n",
    "# Mostrar cuántos Brand tienen más de un Size\n",
    "print(f\"Numero de Brand con más de un unico Size: {count_size}\")\n"
   ]
  },
  {
   "cell_type": "code",
   "execution_count": 240,
   "metadata": {},
   "outputs": [
    {
     "data": {
      "text/plain": [
       "Brand  Size \n",
       "3121   750mL    1\n",
       "5678   750mL    1\n",
       "15365  750mL    1\n",
       "Name: count, dtype: int64"
      ]
     },
     "execution_count": 240,
     "metadata": {},
     "output_type": "execute_result"
    }
   ],
   "source": [
    "# Filtrar las filas donde la columna 'Brand' sea igual a '3121', '5678' o '15365'\n",
    "brands_to_check = [3121, 5678, 15365]\n",
    "df_filtered = df_PurchasePrices[df_PurchasePrices['Brand'].isin(brands_to_check)]\n",
    "\n",
    "# Mostrar solo las columnas 'Brand' y 'Size' para las brands seleccionadas\n",
    "df_filtered[['Brand', 'Size']].value_counts()\n"
   ]
  },
  {
   "cell_type": "code",
   "execution_count": 241,
   "metadata": {},
   "outputs": [
    {
     "name": "stdout",
     "output_type": "stream",
     "text": [
      "<class 'pandas.core.series.Series'>\n",
      "RangeIndex: 2372474 entries, 0 to 2372473\n",
      "Series name: Size\n",
      "Non-Null Count    Dtype \n",
      "--------------    ----- \n",
      "2372474 non-null  object\n",
      "dtypes: object(1)\n",
      "memory usage: 18.1+ MB\n"
     ]
    }
   ],
   "source": [
    "# Llenar los espacios vacíos en la columna 'Size' con el valor '750mL'\n",
    "Fact_Detalle_Compras.fillna({'Size':'750mL'}, inplace=True)\n",
    "\n",
    "# Verificar que se hayan llenado los valores nulos\n",
    "Fact_Detalle_Compras['Size'].info()\n"
   ]
  },
  {
   "cell_type": "code",
   "execution_count": 242,
   "metadata": {},
   "outputs": [
    {
     "name": "stdout",
     "output_type": "stream",
     "text": [
      "Series([], dtype: int64)\n"
     ]
    }
   ],
   "source": [
    "total_nulos_detallecompras = Fact_Detalle_Compras.isnull().sum()[Fact_Detalle_Compras.isnull().sum()>0]\n",
    "print(total_nulos_detallecompras)"
   ]
  },
  {
   "cell_type": "markdown",
   "metadata": {},
   "source": [
    "### Guardamos nuestros dos archivos corregidos (llenado o retirando filas con vacios o nulos)"
   ]
  },
  {
   "cell_type": "code",
   "execution_count": 243,
   "metadata": {},
   "outputs": [],
   "source": [
    "df_PurchasePrices.to_csv('PurchasePrices.csv', index=False)\n",
    "Fact_Detalle_Compras.to_csv('Fact_DetalleCompras.csv', index=False)"
   ]
  },
  {
   "cell_type": "markdown",
   "metadata": {},
   "source": [
    "#### Abrimos nuestros nuevos archivos"
   ]
  },
  {
   "cell_type": "code",
   "execution_count": 244,
   "metadata": {},
   "outputs": [],
   "source": [
    "df_PurchasePrices= pd.read_csv('PurchasePrices.csv')\n",
    "Fact_Detalle_Compras = pd.read_csv('Fact_DetalleCompras.csv')"
   ]
  },
  {
   "cell_type": "markdown",
   "metadata": {},
   "source": [
    "### Inspeccionamos la tabla PurchasePrices para obtener la tabla Productos y vincularla con las tablas inventario y Compras y Ventas"
   ]
  },
  {
   "cell_type": "code",
   "execution_count": 245,
   "metadata": {},
   "outputs": [
    {
     "data": {
      "text/plain": [
       "(12256, 9)"
      ]
     },
     "execution_count": 245,
     "metadata": {},
     "output_type": "execute_result"
    }
   ],
   "source": [
    "df_PurchasePrices.shape"
   ]
  },
  {
   "cell_type": "code",
   "execution_count": 246,
   "metadata": {},
   "outputs": [
    {
     "data": {
      "text/plain": [
       "Index(['Brand', 'Description', 'Price', 'Size', 'Volume', 'Classification',\n",
       "       'PurchasePrice', 'VendorNumber', 'VendorName'],\n",
       "      dtype='object')"
      ]
     },
     "execution_count": 246,
     "metadata": {},
     "output_type": "execute_result"
    }
   ],
   "source": [
    "df_PurchasePrices.columns"
   ]
  },
  {
   "cell_type": "code",
   "execution_count": 247,
   "metadata": {},
   "outputs": [
    {
     "name": "stdout",
     "output_type": "stream",
     "text": [
      "<class 'pandas.core.frame.DataFrame'>\n",
      "RangeIndex: 12256 entries, 0 to 12255\n",
      "Data columns (total 9 columns):\n",
      " #   Column          Non-Null Count  Dtype  \n",
      "---  ------          --------------  -----  \n",
      " 0   Brand           12256 non-null  int64  \n",
      " 1   Description     12256 non-null  object \n",
      " 2   Price           12256 non-null  float64\n",
      " 3   Size            12256 non-null  object \n",
      " 4   Volume          12256 non-null  float64\n",
      " 5   Classification  12256 non-null  int64  \n",
      " 6   PurchasePrice   12256 non-null  float64\n",
      " 7   VendorNumber    12256 non-null  int64  \n",
      " 8   VendorName      12256 non-null  object \n",
      "dtypes: float64(3), int64(3), object(3)\n",
      "memory usage: 861.9+ KB\n"
     ]
    }
   ],
   "source": [
    "df_PurchasePrices.info()"
   ]
  },
  {
   "cell_type": "code",
   "execution_count": 248,
   "metadata": {},
   "outputs": [
    {
     "data": {
      "text/plain": [
       "Series([], dtype: int64)"
      ]
     },
     "execution_count": 248,
     "metadata": {},
     "output_type": "execute_result"
    }
   ],
   "source": [
    "total_nulos = df_PurchasePrices.isnull().sum()[df_PurchasePrices.isnull().sum()>0]\n",
    "total_nulos\n"
   ]
  },
  {
   "cell_type": "code",
   "execution_count": 249,
   "metadata": {},
   "outputs": [
    {
     "data": {
      "text/plain": [
       "Brand\n",
       "33052    1\n",
       "30117    1\n",
       "30039    1\n",
       "28050    1\n",
       "28029    1\n",
       "        ..\n",
       "75       1\n",
       "72       1\n",
       "63       1\n",
       "62       1\n",
       "58       1\n",
       "Name: count, Length: 12256, dtype: int64"
      ]
     },
     "execution_count": 249,
     "metadata": {},
     "output_type": "execute_result"
    }
   ],
   "source": [
    "df_PurchasePrices['Brand'].value_counts()"
   ]
  },
  {
   "cell_type": "code",
   "execution_count": 250,
   "metadata": {},
   "outputs": [
    {
     "data": {
      "text/plain": [
       "Classification\n",
       "2    8692\n",
       "1    3564\n",
       "Name: count, dtype: int64"
      ]
     },
     "execution_count": 250,
     "metadata": {},
     "output_type": "execute_result"
    }
   ],
   "source": [
    "df_PurchasePrices['Classification'].value_counts()"
   ]
  },
  {
   "cell_type": "code",
   "execution_count": 251,
   "metadata": {},
   "outputs": [
    {
     "data": {
      "text/plain": [
       "Description\n",
       "Jagermeister Liqueur            7\n",
       "Bacardi Superior Rum            7\n",
       "Jack Daniels No 7 Black         6\n",
       "Capt Morgan Spiced Rum          6\n",
       "Jim Beam                        6\n",
       "                               ..\n",
       "Priest Ranch Sauvignon Blanc    1\n",
       "DLD Syrah -Les Gosses           1\n",
       "Morgan Winery Albarino          1\n",
       "Chateau D'Armailhac 2014        1\n",
       "Clos Haut Peyraguey 2014        1\n",
       "Name: count, Length: 11110, dtype: int64"
      ]
     },
     "execution_count": 251,
     "metadata": {},
     "output_type": "execute_result"
    }
   ],
   "source": [
    "df_PurchasePrices['Description'].value_counts()"
   ]
  },
  {
   "cell_type": "code",
   "execution_count": 252,
   "metadata": {},
   "outputs": [
    {
     "data": {
      "text/plain": [
       "Price\n",
       "9.99      703\n",
       "12.99     641\n",
       "11.99     583\n",
       "14.99     519\n",
       "10.99     517\n",
       "         ... \n",
       "472.49      1\n",
       "221.99      1\n",
       "293.99      1\n",
       "409.99      1\n",
       "667.99      1\n",
       "Name: count, Length: 378, dtype: int64"
      ]
     },
     "execution_count": 252,
     "metadata": {},
     "output_type": "execute_result"
    }
   ],
   "source": [
    "df_PurchasePrices['Price'].value_counts()"
   ]
  },
  {
   "cell_type": "code",
   "execution_count": 253,
   "metadata": {},
   "outputs": [
    {
     "data": {
      "text/plain": [
       "PurchasePrice\n",
       "6.53      62\n",
       "6.66      59\n",
       "6.70      55\n",
       "6.84      54\n",
       "7.14      54\n",
       "          ..\n",
       "68.62      1\n",
       "72.60      1\n",
       "57.53      1\n",
       "44.21      1\n",
       "442.38     1\n",
       "Name: count, Length: 2312, dtype: int64"
      ]
     },
     "execution_count": 253,
     "metadata": {},
     "output_type": "execute_result"
    }
   ],
   "source": [
    "df_PurchasePrices['PurchasePrice'].value_counts()"
   ]
  },
  {
   "cell_type": "code",
   "execution_count": 255,
   "metadata": {},
   "outputs": [
    {
     "data": {
      "text/plain": [
       "Size\n",
       "750mL          9823\n",
       "1500mL          486\n",
       "1750mL          433\n",
       "1000mL          427\n",
       "375mL           318\n",
       "50mL            276\n",
       "3000mL          104\n",
       "187mL            52\n",
       "500mL            51\n",
       "187mL 4 Pk       48\n",
       "5000mL           44\n",
       "200mL            26\n",
       "300mL            24\n",
       "4000mL           16\n",
       "720mL            11\n",
       "1500ml           11\n",
       "100mL             8\n",
       "750mL 2 Pk        6\n",
       "250mL 4 Pk        6\n",
       "50mL 4 Pk         6\n",
       "180mL             5\n",
       "330mL             5\n",
       "50mL 3 Pk         5\n",
       "20000mL           5\n",
       "200mL 3 Pk        4\n",
       "6000mL            4\n",
       "50mL 5 Pk         4\n",
       "187mL 3 Pk        4\n",
       "375mL 2 Pk        3\n",
       "200mL 4 Pk        3\n",
       "750mL 3 Pk        3\n",
       "18000mL           3\n",
       "250mL             3\n",
       "150mL             2\n",
       "100mL 4 Pk        2\n",
       "375mL 3 Pk        2\n",
       "750mL + 3/        2\n",
       "750mL 6 Pk        2\n",
       "600mL             2\n",
       "560mL             2\n",
       "20mL 5 Pk         1\n",
       "750mL + 4/        1\n",
       "1000mL 2 Pk       1\n",
       "650mL             1\n",
       "750mL 12 P        1\n",
       "750mL + 1/        1\n",
       "50mL 12 Pk        1\n",
       "400mL             1\n",
       "162.5mL           1\n",
       "200mL 5 Pk        1\n",
       "1100ml            1\n",
       "19500mL           1\n",
       "3750mL            1\n",
       "750mL  3          1\n",
       "9000mL            1\n",
       "Name: count, dtype: int64"
      ]
     },
     "execution_count": 255,
     "metadata": {},
     "output_type": "execute_result"
    }
   ],
   "source": [
    "df_PurchasePrices['Size'].value_counts()"
   ]
  },
  {
   "cell_type": "code",
   "execution_count": 256,
   "metadata": {},
   "outputs": [
    {
     "data": {
      "text/plain": [
       "VendorName\n",
       "MARTIGNETTI COMPANIES          1637\n",
       "ULTRA BEVERAGE COMPANY LLP      965\n",
       "M S WALKER INC                  960\n",
       "PERFECTA WINES                  897\n",
       "E & J GALLO WINERY              527\n",
       "                               ... \n",
       "TRUETT HURST                      1\n",
       "STARK BREWING COMPANY             1\n",
       "AAPER ALCOHOL & CHEMICAL CO       1\n",
       "BLACK COVE BEVERAGES              1\n",
       "LOYAL DOG WINERY                  1\n",
       "Name: count, Length: 132, dtype: int64"
      ]
     },
     "execution_count": 256,
     "metadata": {},
     "output_type": "execute_result"
    }
   ],
   "source": [
    "df_PurchasePrices['VendorName'].value_counts()"
   ]
  },
  {
   "cell_type": "code",
   "execution_count": 257,
   "metadata": {},
   "outputs": [
    {
     "data": {
      "text/plain": [
       "VendorNumber\n",
       "4425     1637\n",
       "9165      965\n",
       "9552      960\n",
       "10754     897\n",
       "3252      527\n",
       "         ... \n",
       "99166       1\n",
       "9099        1\n",
       "54          1\n",
       "90059       1\n",
       "5083        1\n",
       "Name: count, Length: 130, dtype: int64"
      ]
     },
     "execution_count": 257,
     "metadata": {},
     "output_type": "execute_result"
    }
   ],
   "source": [
    "df_PurchasePrices['VendorNumber'].value_counts()"
   ]
  },
  {
   "cell_type": "code",
   "execution_count": 258,
   "metadata": {},
   "outputs": [
    {
     "data": {
      "text/plain": [
       "Volume\n",
       "750.0      9840\n",
       "1500.0      497\n",
       "1750.0      433\n",
       "1000.0      428\n",
       "375.0       323\n",
       "50.0        292\n",
       "3000.0      104\n",
       "187.0       104\n",
       "500.0        51\n",
       "5000.0       44\n",
       "200.0        34\n",
       "300.0        24\n",
       "4000.0       16\n",
       "720.0        11\n",
       "100.0        10\n",
       "250.0         9\n",
       "20000.0       5\n",
       "330.0         5\n",
       "180.0         5\n",
       "6000.0        4\n",
       "18000.0       3\n",
       "150.0         2\n",
       "560.0         2\n",
       "600.0         2\n",
       "20.0          1\n",
       "650.0         1\n",
       "400.0         1\n",
       "162.5         1\n",
       "1100.0        1\n",
       "19500.0       1\n",
       "3750.0        1\n",
       "9000.0        1\n",
       "Name: count, dtype: int64"
      ]
     },
     "execution_count": 258,
     "metadata": {},
     "output_type": "execute_result"
    }
   ],
   "source": [
    "df_PurchasePrices['Volume'].value_counts()"
   ]
  },
  {
   "cell_type": "markdown",
   "metadata": {},
   "source": [
    "#### Se detecta que hay 130 VendorNumber pero 132 VendorName, se revisa y corrige en el dataframe df_PurchasePrices"
   ]
  },
  {
   "cell_type": "code",
   "execution_count": 259,
   "metadata": {},
   "outputs": [
    {
     "name": "stdout",
     "output_type": "stream",
     "text": [
      "    VendorNumber  VendorName\n",
      "20          1587           2\n",
      "26          2000           2\n",
      "Numero de VendorNumber con más de un unico VendorName: 2\n"
     ]
    }
   ],
   "source": [
    "# Agrupar por 'VendorNumber' y contar los valores únicos de 'VendorName'\n",
    "df_grouped = df_PurchasePrices.groupby('VendorNumber')['VendorName'].nunique().reset_index()\n",
    "\n",
    "# Filtrar los casos donde hay más de un valor único de 'VendorName'\n",
    "df_multiple_vendorname = df_grouped[df_grouped['VendorName'] > 1]\n",
    "\n",
    "# Ver cuántos VendorNumber tienen más de un VendorName\n",
    "count_vendorname= df_multiple_vendorname.shape[0]\n",
    "\n",
    "# Mostrar los VendorNumber con más de un VendorName\n",
    "print(df_multiple_vendorname[['VendorNumber', 'VendorName']])\n",
    "\n",
    "# Mostrar cuántos VendorNumber tienen más de un VendorName\n",
    "print(f\"Numero de VendorNumber con más de un unico VendorName: {count_vendorname}\")\n"
   ]
  },
  {
   "cell_type": "code",
   "execution_count": 261,
   "metadata": {},
   "outputs": [
    {
     "data": {
      "text/plain": [
       "array(['SOUTHERN WINE & SPIRITS NE', 'SOUTHERN GLAZERS W&S OF NE'],\n",
       "      dtype=object)"
      ]
     },
     "execution_count": 261,
     "metadata": {},
     "output_type": "execute_result"
    }
   ],
   "source": [
    "# Filtrar la fila donde 'VendorNumber' es igual a 2000\n",
    "row_VendorNumber_2000 = df_PurchasePrices[df_PurchasePrices['VendorNumber'] == 2000]\n",
    "\n",
    "# Mostrar la fila\n",
    "row_VendorNumber_2000['VendorName'].unique()"
   ]
  },
  {
   "cell_type": "code",
   "execution_count": 262,
   "metadata": {},
   "outputs": [
    {
     "data": {
      "text/plain": [
       "array(['VINEYARD BRANDS INC', 'VINEYARD BRANDS LLC'], dtype=object)"
      ]
     },
     "execution_count": 262,
     "metadata": {},
     "output_type": "execute_result"
    }
   ],
   "source": [
    "# Filtrar la fila donde 'VendorNumber' es igual a 1587\n",
    "row_VendorNumber_1587 = df_PurchasePrices[df_PurchasePrices['VendorNumber'] == 1587]\n",
    "\n",
    "# Mostrar la fila\n",
    "row_VendorNumber_1587['VendorName'].unique()"
   ]
  },
  {
   "cell_type": "markdown",
   "metadata": {},
   "source": [
    "#### Buscamos el nombre correcto del Vendor"
   ]
  },
  {
   "cell_type": "code",
   "execution_count": 260,
   "metadata": {},
   "outputs": [
    {
     "data": {
      "text/plain": [
       "VendorNumber  VendorName                \n",
       "1587          VINEYARD BRANDS INC           1\n",
       "2000          SOUTHERN WINE & SPIRITS NE    1\n",
       "Name: count, dtype: int64"
      ]
     },
     "execution_count": 260,
     "metadata": {},
     "output_type": "execute_result"
    }
   ],
   "source": [
    "# Filtrar las filas donde la columna 'VendorNumber' sea igual a '1587' y '2000'\n",
    "names_to_check = [1587, 2000]\n",
    "df_filtered = DimVendor[DimVendor['VendorNumber'].isin(names_to_check)]\n",
    "\n",
    "# Mostrar solo las columnas 'VendorNumber' y 'VendorName' para las brands seleccionadas\n",
    "df_filtered[['VendorNumber', 'VendorName']].value_counts()\n"
   ]
  },
  {
   "cell_type": "markdown",
   "metadata": {},
   "source": [
    "#### Corregimos el nombre en df_PurchasePrices"
   ]
  },
  {
   "cell_type": "code",
   "execution_count": 263,
   "metadata": {},
   "outputs": [],
   "source": [
    "# Verificar si el nombre incorrecto está en la columna VendorName y corregirlo\n",
    "df_PurchasePrices.loc[df_PurchasePrices['VendorName'] == 'SOUTHERN GLAZERS W&S OF NE', 'VendorName'] = 'SOUTHERN WINE & SPIRITS NE'\n"
   ]
  },
  {
   "cell_type": "code",
   "execution_count": 264,
   "metadata": {},
   "outputs": [],
   "source": [
    "# Verificar si el nombre incorrecto está en la columna VendorName y corregirlo\n",
    "df_PurchasePrices.loc[df_PurchasePrices['VendorName'] == 'VINEYARD BRANDS LLC', 'VendorName'] = 'VINEYARD BRANDS INC'\n"
   ]
  },
  {
   "cell_type": "markdown",
   "metadata": {},
   "source": [
    "#### Verificamos la correccion"
   ]
  },
  {
   "cell_type": "code",
   "execution_count": 265,
   "metadata": {},
   "outputs": [
    {
     "data": {
      "text/plain": [
       "VendorNumber  VendorName                \n",
       "2000          SOUTHERN WINE & SPIRITS NE    417\n",
       "1587          VINEYARD BRANDS INC            87\n",
       "Name: count, dtype: int64"
      ]
     },
     "execution_count": 265,
     "metadata": {},
     "output_type": "execute_result"
    }
   ],
   "source": [
    "# Filtrar las filas donde la columna 'VendorNumber' sea igual a '1587' y '2000'\n",
    "names_to_check = [1587, 2000]\n",
    "df_filtered = df_PurchasePrices[df_PurchasePrices['VendorNumber'].isin(names_to_check)]\n",
    "\n",
    "# Mostrar solo las columnas 'VendorNumber' y 'VendorName' para las brands seleccionadas\n",
    "df_filtered[['VendorNumber', 'VendorName']].value_counts()\n"
   ]
  },
  {
   "cell_type": "markdown",
   "metadata": {},
   "source": [
    "### Seguimos con la revision de PurchasePrices"
   ]
  },
  {
   "cell_type": "code",
   "execution_count": 266,
   "metadata": {},
   "outputs": [
    {
     "data": {
      "text/plain": [
       "(12256, 9)"
      ]
     },
     "execution_count": 266,
     "metadata": {},
     "output_type": "execute_result"
    }
   ],
   "source": [
    "df_PurchasePrices.shape"
   ]
  },
  {
   "cell_type": "code",
   "execution_count": 267,
   "metadata": {},
   "outputs": [
    {
     "data": {
      "text/plain": [
       "Series([], dtype: int64)"
      ]
     },
     "execution_count": 267,
     "metadata": {},
     "output_type": "execute_result"
    }
   ],
   "source": [
    "total_nulos = df_PurchasePrices.isnull().sum()[df_PurchasePrices.isnull().sum()>0]\n",
    "total_nulos\n"
   ]
  },
  {
   "cell_type": "code",
   "execution_count": 268,
   "metadata": {},
   "outputs": [
    {
     "data": {
      "text/plain": [
       "Brand\n",
       "33052    1\n",
       "30117    1\n",
       "30039    1\n",
       "28050    1\n",
       "28029    1\n",
       "        ..\n",
       "75       1\n",
       "72       1\n",
       "63       1\n",
       "62       1\n",
       "58       1\n",
       "Name: count, Length: 12256, dtype: int64"
      ]
     },
     "execution_count": 268,
     "metadata": {},
     "output_type": "execute_result"
    }
   ],
   "source": [
    "df_PurchasePrices['Brand'].value_counts()"
   ]
  },
  {
   "cell_type": "code",
   "execution_count": 269,
   "metadata": {},
   "outputs": [
    {
     "data": {
      "text/plain": [
       "Index(['Brand', 'Description', 'Price', 'Size', 'Volume', 'Classification',\n",
       "       'PurchasePrice', 'VendorNumber', 'VendorName'],\n",
       "      dtype='object')"
      ]
     },
     "execution_count": 269,
     "metadata": {},
     "output_type": "execute_result"
    }
   ],
   "source": [
    "df_PurchasePrices.columns"
   ]
  },
  {
   "cell_type": "markdown",
   "metadata": {},
   "source": [
    "### Insertamos el VendorID en la tabla PurchasePrice, retiramos columnas redundantes, creamos el ID y cambiamos el nombre por tablaProducto"
   ]
  },
  {
   "cell_type": "code",
   "execution_count": 270,
   "metadata": {},
   "outputs": [],
   "source": [
    "# Realizar un merge entre PurchasePrices con DimVendor basándose en la columna VendorNumber\n",
    "Producto = df_PurchasePrices.merge(DimVendor[['VendorID','VendorNumber']], left_on='VendorNumber', right_on='VendorNumber', how='left')"
   ]
  },
  {
   "cell_type": "markdown",
   "metadata": {},
   "source": [
    "### Eliminamos columnas redundantes"
   ]
  },
  {
   "cell_type": "code",
   "execution_count": 272,
   "metadata": {},
   "outputs": [
    {
     "data": {
      "text/plain": [
       "(12256, 10)"
      ]
     },
     "execution_count": 272,
     "metadata": {},
     "output_type": "execute_result"
    }
   ],
   "source": [
    "Producto.shape"
   ]
  },
  {
   "cell_type": "code",
   "execution_count": 271,
   "metadata": {},
   "outputs": [
    {
     "data": {
      "text/plain": [
       "Index(['Brand', 'Description', 'Price', 'Size', 'Volume', 'Classification',\n",
       "       'PurchasePrice', 'VendorNumber', 'VendorName', 'VendorID'],\n",
       "      dtype='object')"
      ]
     },
     "execution_count": 271,
     "metadata": {},
     "output_type": "execute_result"
    }
   ],
   "source": [
    "Producto.columns"
   ]
  },
  {
   "cell_type": "code",
   "execution_count": 274,
   "metadata": {},
   "outputs": [],
   "source": [
    "# Elimino la columna 'VendorNumber' y 'VendorName'\n",
    "Producto = Producto.drop(columns=['VendorNumber','VendorName'])\n"
   ]
  },
  {
   "cell_type": "code",
   "execution_count": 276,
   "metadata": {},
   "outputs": [
    {
     "name": "stdout",
     "output_type": "stream",
     "text": [
      "VendorID    5\n",
      "dtype: int64\n"
     ]
    }
   ],
   "source": [
    "# Reviso si hay nulos\n",
    "total_nulos = Producto.isnull().sum()[Producto.isnull().sum()>0]\n",
    "print(total_nulos)\n"
   ]
  },
  {
   "cell_type": "code",
   "execution_count": 277,
   "metadata": {},
   "outputs": [
    {
     "data": {
      "text/html": [
       "<div>\n",
       "<style scoped>\n",
       "    .dataframe tbody tr th:only-of-type {\n",
       "        vertical-align: middle;\n",
       "    }\n",
       "\n",
       "    .dataframe tbody tr th {\n",
       "        vertical-align: top;\n",
       "    }\n",
       "\n",
       "    .dataframe thead th {\n",
       "        text-align: right;\n",
       "    }\n",
       "</style>\n",
       "<table border=\"1\" class=\"dataframe\">\n",
       "  <thead>\n",
       "    <tr style=\"text-align: right;\">\n",
       "      <th></th>\n",
       "      <th>Brand</th>\n",
       "      <th>Description</th>\n",
       "      <th>Price</th>\n",
       "      <th>Size</th>\n",
       "      <th>Volume</th>\n",
       "      <th>Classification</th>\n",
       "      <th>PurchasePrice</th>\n",
       "      <th>VendorID</th>\n",
       "    </tr>\n",
       "  </thead>\n",
       "  <tbody>\n",
       "    <tr>\n",
       "      <th>382</th>\n",
       "      <td>2539</td>\n",
       "      <td>John Barr Red Scotch Whisky</td>\n",
       "      <td>19.99</td>\n",
       "      <td>1750mL</td>\n",
       "      <td>1750.0</td>\n",
       "      <td>1</td>\n",
       "      <td>12.30</td>\n",
       "      <td>NaN</td>\n",
       "    </tr>\n",
       "    <tr>\n",
       "      <th>5017</th>\n",
       "      <td>3339</td>\n",
       "      <td>Halo Vodka</td>\n",
       "      <td>19.99</td>\n",
       "      <td>750mL</td>\n",
       "      <td>750.0</td>\n",
       "      <td>1</td>\n",
       "      <td>15.62</td>\n",
       "      <td>NaN</td>\n",
       "    </tr>\n",
       "    <tr>\n",
       "      <th>7164</th>\n",
       "      <td>4015</td>\n",
       "      <td>Ron Fortuna 8 Yr Old Rum</td>\n",
       "      <td>16.99</td>\n",
       "      <td>750mL</td>\n",
       "      <td>750.0</td>\n",
       "      <td>1</td>\n",
       "      <td>12.87</td>\n",
       "      <td>NaN</td>\n",
       "    </tr>\n",
       "    <tr>\n",
       "      <th>7628</th>\n",
       "      <td>8263</td>\n",
       "      <td>Diep 9 Passion Fruit</td>\n",
       "      <td>9.99</td>\n",
       "      <td>750mL</td>\n",
       "      <td>750.0</td>\n",
       "      <td>1</td>\n",
       "      <td>7.46</td>\n",
       "      <td>NaN</td>\n",
       "    </tr>\n",
       "    <tr>\n",
       "      <th>7638</th>\n",
       "      <td>15625</td>\n",
       "      <td>Mourvedre Bunnell Family</td>\n",
       "      <td>27.99</td>\n",
       "      <td>750mL</td>\n",
       "      <td>750.0</td>\n",
       "      <td>2</td>\n",
       "      <td>18.54</td>\n",
       "      <td>NaN</td>\n",
       "    </tr>\n",
       "  </tbody>\n",
       "</table>\n",
       "</div>"
      ],
      "text/plain": [
       "      Brand                  Description  Price    Size  Volume  \\\n",
       "382    2539  John Barr Red Scotch Whisky  19.99  1750mL  1750.0   \n",
       "5017   3339                   Halo Vodka  19.99   750mL   750.0   \n",
       "7164   4015     Ron Fortuna 8 Yr Old Rum  16.99   750mL   750.0   \n",
       "7628   8263         Diep 9 Passion Fruit   9.99   750mL   750.0   \n",
       "7638  15625     Mourvedre Bunnell Family  27.99   750mL   750.0   \n",
       "\n",
       "      Classification  PurchasePrice  VendorID  \n",
       "382                1          12.30       NaN  \n",
       "5017               1          15.62       NaN  \n",
       "7164               1          12.87       NaN  \n",
       "7628               1           7.46       NaN  \n",
       "7638               2          18.54       NaN  "
      ]
     },
     "execution_count": 277,
     "metadata": {},
     "output_type": "execute_result"
    }
   ],
   "source": [
    "# Busco donde se encuentran y reviso las filas\n",
    "Producto[Producto['VendorID'].isnull()]"
   ]
  },
  {
   "cell_type": "code",
   "execution_count": 279,
   "metadata": {},
   "outputs": [
    {
     "data": {
      "text/plain": [
       "Brand  VendorName      SalesDollars\n",
       "2539   WHYTE & MACKAY  31.98           1\n",
       "4015   BERNIKO LLC     16.99           1\n",
       "Name: count, dtype: int64"
      ]
     },
     "execution_count": 279,
     "metadata": {},
     "output_type": "execute_result"
    }
   ],
   "source": [
    "# Filtrar las filas donde la columna 'Brand' sea igual a '2539', '3339','4015', '8263' y '15625'\n",
    "brands_to_check = [2539, 3339, 4015, 8263, 15625]\n",
    "df_filtered = df_SalesFinal[df_SalesFinal['Brand'].isin(brands_to_check)]\n",
    "\n",
    "# Mostrar solo las columnas 'Brand' y 'Size' para las brands seleccionadas\n",
    "df_filtered[['Brand', 'VendorName','SalesDollars']].value_counts()\n"
   ]
  },
  {
   "cell_type": "code",
   "execution_count": 285,
   "metadata": {},
   "outputs": [
    {
     "data": {
      "text/plain": [
       "Series([], Name: count, dtype: int64)"
      ]
     },
     "execution_count": 285,
     "metadata": {},
     "output_type": "execute_result"
    }
   ],
   "source": [
    "# Filtrar las filas donde la columna 'Brand' sea igual a '2539', '3339','4015', '8263' y '15625'\n",
    "brands_to_check = [2539, 3339, 4015, 8263, 15625]\n",
    "df_filtered = Fact_Detalle_Compras[Fact_Detalle_Compras['Brand'].isin(brands_to_check)]\n",
    "\n",
    "# Mostrar solo las columnas 'Brand' y 'Size' para las brands seleccionadas\n",
    "df_filtered[['Brand', 'Dollars']].value_counts()\n"
   ]
  },
  {
   "cell_type": "markdown",
   "metadata": {},
   "source": [
    "#### Eliminamos esas brand que no tienen vendors, pues no tienen historico de compras y las ventas no son significativas para analisis"
   ]
  },
  {
   "cell_type": "code",
   "execution_count": 286,
   "metadata": {},
   "outputs": [],
   "source": [
    "# Eliminar las filas con los valores 2539, 3339, 4015, 8263, y 15625 en la columna 'Brand'\n",
    "Producto = Producto[~Producto['Brand'].isin([2539, 3339, 4015, 8263, 15625])]\n"
   ]
  },
  {
   "cell_type": "code",
   "execution_count": 287,
   "metadata": {},
   "outputs": [
    {
     "name": "stdout",
     "output_type": "stream",
     "text": [
      "Series([], dtype: int64)\n"
     ]
    }
   ],
   "source": [
    "# Reviso si hay nulos\n",
    "total_nulos = Producto.isnull().sum()[Producto.isnull().sum()>0]\n",
    "print(total_nulos)"
   ]
  },
  {
   "cell_type": "code",
   "execution_count": 288,
   "metadata": {},
   "outputs": [
    {
     "name": "stdout",
     "output_type": "stream",
     "text": [
      "Series([], dtype: int64)\n"
     ]
    }
   ],
   "source": [
    "# Reviso si hay nulos\n",
    "total_nulos = Fact_Detalle_Compras.isnull().sum()[Fact_Detalle_Compras.isnull().sum()>0]\n",
    "print(total_nulos)\n"
   ]
  },
  {
   "cell_type": "code",
   "execution_count": 289,
   "metadata": {},
   "outputs": [
    {
     "name": "stdout",
     "output_type": "stream",
     "text": [
      "Series([], dtype: int64)\n"
     ]
    }
   ],
   "source": [
    "# Reviso si hay nulos\n",
    "total_nulos = Ordenes_Compra.isnull().sum()[Ordenes_Compra.isnull().sum()>0]\n",
    "print(total_nulos)\n"
   ]
  },
  {
   "cell_type": "code",
   "execution_count": 290,
   "metadata": {},
   "outputs": [
    {
     "data": {
      "text/plain": [
       "(12251, 8)"
      ]
     },
     "execution_count": 290,
     "metadata": {},
     "output_type": "execute_result"
    }
   ],
   "source": [
    "Producto.shape"
   ]
  },
  {
   "cell_type": "code",
   "execution_count": 292,
   "metadata": {},
   "outputs": [
    {
     "name": "stdout",
     "output_type": "stream",
     "text": [
      "<class 'pandas.core.frame.DataFrame'>\n",
      "Index: 12251 entries, 0 to 12255\n",
      "Data columns (total 8 columns):\n",
      " #   Column          Non-Null Count  Dtype  \n",
      "---  ------          --------------  -----  \n",
      " 0   Brand           12251 non-null  int64  \n",
      " 1   Description     12251 non-null  object \n",
      " 2   Price           12251 non-null  float64\n",
      " 3   Size            12251 non-null  object \n",
      " 4   Volume          12251 non-null  float64\n",
      " 5   Classification  12251 non-null  int64  \n",
      " 6   PurchasePrice   12251 non-null  float64\n",
      " 7   VendorID        12251 non-null  float64\n",
      "dtypes: float64(4), int64(2), object(2)\n",
      "memory usage: 861.4+ KB\n"
     ]
    }
   ],
   "source": [
    "Producto.info()"
   ]
  },
  {
   "cell_type": "markdown",
   "metadata": {},
   "source": [
    "#### Creamos el ProductoID en la nueva dataframe Producto"
   ]
  },
  {
   "cell_type": "code",
   "execution_count": 293,
   "metadata": {},
   "outputs": [],
   "source": [
    "# Generar ProductoID en Producto\n",
    "Producto['ProductoID'] = Producto.index + 1"
   ]
  },
  {
   "cell_type": "code",
   "execution_count": 294,
   "metadata": {},
   "outputs": [
    {
     "data": {
      "text/plain": [
       "Brand\n",
       "46964    1\n",
       "58       1\n",
       "62       1\n",
       "63       1\n",
       "72       1\n",
       "        ..\n",
       "211      1\n",
       "192      1\n",
       "178      1\n",
       "175      1\n",
       "173      1\n",
       "Name: count, Length: 12251, dtype: int64"
      ]
     },
     "execution_count": 294,
     "metadata": {},
     "output_type": "execute_result"
    }
   ],
   "source": [
    "Producto['Brand'].value_counts() # Es la PK"
   ]
  },
  {
   "cell_type": "code",
   "execution_count": 295,
   "metadata": {},
   "outputs": [
    {
     "data": {
      "text/plain": [
       "Index(['Brand', 'Description', 'Price', 'Size', 'Volume', 'Classification',\n",
       "       'PurchasePrice', 'VendorID', 'ProductoID'],\n",
       "      dtype='object')"
      ]
     },
     "execution_count": 295,
     "metadata": {},
     "output_type": "execute_result"
    }
   ],
   "source": [
    "Producto.columns"
   ]
  },
  {
   "cell_type": "markdown",
   "metadata": {},
   "source": [
    "### Insertamos el ProductoID en la tabla DetalleCompras, retiramos columnas redundantes, y revisamos nulos"
   ]
  },
  {
   "cell_type": "code",
   "execution_count": 296,
   "metadata": {},
   "outputs": [],
   "source": [
    "# Realizar un merge entre Fact_DetalleCompras con Producto basándose en la columna Brand\n",
    "Fact_Detalle_Compras = Fact_Detalle_Compras.merge(Producto[['Brand','ProductoID']], left_on='Brand', right_on='Brand', how='left')"
   ]
  },
  {
   "cell_type": "markdown",
   "metadata": {},
   "source": [
    "### Eliminamos columnas redundantes"
   ]
  },
  {
   "cell_type": "code",
   "execution_count": 297,
   "metadata": {},
   "outputs": [
    {
     "data": {
      "text/plain": [
       "(2372474, 12)"
      ]
     },
     "execution_count": 297,
     "metadata": {},
     "output_type": "execute_result"
    }
   ],
   "source": [
    "Fact_Detalle_Compras.shape"
   ]
  },
  {
   "cell_type": "code",
   "execution_count": 298,
   "metadata": {},
   "outputs": [
    {
     "data": {
      "text/plain": [
       "Index(['InventoryId', 'Store', 'Brand', 'Description', 'Size', 'ReceivingDate',\n",
       "       'PurchasePrice', 'Quantity', 'Dollars', 'Classification',\n",
       "       'OrdenCompraID', 'ProductoID'],\n",
       "      dtype='object')"
      ]
     },
     "execution_count": 298,
     "metadata": {},
     "output_type": "execute_result"
    }
   ],
   "source": [
    "Fact_Detalle_Compras.columns"
   ]
  },
  {
   "cell_type": "code",
   "execution_count": 299,
   "metadata": {},
   "outputs": [],
   "source": [
    "# Elimino las columnas redundantes\n",
    "Fact_Detalle_Compras = Fact_Detalle_Compras.drop(columns=['Brand', 'Description', 'Size', 'Classification'])\n"
   ]
  },
  {
   "cell_type": "code",
   "execution_count": 301,
   "metadata": {},
   "outputs": [
    {
     "name": "stdout",
     "output_type": "stream",
     "text": [
      "Series([], dtype: int64)\n"
     ]
    }
   ],
   "source": [
    "# Reviso si hay nulos\n",
    "total_nulos = Fact_Detalle_Compras.isnull().sum()[Fact_Detalle_Compras.isnull().sum()>0]\n",
    "print(total_nulos)\n"
   ]
  },
  {
   "cell_type": "code",
   "execution_count": 302,
   "metadata": {},
   "outputs": [
    {
     "data": {
      "text/plain": [
       "Index(['InventoryId', 'Store', 'ReceivingDate', 'PurchasePrice', 'Quantity',\n",
       "       'Dollars', 'OrdenCompraID', 'ProductoID'],\n",
       "      dtype='object')"
      ]
     },
     "execution_count": 302,
     "metadata": {},
     "output_type": "execute_result"
    }
   ],
   "source": [
    "Fact_Detalle_Compras.columns"
   ]
  },
  {
   "cell_type": "code",
   "execution_count": 303,
   "metadata": {},
   "outputs": [
    {
     "data": {
      "text/plain": [
       "(2372474, 8)"
      ]
     },
     "execution_count": 303,
     "metadata": {},
     "output_type": "execute_result"
    }
   ],
   "source": [
    "Fact_Detalle_Compras.shape"
   ]
  },
  {
   "cell_type": "markdown",
   "metadata": {},
   "source": [
    "### Guardamos nuestros dos archivos modificados"
   ]
  },
  {
   "cell_type": "code",
   "execution_count": 304,
   "metadata": {},
   "outputs": [],
   "source": [
    "Producto.to_csv('Dim_Producto.csv', index=False)\n",
    "Fact_Detalle_Compras.to_csv('Fact_DetalleCompras.csv', index=False)"
   ]
  },
  {
   "cell_type": "markdown",
   "metadata": {},
   "source": [
    "### Volvemos a abrir nuestros archivos para seguir trabajando"
   ]
  },
  {
   "cell_type": "code",
   "execution_count": 305,
   "metadata": {},
   "outputs": [],
   "source": [
    "Producto= pd.read_csv('Dim_Producto.csv')\n",
    "Fact_Detalle_Compras =pd.read_csv('Fact_DetalleCompras.csv')"
   ]
  },
  {
   "cell_type": "markdown",
   "metadata": {},
   "source": [
    "### Revisamos las tablas Inventario"
   ]
  },
  {
   "cell_type": "code",
   "execution_count": 306,
   "metadata": {},
   "outputs": [
    {
     "data": {
      "text/plain": [
       "Index(['InventoryId', 'Store', 'City', 'Brand', 'Description', 'Size',\n",
       "       'onHand', 'Price', 'startDate'],\n",
       "      dtype='object')"
      ]
     },
     "execution_count": 306,
     "metadata": {},
     "output_type": "execute_result"
    }
   ],
   "source": [
    "df_BegInv.columns"
   ]
  },
  {
   "cell_type": "code",
   "execution_count": 307,
   "metadata": {},
   "outputs": [
    {
     "data": {
      "text/plain": [
       "(206529, 9)"
      ]
     },
     "execution_count": 307,
     "metadata": {},
     "output_type": "execute_result"
    }
   ],
   "source": [
    "df_BegInv.shape"
   ]
  },
  {
   "cell_type": "code",
   "execution_count": 319,
   "metadata": {},
   "outputs": [
    {
     "data": {
      "text/plain": [
       "(224489, 9)"
      ]
     },
     "execution_count": 319,
     "metadata": {},
     "output_type": "execute_result"
    }
   ],
   "source": [
    "df_EndInv.shape"
   ]
  },
  {
   "cell_type": "code",
   "execution_count": 326,
   "metadata": {},
   "outputs": [
    {
     "name": "stdout",
     "output_type": "stream",
     "text": [
      "<class 'pandas.core.frame.DataFrame'>\n",
      "RangeIndex: 206529 entries, 0 to 206528\n",
      "Data columns (total 9 columns):\n",
      " #   Column       Non-Null Count   Dtype  \n",
      "---  ------       --------------   -----  \n",
      " 0   InventoryId  206529 non-null  object \n",
      " 1   Store        206529 non-null  int64  \n",
      " 2   City         206529 non-null  object \n",
      " 3   Brand        206529 non-null  int64  \n",
      " 4   Description  206529 non-null  object \n",
      " 5   Size         206529 non-null  object \n",
      " 6   onHand       206529 non-null  int64  \n",
      " 7   Price        206529 non-null  float64\n",
      " 8   startDate    206529 non-null  object \n",
      "dtypes: float64(1), int64(3), object(5)\n",
      "memory usage: 14.2+ MB\n"
     ]
    }
   ],
   "source": [
    "df_BegInv.info()"
   ]
  },
  {
   "cell_type": "code",
   "execution_count": 327,
   "metadata": {},
   "outputs": [
    {
     "name": "stdout",
     "output_type": "stream",
     "text": [
      "<class 'pandas.core.frame.DataFrame'>\n",
      "RangeIndex: 224489 entries, 0 to 224488\n",
      "Data columns (total 9 columns):\n",
      " #   Column       Non-Null Count   Dtype  \n",
      "---  ------       --------------   -----  \n",
      " 0   InventoryId  224489 non-null  object \n",
      " 1   Store        224489 non-null  int64  \n",
      " 2   City         223205 non-null  object \n",
      " 3   Brand        224489 non-null  int64  \n",
      " 4   Description  224489 non-null  object \n",
      " 5   Size         224489 non-null  object \n",
      " 6   onHand       224489 non-null  int64  \n",
      " 7   Price        224489 non-null  float64\n",
      " 8   endDate      224489 non-null  object \n",
      "dtypes: float64(1), int64(3), object(5)\n",
      "memory usage: 15.4+ MB\n"
     ]
    }
   ],
   "source": [
    "df_EndInv.info()"
   ]
  },
  {
   "cell_type": "code",
   "execution_count": 313,
   "metadata": {},
   "outputs": [
    {
     "data": {
      "text/plain": [
       "InventoryId\n",
       "79_BALLYMENA_90089    1\n",
       "79_BALLYMENA_46568    1\n",
       "79_BALLYMENA_46551    1\n",
       "79_BALLYMENA_46489    1\n",
       "79_BALLYMENA_46476    1\n",
       "                     ..\n",
       "1_HARDERSFIELD_75     1\n",
       "1_HARDERSFIELD_72     1\n",
       "1_HARDERSFIELD_63     1\n",
       "1_HARDERSFIELD_62     1\n",
       "1_HARDERSFIELD_60     1\n",
       "Name: count, Length: 206529, dtype: int64"
      ]
     },
     "execution_count": 313,
     "metadata": {},
     "output_type": "execute_result"
    }
   ],
   "source": [
    "df_BegInv['InventoryId'].value_counts() # esta es la PK"
   ]
  },
  {
   "cell_type": "code",
   "execution_count": 320,
   "metadata": {},
   "outputs": [
    {
     "data": {
      "text/plain": [
       "InventoryId\n",
       "81_PEMBROKE_90604     1\n",
       "1_HARDERSFIELD_58     1\n",
       "1_HARDERSFIELD_62     1\n",
       "1_HARDERSFIELD_63     1\n",
       "1_HARDERSFIELD_72     1\n",
       "                     ..\n",
       "1_HARDERSFIELD_192    1\n",
       "1_HARDERSFIELD_178    1\n",
       "1_HARDERSFIELD_175    1\n",
       "1_HARDERSFIELD_171    1\n",
       "1_HARDERSFIELD_159    1\n",
       "Name: count, Length: 224489, dtype: int64"
      ]
     },
     "execution_count": 320,
     "metadata": {},
     "output_type": "execute_result"
    }
   ],
   "source": [
    "df_EndInv['InventoryId'].value_counts() # esta es la PK"
   ]
  },
  {
   "cell_type": "code",
   "execution_count": 308,
   "metadata": {},
   "outputs": [
    {
     "data": {
      "text/plain": [
       "Brand\n",
       "77       79\n",
       "8678     79\n",
       "8691     79\n",
       "3344     79\n",
       "3352     79\n",
       "         ..\n",
       "14193     1\n",
       "24229     1\n",
       "24161     1\n",
       "23288     1\n",
       "23135     1\n",
       "Name: count, Length: 8094, dtype: int64"
      ]
     },
     "execution_count": 308,
     "metadata": {},
     "output_type": "execute_result"
    }
   ],
   "source": [
    "df_BegInv['Brand'].value_counts()"
   ]
  },
  {
   "cell_type": "code",
   "execution_count": 321,
   "metadata": {},
   "outputs": [
    {
     "data": {
      "text/plain": [
       "Brand\n",
       "3654     80\n",
       "3488     80\n",
       "2122     80\n",
       "3724     80\n",
       "3502     80\n",
       "         ..\n",
       "4114      1\n",
       "3648      1\n",
       "1605      1\n",
       "24109     1\n",
       "17444     1\n",
       "Name: count, Length: 9653, dtype: int64"
      ]
     },
     "execution_count": 321,
     "metadata": {},
     "output_type": "execute_result"
    }
   ],
   "source": [
    "df_EndInv['Brand'].value_counts()"
   ]
  },
  {
   "cell_type": "code",
   "execution_count": 309,
   "metadata": {},
   "outputs": [
    {
     "data": {
      "text/plain": [
       "City\n",
       "MOUNTMEND       14264\n",
       "EANVERNESS      13011\n",
       "DONCASTER       10356\n",
       "HORNSEY          9997\n",
       "GOULCREST        7930\n",
       "                ...  \n",
       "AYLESBURY        1370\n",
       "KNIFE'S EDGE     1343\n",
       "VERITAS          1323\n",
       "LUNDY            1291\n",
       "EASTHAVEN        1225\n",
       "Name: count, Length: 67, dtype: int64"
      ]
     },
     "execution_count": 309,
     "metadata": {},
     "output_type": "execute_result"
    }
   ],
   "source": [
    "df_BegInv['City'].value_counts()"
   ]
  },
  {
   "cell_type": "code",
   "execution_count": 322,
   "metadata": {},
   "outputs": [
    {
     "data": {
      "text/plain": [
       "City\n",
       "MOUNTMEND       18065\n",
       "EANVERNESS      12879\n",
       "DONCASTER       10565\n",
       "HORNSEY         10202\n",
       "GOULCREST        8061\n",
       "                ...  \n",
       "LUTON            1425\n",
       "KNIFE'S EDGE     1398\n",
       "AYLESBURY        1366\n",
       "VERITAS          1316\n",
       "LUNDY            1302\n",
       "Name: count, Length: 67, dtype: int64"
      ]
     },
     "execution_count": 322,
     "metadata": {},
     "output_type": "execute_result"
    }
   ],
   "source": [
    "df_EndInv['City'].value_counts()"
   ]
  },
  {
   "cell_type": "code",
   "execution_count": 311,
   "metadata": {},
   "outputs": [
    {
     "data": {
      "text/plain": [
       "Store\n",
       "34    6026\n",
       "69    5400\n",
       "73    5241\n",
       "67    5179\n",
       "76    5115\n",
       "      ... \n",
       "45    1323\n",
       "16    1291\n",
       "78    1225\n",
       "28    1046\n",
       "3      481\n",
       "Name: count, Length: 79, dtype: int64"
      ]
     },
     "execution_count": 311,
     "metadata": {},
     "output_type": "execute_result"
    }
   ],
   "source": [
    "df_BegInv['Store'].value_counts()"
   ]
  },
  {
   "cell_type": "code",
   "execution_count": 325,
   "metadata": {},
   "outputs": [
    {
     "data": {
      "text/plain": [
       "Store\n",
       "50    7111\n",
       "34    6442\n",
       "69    5724\n",
       "73    5445\n",
       "74    5222\n",
       "      ... \n",
       "45    1316\n",
       "16    1302\n",
       "46    1284\n",
       "28    1049\n",
       "3      463\n",
       "Name: count, Length: 80, dtype: int64"
      ]
     },
     "execution_count": 325,
     "metadata": {},
     "output_type": "execute_result"
    }
   ],
   "source": [
    "df_EndInv['Store'].value_counts()"
   ]
  },
  {
   "cell_type": "code",
   "execution_count": 318,
   "metadata": {},
   "outputs": [
    {
     "data": {
      "text/plain": [
       "startDate\n",
       "2016-01-01    206529\n",
       "Name: count, dtype: int64"
      ]
     },
     "execution_count": 318,
     "metadata": {},
     "output_type": "execute_result"
    }
   ],
   "source": [
    "df_BegInv['startDate'].value_counts()"
   ]
  },
  {
   "cell_type": "code",
   "execution_count": 328,
   "metadata": {},
   "outputs": [
    {
     "data": {
      "text/plain": [
       "endDate\n",
       "2016-12-31    224489\n",
       "Name: count, dtype: int64"
      ]
     },
     "execution_count": 328,
     "metadata": {},
     "output_type": "execute_result"
    }
   ],
   "source": [
    "df_EndInv['endDate'].value_counts()"
   ]
  },
  {
   "cell_type": "markdown",
   "metadata": {},
   "source": [
    "### Revisamos primero los casos de la columna city con datos incompletos"
   ]
  },
  {
   "cell_type": "code",
   "execution_count": 329,
   "metadata": {},
   "outputs": [
    {
     "name": "stdout",
     "output_type": "stream",
     "text": [
      "City    1284\n",
      "dtype: int64\n"
     ]
    }
   ],
   "source": [
    "# Reviso si hay nulos\n",
    "total_nulos = df_EndInv.isnull().sum()[df_EndInv.isnull().sum()>0]\n",
    "print(total_nulos)\n"
   ]
  },
  {
   "cell_type": "code",
   "execution_count": 330,
   "metadata": {},
   "outputs": [
    {
     "data": {
      "text/html": [
       "<div>\n",
       "<style scoped>\n",
       "    .dataframe tbody tr th:only-of-type {\n",
       "        vertical-align: middle;\n",
       "    }\n",
       "\n",
       "    .dataframe tbody tr th {\n",
       "        vertical-align: top;\n",
       "    }\n",
       "\n",
       "    .dataframe thead th {\n",
       "        text-align: right;\n",
       "    }\n",
       "</style>\n",
       "<table border=\"1\" class=\"dataframe\">\n",
       "  <thead>\n",
       "    <tr style=\"text-align: right;\">\n",
       "      <th></th>\n",
       "      <th>InventoryId</th>\n",
       "      <th>Store</th>\n",
       "      <th>City</th>\n",
       "      <th>Brand</th>\n",
       "      <th>Description</th>\n",
       "      <th>Size</th>\n",
       "      <th>onHand</th>\n",
       "      <th>Price</th>\n",
       "      <th>endDate</th>\n",
       "    </tr>\n",
       "  </thead>\n",
       "  <tbody>\n",
       "    <tr>\n",
       "      <th>113895</th>\n",
       "      <td>46__58</td>\n",
       "      <td>46</td>\n",
       "      <td>NaN</td>\n",
       "      <td>58</td>\n",
       "      <td>Gekkeikan Black &amp; Gold Sake</td>\n",
       "      <td>750mL</td>\n",
       "      <td>0</td>\n",
       "      <td>12.99</td>\n",
       "      <td>2016-12-31</td>\n",
       "    </tr>\n",
       "    <tr>\n",
       "      <th>113896</th>\n",
       "      <td>46__62</td>\n",
       "      <td>46</td>\n",
       "      <td>NaN</td>\n",
       "      <td>62</td>\n",
       "      <td>Herradura Silver Tequila</td>\n",
       "      <td>750mL</td>\n",
       "      <td>0</td>\n",
       "      <td>36.99</td>\n",
       "      <td>2016-12-31</td>\n",
       "    </tr>\n",
       "    <tr>\n",
       "      <th>113897</th>\n",
       "      <td>46__63</td>\n",
       "      <td>46</td>\n",
       "      <td>NaN</td>\n",
       "      <td>63</td>\n",
       "      <td>Herradura Reposado Tequila</td>\n",
       "      <td>750mL</td>\n",
       "      <td>0</td>\n",
       "      <td>38.99</td>\n",
       "      <td>2016-12-31</td>\n",
       "    </tr>\n",
       "    <tr>\n",
       "      <th>113898</th>\n",
       "      <td>46__77</td>\n",
       "      <td>46</td>\n",
       "      <td>NaN</td>\n",
       "      <td>77</td>\n",
       "      <td>Three Olives Espresso Vodka</td>\n",
       "      <td>750mL</td>\n",
       "      <td>0</td>\n",
       "      <td>14.99</td>\n",
       "      <td>2016-12-31</td>\n",
       "    </tr>\n",
       "    <tr>\n",
       "      <th>113899</th>\n",
       "      <td>46__106</td>\n",
       "      <td>46</td>\n",
       "      <td>NaN</td>\n",
       "      <td>106</td>\n",
       "      <td>Mr Boston Peach Schnapps</td>\n",
       "      <td>Liter</td>\n",
       "      <td>0</td>\n",
       "      <td>4.49</td>\n",
       "      <td>2016-12-31</td>\n",
       "    </tr>\n",
       "    <tr>\n",
       "      <th>...</th>\n",
       "      <td>...</td>\n",
       "      <td>...</td>\n",
       "      <td>...</td>\n",
       "      <td>...</td>\n",
       "      <td>...</td>\n",
       "      <td>...</td>\n",
       "      <td>...</td>\n",
       "      <td>...</td>\n",
       "      <td>...</td>\n",
       "    </tr>\n",
       "    <tr>\n",
       "      <th>115174</th>\n",
       "      <td>46__46447</td>\n",
       "      <td>46</td>\n",
       "      <td>NaN</td>\n",
       "      <td>46447</td>\n",
       "      <td>Gascon Malbec Mendoza</td>\n",
       "      <td>750mL</td>\n",
       "      <td>0</td>\n",
       "      <td>10.99</td>\n",
       "      <td>2016-12-31</td>\n",
       "    </tr>\n",
       "    <tr>\n",
       "      <th>115175</th>\n",
       "      <td>46__46458</td>\n",
       "      <td>46</td>\n",
       "      <td>NaN</td>\n",
       "      <td>46458</td>\n",
       "      <td>Layer Cake Barosa Shiraz</td>\n",
       "      <td>750mL</td>\n",
       "      <td>0</td>\n",
       "      <td>15.99</td>\n",
       "      <td>2016-12-31</td>\n",
       "    </tr>\n",
       "    <tr>\n",
       "      <th>115176</th>\n",
       "      <td>46__46476</td>\n",
       "      <td>46</td>\n",
       "      <td>NaN</td>\n",
       "      <td>46476</td>\n",
       "      <td>Tilia Malbec Mendoza</td>\n",
       "      <td>750mL</td>\n",
       "      <td>0</td>\n",
       "      <td>9.99</td>\n",
       "      <td>2016-12-31</td>\n",
       "    </tr>\n",
       "    <tr>\n",
       "      <th>115177</th>\n",
       "      <td>46__46764</td>\n",
       "      <td>46</td>\n",
       "      <td>NaN</td>\n",
       "      <td>46764</td>\n",
       "      <td>Clayhouse Adobe Red Paso Rbl</td>\n",
       "      <td>750mL</td>\n",
       "      <td>0</td>\n",
       "      <td>11.99</td>\n",
       "      <td>2016-12-31</td>\n",
       "    </tr>\n",
       "    <tr>\n",
       "      <th>115178</th>\n",
       "      <td>46__46830</td>\n",
       "      <td>46</td>\n",
       "      <td>NaN</td>\n",
       "      <td>46830</td>\n",
       "      <td>Pacific Rim Sweet Rsl</td>\n",
       "      <td>750mL</td>\n",
       "      <td>0</td>\n",
       "      <td>8.99</td>\n",
       "      <td>2016-12-31</td>\n",
       "    </tr>\n",
       "  </tbody>\n",
       "</table>\n",
       "<p>1284 rows × 9 columns</p>\n",
       "</div>"
      ],
      "text/plain": [
       "       InventoryId  Store City  Brand                   Description   Size  \\\n",
       "113895      46__58     46  NaN     58   Gekkeikan Black & Gold Sake  750mL   \n",
       "113896      46__62     46  NaN     62      Herradura Silver Tequila  750mL   \n",
       "113897      46__63     46  NaN     63    Herradura Reposado Tequila  750mL   \n",
       "113898      46__77     46  NaN     77   Three Olives Espresso Vodka  750mL   \n",
       "113899     46__106     46  NaN    106      Mr Boston Peach Schnapps  Liter   \n",
       "...            ...    ...  ...    ...                           ...    ...   \n",
       "115174   46__46447     46  NaN  46447         Gascon Malbec Mendoza  750mL   \n",
       "115175   46__46458     46  NaN  46458      Layer Cake Barosa Shiraz  750mL   \n",
       "115176   46__46476     46  NaN  46476          Tilia Malbec Mendoza  750mL   \n",
       "115177   46__46764     46  NaN  46764  Clayhouse Adobe Red Paso Rbl  750mL   \n",
       "115178   46__46830     46  NaN  46830         Pacific Rim Sweet Rsl  750mL   \n",
       "\n",
       "        onHand  Price     endDate  \n",
       "113895       0  12.99  2016-12-31  \n",
       "113896       0  36.99  2016-12-31  \n",
       "113897       0  38.99  2016-12-31  \n",
       "113898       0  14.99  2016-12-31  \n",
       "113899       0   4.49  2016-12-31  \n",
       "...        ...    ...         ...  \n",
       "115174       0  10.99  2016-12-31  \n",
       "115175       0  15.99  2016-12-31  \n",
       "115176       0   9.99  2016-12-31  \n",
       "115177       0  11.99  2016-12-31  \n",
       "115178       0   8.99  2016-12-31  \n",
       "\n",
       "[1284 rows x 9 columns]"
      ]
     },
     "execution_count": 330,
     "metadata": {},
     "output_type": "execute_result"
    }
   ],
   "source": [
    "df_EndInv[df_EndInv['City'].isnull()]"
   ]
  },
  {
   "cell_type": "code",
   "execution_count": 332,
   "metadata": {},
   "outputs": [
    {
     "name": "stdout",
     "output_type": "stream",
     "text": [
      "Todos los valores vacíos en 'City' corresponden a la Store 46.\n"
     ]
    }
   ],
   "source": [
    "# Verificamos si la ciudad vacia es solo para la Store 46\n",
    "# Filtrar filas donde la columna 'City' está vacía (NaN)\n",
    "empty_city_rows = df_EndInv[df_EndInv['City'].isna()]\n",
    "\n",
    "# Verificar si todas las filas con 'City' vacía corresponden a 'Store' 46\n",
    "all_store_46 = empty_city_rows['Store'].eq(46).all()\n",
    "\n",
    "# Mostrar el resultado\n",
    "if all_store_46:\n",
    "    print(\"Todos los valores vacíos en 'City' corresponden a la Store 46.\")\n",
    "else:\n",
    "    print(\"No todos los valores vacíos en 'City' corresponden a la Store 46.\")\n"
   ]
  },
  {
   "cell_type": "markdown",
   "metadata": {},
   "source": [
    "### Buscamos un valor de City para Store 46 y rellenamos los vacios"
   ]
  },
  {
   "cell_type": "code",
   "execution_count": 337,
   "metadata": {},
   "outputs": [],
   "source": [
    "# Filtrar las filas donde 'Store' es 46 y 'City' no es NaN (valor válido)\n",
    "valid_city_for_store_46 = df_BegInv.loc[(df_BegInv['Store'] == 46) & (df_BegInv['City'].notna()), 'City'].unique()\n"
   ]
  },
  {
   "cell_type": "code",
   "execution_count": 338,
   "metadata": {},
   "outputs": [
    {
     "name": "stdout",
     "output_type": "stream",
     "text": [
      "['TYWARDREATH']\n"
     ]
    }
   ],
   "source": [
    "print(valid_city_for_store_46)"
   ]
  },
  {
   "cell_type": "code",
   "execution_count": 339,
   "metadata": {},
   "outputs": [
    {
     "name": "stdout",
     "output_type": "stream",
     "text": [
      "Los valores vacíos de 'City' para Store 46 se han rellenado con: TYWARDREATH\n"
     ]
    }
   ],
   "source": [
    "# Rellenar los valores vacíos en 'City' para 'Store' 46 con el valor correcto\n",
    "df_EndInv.loc[(df_EndInv['Store'] == 46) & (df_EndInv['City'].isna()), 'City'] = 'TYWARDREATH'\n",
    "\n",
    "print(f\"Los valores vacíos de 'City' para Store 46 se han rellenado con: {'TYWARDREATH'}\")"
   ]
  },
  {
   "cell_type": "code",
   "execution_count": 340,
   "metadata": {},
   "outputs": [
    {
     "name": "stdout",
     "output_type": "stream",
     "text": [
      "Series([], dtype: int64)\n"
     ]
    }
   ],
   "source": [
    "# Reviso si hay nulos\n",
    "total_nulos = df_EndInv.isnull().sum()[df_EndInv.isnull().sum()>0]\n",
    "print(total_nulos)\n"
   ]
  },
  {
   "cell_type": "code",
   "execution_count": 341,
   "metadata": {},
   "outputs": [
    {
     "data": {
      "text/plain": [
       "array(['TYWARDREATH'], dtype=object)"
      ]
     },
     "execution_count": 341,
     "metadata": {},
     "output_type": "execute_result"
    }
   ],
   "source": [
    "# Filtrar nuevamente la fila donde 'Store' es igual a 46\n",
    "row_Store_46 = df_EndInv[df_EndInv['Store'] == 46]\n",
    "\n",
    "# Mostrar la fila\n",
    "row_Store_46['City'].unique()"
   ]
  },
  {
   "cell_type": "code",
   "execution_count": 343,
   "metadata": {},
   "outputs": [
    {
     "data": {
      "text/plain": [
       "array(['46__58', '46__62', '46__63', ..., '46__46476', '46__46764',\n",
       "       '46__46830'], dtype=object)"
      ]
     },
     "execution_count": 343,
     "metadata": {},
     "output_type": "execute_result"
    }
   ],
   "source": [
    "# Revisar el InventoryId que no queda unido correctamente con la City 'Tywardreath'\n",
    "# Filtrar nuevamente la fila donde 'Store' es igual a 46\n",
    "row_Store_46 = df_EndInv[df_EndInv['Store'] == 46]\n",
    "\n",
    "# Mostrar la fila\n",
    "row_Store_46['InventoryId'].unique()"
   ]
  },
  {
   "cell_type": "markdown",
   "metadata": {},
   "source": [
    "### Guardamos nuestros avances con el dataframe df_EndInv"
   ]
  },
  {
   "cell_type": "code",
   "execution_count": 344,
   "metadata": {},
   "outputs": [],
   "source": [
    "df_EndInv.to_csv('Dim_Inventario_end_year.csv', index=False)"
   ]
  },
  {
   "cell_type": "markdown",
   "metadata": {},
   "source": [
    "### Abrimos nuevamente"
   ]
  },
  {
   "cell_type": "code",
   "execution_count": 345,
   "metadata": {},
   "outputs": [],
   "source": [
    "df_EndInv= pd.read_csv('Dim_Inventario_end_year.csv')"
   ]
  },
  {
   "cell_type": "markdown",
   "metadata": {},
   "source": [
    "### Revisamos la tabla Producto para insertala en Detalle Ventas e Inventario"
   ]
  },
  {
   "cell_type": "code",
   "execution_count": 368,
   "metadata": {},
   "outputs": [
    {
     "data": {
      "text/plain": [
       "Index(['Brand', 'Description', 'Price', 'Size', 'Volume', 'Classification',\n",
       "       'PurchasePrice', 'VendorID', 'ProductoID'],\n",
       "      dtype='object')"
      ]
     },
     "execution_count": 368,
     "metadata": {},
     "output_type": "execute_result"
    }
   ],
   "source": [
    "Producto.columns"
   ]
  },
  {
   "cell_type": "code",
   "execution_count": 374,
   "metadata": {},
   "outputs": [
    {
     "data": {
      "text/plain": [
       "Index(['InventoryId', 'Store', 'City', 'Brand', 'Description', 'Size',\n",
       "       'onHand', 'Price', 'endDate'],\n",
       "      dtype='object')"
      ]
     },
     "execution_count": 374,
     "metadata": {},
     "output_type": "execute_result"
    }
   ],
   "source": [
    "df_EndInv.columns"
   ]
  },
  {
   "cell_type": "code",
   "execution_count": 375,
   "metadata": {},
   "outputs": [
    {
     "data": {
      "text/plain": [
       "Index(['InventoryId', 'Store', 'City', 'Brand', 'Description', 'Size',\n",
       "       'onHand', 'Price', 'startDate'],\n",
       "      dtype='object')"
      ]
     },
     "execution_count": 375,
     "metadata": {},
     "output_type": "execute_result"
    }
   ],
   "source": [
    "df_BegInv.columns"
   ]
  },
  {
   "cell_type": "code",
   "execution_count": 379,
   "metadata": {},
   "outputs": [
    {
     "name": "stdout",
     "output_type": "stream",
     "text": [
      "Series([], dtype: int64)\n"
     ]
    }
   ],
   "source": [
    "total_nulos_inv = df_EndInv.isnull().sum()[df_EndInv.isnull().sum()>0]\n",
    "print(total_nulos_inv)"
   ]
  },
  {
   "cell_type": "code",
   "execution_count": 380,
   "metadata": {},
   "outputs": [
    {
     "name": "stdout",
     "output_type": "stream",
     "text": [
      "Series([], dtype: int64)\n"
     ]
    }
   ],
   "source": [
    "total_nulos_inv = df_BegInv.isnull().sum()[df_BegInv.isnull().sum()>0]\n",
    "print(total_nulos_inv)"
   ]
  },
  {
   "cell_type": "code",
   "execution_count": 376,
   "metadata": {},
   "outputs": [
    {
     "data": {
      "text/plain": [
       "Index(['InventoryId', 'Store', 'Brand', 'Description', 'Size', 'SalesQuantity',\n",
       "       'SalesDollars', 'SalesPrice', 'SalesDate', 'Volume', 'Classification',\n",
       "       'ExciseTax', 'VendorNo', 'VendorName'],\n",
       "      dtype='object')"
      ]
     },
     "execution_count": 376,
     "metadata": {},
     "output_type": "execute_result"
    }
   ],
   "source": [
    "df_SalesFinal.columns"
   ]
  },
  {
   "cell_type": "code",
   "execution_count": 377,
   "metadata": {},
   "outputs": [
    {
     "name": "stdout",
     "output_type": "stream",
     "text": [
      "<class 'pandas.core.frame.DataFrame'>\n",
      "RangeIndex: 1048575 entries, 0 to 1048574\n",
      "Data columns (total 14 columns):\n",
      " #   Column          Non-Null Count    Dtype  \n",
      "---  ------          --------------    -----  \n",
      " 0   InventoryId     1048575 non-null  object \n",
      " 1   Store           1048575 non-null  int64  \n",
      " 2   Brand           1048575 non-null  int64  \n",
      " 3   Description     1048575 non-null  object \n",
      " 4   Size            1048575 non-null  object \n",
      " 5   SalesQuantity   1048575 non-null  int64  \n",
      " 6   SalesDollars    1048575 non-null  float64\n",
      " 7   SalesPrice      1048575 non-null  float64\n",
      " 8   SalesDate       1048575 non-null  object \n",
      " 9   Volume          1048575 non-null  int64  \n",
      " 10  Classification  1048575 non-null  int64  \n",
      " 11  ExciseTax       1048575 non-null  float64\n",
      " 12  VendorNo        1048575 non-null  int64  \n",
      " 13  VendorName      1048575 non-null  object \n",
      "dtypes: float64(3), int64(6), object(5)\n",
      "memory usage: 112.0+ MB\n"
     ]
    }
   ],
   "source": [
    "df_SalesFinal.info()"
   ]
  },
  {
   "cell_type": "code",
   "execution_count": 378,
   "metadata": {},
   "outputs": [
    {
     "name": "stdout",
     "output_type": "stream",
     "text": [
      "Series([], dtype: int64)\n"
     ]
    }
   ],
   "source": [
    "total_nulos_salesfinal = df_SalesFinal.isnull().sum()[df_SalesFinal.isnull().sum()>0]\n",
    "print(total_nulos_salesfinal)"
   ]
  },
  {
   "cell_type": "markdown",
   "metadata": {},
   "source": [
    "#### Inserto ProductoID en BegInv, EndInv, SalesFinal (y se les cambia el nombre a las 3 tablas)"
   ]
  },
  {
   "cell_type": "code",
   "execution_count": 382,
   "metadata": {},
   "outputs": [],
   "source": [
    "# Realizar un merge entre Producto y BegInv, EndInv y SalesFinal basándose en Brand\n",
    "Fact_Detalle_Ventas = df_SalesFinal.merge(Producto[['ProductoID','Brand']], left_on='Brand', right_on='Brand', how='left')\n",
    "DimInv_EndYear = df_EndInv.merge(Producto[['ProductoID','Brand']], left_on='Brand', right_on='Brand', how='left')\n",
    "DimInv_BegYear = df_BegInv.merge(Producto[['ProductoID','Brand']], left_on='Brand', right_on='Brand', how='left')\n"
   ]
  },
  {
   "cell_type": "markdown",
   "metadata": {},
   "source": [
    "#### Eliminamos las columnas redundantes"
   ]
  },
  {
   "cell_type": "code",
   "execution_count": 383,
   "metadata": {},
   "outputs": [],
   "source": [
    "# Elimino las columnas redundantes\n",
    "Fact_Detalle_Ventas = Fact_Detalle_Ventas.drop(columns=['Brand', 'Description', 'Size', 'Volume', 'Classification','VendorNo', 'VendorName'])\n",
    "DimInv_EndYear = DimInv_EndYear.drop(columns=['Brand', 'Description', 'Size', 'Price'])\n",
    "DimInv_BegYear = DimInv_BegYear.drop(columns=['Brand', 'Description', 'Size', 'Price'])\n",
    "\n"
   ]
  },
  {
   "cell_type": "markdown",
   "metadata": {},
   "source": [
    "#### Reviso que no tengan nulos, En caso de tener nulos, los eliminamos"
   ]
  },
  {
   "cell_type": "code",
   "execution_count": 384,
   "metadata": {},
   "outputs": [
    {
     "name": "stdout",
     "output_type": "stream",
     "text": [
      "ProductoID    2\n",
      "dtype: int64\n"
     ]
    }
   ],
   "source": [
    "\n",
    "total_nulos_ventas = Fact_Detalle_Ventas.isnull().sum()[Fact_Detalle_Ventas.isnull().sum()>0]\n",
    "print(total_nulos_ventas)"
   ]
  },
  {
   "cell_type": "code",
   "execution_count": 386,
   "metadata": {},
   "outputs": [
    {
     "name": "stdout",
     "output_type": "stream",
     "text": [
      "Series([], dtype: int64)\n"
     ]
    }
   ],
   "source": [
    "total_nulos_endinv = DimInv_EndYear.isnull().sum()[DimInv_EndYear.isnull().sum()>0]\n",
    "print(total_nulos_endinv)\n"
   ]
  },
  {
   "cell_type": "code",
   "execution_count": 387,
   "metadata": {},
   "outputs": [
    {
     "name": "stdout",
     "output_type": "stream",
     "text": [
      "ProductoID    3\n",
      "dtype: int64\n"
     ]
    }
   ],
   "source": [
    "total_nulos_beginv = DimInv_BegYear.isnull().sum()[DimInv_BegYear.isnull().sum()>0]\n",
    "print(total_nulos_beginv)\n"
   ]
  },
  {
   "cell_type": "markdown",
   "metadata": {},
   "source": [
    "#### Revisamos los que tienen nulos y los eliminamos de ser necesario"
   ]
  },
  {
   "cell_type": "code",
   "execution_count": 391,
   "metadata": {},
   "outputs": [
    {
     "data": {
      "text/html": [
       "<div>\n",
       "<style scoped>\n",
       "    .dataframe tbody tr th:only-of-type {\n",
       "        vertical-align: middle;\n",
       "    }\n",
       "\n",
       "    .dataframe tbody tr th {\n",
       "        vertical-align: top;\n",
       "    }\n",
       "\n",
       "    .dataframe thead th {\n",
       "        text-align: right;\n",
       "    }\n",
       "</style>\n",
       "<table border=\"1\" class=\"dataframe\">\n",
       "  <thead>\n",
       "    <tr style=\"text-align: right;\">\n",
       "      <th></th>\n",
       "      <th>InventoryId</th>\n",
       "      <th>Store</th>\n",
       "      <th>SalesQuantity</th>\n",
       "      <th>SalesDollars</th>\n",
       "      <th>SalesPrice</th>\n",
       "      <th>SalesDate</th>\n",
       "      <th>ExciseTax</th>\n",
       "      <th>ProductoID</th>\n",
       "    </tr>\n",
       "  </thead>\n",
       "  <tbody>\n",
       "    <tr>\n",
       "      <th>374815</th>\n",
       "      <td>41_LARNWICK_2539</td>\n",
       "      <td>41</td>\n",
       "      <td>2</td>\n",
       "      <td>31.98</td>\n",
       "      <td>15.99</td>\n",
       "      <td>1/11/2016</td>\n",
       "      <td>3.67</td>\n",
       "      <td>NaN</td>\n",
       "    </tr>\n",
       "    <tr>\n",
       "      <th>873327</th>\n",
       "      <td>76_DONCASTER_4015</td>\n",
       "      <td>76</td>\n",
       "      <td>1</td>\n",
       "      <td>16.99</td>\n",
       "      <td>16.99</td>\n",
       "      <td>1/29/2016</td>\n",
       "      <td>0.79</td>\n",
       "      <td>NaN</td>\n",
       "    </tr>\n",
       "  </tbody>\n",
       "</table>\n",
       "</div>"
      ],
      "text/plain": [
       "              InventoryId  Store  SalesQuantity  SalesDollars  SalesPrice  \\\n",
       "374815   41_LARNWICK_2539     41              2         31.98       15.99   \n",
       "873327  76_DONCASTER_4015     76              1         16.99       16.99   \n",
       "\n",
       "        SalesDate  ExciseTax  ProductoID  \n",
       "374815  1/11/2016       3.67         NaN  \n",
       "873327  1/29/2016       0.79         NaN  "
      ]
     },
     "execution_count": 391,
     "metadata": {},
     "output_type": "execute_result"
    }
   ],
   "source": [
    "# Filtrar las filas donde 'ProductoID' es nulo (NaN)\n",
    "filas_nulas_productoID = Fact_Detalle_Ventas[Fact_Detalle_Ventas['ProductoID'].isnull()]\n",
    "\n",
    "# Mostrar las filas\n",
    "filas_nulas_productoID\n"
   ]
  },
  {
   "cell_type": "code",
   "execution_count": 392,
   "metadata": {},
   "outputs": [
    {
     "data": {
      "text/html": [
       "<div>\n",
       "<style scoped>\n",
       "    .dataframe tbody tr th:only-of-type {\n",
       "        vertical-align: middle;\n",
       "    }\n",
       "\n",
       "    .dataframe tbody tr th {\n",
       "        vertical-align: top;\n",
       "    }\n",
       "\n",
       "    .dataframe thead th {\n",
       "        text-align: right;\n",
       "    }\n",
       "</style>\n",
       "<table border=\"1\" class=\"dataframe\">\n",
       "  <thead>\n",
       "    <tr style=\"text-align: right;\">\n",
       "      <th></th>\n",
       "      <th>InventoryId</th>\n",
       "      <th>Store</th>\n",
       "      <th>City</th>\n",
       "      <th>onHand</th>\n",
       "      <th>startDate</th>\n",
       "      <th>ProductoID</th>\n",
       "    </tr>\n",
       "  </thead>\n",
       "  <tbody>\n",
       "    <tr>\n",
       "      <th>81186</th>\n",
       "      <td>34_PITMERDEN_15625</td>\n",
       "      <td>34</td>\n",
       "      <td>PITMERDEN</td>\n",
       "      <td>2</td>\n",
       "      <td>2016-01-01</td>\n",
       "      <td>NaN</td>\n",
       "    </tr>\n",
       "    <tr>\n",
       "      <th>98426</th>\n",
       "      <td>41_LARNWICK_2539</td>\n",
       "      <td>41</td>\n",
       "      <td>LARNWICK</td>\n",
       "      <td>2</td>\n",
       "      <td>2016-01-01</td>\n",
       "      <td>NaN</td>\n",
       "    </tr>\n",
       "    <tr>\n",
       "      <th>195641</th>\n",
       "      <td>76_DONCASTER_4015</td>\n",
       "      <td>76</td>\n",
       "      <td>DONCASTER</td>\n",
       "      <td>1</td>\n",
       "      <td>2016-01-01</td>\n",
       "      <td>NaN</td>\n",
       "    </tr>\n",
       "  </tbody>\n",
       "</table>\n",
       "</div>"
      ],
      "text/plain": [
       "               InventoryId  Store       City  onHand   startDate  ProductoID\n",
       "81186   34_PITMERDEN_15625     34  PITMERDEN       2  2016-01-01         NaN\n",
       "98426     41_LARNWICK_2539     41   LARNWICK       2  2016-01-01         NaN\n",
       "195641   76_DONCASTER_4015     76  DONCASTER       1  2016-01-01         NaN"
      ]
     },
     "execution_count": 392,
     "metadata": {},
     "output_type": "execute_result"
    }
   ],
   "source": [
    "# Filtrar las filas donde 'ProductoID' es nulo (NaN)\n",
    "filas_nulas_productoID2 = DimInv_BegYear[DimInv_BegYear['ProductoID'].isnull()]\n",
    "\n",
    "# Mostrar las filas\n",
    "filas_nulas_productoID2\n"
   ]
  },
  {
   "cell_type": "markdown",
   "metadata": {},
   "source": [
    "#### Elimino los Nulos"
   ]
  },
  {
   "cell_type": "code",
   "execution_count": 393,
   "metadata": {},
   "outputs": [],
   "source": [
    "# Eliminar las filas donde 'ProductoID' es nulo\n",
    "Fact_Detalle_Ventas = Fact_Detalle_Ventas.dropna(subset=['ProductoID'])\n",
    "DimInv_BegYear = DimInv_BegYear.dropna(subset=['ProductoID'])\n"
   ]
  },
  {
   "cell_type": "code",
   "execution_count": 394,
   "metadata": {},
   "outputs": [
    {
     "name": "stdout",
     "output_type": "stream",
     "text": [
      "Series([], dtype: int64)\n"
     ]
    }
   ],
   "source": [
    "total_nulos_ventas = Fact_Detalle_Ventas.isnull().sum()[Fact_Detalle_Ventas.isnull().sum()>0]\n",
    "print(total_nulos_ventas)"
   ]
  },
  {
   "cell_type": "code",
   "execution_count": 395,
   "metadata": {},
   "outputs": [
    {
     "name": "stdout",
     "output_type": "stream",
     "text": [
      "Series([], dtype: int64)\n"
     ]
    }
   ],
   "source": [
    "total_nulos_beginv = DimInv_BegYear.isnull().sum()[DimInv_BegYear.isnull().sum()>0]\n",
    "print(total_nulos_beginv)\n"
   ]
  },
  {
   "cell_type": "code",
   "execution_count": 396,
   "metadata": {},
   "outputs": [
    {
     "data": {
      "text/plain": [
       "Index(['InventoryId', 'Store', 'SalesQuantity', 'SalesDollars', 'SalesPrice',\n",
       "       'SalesDate', 'ExciseTax', 'ProductoID'],\n",
       "      dtype='object')"
      ]
     },
     "execution_count": 396,
     "metadata": {},
     "output_type": "execute_result"
    }
   ],
   "source": [
    "Fact_Detalle_Ventas.columns"
   ]
  },
  {
   "cell_type": "code",
   "execution_count": 397,
   "metadata": {},
   "outputs": [
    {
     "data": {
      "text/plain": [
       "Index(['InventoryId', 'Store', 'City', 'onHand', 'startDate', 'ProductoID'], dtype='object')"
      ]
     },
     "execution_count": 397,
     "metadata": {},
     "output_type": "execute_result"
    }
   ],
   "source": [
    "DimInv_BegYear.columns"
   ]
  },
  {
   "cell_type": "code",
   "execution_count": 398,
   "metadata": {},
   "outputs": [
    {
     "data": {
      "text/plain": [
       "Index(['InventoryId', 'Store', 'City', 'onHand', 'endDate', 'ProductoID'], dtype='object')"
      ]
     },
     "execution_count": 398,
     "metadata": {},
     "output_type": "execute_result"
    }
   ],
   "source": [
    "DimInv_EndYear.columns"
   ]
  },
  {
   "cell_type": "code",
   "execution_count": 399,
   "metadata": {},
   "outputs": [
    {
     "data": {
      "text/plain": [
       "Index(['Brand', 'Description', 'Price', 'Size', 'Volume', 'Classification',\n",
       "       'PurchasePrice', 'VendorID', 'ProductoID'],\n",
       "      dtype='object')"
      ]
     },
     "execution_count": 399,
     "metadata": {},
     "output_type": "execute_result"
    }
   ],
   "source": [
    "Producto.columns"
   ]
  },
  {
   "cell_type": "markdown",
   "metadata": {},
   "source": [
    "## Revisamos los tipos de datos de nuestras tablas"
   ]
  },
  {
   "cell_type": "code",
   "execution_count": 408,
   "metadata": {},
   "outputs": [
    {
     "data": {
      "text/plain": [
       "InventoryId     object\n",
       "Store            int64\n",
       "City            object\n",
       "onHand           int64\n",
       "startDate       object\n",
       "ProductoID     float64\n",
       "dtype: object"
      ]
     },
     "execution_count": 408,
     "metadata": {},
     "output_type": "execute_result"
    }
   ],
   "source": [
    "DimInv_BegYear.dtypes"
   ]
  },
  {
   "cell_type": "code",
   "execution_count": 402,
   "metadata": {},
   "outputs": [
    {
     "data": {
      "text/plain": [
       "InventoryId    object\n",
       "Store           int64\n",
       "City           object\n",
       "onHand          int64\n",
       "endDate        object\n",
       "ProductoID      int64\n",
       "dtype: object"
      ]
     },
     "execution_count": 402,
     "metadata": {},
     "output_type": "execute_result"
    }
   ],
   "source": [
    "DimInv_EndYear.dtypes"
   ]
  },
  {
   "cell_type": "code",
   "execution_count": 403,
   "metadata": {},
   "outputs": [
    {
     "data": {
      "text/plain": [
       "VendorNumber     int64\n",
       "VendorName      object\n",
       "VendorID         int64\n",
       "dtype: object"
      ]
     },
     "execution_count": 403,
     "metadata": {},
     "output_type": "execute_result"
    }
   ],
   "source": [
    "DimVendor.dtypes"
   ]
  },
  {
   "cell_type": "code",
   "execution_count": 404,
   "metadata": {},
   "outputs": [
    {
     "data": {
      "text/plain": [
       "InvoiceDate       object\n",
       "PONumber           int64\n",
       "PODate            object\n",
       "PayDate           object\n",
       "Quantity           int64\n",
       "Dollars          float64\n",
       "Freight          float64\n",
       "VendorID           int64\n",
       "OrdenCompraID      int64\n",
       "dtype: object"
      ]
     },
     "execution_count": 404,
     "metadata": {},
     "output_type": "execute_result"
    }
   ],
   "source": [
    "Ordenes_Compra.dtypes"
   ]
  },
  {
   "cell_type": "code",
   "execution_count": 405,
   "metadata": {},
   "outputs": [
    {
     "data": {
      "text/plain": [
       "Brand               int64\n",
       "Description        object\n",
       "Price             float64\n",
       "Size               object\n",
       "Volume            float64\n",
       "Classification      int64\n",
       "PurchasePrice     float64\n",
       "VendorID          float64\n",
       "ProductoID          int64\n",
       "dtype: object"
      ]
     },
     "execution_count": 405,
     "metadata": {},
     "output_type": "execute_result"
    }
   ],
   "source": [
    "Producto.dtypes"
   ]
  },
  {
   "cell_type": "code",
   "execution_count": 406,
   "metadata": {},
   "outputs": [
    {
     "data": {
      "text/plain": [
       "InventoryId       object\n",
       "Store              int64\n",
       "SalesQuantity      int64\n",
       "SalesDollars     float64\n",
       "SalesPrice       float64\n",
       "SalesDate         object\n",
       "ExciseTax        float64\n",
       "ProductoID       float64\n",
       "dtype: object"
      ]
     },
     "execution_count": 406,
     "metadata": {},
     "output_type": "execute_result"
    }
   ],
   "source": [
    "Fact_Detalle_Ventas.dtypes"
   ]
  },
  {
   "cell_type": "code",
   "execution_count": 407,
   "metadata": {},
   "outputs": [
    {
     "data": {
      "text/plain": [
       "InventoryId       object\n",
       "Store              int64\n",
       "ReceivingDate     object\n",
       "PurchasePrice    float64\n",
       "Quantity           int64\n",
       "Dollars          float64\n",
       "OrdenCompraID      int64\n",
       "ProductoID         int64\n",
       "dtype: object"
      ]
     },
     "execution_count": 407,
     "metadata": {},
     "output_type": "execute_result"
    }
   ],
   "source": [
    "Fact_Detalle_Compras.dtypes"
   ]
  },
  {
   "cell_type": "markdown",
   "metadata": {},
   "source": [
    "### Cambiar a tipo fecha las columnas de mis dataframes"
   ]
  },
  {
   "cell_type": "code",
   "execution_count": null,
   "metadata": {},
   "outputs": [],
   "source": [
    "# Convertir todas las columnas que contienen 'Date' en su nombre a formato de fecha\n",
    "Fact_Detalle_Ventas[Fact_Detalle_Ventas.columns[Fact_Detalle_Ventas.columns.str.contains('Date')]] = Fact_Detalle_Ventas[Fact_Detalle_Ventas.columns[Fact_Detalle_Ventas.columns.str.contains('Date')]].apply(pd.to_datetime)\n",
    "Fact_Detalle_Compras[Fact_Detalle_Compras.columns[Fact_Detalle_Compras.columns.str.contains('Date')]] = Fact_Detalle_Compras[Fact_Detalle_Compras.columns[Fact_Detalle_Compras.columns.str.contains('Date')]].apply(pd.to_datetime)\n",
    "Ordenes_Compra[Ordenes_Compra.columns[Ordenes_Compra.columns.str.contains('Date')]] = Ordenes_Compra[Ordenes_Compra.columns[Ordenes_Compra.columns.str.contains('Date')]].apply(pd.to_datetime)\n",
    "DimInv_BegYear[DimInv_BegYear.columns[DimInv_BegYear.columns.str.contains('Date')]] = DimInv_BegYear[DimInv_BegYear.columns[DimInv_BegYear.columns.str.contains('Date')]].apply(pd.to_datetime)\n",
    "DimInv_EndYear[DimInv_EndYear.columns[DimInv_EndYear.columns.str.contains('Date')]] = DimInv_EndYear[DimInv_EndYear.columns[DimInv_EndYear.columns.str.contains('Date')]].apply(pd.to_datetime)\n",
    "\n"
   ]
  },
  {
   "cell_type": "markdown",
   "metadata": {},
   "source": [
    "#### Eliminamos una columna redundante adicional en Detalle_Compras"
   ]
  },
  {
   "cell_type": "code",
   "execution_count": 411,
   "metadata": {},
   "outputs": [],
   "source": [
    "# Elimino las columnas redundantes\n",
    "Fact_Detalle_Compras = Fact_Detalle_Compras.drop(columns=['PurchasePrice' ])"
   ]
  },
  {
   "cell_type": "markdown",
   "metadata": {},
   "source": [
    "### Cambiar a tipo entero algunas columnas"
   ]
  },
  {
   "cell_type": "code",
   "execution_count": null,
   "metadata": {},
   "outputs": [],
   "source": [
    "# Redondear los valores de las columnas y luego convertir a int64\n",
    "Fact_Detalle_Ventas['ProductoID'] = Fact_Detalle_Ventas['ProductoID'].round().astype('int64')\n",
    "DimInv_BegYear['ProductoID'] = DimInv_BegYear['ProductoID'].round().astype('int64')\n"
   ]
  },
  {
   "cell_type": "markdown",
   "metadata": {},
   "source": [
    "### Revisamos nuevamente los tipos de tados de nuestras tablas"
   ]
  },
  {
   "cell_type": "code",
   "execution_count": 422,
   "metadata": {},
   "outputs": [
    {
     "data": {
      "text/plain": [
       "InventoryId            object\n",
       "Store                   int64\n",
       "City                   object\n",
       "onHand                  int64\n",
       "startDate      datetime64[ns]\n",
       "ProductoID              int64\n",
       "dtype: object"
      ]
     },
     "execution_count": 422,
     "metadata": {},
     "output_type": "execute_result"
    }
   ],
   "source": [
    "DimInv_BegYear.dtypes"
   ]
  },
  {
   "cell_type": "code",
   "execution_count": 423,
   "metadata": {},
   "outputs": [
    {
     "data": {
      "text/plain": [
       "InventoryId            object\n",
       "Store                   int64\n",
       "City                   object\n",
       "onHand                  int64\n",
       "endDate        datetime64[ns]\n",
       "ProductoID              int64\n",
       "dtype: object"
      ]
     },
     "execution_count": 423,
     "metadata": {},
     "output_type": "execute_result"
    }
   ],
   "source": [
    "DimInv_EndYear.dtypes"
   ]
  },
  {
   "cell_type": "code",
   "execution_count": 424,
   "metadata": {},
   "outputs": [
    {
     "data": {
      "text/plain": [
       "VendorNumber     int64\n",
       "VendorName      object\n",
       "VendorID         int64\n",
       "dtype: object"
      ]
     },
     "execution_count": 424,
     "metadata": {},
     "output_type": "execute_result"
    }
   ],
   "source": [
    "DimVendor.dtypes"
   ]
  },
  {
   "cell_type": "code",
   "execution_count": 425,
   "metadata": {},
   "outputs": [
    {
     "data": {
      "text/plain": [
       "InvoiceDate      datetime64[ns]\n",
       "PONumber                  int64\n",
       "PODate           datetime64[ns]\n",
       "PayDate          datetime64[ns]\n",
       "Quantity                  int64\n",
       "Dollars                 float64\n",
       "Freight                 float64\n",
       "VendorID                  int64\n",
       "OrdenCompraID             int64\n",
       "dtype: object"
      ]
     },
     "execution_count": 425,
     "metadata": {},
     "output_type": "execute_result"
    }
   ],
   "source": [
    "Ordenes_Compra.dtypes"
   ]
  },
  {
   "cell_type": "code",
   "execution_count": 426,
   "metadata": {},
   "outputs": [
    {
     "data": {
      "text/plain": [
       "Brand               int64\n",
       "Description        object\n",
       "Price             float64\n",
       "Size               object\n",
       "Volume            float64\n",
       "Classification      int64\n",
       "PurchasePrice     float64\n",
       "VendorID          float64\n",
       "ProductoID          int64\n",
       "dtype: object"
      ]
     },
     "execution_count": 426,
     "metadata": {},
     "output_type": "execute_result"
    }
   ],
   "source": [
    "Producto.dtypes"
   ]
  },
  {
   "cell_type": "code",
   "execution_count": 427,
   "metadata": {},
   "outputs": [
    {
     "data": {
      "text/plain": [
       "InventoryId              object\n",
       "Store                     int64\n",
       "SalesQuantity             int64\n",
       "SalesDollars            float64\n",
       "SalesPrice              float64\n",
       "SalesDate        datetime64[ns]\n",
       "ExciseTax               float64\n",
       "ProductoID                int64\n",
       "dtype: object"
      ]
     },
     "execution_count": 427,
     "metadata": {},
     "output_type": "execute_result"
    }
   ],
   "source": [
    "Fact_Detalle_Ventas.dtypes"
   ]
  },
  {
   "cell_type": "code",
   "execution_count": 428,
   "metadata": {},
   "outputs": [
    {
     "data": {
      "text/plain": [
       "InventoryId              object\n",
       "Store                     int64\n",
       "ReceivingDate    datetime64[ns]\n",
       "Quantity                  int64\n",
       "Dollars                 float64\n",
       "OrdenCompraID             int64\n",
       "ProductoID                int64\n",
       "dtype: object"
      ]
     },
     "execution_count": 428,
     "metadata": {},
     "output_type": "execute_result"
    }
   ],
   "source": [
    "Fact_Detalle_Compras.dtypes"
   ]
  },
  {
   "cell_type": "markdown",
   "metadata": {},
   "source": [
    "## Guardar todas nuestras tablas"
   ]
  },
  {
   "cell_type": "code",
   "execution_count": 429,
   "metadata": {},
   "outputs": [],
   "source": [
    "DimVendor.to_csv('Dim_Vendor.csv',index=False)\n",
    "DimInv_BegYear.to_csv('Fact_InvInicioYear.csv',index=False)\n",
    "DimInv_EndYear.to_csv('Fact_InvFinYear.csv',index=False)\n",
    "Ordenes_Compra.to_csv('Dim_OC.csv',index=False)\n",
    "Producto.to_csv('Dim_Producto.csv',index=False)\n",
    "Fact_Detalle_Ventas.to_csv('Fact_Ventas.csv',index=False)\n",
    "Fact_Detalle_Compras.to_csv('Fact_Compras.csv',index=False)\n",
    "\n"
   ]
  },
  {
   "cell_type": "markdown",
   "metadata": {},
   "source": [
    "### Modificacion a la tabla Orden_Compra"
   ]
  },
  {
   "cell_type": "code",
   "execution_count": 2,
   "metadata": {},
   "outputs": [],
   "source": [
    "Ordenes_Compra=pd.read_csv('Dim_OC.csv')"
   ]
  },
  {
   "cell_type": "code",
   "execution_count": 4,
   "metadata": {},
   "outputs": [
    {
     "data": {
      "text/plain": [
       "Index(['InvoiceDate', 'PONumber', 'PODate', 'PayDate', 'Quantity', 'Dollars',\n",
       "       'Freight', 'VendorID', 'OrdenCompraID'],\n",
       "      dtype='object')"
      ]
     },
     "execution_count": 4,
     "metadata": {},
     "output_type": "execute_result"
    }
   ],
   "source": [
    "Ordenes_Compra.columns"
   ]
  },
  {
   "cell_type": "code",
   "execution_count": 3,
   "metadata": {},
   "outputs": [],
   "source": [
    "DimVendor=pd.read_csv('Dim_Vendor.csv')"
   ]
  },
  {
   "cell_type": "code",
   "execution_count": 5,
   "metadata": {},
   "outputs": [
    {
     "data": {
      "text/plain": [
       "Index(['VendorNumber', 'VendorName', 'VendorID'], dtype='object')"
      ]
     },
     "execution_count": 5,
     "metadata": {},
     "output_type": "execute_result"
    }
   ],
   "source": [
    "DimVendor.columns"
   ]
  },
  {
   "cell_type": "code",
   "execution_count": 6,
   "metadata": {},
   "outputs": [],
   "source": [
    "# Realizar un merge entre df_PurchasesFinal y df_SalesFinal y Detalle_brand basándose en BrandID y Brand\n",
    "Ordenes_Compra = Ordenes_Compra.merge(DimVendor[['VendorNumber', 'VendorName', 'VendorID']], left_on='VendorID', right_on='VendorID', how='left')\n"
   ]
  },
  {
   "cell_type": "code",
   "execution_count": 7,
   "metadata": {},
   "outputs": [
    {
     "data": {
      "text/plain": [
       "Index(['InvoiceDate', 'PONumber', 'PODate', 'PayDate', 'Quantity', 'Dollars',\n",
       "       'Freight', 'VendorID', 'OrdenCompraID', 'VendorNumber', 'VendorName'],\n",
       "      dtype='object')"
      ]
     },
     "execution_count": 7,
     "metadata": {},
     "output_type": "execute_result"
    }
   ],
   "source": [
    "Ordenes_Compra.columns"
   ]
  },
  {
   "cell_type": "markdown",
   "metadata": {},
   "source": [
    "#### Borramos columna VendorID"
   ]
  },
  {
   "cell_type": "code",
   "execution_count": 8,
   "metadata": {},
   "outputs": [],
   "source": [
    "Ordenes_Compra = Ordenes_Compra.drop(columns=['VendorID'])"
   ]
  },
  {
   "cell_type": "code",
   "execution_count": 9,
   "metadata": {},
   "outputs": [
    {
     "data": {
      "text/plain": [
       "Index(['InvoiceDate', 'PONumber', 'PODate', 'PayDate', 'Quantity', 'Dollars',\n",
       "       'Freight', 'OrdenCompraID', 'VendorNumber', 'VendorName'],\n",
       "      dtype='object')"
      ]
     },
     "execution_count": 9,
     "metadata": {},
     "output_type": "execute_result"
    }
   ],
   "source": [
    "Ordenes_Compra.columns"
   ]
  },
  {
   "cell_type": "markdown",
   "metadata": {},
   "source": [
    "#### Verificamos si hay nulos"
   ]
  },
  {
   "cell_type": "code",
   "execution_count": 10,
   "metadata": {},
   "outputs": [
    {
     "name": "stdout",
     "output_type": "stream",
     "text": [
      "Series([], dtype: int64)\n"
     ]
    }
   ],
   "source": [
    "total_nulos_oc = Ordenes_Compra.isnull().sum()[Ordenes_Compra.isnull().sum()>0]\n",
    "print(total_nulos_oc)\n"
   ]
  },
  {
   "cell_type": "markdown",
   "metadata": {},
   "source": [
    "#### Verificamos tipos de columnas"
   ]
  },
  {
   "cell_type": "code",
   "execution_count": 11,
   "metadata": {},
   "outputs": [
    {
     "data": {
      "text/plain": [
       "InvoiceDate       object\n",
       "PONumber           int64\n",
       "PODate            object\n",
       "PayDate           object\n",
       "Quantity           int64\n",
       "Dollars          float64\n",
       "Freight          float64\n",
       "OrdenCompraID      int64\n",
       "VendorNumber       int64\n",
       "VendorName        object\n",
       "dtype: object"
      ]
     },
     "execution_count": 11,
     "metadata": {},
     "output_type": "execute_result"
    }
   ],
   "source": [
    "Ordenes_Compra.dtypes"
   ]
  },
  {
   "cell_type": "markdown",
   "metadata": {},
   "source": [
    "#### Cambiamos tipos de Datos a Fecha"
   ]
  },
  {
   "cell_type": "code",
   "execution_count": 12,
   "metadata": {},
   "outputs": [],
   "source": [
    "# Convertir todas las columnas que contienen 'Date' en su nombre a formato de fecha\n",
    "Ordenes_Compra[Ordenes_Compra.columns[Ordenes_Compra.columns.str.contains('Date')]] = Ordenes_Compra[Ordenes_Compra.columns[Ordenes_Compra.columns.str.contains('Date')]].apply(pd.to_datetime)\n"
   ]
  },
  {
   "cell_type": "markdown",
   "metadata": {},
   "source": [
    "#### Verificamos nuevamente tipo de datos"
   ]
  },
  {
   "cell_type": "code",
   "execution_count": 13,
   "metadata": {},
   "outputs": [
    {
     "data": {
      "text/plain": [
       "InvoiceDate      datetime64[ns]\n",
       "PONumber                  int64\n",
       "PODate           datetime64[ns]\n",
       "PayDate          datetime64[ns]\n",
       "Quantity                  int64\n",
       "Dollars                 float64\n",
       "Freight                 float64\n",
       "OrdenCompraID             int64\n",
       "VendorNumber              int64\n",
       "VendorName               object\n",
       "dtype: object"
      ]
     },
     "execution_count": 13,
     "metadata": {},
     "output_type": "execute_result"
    }
   ],
   "source": [
    "Ordenes_Compra.dtypes"
   ]
  },
  {
   "cell_type": "markdown",
   "metadata": {},
   "source": [
    "### Guardamos nuestra tabla Ordenes_Compra"
   ]
  },
  {
   "cell_type": "code",
   "execution_count": 14,
   "metadata": {},
   "outputs": [],
   "source": [
    "Ordenes_Compra.to_csv('Dim_OC.csv',index=False)"
   ]
  },
  {
   "cell_type": "markdown",
   "metadata": {},
   "source": [
    "### Modificacion del tipo de dato de la tabla Producto"
   ]
  },
  {
   "cell_type": "code",
   "execution_count": 1,
   "metadata": {},
   "outputs": [],
   "source": [
    "import pandas as pd"
   ]
  },
  {
   "cell_type": "code",
   "execution_count": 2,
   "metadata": {},
   "outputs": [],
   "source": [
    "Producto=pd.read_csv('Dim_Producto.csv')"
   ]
  },
  {
   "cell_type": "code",
   "execution_count": 3,
   "metadata": {},
   "outputs": [
    {
     "data": {
      "text/plain": [
       "Brand               int64\n",
       "Description        object\n",
       "Price             float64\n",
       "Size               object\n",
       "Volume            float64\n",
       "Classification      int64\n",
       "PurchasePrice     float64\n",
       "VendorID          float64\n",
       "ProductoID          int64\n",
       "dtype: object"
      ]
     },
     "execution_count": 3,
     "metadata": {},
     "output_type": "execute_result"
    }
   ],
   "source": [
    "Producto.dtypes"
   ]
  },
  {
   "cell_type": "markdown",
   "metadata": {},
   "source": [
    "### Cambiar a tipo entero VendorID"
   ]
  },
  {
   "cell_type": "code",
   "execution_count": 4,
   "metadata": {},
   "outputs": [],
   "source": [
    "# Redondear los valores de las columnas y luego convertir a int64\n",
    "Producto['VendorID'] = Producto['VendorID'].round().astype('int64')\n"
   ]
  },
  {
   "cell_type": "code",
   "execution_count": 5,
   "metadata": {},
   "outputs": [
    {
     "data": {
      "text/plain": [
       "Brand               int64\n",
       "Description        object\n",
       "Price             float64\n",
       "Size               object\n",
       "Volume            float64\n",
       "Classification      int64\n",
       "PurchasePrice     float64\n",
       "VendorID            int64\n",
       "ProductoID          int64\n",
       "dtype: object"
      ]
     },
     "execution_count": 5,
     "metadata": {},
     "output_type": "execute_result"
    }
   ],
   "source": [
    "# Revisamos nuevamente\n",
    "Producto.dtypes"
   ]
  },
  {
   "cell_type": "markdown",
   "metadata": {},
   "source": [
    "## Guardamos nuestra tabla Producto"
   ]
  },
  {
   "cell_type": "code",
   "execution_count": 6,
   "metadata": {},
   "outputs": [],
   "source": [
    "Producto.to_csv('Dim_Producto.csv',index=False)"
   ]
  }
 ],
 "metadata": {
  "kernelspec": {
   "display_name": "Python 3",
   "language": "python",
   "name": "python3"
  },
  "language_info": {
   "codemirror_mode": {
    "name": "ipython",
    "version": 3
   },
   "file_extension": ".py",
   "mimetype": "text/x-python",
   "name": "python",
   "nbconvert_exporter": "python",
   "pygments_lexer": "ipython3",
   "version": "3.12.5"
  }
 },
 "nbformat": 4,
 "nbformat_minor": 2
}
