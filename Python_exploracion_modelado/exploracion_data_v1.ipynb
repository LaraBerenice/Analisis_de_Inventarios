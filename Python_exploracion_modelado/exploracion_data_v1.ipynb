{
 "cells": [
  {
   "cell_type": "markdown",
   "metadata": {},
   "source": [
    "# ANALISIS EXPLORATORIO INICIAL"
   ]
  },
  {
   "cell_type": "markdown",
   "metadata": {},
   "source": [
    "### Dataset \"BegInvFinal12312016\""
   ]
  },
  {
   "cell_type": "code",
   "execution_count": 1,
   "metadata": {},
   "outputs": [],
   "source": [
    "import numpy as np\n",
    "import pandas as pd"
   ]
  },
  {
   "cell_type": "code",
   "execution_count": 2,
   "metadata": {},
   "outputs": [],
   "source": [
    "df_BegInvFinal=pd.read_csv(\"BegInvFINAL12312016.csv\")"
   ]
  },
  {
   "cell_type": "code",
   "execution_count": 3,
   "metadata": {},
   "outputs": [
    {
     "data": {
      "text/plain": [
       "Index(['InventoryId', 'Store', 'City', 'Brand', 'Description', 'Size',\n",
       "       'onHand', 'Price', 'startDate'],\n",
       "      dtype='object')"
      ]
     },
     "execution_count": 3,
     "metadata": {},
     "output_type": "execute_result"
    }
   ],
   "source": [
    "df_BegInvFinal.columns"
   ]
  },
  {
   "cell_type": "code",
   "execution_count": 4,
   "metadata": {},
   "outputs": [
    {
     "data": {
      "text/plain": [
       "InventoryId     object\n",
       "Store            int64\n",
       "City            object\n",
       "Brand            int64\n",
       "Description     object\n",
       "Size            object\n",
       "onHand           int64\n",
       "Price          float64\n",
       "startDate       object\n",
       "dtype: object"
      ]
     },
     "execution_count": 4,
     "metadata": {},
     "output_type": "execute_result"
    }
   ],
   "source": [
    "df_BegInvFinal.dtypes"
   ]
  },
  {
   "cell_type": "code",
   "execution_count": 5,
   "metadata": {},
   "outputs": [
    {
     "data": {
      "text/plain": [
       "(206529, 9)"
      ]
     },
     "execution_count": 5,
     "metadata": {},
     "output_type": "execute_result"
    }
   ],
   "source": [
    "df_BegInvFinal.shape"
   ]
  },
  {
   "cell_type": "code",
   "execution_count": 6,
   "metadata": {},
   "outputs": [
    {
     "data": {
      "text/plain": [
       "Description\n",
       "Jagermeister Liqueur            459\n",
       "Bacardi Superior Rum            447\n",
       "Capt Morgan Spiced Rum          405\n",
       "Jack Daniels No 7 Black         404\n",
       "Jim Beam                        378\n",
       "                               ... \n",
       "Ch La Dame de Montrose 11 Es      1\n",
       "Castle Rock Sonoma Cty Pnt N      1\n",
       "Castello Di Ama Chianti Clsc      1\n",
       "Dom Faiveley LatricChmbrt 12      1\n",
       "Ch Julien Chard                   1\n",
       "Name: count, Length: 7291, dtype: int64"
      ]
     },
     "execution_count": 6,
     "metadata": {},
     "output_type": "execute_result"
    }
   ],
   "source": [
    "df_BegInvFinal['Description'].value_counts()"
   ]
  },
  {
   "cell_type": "code",
   "execution_count": 7,
   "metadata": {},
   "outputs": [
    {
     "name": "stdout",
     "output_type": "stream",
     "text": [
      "<class 'pandas.core.frame.DataFrame'>\n",
      "RangeIndex: 206529 entries, 0 to 206528\n",
      "Data columns (total 9 columns):\n",
      " #   Column       Non-Null Count   Dtype  \n",
      "---  ------       --------------   -----  \n",
      " 0   InventoryId  206529 non-null  object \n",
      " 1   Store        206529 non-null  int64  \n",
      " 2   City         206529 non-null  object \n",
      " 3   Brand        206529 non-null  int64  \n",
      " 4   Description  206529 non-null  object \n",
      " 5   Size         206529 non-null  object \n",
      " 6   onHand       206529 non-null  int64  \n",
      " 7   Price        206529 non-null  float64\n",
      " 8   startDate    206529 non-null  object \n",
      "dtypes: float64(1), int64(3), object(5)\n",
      "memory usage: 14.2+ MB\n"
     ]
    }
   ],
   "source": [
    "df_BegInvFinal.info()"
   ]
  },
  {
   "cell_type": "code",
   "execution_count": 8,
   "metadata": {},
   "outputs": [
    {
     "data": {
      "text/html": [
       "<div>\n",
       "<style scoped>\n",
       "    .dataframe tbody tr th:only-of-type {\n",
       "        vertical-align: middle;\n",
       "    }\n",
       "\n",
       "    .dataframe tbody tr th {\n",
       "        vertical-align: top;\n",
       "    }\n",
       "\n",
       "    .dataframe thead th {\n",
       "        text-align: right;\n",
       "    }\n",
       "</style>\n",
       "<table border=\"1\" class=\"dataframe\">\n",
       "  <thead>\n",
       "    <tr style=\"text-align: right;\">\n",
       "      <th></th>\n",
       "      <th>InventoryId</th>\n",
       "      <th>Store</th>\n",
       "      <th>City</th>\n",
       "      <th>Brand</th>\n",
       "      <th>Description</th>\n",
       "      <th>Size</th>\n",
       "      <th>onHand</th>\n",
       "      <th>Price</th>\n",
       "      <th>startDate</th>\n",
       "    </tr>\n",
       "  </thead>\n",
       "  <tbody>\n",
       "    <tr>\n",
       "      <th>0</th>\n",
       "      <td>1_HARDERSFIELD_58</td>\n",
       "      <td>1</td>\n",
       "      <td>HARDERSFIELD</td>\n",
       "      <td>58</td>\n",
       "      <td>Gekkeikan Black &amp; Gold Sake</td>\n",
       "      <td>750mL</td>\n",
       "      <td>8</td>\n",
       "      <td>12.99</td>\n",
       "      <td>2016-01-01</td>\n",
       "    </tr>\n",
       "    <tr>\n",
       "      <th>1</th>\n",
       "      <td>1_HARDERSFIELD_60</td>\n",
       "      <td>1</td>\n",
       "      <td>HARDERSFIELD</td>\n",
       "      <td>60</td>\n",
       "      <td>Canadian Club 1858 VAP</td>\n",
       "      <td>750mL</td>\n",
       "      <td>7</td>\n",
       "      <td>10.99</td>\n",
       "      <td>2016-01-01</td>\n",
       "    </tr>\n",
       "    <tr>\n",
       "      <th>2</th>\n",
       "      <td>1_HARDERSFIELD_62</td>\n",
       "      <td>1</td>\n",
       "      <td>HARDERSFIELD</td>\n",
       "      <td>62</td>\n",
       "      <td>Herradura Silver Tequila</td>\n",
       "      <td>750mL</td>\n",
       "      <td>6</td>\n",
       "      <td>36.99</td>\n",
       "      <td>2016-01-01</td>\n",
       "    </tr>\n",
       "    <tr>\n",
       "      <th>3</th>\n",
       "      <td>1_HARDERSFIELD_63</td>\n",
       "      <td>1</td>\n",
       "      <td>HARDERSFIELD</td>\n",
       "      <td>63</td>\n",
       "      <td>Herradura Reposado Tequila</td>\n",
       "      <td>750mL</td>\n",
       "      <td>3</td>\n",
       "      <td>38.99</td>\n",
       "      <td>2016-01-01</td>\n",
       "    </tr>\n",
       "    <tr>\n",
       "      <th>4</th>\n",
       "      <td>1_HARDERSFIELD_72</td>\n",
       "      <td>1</td>\n",
       "      <td>HARDERSFIELD</td>\n",
       "      <td>72</td>\n",
       "      <td>No. 3 London Dry Gin</td>\n",
       "      <td>750mL</td>\n",
       "      <td>6</td>\n",
       "      <td>34.99</td>\n",
       "      <td>2016-01-01</td>\n",
       "    </tr>\n",
       "  </tbody>\n",
       "</table>\n",
       "</div>"
      ],
      "text/plain": [
       "         InventoryId  Store          City  Brand                  Description  \\\n",
       "0  1_HARDERSFIELD_58      1  HARDERSFIELD     58  Gekkeikan Black & Gold Sake   \n",
       "1  1_HARDERSFIELD_60      1  HARDERSFIELD     60       Canadian Club 1858 VAP   \n",
       "2  1_HARDERSFIELD_62      1  HARDERSFIELD     62     Herradura Silver Tequila   \n",
       "3  1_HARDERSFIELD_63      1  HARDERSFIELD     63   Herradura Reposado Tequila   \n",
       "4  1_HARDERSFIELD_72      1  HARDERSFIELD     72         No. 3 London Dry Gin   \n",
       "\n",
       "    Size  onHand  Price   startDate  \n",
       "0  750mL       8  12.99  2016-01-01  \n",
       "1  750mL       7  10.99  2016-01-01  \n",
       "2  750mL       6  36.99  2016-01-01  \n",
       "3  750mL       3  38.99  2016-01-01  \n",
       "4  750mL       6  34.99  2016-01-01  "
      ]
     },
     "execution_count": 8,
     "metadata": {},
     "output_type": "execute_result"
    }
   ],
   "source": [
    "df_BegInvFinal.head()"
   ]
  },
  {
   "cell_type": "code",
   "execution_count": 9,
   "metadata": {},
   "outputs": [
    {
     "data": {
      "text/plain": [
       "array(['750mL', 'Liter', '1.75L', '50mL', '375mL', '50mL 4 Pk',\n",
       "       '375mL 2 Pk', '750mL 3 Pk', '375mL 3 Pk', '750mL + 3/',\n",
       "       '200mL 3 Pk', '50mL 3 Pk', '100mL 4 Pk', '100mL', '50mL 5 Pk',\n",
       "       '200mL 4 Pk', '250mL 4 Pk', '750mL 2 Pk', '200mL', '3/100mL',\n",
       "       '1.5L', '5L', '4L', '187mL 4 Pk', '3L', '5.0 Oz', '187mL', '500mL',\n",
       "       '187mL 3 Pk', '300mL', '50mL 12 Pk', '330mL', '250mL', '18L',\n",
       "       '750mL + 2/', '180mL', '720mL', '22.0 Oz', '6L', '20L',\n",
       "       '750mL + 4/'], dtype=object)"
      ]
     },
     "execution_count": 9,
     "metadata": {},
     "output_type": "execute_result"
    }
   ],
   "source": [
    "df_BegInvFinal[\"Size\"].unique()"
   ]
  },
  {
   "cell_type": "code",
   "execution_count": 10,
   "metadata": {},
   "outputs": [
    {
     "data": {
      "text/plain": [
       "Series([], dtype: int64)"
      ]
     },
     "execution_count": 10,
     "metadata": {},
     "output_type": "execute_result"
    }
   ],
   "source": [
    "df_BegInvFinal.isnull().sum()[df_BegInvFinal.isnull().sum()>0]"
   ]
  },
  {
   "cell_type": "markdown",
   "metadata": {},
   "source": [
    "### Dataset \"EndInvFinal12312016\""
   ]
  },
  {
   "cell_type": "code",
   "execution_count": 11,
   "metadata": {},
   "outputs": [],
   "source": [
    "df_EndInvFinal=pd.read_csv(\"EndInvFINAL12312016.csv\")"
   ]
  },
  {
   "cell_type": "code",
   "execution_count": 12,
   "metadata": {},
   "outputs": [
    {
     "data": {
      "text/plain": [
       "Index(['InventoryId', 'Store', 'City', 'Brand', 'Description', 'Size',\n",
       "       'onHand', 'Price', 'endDate'],\n",
       "      dtype='object')"
      ]
     },
     "execution_count": 12,
     "metadata": {},
     "output_type": "execute_result"
    }
   ],
   "source": [
    "df_EndInvFinal.columns"
   ]
  },
  {
   "cell_type": "code",
   "execution_count": 13,
   "metadata": {},
   "outputs": [
    {
     "data": {
      "text/plain": [
       "InventoryId     object\n",
       "Store            int64\n",
       "City            object\n",
       "Brand            int64\n",
       "Description     object\n",
       "Size            object\n",
       "onHand           int64\n",
       "Price          float64\n",
       "endDate         object\n",
       "dtype: object"
      ]
     },
     "execution_count": 13,
     "metadata": {},
     "output_type": "execute_result"
    }
   ],
   "source": [
    "df_EndInvFinal.dtypes"
   ]
  },
  {
   "cell_type": "code",
   "execution_count": 14,
   "metadata": {},
   "outputs": [
    {
     "data": {
      "text/plain": [
       "(224489, 9)"
      ]
     },
     "execution_count": 14,
     "metadata": {},
     "output_type": "execute_result"
    }
   ],
   "source": [
    "df_EndInvFinal.shape"
   ]
  },
  {
   "cell_type": "code",
   "execution_count": 15,
   "metadata": {},
   "outputs": [
    {
     "data": {
      "text/plain": [
       "InventoryId\n",
       "81_PEMBROKE_90604     1\n",
       "1_HARDERSFIELD_58     1\n",
       "1_HARDERSFIELD_62     1\n",
       "1_HARDERSFIELD_63     1\n",
       "1_HARDERSFIELD_72     1\n",
       "                     ..\n",
       "1_HARDERSFIELD_192    1\n",
       "1_HARDERSFIELD_178    1\n",
       "1_HARDERSFIELD_175    1\n",
       "1_HARDERSFIELD_171    1\n",
       "1_HARDERSFIELD_159    1\n",
       "Name: count, Length: 224489, dtype: int64"
      ]
     },
     "execution_count": 15,
     "metadata": {},
     "output_type": "execute_result"
    }
   ],
   "source": [
    "df_EndInvFinal['InventoryId'].value_counts()"
   ]
  },
  {
   "cell_type": "code",
   "execution_count": 16,
   "metadata": {},
   "outputs": [
    {
     "name": "stdout",
     "output_type": "stream",
     "text": [
      "<class 'pandas.core.frame.DataFrame'>\n",
      "RangeIndex: 224489 entries, 0 to 224488\n",
      "Data columns (total 9 columns):\n",
      " #   Column       Non-Null Count   Dtype  \n",
      "---  ------       --------------   -----  \n",
      " 0   InventoryId  224489 non-null  object \n",
      " 1   Store        224489 non-null  int64  \n",
      " 2   City         223205 non-null  object \n",
      " 3   Brand        224489 non-null  int64  \n",
      " 4   Description  224489 non-null  object \n",
      " 5   Size         224489 non-null  object \n",
      " 6   onHand       224489 non-null  int64  \n",
      " 7   Price        224489 non-null  float64\n",
      " 8   endDate      224489 non-null  object \n",
      "dtypes: float64(1), int64(3), object(5)\n",
      "memory usage: 15.4+ MB\n"
     ]
    }
   ],
   "source": [
    "df_EndInvFinal.info()"
   ]
  },
  {
   "cell_type": "markdown",
   "metadata": {},
   "source": [
    "#### De la revisión hasta este punto se observa que hay valores faltantes en la columna \"City\". Se analiza para decidir si eliminar esas filas o rellenar los datos faltantes"
   ]
  },
  {
   "cell_type": "code",
   "execution_count": 17,
   "metadata": {},
   "outputs": [
    {
     "data": {
      "text/html": [
       "<div>\n",
       "<style scoped>\n",
       "    .dataframe tbody tr th:only-of-type {\n",
       "        vertical-align: middle;\n",
       "    }\n",
       "\n",
       "    .dataframe tbody tr th {\n",
       "        vertical-align: top;\n",
       "    }\n",
       "\n",
       "    .dataframe thead th {\n",
       "        text-align: right;\n",
       "    }\n",
       "</style>\n",
       "<table border=\"1\" class=\"dataframe\">\n",
       "  <thead>\n",
       "    <tr style=\"text-align: right;\">\n",
       "      <th></th>\n",
       "      <th>InventoryId</th>\n",
       "      <th>Store</th>\n",
       "      <th>City</th>\n",
       "      <th>Brand</th>\n",
       "      <th>Description</th>\n",
       "      <th>Size</th>\n",
       "      <th>onHand</th>\n",
       "      <th>Price</th>\n",
       "      <th>endDate</th>\n",
       "    </tr>\n",
       "  </thead>\n",
       "  <tbody>\n",
       "    <tr>\n",
       "      <th>113895</th>\n",
       "      <td>46__58</td>\n",
       "      <td>46</td>\n",
       "      <td>NaN</td>\n",
       "      <td>58</td>\n",
       "      <td>Gekkeikan Black &amp; Gold Sake</td>\n",
       "      <td>750mL</td>\n",
       "      <td>0</td>\n",
       "      <td>12.99</td>\n",
       "      <td>2016-12-31</td>\n",
       "    </tr>\n",
       "    <tr>\n",
       "      <th>113896</th>\n",
       "      <td>46__62</td>\n",
       "      <td>46</td>\n",
       "      <td>NaN</td>\n",
       "      <td>62</td>\n",
       "      <td>Herradura Silver Tequila</td>\n",
       "      <td>750mL</td>\n",
       "      <td>0</td>\n",
       "      <td>36.99</td>\n",
       "      <td>2016-12-31</td>\n",
       "    </tr>\n",
       "    <tr>\n",
       "      <th>113897</th>\n",
       "      <td>46__63</td>\n",
       "      <td>46</td>\n",
       "      <td>NaN</td>\n",
       "      <td>63</td>\n",
       "      <td>Herradura Reposado Tequila</td>\n",
       "      <td>750mL</td>\n",
       "      <td>0</td>\n",
       "      <td>38.99</td>\n",
       "      <td>2016-12-31</td>\n",
       "    </tr>\n",
       "    <tr>\n",
       "      <th>113898</th>\n",
       "      <td>46__77</td>\n",
       "      <td>46</td>\n",
       "      <td>NaN</td>\n",
       "      <td>77</td>\n",
       "      <td>Three Olives Espresso Vodka</td>\n",
       "      <td>750mL</td>\n",
       "      <td>0</td>\n",
       "      <td>14.99</td>\n",
       "      <td>2016-12-31</td>\n",
       "    </tr>\n",
       "    <tr>\n",
       "      <th>113899</th>\n",
       "      <td>46__106</td>\n",
       "      <td>46</td>\n",
       "      <td>NaN</td>\n",
       "      <td>106</td>\n",
       "      <td>Mr Boston Peach Schnapps</td>\n",
       "      <td>Liter</td>\n",
       "      <td>0</td>\n",
       "      <td>4.49</td>\n",
       "      <td>2016-12-31</td>\n",
       "    </tr>\n",
       "    <tr>\n",
       "      <th>...</th>\n",
       "      <td>...</td>\n",
       "      <td>...</td>\n",
       "      <td>...</td>\n",
       "      <td>...</td>\n",
       "      <td>...</td>\n",
       "      <td>...</td>\n",
       "      <td>...</td>\n",
       "      <td>...</td>\n",
       "      <td>...</td>\n",
       "    </tr>\n",
       "    <tr>\n",
       "      <th>115174</th>\n",
       "      <td>46__46447</td>\n",
       "      <td>46</td>\n",
       "      <td>NaN</td>\n",
       "      <td>46447</td>\n",
       "      <td>Gascon Malbec Mendoza</td>\n",
       "      <td>750mL</td>\n",
       "      <td>0</td>\n",
       "      <td>10.99</td>\n",
       "      <td>2016-12-31</td>\n",
       "    </tr>\n",
       "    <tr>\n",
       "      <th>115175</th>\n",
       "      <td>46__46458</td>\n",
       "      <td>46</td>\n",
       "      <td>NaN</td>\n",
       "      <td>46458</td>\n",
       "      <td>Layer Cake Barosa Shiraz</td>\n",
       "      <td>750mL</td>\n",
       "      <td>0</td>\n",
       "      <td>15.99</td>\n",
       "      <td>2016-12-31</td>\n",
       "    </tr>\n",
       "    <tr>\n",
       "      <th>115176</th>\n",
       "      <td>46__46476</td>\n",
       "      <td>46</td>\n",
       "      <td>NaN</td>\n",
       "      <td>46476</td>\n",
       "      <td>Tilia Malbec Mendoza</td>\n",
       "      <td>750mL</td>\n",
       "      <td>0</td>\n",
       "      <td>9.99</td>\n",
       "      <td>2016-12-31</td>\n",
       "    </tr>\n",
       "    <tr>\n",
       "      <th>115177</th>\n",
       "      <td>46__46764</td>\n",
       "      <td>46</td>\n",
       "      <td>NaN</td>\n",
       "      <td>46764</td>\n",
       "      <td>Clayhouse Adobe Red Paso Rbl</td>\n",
       "      <td>750mL</td>\n",
       "      <td>0</td>\n",
       "      <td>11.99</td>\n",
       "      <td>2016-12-31</td>\n",
       "    </tr>\n",
       "    <tr>\n",
       "      <th>115178</th>\n",
       "      <td>46__46830</td>\n",
       "      <td>46</td>\n",
       "      <td>NaN</td>\n",
       "      <td>46830</td>\n",
       "      <td>Pacific Rim Sweet Rsl</td>\n",
       "      <td>750mL</td>\n",
       "      <td>0</td>\n",
       "      <td>8.99</td>\n",
       "      <td>2016-12-31</td>\n",
       "    </tr>\n",
       "  </tbody>\n",
       "</table>\n",
       "<p>1284 rows × 9 columns</p>\n",
       "</div>"
      ],
      "text/plain": [
       "       InventoryId  Store City  Brand                   Description   Size  \\\n",
       "113895      46__58     46  NaN     58   Gekkeikan Black & Gold Sake  750mL   \n",
       "113896      46__62     46  NaN     62      Herradura Silver Tequila  750mL   \n",
       "113897      46__63     46  NaN     63    Herradura Reposado Tequila  750mL   \n",
       "113898      46__77     46  NaN     77   Three Olives Espresso Vodka  750mL   \n",
       "113899     46__106     46  NaN    106      Mr Boston Peach Schnapps  Liter   \n",
       "...            ...    ...  ...    ...                           ...    ...   \n",
       "115174   46__46447     46  NaN  46447         Gascon Malbec Mendoza  750mL   \n",
       "115175   46__46458     46  NaN  46458      Layer Cake Barosa Shiraz  750mL   \n",
       "115176   46__46476     46  NaN  46476          Tilia Malbec Mendoza  750mL   \n",
       "115177   46__46764     46  NaN  46764  Clayhouse Adobe Red Paso Rbl  750mL   \n",
       "115178   46__46830     46  NaN  46830         Pacific Rim Sweet Rsl  750mL   \n",
       "\n",
       "        onHand  Price     endDate  \n",
       "113895       0  12.99  2016-12-31  \n",
       "113896       0  36.99  2016-12-31  \n",
       "113897       0  38.99  2016-12-31  \n",
       "113898       0  14.99  2016-12-31  \n",
       "113899       0   4.49  2016-12-31  \n",
       "...        ...    ...         ...  \n",
       "115174       0  10.99  2016-12-31  \n",
       "115175       0  15.99  2016-12-31  \n",
       "115176       0   9.99  2016-12-31  \n",
       "115177       0  11.99  2016-12-31  \n",
       "115178       0   8.99  2016-12-31  \n",
       "\n",
       "[1284 rows x 9 columns]"
      ]
     },
     "execution_count": 17,
     "metadata": {},
     "output_type": "execute_result"
    }
   ],
   "source": [
    "# Filtrar las filas donde la columna \"Size\" está vacía\n",
    "df_empty_size = df_EndInvFinal[df_EndInvFinal['City'].isna()]\n",
    "\n",
    "# Mostrar las filas con \"Size\" vacío\n",
    "df_empty_size"
   ]
  },
  {
   "cell_type": "markdown",
   "metadata": {},
   "source": [
    "#### Se observa que sólo la City == 46 es el dato faltante"
   ]
  },
  {
   "cell_type": "code",
   "execution_count": 18,
   "metadata": {},
   "outputs": [
    {
     "name": "stdout",
     "output_type": "stream",
     "text": [
      "[46]\n"
     ]
    }
   ],
   "source": [
    "# Filtrar las filas donde la columna 'City' tiene valores nulos o vacíos\n",
    "filtered_df = df_EndInvFinal[df_EndInvFinal['City'].isna() | (df_EndInvFinal['City'] == '')]\n",
    "\n",
    "# Obtener los valores únicos de la columna 'Store'\n",
    "unique_stores = filtered_df['Store'].unique()\n",
    "\n",
    "# Mostrar los valores únicos de 'Store'\n",
    "print(unique_stores)\n"
   ]
  },
  {
   "cell_type": "markdown",
   "metadata": {},
   "source": [
    "#### Se busca este dato en la data de BegInvFinal"
   ]
  },
  {
   "cell_type": "code",
   "execution_count": 19,
   "metadata": {},
   "outputs": [
    {
     "name": "stdout",
     "output_type": "stream",
     "text": [
      "108343    TYWARDREATH\n",
      "108344    TYWARDREATH\n",
      "108345    TYWARDREATH\n",
      "108346    TYWARDREATH\n",
      "108347    TYWARDREATH\n",
      "             ...     \n",
      "110218    TYWARDREATH\n",
      "110219    TYWARDREATH\n",
      "110220    TYWARDREATH\n",
      "110221    TYWARDREATH\n",
      "110222    TYWARDREATH\n",
      "Name: City, Length: 1880, dtype: object\n"
     ]
    }
   ],
   "source": [
    "# Filtrar las filas donde 'Store' es igual a 46\n",
    "filtered_df = df_BegInvFinal[df_BegInvFinal['Store'] == 46]\n",
    "\n",
    "# Seleccionar y mostrar la columna 'City'\n",
    "print(filtered_df['City'])\n"
   ]
  },
  {
   "cell_type": "code",
   "execution_count": 20,
   "metadata": {},
   "outputs": [
    {
     "name": "stdout",
     "output_type": "stream",
     "text": [
      "108343    46\n",
      "108344    46\n",
      "108345    46\n",
      "108346    46\n",
      "108347    46\n",
      "          ..\n",
      "110218    46\n",
      "110219    46\n",
      "110220    46\n",
      "110221    46\n",
      "110222    46\n",
      "Name: Store, Length: 1880, dtype: int64\n"
     ]
    }
   ],
   "source": [
    "# Filtrar las filas donde 'City' es igual a TYWARDREATH\n",
    "filtered_df = df_BegInvFinal[df_BegInvFinal['City'] == 'TYWARDREATH']\n",
    "\n",
    "# Seleccionar y mostrar la columna 'Store'\n",
    "print(filtered_df['Store'])"
   ]
  },
  {
   "cell_type": "markdown",
   "metadata": {},
   "source": [
    "#### Se verifica que la ciudad de la store 46 si está en el archivo del inventario inicial pero no en el final"
   ]
  },
  {
   "cell_type": "code",
   "execution_count": 21,
   "metadata": {},
   "outputs": [
    {
     "name": "stdout",
     "output_type": "stream",
     "text": [
      "Series([], Name: Store, dtype: int64)\n"
     ]
    }
   ],
   "source": [
    "# Filtrar las filas donde 'City' es igual a TYWARDREATH\n",
    "filtered_df = df_EndInvFinal[df_EndInvFinal['City'] == 'TYWARDREATH']\n",
    "\n",
    "# Seleccionar y mostrar la columna 'Store'\n",
    "print(filtered_df['Store'])"
   ]
  },
  {
   "cell_type": "markdown",
   "metadata": {},
   "source": [
    "#### Se reemplaza los valores faltantes de la store = 46 por su ciudad correspondiente"
   ]
  },
  {
   "cell_type": "code",
   "execution_count": 22,
   "metadata": {},
   "outputs": [
    {
     "name": "stdout",
     "output_type": "stream",
     "text": [
      "              InventoryId  Store          City  Brand  \\\n",
      "0       1_HARDERSFIELD_58      1  HARDERSFIELD     58   \n",
      "1       1_HARDERSFIELD_62      1  HARDERSFIELD     62   \n",
      "2       1_HARDERSFIELD_63      1  HARDERSFIELD     63   \n",
      "3       1_HARDERSFIELD_72      1  HARDERSFIELD     72   \n",
      "4       1_HARDERSFIELD_75      1  HARDERSFIELD     75   \n",
      "...                   ...    ...           ...    ...   \n",
      "224484  81_PEMBROKE_90087     81      PEMBROKE  90087   \n",
      "224485  81_PEMBROKE_90088     81      PEMBROKE  90088   \n",
      "224486  81_PEMBROKE_90089     81      PEMBROKE  90089   \n",
      "224487  81_PEMBROKE_90090     81      PEMBROKE  90090   \n",
      "224488  81_PEMBROKE_90604     81      PEMBROKE  90604   \n",
      "\n",
      "                         Description   Size  onHand   Price     endDate  \n",
      "0        Gekkeikan Black & Gold Sake  750mL      11   12.99  2016-12-31  \n",
      "1           Herradura Silver Tequila  750mL       7   36.99  2016-12-31  \n",
      "2         Herradura Reposado Tequila  750mL       7   38.99  2016-12-31  \n",
      "3               No. 3 London Dry Gin  750mL       4   34.99  2016-12-31  \n",
      "4          Three Olives Tomato Vodka  750mL       7   14.99  2016-12-31  \n",
      "...                              ...    ...     ...     ...         ...  \n",
      "224484  Ch Mouton Rothschild 12 Paui  750mL       3  469.99  2016-12-31  \n",
      "224485  Ch Le Petite Mouton 12 Pauil  750mL       3  134.99  2016-12-31  \n",
      "224486    Ch Lynch Bages 12 Pauillac  750mL       3  119.99  2016-12-31  \n",
      "224487       Ch Lafite Rothschild 12  750mL       3  649.99  2016-12-31  \n",
      "224488        Ch Lynch Bages Pauilac  750mL       2  119.99  2016-12-31  \n",
      "\n",
      "[224489 rows x 9 columns]\n"
     ]
    }
   ],
   "source": [
    "# Reemplazar los valores de 'City' con \"TYWARDREATH\" donde 'Store' es igual a 46\n",
    "df_EndInvFinal.loc[df_EndInvFinal['Store'] == 46, 'City'] = 'TYWARDREATH'\n",
    "\n",
    "# Mostrar el DataFrame para verificar el cambio\n",
    "print(df_EndInvFinal)\n"
   ]
  },
  {
   "cell_type": "code",
   "execution_count": 23,
   "metadata": {},
   "outputs": [
    {
     "name": "stdout",
     "output_type": "stream",
     "text": [
      "113895    46\n",
      "113896    46\n",
      "113897    46\n",
      "113898    46\n",
      "113899    46\n",
      "          ..\n",
      "115174    46\n",
      "115175    46\n",
      "115176    46\n",
      "115177    46\n",
      "115178    46\n",
      "Name: Store, Length: 1284, dtype: int64\n"
     ]
    }
   ],
   "source": [
    "# Filtrar las filas donde 'City' es igual a TYWARDREATH\n",
    "filtered_df = df_EndInvFinal[df_EndInvFinal['City'] == 'TYWARDREATH']\n",
    "\n",
    "# Seleccionar y mostrar la columna 'Store'\n",
    "print(filtered_df['Store'])"
   ]
  },
  {
   "cell_type": "markdown",
   "metadata": {},
   "source": [
    "#### Se verifica que no haya nulos"
   ]
  },
  {
   "cell_type": "code",
   "execution_count": 24,
   "metadata": {},
   "outputs": [
    {
     "name": "stdout",
     "output_type": "stream",
     "text": [
      "<class 'pandas.core.frame.DataFrame'>\n",
      "RangeIndex: 224489 entries, 0 to 224488\n",
      "Data columns (total 9 columns):\n",
      " #   Column       Non-Null Count   Dtype  \n",
      "---  ------       --------------   -----  \n",
      " 0   InventoryId  224489 non-null  object \n",
      " 1   Store        224489 non-null  int64  \n",
      " 2   City         224489 non-null  object \n",
      " 3   Brand        224489 non-null  int64  \n",
      " 4   Description  224489 non-null  object \n",
      " 5   Size         224489 non-null  object \n",
      " 6   onHand       224489 non-null  int64  \n",
      " 7   Price        224489 non-null  float64\n",
      " 8   endDate      224489 non-null  object \n",
      "dtypes: float64(1), int64(3), object(5)\n",
      "memory usage: 15.4+ MB\n"
     ]
    }
   ],
   "source": [
    "df_EndInvFinal.info()"
   ]
  },
  {
   "cell_type": "markdown",
   "metadata": {},
   "source": [
    "## Creamos la tabla de hechos df_Inventory uniendo las tablas BegInvFinal y EndInvFinal verticalmente (concat)"
   ]
  },
  {
   "cell_type": "markdown",
   "metadata": {},
   "source": [
    "#### Primero renombramos las columnas \"startDate\" y \"endDate\" por \"InventoryDate\""
   ]
  },
  {
   "cell_type": "code",
   "execution_count": 25,
   "metadata": {},
   "outputs": [],
   "source": [
    "df_BegInvFinal.rename(columns={'startDate': 'InventoryDate'}, inplace=True)\n"
   ]
  },
  {
   "cell_type": "code",
   "execution_count": 26,
   "metadata": {},
   "outputs": [
    {
     "data": {
      "text/plain": [
       "Index(['InventoryId', 'Store', 'City', 'Brand', 'Description', 'Size',\n",
       "       'onHand', 'Price', 'InventoryDate'],\n",
       "      dtype='object')"
      ]
     },
     "execution_count": 26,
     "metadata": {},
     "output_type": "execute_result"
    }
   ],
   "source": [
    "df_BegInvFinal.columns"
   ]
  },
  {
   "cell_type": "code",
   "execution_count": 27,
   "metadata": {},
   "outputs": [],
   "source": [
    "df_EndInvFinal.rename(columns={'endDate': 'InventoryDate'}, inplace=True)\n"
   ]
  },
  {
   "cell_type": "code",
   "execution_count": 28,
   "metadata": {},
   "outputs": [
    {
     "data": {
      "text/plain": [
       "Index(['InventoryId', 'Store', 'City', 'Brand', 'Description', 'Size',\n",
       "       'onHand', 'Price', 'InventoryDate'],\n",
       "      dtype='object')"
      ]
     },
     "execution_count": 28,
     "metadata": {},
     "output_type": "execute_result"
    }
   ],
   "source": [
    "df_EndInvFinal.columns"
   ]
  },
  {
   "cell_type": "markdown",
   "metadata": {},
   "source": [
    "#### Unimos nuestras dos tablas"
   ]
  },
  {
   "cell_type": "code",
   "execution_count": 29,
   "metadata": {},
   "outputs": [],
   "source": [
    "# Combinar las dos tablas colocando los datos de una debajo de la otra\n",
    "df_Inventory= pd.concat([df_BegInvFinal, df_EndInvFinal], ignore_index=True)"
   ]
  },
  {
   "cell_type": "code",
   "execution_count": 30,
   "metadata": {},
   "outputs": [
    {
     "data": {
      "text/plain": [
       "(431018, 9)"
      ]
     },
     "execution_count": 30,
     "metadata": {},
     "output_type": "execute_result"
    }
   ],
   "source": [
    "# Mostrar el DataFrame combinado\n",
    "df_Inventory.shape"
   ]
  },
  {
   "cell_type": "code",
   "execution_count": 31,
   "metadata": {},
   "outputs": [
    {
     "name": "stdout",
     "output_type": "stream",
     "text": [
      "<class 'pandas.core.frame.DataFrame'>\n",
      "RangeIndex: 431018 entries, 0 to 431017\n",
      "Data columns (total 9 columns):\n",
      " #   Column         Non-Null Count   Dtype  \n",
      "---  ------         --------------   -----  \n",
      " 0   InventoryId    431018 non-null  object \n",
      " 1   Store          431018 non-null  int64  \n",
      " 2   City           431018 non-null  object \n",
      " 3   Brand          431018 non-null  int64  \n",
      " 4   Description    431018 non-null  object \n",
      " 5   Size           431018 non-null  object \n",
      " 6   onHand         431018 non-null  int64  \n",
      " 7   Price          431018 non-null  float64\n",
      " 8   InventoryDate  431018 non-null  object \n",
      "dtypes: float64(1), int64(3), object(5)\n",
      "memory usage: 29.6+ MB\n"
     ]
    }
   ],
   "source": [
    "df_Inventory.info()"
   ]
  },
  {
   "cell_type": "markdown",
   "metadata": {},
   "source": [
    "### Dataset \"InvoicePurchases12312016\""
   ]
  },
  {
   "cell_type": "code",
   "execution_count": 32,
   "metadata": {},
   "outputs": [],
   "source": [
    "df_InvoicePurchases= pd.read_csv(\"InvoicePurchases12312016.csv\")"
   ]
  },
  {
   "cell_type": "code",
   "execution_count": 33,
   "metadata": {},
   "outputs": [
    {
     "data": {
      "text/plain": [
       "Index(['VendorNumber', 'VendorName', 'InvoiceDate', 'PONumber', 'PODate',\n",
       "       'PayDate', 'Quantity', 'Dollars', 'Freight', 'Approval'],\n",
       "      dtype='object')"
      ]
     },
     "execution_count": 33,
     "metadata": {},
     "output_type": "execute_result"
    }
   ],
   "source": [
    "df_InvoicePurchases.columns"
   ]
  },
  {
   "cell_type": "code",
   "execution_count": 34,
   "metadata": {},
   "outputs": [
    {
     "data": {
      "text/plain": [
       "VendorNumber      int64\n",
       "VendorName       object\n",
       "InvoiceDate      object\n",
       "PONumber          int64\n",
       "PODate           object\n",
       "PayDate          object\n",
       "Quantity          int64\n",
       "Dollars         float64\n",
       "Freight         float64\n",
       "Approval         object\n",
       "dtype: object"
      ]
     },
     "execution_count": 34,
     "metadata": {},
     "output_type": "execute_result"
    }
   ],
   "source": [
    "df_InvoicePurchases.dtypes"
   ]
  },
  {
   "cell_type": "code",
   "execution_count": 35,
   "metadata": {},
   "outputs": [
    {
     "data": {
      "text/plain": [
       "(5543, 10)"
      ]
     },
     "execution_count": 35,
     "metadata": {},
     "output_type": "execute_result"
    }
   ],
   "source": [
    "df_InvoicePurchases.shape"
   ]
  },
  {
   "cell_type": "code",
   "execution_count": 36,
   "metadata": {},
   "outputs": [
    {
     "name": "stdout",
     "output_type": "stream",
     "text": [
      "<class 'pandas.core.frame.DataFrame'>\n",
      "RangeIndex: 5543 entries, 0 to 5542\n",
      "Data columns (total 10 columns):\n",
      " #   Column        Non-Null Count  Dtype  \n",
      "---  ------        --------------  -----  \n",
      " 0   VendorNumber  5543 non-null   int64  \n",
      " 1   VendorName    5543 non-null   object \n",
      " 2   InvoiceDate   5543 non-null   object \n",
      " 3   PONumber      5543 non-null   int64  \n",
      " 4   PODate        5543 non-null   object \n",
      " 5   PayDate       5543 non-null   object \n",
      " 6   Quantity      5543 non-null   int64  \n",
      " 7   Dollars       5543 non-null   float64\n",
      " 8   Freight       5543 non-null   float64\n",
      " 9   Approval      374 non-null    object \n",
      "dtypes: float64(2), int64(3), object(5)\n",
      "memory usage: 433.2+ KB\n"
     ]
    }
   ],
   "source": [
    "df_InvoicePurchases.info()"
   ]
  },
  {
   "cell_type": "code",
   "execution_count": 37,
   "metadata": {},
   "outputs": [
    {
     "data": {
      "text/html": [
       "<div>\n",
       "<style scoped>\n",
       "    .dataframe tbody tr th:only-of-type {\n",
       "        vertical-align: middle;\n",
       "    }\n",
       "\n",
       "    .dataframe tbody tr th {\n",
       "        vertical-align: top;\n",
       "    }\n",
       "\n",
       "    .dataframe thead th {\n",
       "        text-align: right;\n",
       "    }\n",
       "</style>\n",
       "<table border=\"1\" class=\"dataframe\">\n",
       "  <thead>\n",
       "    <tr style=\"text-align: right;\">\n",
       "      <th></th>\n",
       "      <th>VendorNumber</th>\n",
       "      <th>VendorName</th>\n",
       "      <th>InvoiceDate</th>\n",
       "      <th>PONumber</th>\n",
       "      <th>PODate</th>\n",
       "      <th>PayDate</th>\n",
       "      <th>Quantity</th>\n",
       "      <th>Dollars</th>\n",
       "      <th>Freight</th>\n",
       "      <th>Approval</th>\n",
       "    </tr>\n",
       "  </thead>\n",
       "  <tbody>\n",
       "    <tr>\n",
       "      <th>0</th>\n",
       "      <td>105</td>\n",
       "      <td>ALTAMAR BRANDS LLC</td>\n",
       "      <td>2016-01-04</td>\n",
       "      <td>8124</td>\n",
       "      <td>2015-12-21</td>\n",
       "      <td>2016-02-16</td>\n",
       "      <td>6</td>\n",
       "      <td>214.26</td>\n",
       "      <td>3.47</td>\n",
       "      <td>NaN</td>\n",
       "    </tr>\n",
       "    <tr>\n",
       "      <th>1</th>\n",
       "      <td>4466</td>\n",
       "      <td>AMERICAN VINTAGE BEVERAGE</td>\n",
       "      <td>2016-01-07</td>\n",
       "      <td>8137</td>\n",
       "      <td>2015-12-22</td>\n",
       "      <td>2016-02-21</td>\n",
       "      <td>15</td>\n",
       "      <td>140.55</td>\n",
       "      <td>8.57</td>\n",
       "      <td>NaN</td>\n",
       "    </tr>\n",
       "    <tr>\n",
       "      <th>2</th>\n",
       "      <td>388</td>\n",
       "      <td>ATLANTIC IMPORTING COMPANY</td>\n",
       "      <td>2016-01-09</td>\n",
       "      <td>8169</td>\n",
       "      <td>2015-12-24</td>\n",
       "      <td>2016-02-16</td>\n",
       "      <td>5</td>\n",
       "      <td>106.60</td>\n",
       "      <td>4.61</td>\n",
       "      <td>NaN</td>\n",
       "    </tr>\n",
       "    <tr>\n",
       "      <th>3</th>\n",
       "      <td>480</td>\n",
       "      <td>BACARDI USA INC</td>\n",
       "      <td>2016-01-12</td>\n",
       "      <td>8106</td>\n",
       "      <td>2015-12-20</td>\n",
       "      <td>2016-02-05</td>\n",
       "      <td>10100</td>\n",
       "      <td>137483.78</td>\n",
       "      <td>2935.20</td>\n",
       "      <td>NaN</td>\n",
       "    </tr>\n",
       "    <tr>\n",
       "      <th>4</th>\n",
       "      <td>516</td>\n",
       "      <td>BANFI PRODUCTS CORP</td>\n",
       "      <td>2016-01-07</td>\n",
       "      <td>8170</td>\n",
       "      <td>2015-12-24</td>\n",
       "      <td>2016-02-12</td>\n",
       "      <td>1935</td>\n",
       "      <td>15527.25</td>\n",
       "      <td>429.20</td>\n",
       "      <td>NaN</td>\n",
       "    </tr>\n",
       "  </tbody>\n",
       "</table>\n",
       "</div>"
      ],
      "text/plain": [
       "   VendorNumber                   VendorName InvoiceDate  PONumber  \\\n",
       "0           105  ALTAMAR BRANDS LLC           2016-01-04      8124   \n",
       "1          4466  AMERICAN VINTAGE BEVERAGE    2016-01-07      8137   \n",
       "2           388  ATLANTIC IMPORTING COMPANY   2016-01-09      8169   \n",
       "3           480  BACARDI USA INC              2016-01-12      8106   \n",
       "4           516  BANFI PRODUCTS CORP          2016-01-07      8170   \n",
       "\n",
       "       PODate     PayDate  Quantity    Dollars  Freight Approval  \n",
       "0  2015-12-21  2016-02-16         6     214.26     3.47      NaN  \n",
       "1  2015-12-22  2016-02-21        15     140.55     8.57      NaN  \n",
       "2  2015-12-24  2016-02-16         5     106.60     4.61      NaN  \n",
       "3  2015-12-20  2016-02-05     10100  137483.78  2935.20      NaN  \n",
       "4  2015-12-24  2016-02-12      1935   15527.25   429.20      NaN  "
      ]
     },
     "execution_count": 37,
     "metadata": {},
     "output_type": "execute_result"
    }
   ],
   "source": [
    "df_InvoicePurchases.head()"
   ]
  },
  {
   "cell_type": "code",
   "execution_count": 38,
   "metadata": {},
   "outputs": [
    {
     "data": {
      "text/plain": [
       "array(['2016-01-04', '2016-01-07', '2016-01-09', '2016-01-12',\n",
       "       '2016-01-08', '2016-01-06', '2016-01-05', '2016-01-11',\n",
       "       '2016-01-10', '2016-01-17', '2016-01-19', '2016-01-13',\n",
       "       '2016-01-14', '2016-01-15', '2016-01-16', '2016-01-18',\n",
       "       '2016-01-25', '2016-01-22', '2016-01-21', '2016-01-26',\n",
       "       '2016-01-24', '2016-01-23', '2016-01-20', '2016-01-27',\n",
       "       '2016-01-31', '2016-01-29', '2016-02-01', '2016-02-02',\n",
       "       '2016-01-28', '2016-01-30', '2016-02-04', '2016-02-03',\n",
       "       '2016-02-06', '2016-02-07', '2016-02-05', '2016-02-08',\n",
       "       '2016-02-09', '2016-02-16', '2016-02-11', '2016-02-10',\n",
       "       '2016-02-15', '2016-02-13', '2016-02-14', '2016-02-12',\n",
       "       '2016-02-17', '2016-02-19', '2016-02-23', '2016-02-20',\n",
       "       '2016-02-21', '2016-02-18', '2016-02-22', '2016-03-01',\n",
       "       '2016-02-25', '2016-02-28', '2016-02-29', '2016-02-27',\n",
       "       '2016-02-24', '2016-02-26', '2016-03-06', '2016-03-05',\n",
       "       '2016-03-07', '2016-03-04', '2016-03-02', '2016-03-03',\n",
       "       '2016-03-08', '2016-03-13', '2016-03-12', '2016-03-15',\n",
       "       '2016-03-14', '2016-03-11', '2016-03-10', '2016-03-09',\n",
       "       '2016-03-16', '2016-03-22', '2016-03-17', '2016-03-19',\n",
       "       '2016-03-20', '2016-03-18', '2016-03-21', '2016-03-23',\n",
       "       '2016-03-26', '2016-03-28', '2016-03-25', '2016-03-27',\n",
       "       '2016-03-29', '2016-03-24', '2016-04-03', '2016-03-31',\n",
       "       '2016-03-30', '2016-04-02', '2016-04-04', '2016-04-01',\n",
       "       '2016-04-05', '2016-04-09', '2016-04-06', '2016-04-12',\n",
       "       '2016-04-08', '2016-04-10', '2016-04-11', '2016-04-07',\n",
       "       '2016-04-17', '2016-04-15', '2016-04-16', '2016-04-14',\n",
       "       '2016-04-13', '2016-04-19', '2016-04-18', '2016-04-20',\n",
       "       '2016-04-24', '2016-04-22', '2016-04-21', '2016-04-25',\n",
       "       '2016-04-23', '2016-04-26', '2016-04-30', '2016-04-28',\n",
       "       '2016-04-29', '2016-05-01', '2016-05-03', '2016-05-02',\n",
       "       '2016-04-27', '2016-05-10', '2016-05-09', '2016-05-07',\n",
       "       '2016-05-06', '2016-05-04', '2016-05-08', '2016-05-05',\n",
       "       '2016-05-11', '2016-05-16', '2016-05-14', '2016-05-12',\n",
       "       '2016-05-17', '2016-05-13', '2016-05-15', '2016-05-24',\n",
       "       '2016-05-23', '2016-05-18', '2016-05-22', '2016-05-20',\n",
       "       '2016-05-21', '2016-05-19', '2016-05-31', '2016-05-28',\n",
       "       '2016-05-30', '2016-05-25', '2016-05-27', '2016-05-29',\n",
       "       '2016-05-26', '2016-06-05', '2016-06-04', '2016-06-07',\n",
       "       '2016-06-06', '2016-06-01', '2016-06-03', '2016-06-02',\n",
       "       '2016-06-09', '2016-06-12', '2016-06-10', '2016-06-13',\n",
       "       '2016-06-11', '2016-06-14', '2016-06-08', '2016-06-17',\n",
       "       '2016-06-21', '2016-06-18', '2016-06-15', '2016-06-20',\n",
       "       '2016-06-16', '2016-06-19', '2016-06-26', '2016-06-23',\n",
       "       '2016-06-28', '2016-06-22', '2016-06-27', '2016-06-24',\n",
       "       '2016-06-25', '2016-07-01', '2016-06-29', '2016-07-04',\n",
       "       '2016-06-30', '2016-07-05', '2016-07-03', '2016-07-02',\n",
       "       '2016-07-09', '2016-07-07', '2016-07-11', '2016-07-12',\n",
       "       '2016-07-08', '2016-07-10', '2016-07-06', '2016-07-18',\n",
       "       '2016-07-19', '2016-07-14', '2016-07-13', '2016-07-16',\n",
       "       '2016-07-17', '2016-07-15', '2016-07-20', '2016-07-25',\n",
       "       '2016-07-24', '2016-07-26', '2016-07-22', '2016-07-23',\n",
       "       '2016-07-21', '2016-07-28', '2016-07-29', '2016-08-01',\n",
       "       '2016-07-27', '2016-08-02', '2016-07-31', '2016-07-30',\n",
       "       '2016-08-07', '2016-08-04', '2016-08-03', '2016-08-08',\n",
       "       '2016-08-05', '2016-08-09', '2016-08-06', '2016-08-14',\n",
       "       '2016-08-10', '2016-08-16', '2016-08-11', '2016-08-15',\n",
       "       '2016-08-13', '2016-08-12', '2016-08-21', '2016-08-18',\n",
       "       '2016-08-17', '2016-08-19', '2016-08-22', '2016-08-23',\n",
       "       '2016-08-20', '2016-08-25', '2016-08-29', '2016-08-24',\n",
       "       '2016-08-27', '2016-08-28', '2016-08-26', '2016-08-30',\n",
       "       '2016-09-01', '2016-08-31', '2016-09-02', '2016-09-04',\n",
       "       '2016-09-06', '2016-09-03', '2016-09-05', '2016-09-07',\n",
       "       '2016-09-10', '2016-09-12', '2016-09-09', '2016-09-13',\n",
       "       '2016-09-08', '2016-09-11', '2016-09-16', '2016-09-15',\n",
       "       '2016-09-18', '2016-09-20', '2016-09-19', '2016-09-14',\n",
       "       '2016-09-17', '2016-09-27', '2016-09-25', '2016-09-26',\n",
       "       '2016-09-22', '2016-09-23', '2016-09-21', '2016-09-24',\n",
       "       '2016-10-02', '2016-10-03', '2016-10-01', '2016-09-29',\n",
       "       '2016-10-04', '2016-09-28', '2016-09-30', '2016-10-06',\n",
       "       '2016-10-05', '2016-10-08', '2016-10-09', '2016-10-07',\n",
       "       '2016-10-10', '2016-10-11', '2016-10-17', '2016-10-12',\n",
       "       '2016-10-13', '2016-10-16', '2016-10-15', '2016-10-14',\n",
       "       '2016-10-18', '2016-10-21', '2016-10-23', '2016-10-20',\n",
       "       '2016-10-19', '2016-10-22', '2016-10-25', '2016-10-24',\n",
       "       '2016-11-01', '2016-10-27', '2016-10-26', '2016-10-30',\n",
       "       '2016-10-28', '2016-10-31', '2016-10-29', '2016-11-08',\n",
       "       '2016-11-07', '2016-11-06', '2016-11-02', '2016-11-05',\n",
       "       '2016-11-04', '2016-11-03', '2016-11-14', '2016-11-11',\n",
       "       '2016-11-12', '2016-11-15', '2016-11-09', '2016-11-10',\n",
       "       '2016-11-13', '2016-11-22', '2016-11-20', '2016-11-18',\n",
       "       '2016-11-17', '2016-11-21', '2016-11-16', '2016-11-19',\n",
       "       '2016-11-23', '2016-11-27', '2016-11-25', '2016-11-26',\n",
       "       '2016-11-28', '2016-11-29', '2016-11-24', '2016-12-05',\n",
       "       '2016-11-30', '2016-12-03', '2016-12-06', '2016-12-01',\n",
       "       '2016-12-02', '2016-12-04', '2016-12-08', '2016-12-09',\n",
       "       '2016-12-10', '2016-12-07', '2016-12-13', '2016-12-12',\n",
       "       '2016-12-11', '2016-12-19', '2016-12-16', '2016-12-17',\n",
       "       '2016-12-15', '2016-12-18', '2016-12-14', '2016-12-20',\n",
       "       '2016-12-23', '2016-12-26', '2016-12-22', '2016-12-21',\n",
       "       '2016-12-24', '2016-12-25', '2016-12-27', '2017-01-02',\n",
       "       '2017-01-03', '2016-12-30', '2016-12-31', '2016-12-29',\n",
       "       '2017-01-01', '2016-12-28', '2017-01-05', '2017-01-04',\n",
       "       '2017-01-09', '2017-01-08', '2017-01-10', '2017-01-06',\n",
       "       '2017-01-07'], dtype=object)"
      ]
     },
     "execution_count": 38,
     "metadata": {},
     "output_type": "execute_result"
    }
   ],
   "source": [
    "df_InvoicePurchases['InvoiceDate'].unique()"
   ]
  },
  {
   "cell_type": "markdown",
   "metadata": {},
   "source": [
    "### Dataset \"2017PurchasePricesDec\""
   ]
  },
  {
   "cell_type": "code",
   "execution_count": 39,
   "metadata": {},
   "outputs": [],
   "source": [
    "df_PurchasePrices=pd.read_csv(\"2017PurchasePricesDec.csv\")"
   ]
  },
  {
   "cell_type": "code",
   "execution_count": 40,
   "metadata": {},
   "outputs": [
    {
     "data": {
      "text/plain": [
       "Index(['Brand', 'Description', 'Price', 'Size', 'Volume', 'Classification',\n",
       "       'PurchasePrice', 'VendorNumber', 'VendorName'],\n",
       "      dtype='object')"
      ]
     },
     "execution_count": 40,
     "metadata": {},
     "output_type": "execute_result"
    }
   ],
   "source": [
    "df_PurchasePrices.columns"
   ]
  },
  {
   "cell_type": "code",
   "execution_count": 41,
   "metadata": {},
   "outputs": [
    {
     "data": {
      "text/plain": [
       "Brand               int64\n",
       "Description        object\n",
       "Price             float64\n",
       "Size               object\n",
       "Volume             object\n",
       "Classification      int64\n",
       "PurchasePrice     float64\n",
       "VendorNumber        int64\n",
       "VendorName         object\n",
       "dtype: object"
      ]
     },
     "execution_count": 41,
     "metadata": {},
     "output_type": "execute_result"
    }
   ],
   "source": [
    "df_PurchasePrices.dtypes"
   ]
  },
  {
   "cell_type": "code",
   "execution_count": 42,
   "metadata": {},
   "outputs": [
    {
     "data": {
      "text/plain": [
       "(12261, 9)"
      ]
     },
     "execution_count": 42,
     "metadata": {},
     "output_type": "execute_result"
    }
   ],
   "source": [
    "df_PurchasePrices.shape"
   ]
  },
  {
   "cell_type": "code",
   "execution_count": 43,
   "metadata": {},
   "outputs": [
    {
     "name": "stdout",
     "output_type": "stream",
     "text": [
      "<class 'pandas.core.frame.DataFrame'>\n",
      "RangeIndex: 12261 entries, 0 to 12260\n",
      "Data columns (total 9 columns):\n",
      " #   Column          Non-Null Count  Dtype  \n",
      "---  ------          --------------  -----  \n",
      " 0   Brand           12261 non-null  int64  \n",
      " 1   Description     12260 non-null  object \n",
      " 2   Price           12261 non-null  float64\n",
      " 3   Size            12260 non-null  object \n",
      " 4   Volume          12260 non-null  object \n",
      " 5   Classification  12261 non-null  int64  \n",
      " 6   PurchasePrice   12261 non-null  float64\n",
      " 7   VendorNumber    12261 non-null  int64  \n",
      " 8   VendorName      12261 non-null  object \n",
      "dtypes: float64(2), int64(3), object(4)\n",
      "memory usage: 862.2+ KB\n"
     ]
    }
   ],
   "source": [
    "df_PurchasePrices.info()"
   ]
  },
  {
   "cell_type": "code",
   "execution_count": 135,
   "metadata": {},
   "outputs": [
    {
     "data": {
      "text/html": [
       "<div>\n",
       "<style scoped>\n",
       "    .dataframe tbody tr th:only-of-type {\n",
       "        vertical-align: middle;\n",
       "    }\n",
       "\n",
       "    .dataframe tbody tr th {\n",
       "        vertical-align: top;\n",
       "    }\n",
       "\n",
       "    .dataframe thead th {\n",
       "        text-align: right;\n",
       "    }\n",
       "</style>\n",
       "<table border=\"1\" class=\"dataframe\">\n",
       "  <thead>\n",
       "    <tr style=\"text-align: right;\">\n",
       "      <th></th>\n",
       "      <th>Brand</th>\n",
       "      <th>Description</th>\n",
       "      <th>Price</th>\n",
       "      <th>Size</th>\n",
       "      <th>Volume</th>\n",
       "      <th>Classification</th>\n",
       "      <th>PurchasePrice</th>\n",
       "      <th>VendorNumber</th>\n",
       "      <th>VendorName</th>\n",
       "    </tr>\n",
       "  </thead>\n",
       "  <tbody>\n",
       "    <tr>\n",
       "      <th>0</th>\n",
       "      <td>58</td>\n",
       "      <td>Gekkeikan Black &amp; Gold Sake</td>\n",
       "      <td>12.99</td>\n",
       "      <td>750mL</td>\n",
       "      <td>750</td>\n",
       "      <td>1</td>\n",
       "      <td>9.28</td>\n",
       "      <td>8320</td>\n",
       "      <td>SHAW ROSS INT L IMP LTD</td>\n",
       "    </tr>\n",
       "    <tr>\n",
       "      <th>1</th>\n",
       "      <td>62</td>\n",
       "      <td>Herradura Silver Tequila</td>\n",
       "      <td>36.99</td>\n",
       "      <td>750mL</td>\n",
       "      <td>750</td>\n",
       "      <td>1</td>\n",
       "      <td>28.67</td>\n",
       "      <td>1128</td>\n",
       "      <td>BROWN-FORMAN CORP</td>\n",
       "    </tr>\n",
       "    <tr>\n",
       "      <th>2</th>\n",
       "      <td>63</td>\n",
       "      <td>Herradura Reposado Tequila</td>\n",
       "      <td>38.99</td>\n",
       "      <td>750mL</td>\n",
       "      <td>750</td>\n",
       "      <td>1</td>\n",
       "      <td>30.46</td>\n",
       "      <td>1128</td>\n",
       "      <td>BROWN-FORMAN CORP</td>\n",
       "    </tr>\n",
       "    <tr>\n",
       "      <th>3</th>\n",
       "      <td>72</td>\n",
       "      <td>No. 3 London Dry Gin</td>\n",
       "      <td>34.99</td>\n",
       "      <td>750mL</td>\n",
       "      <td>750</td>\n",
       "      <td>1</td>\n",
       "      <td>26.11</td>\n",
       "      <td>9165</td>\n",
       "      <td>ULTRA BEVERAGE COMPANY LLP</td>\n",
       "    </tr>\n",
       "    <tr>\n",
       "      <th>4</th>\n",
       "      <td>75</td>\n",
       "      <td>Three Olives Tomato Vodka</td>\n",
       "      <td>14.99</td>\n",
       "      <td>750mL</td>\n",
       "      <td>750</td>\n",
       "      <td>1</td>\n",
       "      <td>10.94</td>\n",
       "      <td>7245</td>\n",
       "      <td>PROXIMO SPIRITS INC.</td>\n",
       "    </tr>\n",
       "  </tbody>\n",
       "</table>\n",
       "</div>"
      ],
      "text/plain": [
       "   Brand                  Description  Price   Size Volume  Classification  \\\n",
       "0     58  Gekkeikan Black & Gold Sake  12.99  750mL    750               1   \n",
       "1     62     Herradura Silver Tequila  36.99  750mL    750               1   \n",
       "2     63   Herradura Reposado Tequila  38.99  750mL    750               1   \n",
       "3     72         No. 3 London Dry Gin  34.99  750mL    750               1   \n",
       "4     75    Three Olives Tomato Vodka  14.99  750mL    750               1   \n",
       "\n",
       "   PurchasePrice  VendorNumber                   VendorName  \n",
       "0           9.28          8320  SHAW ROSS INT L IMP LTD      \n",
       "1          28.67          1128  BROWN-FORMAN CORP            \n",
       "2          30.46          1128  BROWN-FORMAN CORP            \n",
       "3          26.11          9165  ULTRA BEVERAGE COMPANY LLP   \n",
       "4          10.94          7245  PROXIMO SPIRITS INC.         "
      ]
     },
     "execution_count": 135,
     "metadata": {},
     "output_type": "execute_result"
    }
   ],
   "source": [
    "df_PurchasePrices.head()"
   ]
  },
  {
   "cell_type": "markdown",
   "metadata": {},
   "source": [
    "#### Hallar los valores nulos de PurchasePrices"
   ]
  },
  {
   "cell_type": "code",
   "execution_count": 134,
   "metadata": {},
   "outputs": [
    {
     "name": "stdout",
     "output_type": "stream",
     "text": [
      "Description    1\n",
      "Size           1\n",
      "Volume         1\n",
      "dtype: int64\n"
     ]
    }
   ],
   "source": [
    "total_nulos_purchaseprices = df_PurchasePrices.isnull().sum()[df_PurchasePrices.isnull().sum()>0]\n",
    "print(total_nulos_purchaseprices)"
   ]
  },
  {
   "cell_type": "markdown",
   "metadata": {},
   "source": [
    "#### Se identifica la fila con valores vacios"
   ]
  },
  {
   "cell_type": "code",
   "execution_count": 136,
   "metadata": {},
   "outputs": [
    {
     "data": {
      "text/html": [
       "<div>\n",
       "<style scoped>\n",
       "    .dataframe tbody tr th:only-of-type {\n",
       "        vertical-align: middle;\n",
       "    }\n",
       "\n",
       "    .dataframe tbody tr th {\n",
       "        vertical-align: top;\n",
       "    }\n",
       "\n",
       "    .dataframe thead th {\n",
       "        text-align: right;\n",
       "    }\n",
       "</style>\n",
       "<table border=\"1\" class=\"dataframe\">\n",
       "  <thead>\n",
       "    <tr style=\"text-align: right;\">\n",
       "      <th></th>\n",
       "      <th>Brand</th>\n",
       "      <th>Description</th>\n",
       "      <th>Price</th>\n",
       "      <th>Size</th>\n",
       "      <th>Volume</th>\n",
       "      <th>Classification</th>\n",
       "      <th>PurchasePrice</th>\n",
       "      <th>VendorNumber</th>\n",
       "      <th>VendorName</th>\n",
       "    </tr>\n",
       "  </thead>\n",
       "  <tbody>\n",
       "    <tr>\n",
       "      <th>7915</th>\n",
       "      <td>4202</td>\n",
       "      <td>NaN</td>\n",
       "      <td>0.0</td>\n",
       "      <td>NaN</td>\n",
       "      <td>NaN</td>\n",
       "      <td>1</td>\n",
       "      <td>11.19</td>\n",
       "      <td>480</td>\n",
       "      <td>BACARDI USA INC</td>\n",
       "    </tr>\n",
       "  </tbody>\n",
       "</table>\n",
       "</div>"
      ],
      "text/plain": [
       "      Brand Description  Price Size Volume  Classification  PurchasePrice  \\\n",
       "7915   4202         NaN    0.0  NaN    NaN               1          11.19   \n",
       "\n",
       "      VendorNumber                   VendorName  \n",
       "7915           480  BACARDI USA INC              "
      ]
     },
     "execution_count": 136,
     "metadata": {},
     "output_type": "execute_result"
    }
   ],
   "source": [
    "# Filtrar las filas donde la columna \"Description\" está vacía\n",
    "df_empty_description = df_PurchasePrices[df_PurchasePrices['Description'].isna()]\n",
    "\n",
    "# Mostrar las filas con \"Size\" vacío\n",
    "df_empty_description\n"
   ]
  },
  {
   "cell_type": "markdown",
   "metadata": {},
   "source": [
    "#### Se verifica en las tablas Inventory, SalesFinal y PurchasesFinal y no se encuentra ningun dato para Brand = 4202"
   ]
  },
  {
   "cell_type": "code",
   "execution_count": 145,
   "metadata": {},
   "outputs": [
    {
     "name": "stdout",
     "output_type": "stream",
     "text": [
      "Empty DataFrame\n",
      "Columns: [InventoryId, Store, City, Brand, Description, Size, onHand, Price, InventoryDate]\n",
      "Index: []\n"
     ]
    }
   ],
   "source": [
    "# Filtrar la fila donde 'Brand' es igual a 4202\n",
    "row_brand_4202 = df_Inventory[df_Inventory['Brand'] == 4202]\n",
    "\n",
    "# Mostrar la fila\n",
    "print(row_brand_4202)\n"
   ]
  },
  {
   "cell_type": "markdown",
   "metadata": {},
   "source": [
    "#### Se elimina la fila que contiene Brand = 4202"
   ]
  },
  {
   "cell_type": "code",
   "execution_count": 146,
   "metadata": {},
   "outputs": [
    {
     "name": "stdout",
     "output_type": "stream",
     "text": [
      "<class 'pandas.core.frame.DataFrame'>\n",
      "Index: 12260 entries, 0 to 12260\n",
      "Data columns (total 9 columns):\n",
      " #   Column          Non-Null Count  Dtype  \n",
      "---  ------          --------------  -----  \n",
      " 0   Brand           12260 non-null  int64  \n",
      " 1   Description     12260 non-null  object \n",
      " 2   Price           12260 non-null  float64\n",
      " 3   Size            12260 non-null  object \n",
      " 4   Volume          12260 non-null  object \n",
      " 5   Classification  12260 non-null  int64  \n",
      " 6   PurchasePrice   12260 non-null  float64\n",
      " 7   VendorNumber    12260 non-null  int64  \n",
      " 8   VendorName      12260 non-null  object \n",
      "dtypes: float64(2), int64(3), object(4)\n",
      "memory usage: 957.8+ KB\n"
     ]
    }
   ],
   "source": [
    "# Eliminar filas donde 'Brand' es igual a 4202\n",
    "df_PurchasePrices = df_PurchasePrices[df_PurchasePrices['Brand'] != 4202]\n",
    "\n",
    "# Mostrar el DataFrame actualizado (opcional)\n",
    "df_PurchasePrices.info()\n"
   ]
  },
  {
   "cell_type": "markdown",
   "metadata": {},
   "source": [
    "### Dataset \"SalesFINAL12312016\""
   ]
  },
  {
   "cell_type": "code",
   "execution_count": 45,
   "metadata": {},
   "outputs": [],
   "source": [
    "df_SalesFinal= pd.read_csv(\"SalesFINAL12312016.csv\")"
   ]
  },
  {
   "cell_type": "code",
   "execution_count": 46,
   "metadata": {},
   "outputs": [
    {
     "data": {
      "text/plain": [
       "Index(['InventoryId', 'Store', 'Brand', 'Description', 'Size', 'SalesQuantity',\n",
       "       'SalesDollars', 'SalesPrice', 'SalesDate', 'Volume', 'Classification',\n",
       "       'ExciseTax', 'VendorNo', 'VendorName'],\n",
       "      dtype='object')"
      ]
     },
     "execution_count": 46,
     "metadata": {},
     "output_type": "execute_result"
    }
   ],
   "source": [
    "df_SalesFinal.columns"
   ]
  },
  {
   "cell_type": "code",
   "execution_count": 47,
   "metadata": {},
   "outputs": [
    {
     "data": {
      "text/plain": [
       "InventoryId        object\n",
       "Store               int64\n",
       "Brand               int64\n",
       "Description        object\n",
       "Size               object\n",
       "SalesQuantity       int64\n",
       "SalesDollars      float64\n",
       "SalesPrice        float64\n",
       "SalesDate          object\n",
       "Volume              int64\n",
       "Classification      int64\n",
       "ExciseTax         float64\n",
       "VendorNo            int64\n",
       "VendorName         object\n",
       "dtype: object"
      ]
     },
     "execution_count": 47,
     "metadata": {},
     "output_type": "execute_result"
    }
   ],
   "source": [
    "df_SalesFinal.dtypes"
   ]
  },
  {
   "cell_type": "code",
   "execution_count": 48,
   "metadata": {},
   "outputs": [
    {
     "data": {
      "text/plain": [
       "(1048575, 14)"
      ]
     },
     "execution_count": 48,
     "metadata": {},
     "output_type": "execute_result"
    }
   ],
   "source": [
    "df_SalesFinal.shape"
   ]
  },
  {
   "cell_type": "code",
   "execution_count": 49,
   "metadata": {},
   "outputs": [
    {
     "name": "stdout",
     "output_type": "stream",
     "text": [
      "<class 'pandas.core.frame.DataFrame'>\n",
      "RangeIndex: 1048575 entries, 0 to 1048574\n",
      "Data columns (total 14 columns):\n",
      " #   Column          Non-Null Count    Dtype  \n",
      "---  ------          --------------    -----  \n",
      " 0   InventoryId     1048575 non-null  object \n",
      " 1   Store           1048575 non-null  int64  \n",
      " 2   Brand           1048575 non-null  int64  \n",
      " 3   Description     1048575 non-null  object \n",
      " 4   Size            1048575 non-null  object \n",
      " 5   SalesQuantity   1048575 non-null  int64  \n",
      " 6   SalesDollars    1048575 non-null  float64\n",
      " 7   SalesPrice      1048575 non-null  float64\n",
      " 8   SalesDate       1048575 non-null  object \n",
      " 9   Volume          1048575 non-null  int64  \n",
      " 10  Classification  1048575 non-null  int64  \n",
      " 11  ExciseTax       1048575 non-null  float64\n",
      " 12  VendorNo        1048575 non-null  int64  \n",
      " 13  VendorName      1048575 non-null  object \n",
      "dtypes: float64(3), int64(6), object(5)\n",
      "memory usage: 112.0+ MB\n"
     ]
    }
   ],
   "source": [
    "df_SalesFinal.info()"
   ]
  },
  {
   "cell_type": "code",
   "execution_count": 50,
   "metadata": {},
   "outputs": [
    {
     "data": {
      "text/html": [
       "<div>\n",
       "<style scoped>\n",
       "    .dataframe tbody tr th:only-of-type {\n",
       "        vertical-align: middle;\n",
       "    }\n",
       "\n",
       "    .dataframe tbody tr th {\n",
       "        vertical-align: top;\n",
       "    }\n",
       "\n",
       "    .dataframe thead th {\n",
       "        text-align: right;\n",
       "    }\n",
       "</style>\n",
       "<table border=\"1\" class=\"dataframe\">\n",
       "  <thead>\n",
       "    <tr style=\"text-align: right;\">\n",
       "      <th></th>\n",
       "      <th>InventoryId</th>\n",
       "      <th>Store</th>\n",
       "      <th>Brand</th>\n",
       "      <th>Description</th>\n",
       "      <th>Size</th>\n",
       "      <th>SalesQuantity</th>\n",
       "      <th>SalesDollars</th>\n",
       "      <th>SalesPrice</th>\n",
       "      <th>SalesDate</th>\n",
       "      <th>Volume</th>\n",
       "      <th>Classification</th>\n",
       "      <th>ExciseTax</th>\n",
       "      <th>VendorNo</th>\n",
       "      <th>VendorName</th>\n",
       "    </tr>\n",
       "  </thead>\n",
       "  <tbody>\n",
       "    <tr>\n",
       "      <th>0</th>\n",
       "      <td>1_HARDERSFIELD_1004</td>\n",
       "      <td>1</td>\n",
       "      <td>1004</td>\n",
       "      <td>Jim Beam w/2 Rocks Glasses</td>\n",
       "      <td>750mL</td>\n",
       "      <td>1</td>\n",
       "      <td>16.49</td>\n",
       "      <td>16.49</td>\n",
       "      <td>1/1/2016</td>\n",
       "      <td>750</td>\n",
       "      <td>1</td>\n",
       "      <td>0.79</td>\n",
       "      <td>12546</td>\n",
       "      <td>JIM BEAM BRANDS COMPANY</td>\n",
       "    </tr>\n",
       "    <tr>\n",
       "      <th>1</th>\n",
       "      <td>1_HARDERSFIELD_1004</td>\n",
       "      <td>1</td>\n",
       "      <td>1004</td>\n",
       "      <td>Jim Beam w/2 Rocks Glasses</td>\n",
       "      <td>750mL</td>\n",
       "      <td>2</td>\n",
       "      <td>32.98</td>\n",
       "      <td>16.49</td>\n",
       "      <td>1/2/2016</td>\n",
       "      <td>750</td>\n",
       "      <td>1</td>\n",
       "      <td>1.57</td>\n",
       "      <td>12546</td>\n",
       "      <td>JIM BEAM BRANDS COMPANY</td>\n",
       "    </tr>\n",
       "    <tr>\n",
       "      <th>2</th>\n",
       "      <td>1_HARDERSFIELD_1004</td>\n",
       "      <td>1</td>\n",
       "      <td>1004</td>\n",
       "      <td>Jim Beam w/2 Rocks Glasses</td>\n",
       "      <td>750mL</td>\n",
       "      <td>1</td>\n",
       "      <td>16.49</td>\n",
       "      <td>16.49</td>\n",
       "      <td>1/3/2016</td>\n",
       "      <td>750</td>\n",
       "      <td>1</td>\n",
       "      <td>0.79</td>\n",
       "      <td>12546</td>\n",
       "      <td>JIM BEAM BRANDS COMPANY</td>\n",
       "    </tr>\n",
       "    <tr>\n",
       "      <th>3</th>\n",
       "      <td>1_HARDERSFIELD_1004</td>\n",
       "      <td>1</td>\n",
       "      <td>1004</td>\n",
       "      <td>Jim Beam w/2 Rocks Glasses</td>\n",
       "      <td>750mL</td>\n",
       "      <td>1</td>\n",
       "      <td>14.49</td>\n",
       "      <td>14.49</td>\n",
       "      <td>1/8/2016</td>\n",
       "      <td>750</td>\n",
       "      <td>1</td>\n",
       "      <td>0.79</td>\n",
       "      <td>12546</td>\n",
       "      <td>JIM BEAM BRANDS COMPANY</td>\n",
       "    </tr>\n",
       "    <tr>\n",
       "      <th>4</th>\n",
       "      <td>1_HARDERSFIELD_1005</td>\n",
       "      <td>1</td>\n",
       "      <td>1005</td>\n",
       "      <td>Maker's Mark Combo Pack</td>\n",
       "      <td>375mL 2 Pk</td>\n",
       "      <td>2</td>\n",
       "      <td>69.98</td>\n",
       "      <td>34.99</td>\n",
       "      <td>1/9/2016</td>\n",
       "      <td>375</td>\n",
       "      <td>1</td>\n",
       "      <td>0.79</td>\n",
       "      <td>12546</td>\n",
       "      <td>JIM BEAM BRANDS COMPANY</td>\n",
       "    </tr>\n",
       "  </tbody>\n",
       "</table>\n",
       "</div>"
      ],
      "text/plain": [
       "           InventoryId  Store  Brand                 Description        Size  \\\n",
       "0  1_HARDERSFIELD_1004      1   1004  Jim Beam w/2 Rocks Glasses       750mL   \n",
       "1  1_HARDERSFIELD_1004      1   1004  Jim Beam w/2 Rocks Glasses       750mL   \n",
       "2  1_HARDERSFIELD_1004      1   1004  Jim Beam w/2 Rocks Glasses       750mL   \n",
       "3  1_HARDERSFIELD_1004      1   1004  Jim Beam w/2 Rocks Glasses       750mL   \n",
       "4  1_HARDERSFIELD_1005      1   1005     Maker's Mark Combo Pack  375mL 2 Pk   \n",
       "\n",
       "   SalesQuantity  SalesDollars  SalesPrice SalesDate  Volume  Classification  \\\n",
       "0              1         16.49       16.49  1/1/2016     750               1   \n",
       "1              2         32.98       16.49  1/2/2016     750               1   \n",
       "2              1         16.49       16.49  1/3/2016     750               1   \n",
       "3              1         14.49       14.49  1/8/2016     750               1   \n",
       "4              2         69.98       34.99  1/9/2016     375               1   \n",
       "\n",
       "   ExciseTax  VendorNo                   VendorName  \n",
       "0       0.79     12546  JIM BEAM BRANDS COMPANY      \n",
       "1       1.57     12546  JIM BEAM BRANDS COMPANY      \n",
       "2       0.79     12546  JIM BEAM BRANDS COMPANY      \n",
       "3       0.79     12546  JIM BEAM BRANDS COMPANY      \n",
       "4       0.79     12546  JIM BEAM BRANDS COMPANY      "
      ]
     },
     "execution_count": 50,
     "metadata": {},
     "output_type": "execute_result"
    }
   ],
   "source": [
    "df_SalesFinal.head()"
   ]
  },
  {
   "cell_type": "code",
   "execution_count": 143,
   "metadata": {},
   "outputs": [
    {
     "name": "stdout",
     "output_type": "stream",
     "text": [
      "Empty DataFrame\n",
      "Columns: [InventoryId, Store, Brand, Description, Size, SalesQuantity, SalesDollars, SalesPrice, SalesDate, Volume, Classification, ExciseTax, VendorNo, VendorName]\n",
      "Index: []\n"
     ]
    }
   ],
   "source": [
    "# Filtrar la fila donde 'Brand' es igual a 4202\n",
    "row_brand_4202 = df_SalesFinal[df_SalesFinal['Brand'] == 4202]\n",
    "\n",
    "# Mostrar la fila\n",
    "print(row_brand_4202)\n"
   ]
  },
  {
   "cell_type": "markdown",
   "metadata": {},
   "source": [
    "#### Hallar Clave unica para df_SalesFinal"
   ]
  },
  {
   "cell_type": "code",
   "execution_count": 51,
   "metadata": {},
   "outputs": [
    {
     "name": "stdout",
     "output_type": "stream",
     "text": [
      "        Brand  VendorNo\n",
      "14426      58      8320\n",
      "14576      60     12546\n",
      "582983     61      8004\n",
      "14656      62      1128\n",
      "14833      63      1128\n",
      "...       ...       ...\n",
      "884641  90084      1703\n",
      "709384  90085         2\n",
      "828671  90086      1703\n",
      "302450  90087      1703\n",
      "347292  90089      1703\n",
      "\n",
      "[7658 rows x 2 columns]\n"
     ]
    }
   ],
   "source": [
    "# Filtrar las columnas 'Brand' y 'VendorNo' y eliminar duplicados\n",
    "filtered_df = df_SalesFinal[['Brand', 'VendorNo']].drop_duplicates()\n",
    "\n",
    "# Ordenar el DataFrame por la columna 'Brand'\n",
    "sorted_df = filtered_df.sort_values(by='Brand')\n",
    "\n",
    "# Mostrar el resultado\n",
    "print(sorted_df)\n"
   ]
  },
  {
   "cell_type": "code",
   "execution_count": 52,
   "metadata": {},
   "outputs": [
    {
     "name": "stdout",
     "output_type": "stream",
     "text": [
      "        Brand  Classification\n",
      "14426      58               1\n",
      "14576      60               1\n",
      "582983     61               1\n",
      "14656      62               1\n",
      "14833      63               1\n",
      "...       ...             ...\n",
      "884641  90084               2\n",
      "709384  90085               2\n",
      "828671  90086               2\n",
      "302450  90087               2\n",
      "347292  90089               2\n",
      "\n",
      "[7658 rows x 2 columns]\n"
     ]
    }
   ],
   "source": [
    "# Filtrar las columnas 'Brand' y 'VendorNo' y eliminar duplicados\n",
    "filtered_df = df_SalesFinal[['Brand', 'Classification']].drop_duplicates()\n",
    "\n",
    "# Ordenar el DataFrame por la columna 'Brand'\n",
    "sorted_df = filtered_df.sort_values(by='Brand')\n",
    "\n",
    "# Mostrar el resultado\n",
    "print(sorted_df)\n"
   ]
  },
  {
   "cell_type": "code",
   "execution_count": 53,
   "metadata": {},
   "outputs": [
    {
     "name": "stdout",
     "output_type": "stream",
     "text": [
      "      Brand  VendorNo  count\n",
      "0        58      8320    212\n",
      "1        60     12546     99\n",
      "2        61      8004      2\n",
      "3        62      1128    132\n",
      "4        63      1128    107\n",
      "...     ...       ...    ...\n",
      "7653  90084      1703      2\n",
      "7654  90085         2      1\n",
      "7655  90086      1703      1\n",
      "7656  90087      1703      1\n",
      "7657  90089      1703      5\n",
      "\n",
      "[7658 rows x 3 columns]\n"
     ]
    }
   ],
   "source": [
    "# Agrupar por las columnas 'Brand' y 'VendorNo' y contar los duplicados\n",
    "duplicates_count = df_SalesFinal.groupby(['Brand', 'VendorNo']).size().reset_index(name='count')\n",
    "\n",
    "# Mostrar el resultado\n",
    "print(duplicates_count)\n"
   ]
  },
  {
   "cell_type": "markdown",
   "metadata": {},
   "source": [
    "#### Clave unica para df_SalesFinal"
   ]
  },
  {
   "cell_type": "code",
   "execution_count": 54,
   "metadata": {},
   "outputs": [
    {
     "name": "stdout",
     "output_type": "stream",
     "text": [
      "              InventoryId  SalesDate  VendorNo  count\n",
      "0         10_HORNSEY_1000  1/29/2016      1485      1\n",
      "1         10_HORNSEY_1001   1/1/2016      3960      1\n",
      "2         10_HORNSEY_1001   1/2/2016      3960      1\n",
      "3         10_HORNSEY_1001   1/4/2016      3960      1\n",
      "4        10_HORNSEY_10030  2/13/2016     90017      1\n",
      "...                   ...        ...       ...    ...\n",
      "1048570   9_BLACKPOOL_984  1/15/2016      9165      1\n",
      "1048571   9_BLACKPOOL_984  1/17/2016      9165      1\n",
      "1048572   9_BLACKPOOL_984  1/19/2016      9165      1\n",
      "1048573   9_BLACKPOOL_984  1/30/2016      9165      1\n",
      "1048574   9_BLACKPOOL_984   1/4/2016      9165      1\n",
      "\n",
      "[1048575 rows x 4 columns]\n"
     ]
    }
   ],
   "source": [
    "# Agrupar por las columnas 'Brand' y 'VendorNo' y contar los duplicados\n",
    "duplicates_count = df_SalesFinal.groupby(['InventoryId','SalesDate', 'VendorNo']).size().reset_index(name='count')\n",
    "\n",
    "# Mostrar el resultado\n",
    "print(duplicates_count)\n"
   ]
  },
  {
   "cell_type": "code",
   "execution_count": 61,
   "metadata": {},
   "outputs": [
    {
     "name": "stdout",
     "output_type": "stream",
     "text": [
      "<class 'pandas.core.frame.DataFrame'>\n",
      "RangeIndex: 1048575 entries, 0 to 1048574\n",
      "Data columns (total 4 columns):\n",
      " #   Column       Non-Null Count    Dtype \n",
      "---  ------       --------------    ----- \n",
      " 0   InventoryId  1048575 non-null  object\n",
      " 1   SalesDate    1048575 non-null  object\n",
      " 2   VendorNo     1048575 non-null  int64 \n",
      " 3   count        1048575 non-null  int64 \n",
      "dtypes: int64(2), object(2)\n",
      "memory usage: 32.0+ MB\n"
     ]
    }
   ],
   "source": [
    "duplicates_count.info()"
   ]
  },
  {
   "cell_type": "markdown",
   "metadata": {},
   "source": [
    "### DATASET PurchasesFINAL12312016"
   ]
  },
  {
   "cell_type": "code",
   "execution_count": 62,
   "metadata": {},
   "outputs": [],
   "source": [
    "df_PurchasesFinal=pd.read_csv(\"PurchasesFINAL12312016.csv\")"
   ]
  },
  {
   "cell_type": "code",
   "execution_count": 63,
   "metadata": {},
   "outputs": [
    {
     "data": {
      "text/plain": [
       "Index(['InventoryId', 'Store', 'Brand', 'Description', 'Size', 'VendorNumber',\n",
       "       'VendorName', 'PONumber', 'PODate', 'ReceivingDate', 'InvoiceDate',\n",
       "       'PayDate', 'PurchasePrice', 'Quantity', 'Dollars', 'Classification'],\n",
       "      dtype='object')"
      ]
     },
     "execution_count": 63,
     "metadata": {},
     "output_type": "execute_result"
    }
   ],
   "source": [
    "df_PurchasesFinal.columns"
   ]
  },
  {
   "cell_type": "code",
   "execution_count": 64,
   "metadata": {},
   "outputs": [
    {
     "data": {
      "text/plain": [
       "array(['ALTAMAR BRANDS LLC         ', 'AMERICAN VINTAGE BEVERAGE  ',\n",
       "       'ATLANTIC IMPORTING COMPANY ', 'BACARDI USA INC            ',\n",
       "       'BANFI PRODUCTS CORP        ', 'BLACK PRINCE DISTILLERY INC',\n",
       "       'BROWN-FORMAN CORP          ', 'BULLY BOY DISTILLERS       ',\n",
       "       'CALEDONIA SPIRITS INC      ', 'CAMPARI AMERICA            ',\n",
       "       'CANDIA VINEYARDS           ', 'CASTLE BRANDS CORP.        ',\n",
       "       'CENTEUR IMPORTS LLC        ', 'CHARLES JACQUIN ET CIE INC ',\n",
       "       'CONSTELLATION BRANDS INC   ', 'CRUSH WINES                ',\n",
       "       'DELICATO VINEYARDS INC     ', 'DIAGEO CHATEAU ESTATE WINES',\n",
       "       'DIAGEO NORTH AMERICA INC   ', 'DISARONNO INTERNATIONAL LLC',\n",
       "       'DJINN SPIRITS LLC          ', 'DUGGANS DISTILLED PRODUCTS ',\n",
       "       'E & J GALLO WINERY         ', 'EDRINGTON AMERICAS         ',\n",
       "       'FABRIZIA SPIRITS LLC       ', 'FLAG HILL WINERY & VINEYARD',\n",
       "       'FORTUNE WINE BROKERS LLC   ', 'FREDERICK WILDMAN & SONS   ',\n",
       "       'HEAVEN HILL DISTILLERIES   ', 'HOOD RIVER DISTILLERS, Inc.',\n",
       "       'INCREDIBREW INC            ', 'JEWELL TOWNE VINEYARDS     ',\n",
       "       'JIM BEAM BRANDS COMPANY    ', 'KLIN SPIRITS LLC           ',\n",
       "       'KOBRAND CORPORATION        ', 'LABELLE VYDS AND WINERY    ',\n",
       "       'LAIRD & CO                 ', 'LATITUDE BEVERAGE COMPANY  ',\n",
       "       'LUXCO INC                  ', 'M S WALKER INC             ',\n",
       "       'MAJESTIC FINE WINES        ', 'MARSALLE COMPANY           ',\n",
       "       'MARTIGNETTI COMPANIES ', 'MARTIGNETTI COMPANIES',\n",
       "       'MCCORMICK DISTILLING CO    ', 'MHW LTD                    ',\n",
       "       'MOET HENNESSY USA INC      ', 'MOONLIGHT MEADERY          ',\n",
       "       'NICHE W & S                ', 'OLE SMOKY DISTILLERY LLC   ',\n",
       "       'PALM BAY INTERNATIONAL INC ', 'PERFECTA WINES             ',\n",
       "       'PERNOD RICARD USA          ', 'PHILLIPS PRODUCTS CO.      ',\n",
       "       'PINE STATE TRADING CO      ', 'POVERTY LANE ORCHARDS      ',\n",
       "       'PREMIER DISTRIBUTORS       ', 'PROXIMO SPIRITS INC.       ',\n",
       "       'PSP WINES ', 'REMY COINTREAU USA INC     ',\n",
       "       'Russian Standard Vodka     ', 'SAZERAC CO INC             ',\n",
       "       'SAZERAC NORTH AMERICA INC. ', 'SEA HAGG DISTILLERY LLC    ',\n",
       "       'Serralles Usa LLC          ', 'SHAW ROSS INT L IMP LTD    ',\n",
       "       'SIDNEY FRANK IMPORTING CO  ', 'SOUTHERN WINE & SPIRITS NE ',\n",
       "       'STAR INDUSTRIES INC.       ', 'STATE WINE & SPIRITS   ',\n",
       "       'STE MICHELLE WINE ESTATES  ', 'STOLI GROUP,(USA) LLC      ',\n",
       "       'SURVILLE ENTERPRISES CORP  ', 'SWEET BABY VINEYARD        ',\n",
       "       'TAKARA SAKE USA INC        ', 'TALL SHIP DISTILLERY LLC   ',\n",
       "       'TREASURY WINE ESTATES      ', 'TRINCHERO FAMILY ESTATES   ',\n",
       "       'ULTRA BEVERAGE COMPANY LLP ', 'VINEDREA WINES LLC         ',\n",
       "       'VINEXTRA INC               ', 'VINEYARD BRANDS INC        ',\n",
       "       'VINILANDIA USA             ', 'VRANKEN AMERICA            ',\n",
       "       'WEIN BAUER INC             ', 'WESTERN SPIRITS BEVERAGE CO',\n",
       "       'WILLIAM GRANT & SONS INC   ', 'WINE GROUP INC             ',\n",
       "       'ZORVINO VINEYARDS          ', 'APPOLO VINEYARDS LLC       ',\n",
       "       'BRONCO WINE COMPANY        ', 'Dunn Wine Brokers          ',\n",
       "       'FULCHINO VINEYARD INC      ', 'HAUNTING WHISPER VYDS      ',\n",
       "       'PREMIUM PORT WINES, INC.   ', 'SEA BREEZE CELLARS LLC     ',\n",
       "       'SMOKY QUARTZ DISTILLERY LLC', 'STELLAR IMPORTING CO LLC   ',\n",
       "       'THE PIERPONT GROUP LLC     ', 'TY KU LLC                  ',\n",
       "       'BLACK ROCK SPIRITS LLC     ', 'Circa Wines                ',\n",
       "       'TAMWORTH DISTILLING        ', 'THE IMPORTED GRAPE LLC     ',\n",
       "       'WALPOLE MTN VIEW WINERY    ', 'MILTONS DISTRIBUTING CO    ',\n",
       "       'ALISA CARR BEVERAGES           ', 'CAPSTONE INTERNATIONAL     ',\n",
       "       'MANGO BOTTLING INC         ', 'R.P.IMPORTS INC            ',\n",
       "       'SWEETWATER FARM         ', 'UNCORKED       ',\n",
       "       'HIGHLAND WINE MERCHANTS LLC', 'PARK STREET IMPORTS LLC    ',\n",
       "       'IRA GOLDMAN AND WILLIAMS, LLP          ',\n",
       "       'SILVER MOUNTAIN CIDERS     ', 'FANTASY FINE WINES CORP    ',\n",
       "       'ADAMBA IMPORTS INTL INC    ', 'AMERICAN SPIRITS EXCHANGE  ',\n",
       "       'TRUETT HURST               ', 'STARK BREWING COMPANY      ',\n",
       "       'SOUTHERN GLAZERS W&S OF NE ', 'GILMANTON WINERY & VINEYARD',\n",
       "       'FLAVOR ESSENCE INC         ', 'LAUREATE IMPORTS CO        ',\n",
       "       'BLACK COVE BEVERAGES       ', 'LOYAL DOG WINERY           ',\n",
       "       'VINEYARD BRANDS LLC        ', 'AAPER ALCOHOL & CHEMICAL CO'],\n",
       "      dtype=object)"
      ]
     },
     "execution_count": 64,
     "metadata": {},
     "output_type": "execute_result"
    }
   ],
   "source": [
    "df_PurchasesFinal[\"VendorName\"].unique()"
   ]
  },
  {
   "cell_type": "code",
   "execution_count": 65,
   "metadata": {},
   "outputs": [
    {
     "data": {
      "text/plain": [
       "InventoryId        object\n",
       "Store               int64\n",
       "Brand               int64\n",
       "Description        object\n",
       "Size               object\n",
       "VendorNumber        int64\n",
       "VendorName         object\n",
       "PONumber            int64\n",
       "PODate             object\n",
       "ReceivingDate      object\n",
       "InvoiceDate        object\n",
       "PayDate            object\n",
       "PurchasePrice     float64\n",
       "Quantity            int64\n",
       "Dollars           float64\n",
       "Classification      int64\n",
       "dtype: object"
      ]
     },
     "execution_count": 65,
     "metadata": {},
     "output_type": "execute_result"
    }
   ],
   "source": [
    "df_PurchasesFinal.dtypes"
   ]
  },
  {
   "cell_type": "code",
   "execution_count": 66,
   "metadata": {},
   "outputs": [
    {
     "data": {
      "text/plain": [
       "(2372474, 16)"
      ]
     },
     "execution_count": 66,
     "metadata": {},
     "output_type": "execute_result"
    }
   ],
   "source": [
    "df_PurchasesFinal.shape"
   ]
  },
  {
   "cell_type": "code",
   "execution_count": 67,
   "metadata": {},
   "outputs": [
    {
     "name": "stdout",
     "output_type": "stream",
     "text": [
      "<class 'pandas.core.frame.DataFrame'>\n",
      "RangeIndex: 2372474 entries, 0 to 2372473\n",
      "Data columns (total 16 columns):\n",
      " #   Column          Dtype  \n",
      "---  ------          -----  \n",
      " 0   InventoryId     object \n",
      " 1   Store           int64  \n",
      " 2   Brand           int64  \n",
      " 3   Description     object \n",
      " 4   Size            object \n",
      " 5   VendorNumber    int64  \n",
      " 6   VendorName      object \n",
      " 7   PONumber        int64  \n",
      " 8   PODate          object \n",
      " 9   ReceivingDate   object \n",
      " 10  InvoiceDate     object \n",
      " 11  PayDate         object \n",
      " 12  PurchasePrice   float64\n",
      " 13  Quantity        int64  \n",
      " 14  Dollars         float64\n",
      " 15  Classification  int64  \n",
      "dtypes: float64(2), int64(6), object(8)\n",
      "memory usage: 289.6+ MB\n"
     ]
    }
   ],
   "source": [
    "df_PurchasesFinal.info()"
   ]
  },
  {
   "cell_type": "markdown",
   "metadata": {},
   "source": [
    "#### Verificar si Classification corresponde como único valor de Brand"
   ]
  },
  {
   "cell_type": "code",
   "execution_count": 68,
   "metadata": {},
   "outputs": [
    {
     "name": "stdout",
     "output_type": "stream",
     "text": [
      "Empty DataFrame\n",
      "Columns: [Brand, Classification]\n",
      "Index: []\n"
     ]
    }
   ],
   "source": [
    "classification_unique = df_PurchasesFinal.groupby('Brand')['Classification'].nunique().reset_index()\n",
    "\n",
    "# Filtrar las marcas que tienen más de un valor único de Classification\n",
    "brands_with_multiple_classifications = classification_unique[classification_unique['Classification'] > 1]\n",
    "\n",
    "print(brands_with_multiple_classifications)\n"
   ]
  },
  {
   "cell_type": "markdown",
   "metadata": {},
   "source": [
    "##### Arriba ↑↑ se demuestra que \"Classification\", que tiene valores de 1 y 2 unicos para cada Brand"
   ]
  },
  {
   "cell_type": "code",
   "execution_count": 69,
   "metadata": {},
   "outputs": [
    {
     "data": {
      "text/plain": [
       "array([1, 2])"
      ]
     },
     "execution_count": 69,
     "metadata": {},
     "output_type": "execute_result"
    }
   ],
   "source": [
    "df_PurchasesFinal['Classification'].unique()"
   ]
  },
  {
   "cell_type": "markdown",
   "metadata": {},
   "source": [
    "#### Hallar Clave Unica para Purchase Final"
   ]
  },
  {
   "cell_type": "code",
   "execution_count": 70,
   "metadata": {},
   "outputs": [
    {
     "data": {
      "text/html": [
       "<div>\n",
       "<style scoped>\n",
       "    .dataframe tbody tr th:only-of-type {\n",
       "        vertical-align: middle;\n",
       "    }\n",
       "\n",
       "    .dataframe tbody tr th {\n",
       "        vertical-align: top;\n",
       "    }\n",
       "\n",
       "    .dataframe thead th {\n",
       "        text-align: right;\n",
       "    }\n",
       "</style>\n",
       "<table border=\"1\" class=\"dataframe\">\n",
       "  <thead>\n",
       "    <tr style=\"text-align: right;\">\n",
       "      <th></th>\n",
       "      <th>InventoryId</th>\n",
       "      <th>Store</th>\n",
       "      <th>Brand</th>\n",
       "      <th>Description</th>\n",
       "      <th>Size</th>\n",
       "      <th>VendorNumber</th>\n",
       "      <th>VendorName</th>\n",
       "      <th>PONumber</th>\n",
       "      <th>PODate</th>\n",
       "      <th>ReceivingDate</th>\n",
       "      <th>InvoiceDate</th>\n",
       "      <th>PayDate</th>\n",
       "      <th>PurchasePrice</th>\n",
       "      <th>Quantity</th>\n",
       "      <th>Dollars</th>\n",
       "      <th>Classification</th>\n",
       "    </tr>\n",
       "  </thead>\n",
       "  <tbody>\n",
       "    <tr>\n",
       "      <th>0</th>\n",
       "      <td>69_MOUNTMEND_8412</td>\n",
       "      <td>69</td>\n",
       "      <td>8412</td>\n",
       "      <td>Tequila Ocho Plata Fresno</td>\n",
       "      <td>750mL</td>\n",
       "      <td>105</td>\n",
       "      <td>ALTAMAR BRANDS LLC</td>\n",
       "      <td>8124</td>\n",
       "      <td>2015-12-21</td>\n",
       "      <td>2016-01-02</td>\n",
       "      <td>2016-01-04</td>\n",
       "      <td>2016-02-16</td>\n",
       "      <td>35.71</td>\n",
       "      <td>6</td>\n",
       "      <td>214.26</td>\n",
       "      <td>1</td>\n",
       "    </tr>\n",
       "    <tr>\n",
       "      <th>1</th>\n",
       "      <td>30_CULCHETH_5255</td>\n",
       "      <td>30</td>\n",
       "      <td>5255</td>\n",
       "      <td>TGI Fridays Ultimte Mudslide</td>\n",
       "      <td>1.75L</td>\n",
       "      <td>4466</td>\n",
       "      <td>AMERICAN VINTAGE BEVERAGE</td>\n",
       "      <td>8137</td>\n",
       "      <td>2015-12-22</td>\n",
       "      <td>2016-01-01</td>\n",
       "      <td>2016-01-07</td>\n",
       "      <td>2016-02-21</td>\n",
       "      <td>9.35</td>\n",
       "      <td>4</td>\n",
       "      <td>37.40</td>\n",
       "      <td>1</td>\n",
       "    </tr>\n",
       "    <tr>\n",
       "      <th>2</th>\n",
       "      <td>34_PITMERDEN_5215</td>\n",
       "      <td>34</td>\n",
       "      <td>5215</td>\n",
       "      <td>TGI Fridays Long Island Iced</td>\n",
       "      <td>1.75L</td>\n",
       "      <td>4466</td>\n",
       "      <td>AMERICAN VINTAGE BEVERAGE</td>\n",
       "      <td>8137</td>\n",
       "      <td>2015-12-22</td>\n",
       "      <td>2016-01-02</td>\n",
       "      <td>2016-01-07</td>\n",
       "      <td>2016-02-21</td>\n",
       "      <td>9.41</td>\n",
       "      <td>5</td>\n",
       "      <td>47.05</td>\n",
       "      <td>1</td>\n",
       "    </tr>\n",
       "    <tr>\n",
       "      <th>3</th>\n",
       "      <td>1_HARDERSFIELD_5255</td>\n",
       "      <td>1</td>\n",
       "      <td>5255</td>\n",
       "      <td>TGI Fridays Ultimte Mudslide</td>\n",
       "      <td>1.75L</td>\n",
       "      <td>4466</td>\n",
       "      <td>AMERICAN VINTAGE BEVERAGE</td>\n",
       "      <td>8137</td>\n",
       "      <td>2015-12-22</td>\n",
       "      <td>2016-01-01</td>\n",
       "      <td>2016-01-07</td>\n",
       "      <td>2016-02-21</td>\n",
       "      <td>9.35</td>\n",
       "      <td>6</td>\n",
       "      <td>56.10</td>\n",
       "      <td>1</td>\n",
       "    </tr>\n",
       "    <tr>\n",
       "      <th>4</th>\n",
       "      <td>76_DONCASTER_2034</td>\n",
       "      <td>76</td>\n",
       "      <td>2034</td>\n",
       "      <td>Glendalough Double Barrel</td>\n",
       "      <td>750mL</td>\n",
       "      <td>388</td>\n",
       "      <td>ATLANTIC IMPORTING COMPANY</td>\n",
       "      <td>8169</td>\n",
       "      <td>2015-12-24</td>\n",
       "      <td>2016-01-02</td>\n",
       "      <td>2016-01-09</td>\n",
       "      <td>2016-02-16</td>\n",
       "      <td>21.32</td>\n",
       "      <td>5</td>\n",
       "      <td>106.60</td>\n",
       "      <td>1</td>\n",
       "    </tr>\n",
       "  </tbody>\n",
       "</table>\n",
       "</div>"
      ],
      "text/plain": [
       "           InventoryId  Store  Brand                   Description   Size  \\\n",
       "0    69_MOUNTMEND_8412     69   8412     Tequila Ocho Plata Fresno  750mL   \n",
       "1     30_CULCHETH_5255     30   5255  TGI Fridays Ultimte Mudslide  1.75L   \n",
       "2    34_PITMERDEN_5215     34   5215  TGI Fridays Long Island Iced  1.75L   \n",
       "3  1_HARDERSFIELD_5255      1   5255  TGI Fridays Ultimte Mudslide  1.75L   \n",
       "4    76_DONCASTER_2034     76   2034     Glendalough Double Barrel  750mL   \n",
       "\n",
       "   VendorNumber                   VendorName  PONumber      PODate  \\\n",
       "0           105  ALTAMAR BRANDS LLC               8124  2015-12-21   \n",
       "1          4466  AMERICAN VINTAGE BEVERAGE        8137  2015-12-22   \n",
       "2          4466  AMERICAN VINTAGE BEVERAGE        8137  2015-12-22   \n",
       "3          4466  AMERICAN VINTAGE BEVERAGE        8137  2015-12-22   \n",
       "4           388  ATLANTIC IMPORTING COMPANY       8169  2015-12-24   \n",
       "\n",
       "  ReceivingDate InvoiceDate     PayDate  PurchasePrice  Quantity  Dollars  \\\n",
       "0    2016-01-02  2016-01-04  2016-02-16          35.71         6   214.26   \n",
       "1    2016-01-01  2016-01-07  2016-02-21           9.35         4    37.40   \n",
       "2    2016-01-02  2016-01-07  2016-02-21           9.41         5    47.05   \n",
       "3    2016-01-01  2016-01-07  2016-02-21           9.35         6    56.10   \n",
       "4    2016-01-02  2016-01-09  2016-02-16          21.32         5   106.60   \n",
       "\n",
       "   Classification  \n",
       "0               1  \n",
       "1               1  \n",
       "2               1  \n",
       "3               1  \n",
       "4               1  "
      ]
     },
     "execution_count": 70,
     "metadata": {},
     "output_type": "execute_result"
    }
   ],
   "source": [
    "df_PurchasesFinal.head()"
   ]
  },
  {
   "cell_type": "code",
   "execution_count": 71,
   "metadata": {},
   "outputs": [
    {
     "name": "stdout",
     "output_type": "stream",
     "text": [
      "Size    3\n",
      "dtype: int64\n"
     ]
    }
   ],
   "source": [
    "total_nulos_purchasesfinal = df_PurchasesFinal.isnull().sum()[df_PurchasesFinal.isnull().sum()>0]\n",
    "print(total_nulos_purchasesfinal)"
   ]
  },
  {
   "cell_type": "markdown",
   "metadata": {},
   "source": [
    "### LLENAR LOS 3 NULOS DE LA COLUMNA SIZE"
   ]
  },
  {
   "cell_type": "code",
   "execution_count": 72,
   "metadata": {},
   "outputs": [
    {
     "data": {
      "text/html": [
       "<div>\n",
       "<style scoped>\n",
       "    .dataframe tbody tr th:only-of-type {\n",
       "        vertical-align: middle;\n",
       "    }\n",
       "\n",
       "    .dataframe tbody tr th {\n",
       "        vertical-align: top;\n",
       "    }\n",
       "\n",
       "    .dataframe thead th {\n",
       "        text-align: right;\n",
       "    }\n",
       "</style>\n",
       "<table border=\"1\" class=\"dataframe\">\n",
       "  <thead>\n",
       "    <tr style=\"text-align: right;\">\n",
       "      <th></th>\n",
       "      <th>InventoryId</th>\n",
       "      <th>Store</th>\n",
       "      <th>Brand</th>\n",
       "      <th>Description</th>\n",
       "      <th>Size</th>\n",
       "      <th>VendorNumber</th>\n",
       "      <th>VendorName</th>\n",
       "      <th>PONumber</th>\n",
       "      <th>PODate</th>\n",
       "      <th>ReceivingDate</th>\n",
       "      <th>InvoiceDate</th>\n",
       "      <th>PayDate</th>\n",
       "      <th>PurchasePrice</th>\n",
       "      <th>Quantity</th>\n",
       "      <th>Dollars</th>\n",
       "      <th>Classification</th>\n",
       "    </tr>\n",
       "  </thead>\n",
       "  <tbody>\n",
       "    <tr>\n",
       "      <th>1109668</th>\n",
       "      <td>34_PITMERDEN_3121</td>\n",
       "      <td>34</td>\n",
       "      <td>3121</td>\n",
       "      <td>Pinnacle Rainbow Sherbet</td>\n",
       "      <td>NaN</td>\n",
       "      <td>12546</td>\n",
       "      <td>JIM BEAM BRANDS COMPANY</td>\n",
       "      <td>10938</td>\n",
       "      <td>2016-06-27</td>\n",
       "      <td>2016-07-04</td>\n",
       "      <td>2016-07-13</td>\n",
       "      <td>2016-08-16</td>\n",
       "      <td>6.93</td>\n",
       "      <td>7</td>\n",
       "      <td>48.51</td>\n",
       "      <td>1</td>\n",
       "    </tr>\n",
       "    <tr>\n",
       "      <th>1112426</th>\n",
       "      <td>34_PITMERDEN_5678</td>\n",
       "      <td>34</td>\n",
       "      <td>5678</td>\n",
       "      <td>Skinnygirl Pina Colada</td>\n",
       "      <td>NaN</td>\n",
       "      <td>12546</td>\n",
       "      <td>JIM BEAM BRANDS COMPANY</td>\n",
       "      <td>10938</td>\n",
       "      <td>2016-06-27</td>\n",
       "      <td>2016-07-09</td>\n",
       "      <td>2016-07-13</td>\n",
       "      <td>2016-08-16</td>\n",
       "      <td>6.93</td>\n",
       "      <td>6</td>\n",
       "      <td>41.58</td>\n",
       "      <td>1</td>\n",
       "    </tr>\n",
       "    <tr>\n",
       "      <th>1116302</th>\n",
       "      <td>39_EASTHALLOW_15365</td>\n",
       "      <td>39</td>\n",
       "      <td>15365</td>\n",
       "      <td>Alabaster 07 Tinta de Toro</td>\n",
       "      <td>NaN</td>\n",
       "      <td>9552</td>\n",
       "      <td>M S WALKER INC</td>\n",
       "      <td>10972</td>\n",
       "      <td>2016-06-29</td>\n",
       "      <td>2016-07-07</td>\n",
       "      <td>2016-07-13</td>\n",
       "      <td>2016-08-21</td>\n",
       "      <td>91.83</td>\n",
       "      <td>1</td>\n",
       "      <td>91.83</td>\n",
       "      <td>2</td>\n",
       "    </tr>\n",
       "  </tbody>\n",
       "</table>\n",
       "</div>"
      ],
      "text/plain": [
       "                 InventoryId  Store  Brand                 Description Size  \\\n",
       "1109668    34_PITMERDEN_3121     34   3121    Pinnacle Rainbow Sherbet  NaN   \n",
       "1112426    34_PITMERDEN_5678     34   5678      Skinnygirl Pina Colada  NaN   \n",
       "1116302  39_EASTHALLOW_15365     39  15365  Alabaster 07 Tinta de Toro  NaN   \n",
       "\n",
       "         VendorNumber                   VendorName  PONumber      PODate  \\\n",
       "1109668         12546  JIM BEAM BRANDS COMPANY         10938  2016-06-27   \n",
       "1112426         12546  JIM BEAM BRANDS COMPANY         10938  2016-06-27   \n",
       "1116302          9552  M S WALKER INC                  10972  2016-06-29   \n",
       "\n",
       "        ReceivingDate InvoiceDate     PayDate  PurchasePrice  Quantity  \\\n",
       "1109668    2016-07-04  2016-07-13  2016-08-16           6.93         7   \n",
       "1112426    2016-07-09  2016-07-13  2016-08-16           6.93         6   \n",
       "1116302    2016-07-07  2016-07-13  2016-08-21          91.83         1   \n",
       "\n",
       "         Dollars  Classification  \n",
       "1109668    48.51               1  \n",
       "1112426    41.58               1  \n",
       "1116302    91.83               2  "
      ]
     },
     "execution_count": 72,
     "metadata": {},
     "output_type": "execute_result"
    }
   ],
   "source": [
    "# Filtrar las filas donde la columna \"Size\" está vacía\n",
    "df_empty_size = df_PurchasesFinal[df_PurchasesFinal['Size'].isna()]\n",
    "\n",
    "# Mostrar las filas con \"Size\" vacío\n",
    "df_empty_size\n"
   ]
  },
  {
   "cell_type": "code",
   "execution_count": 73,
   "metadata": {},
   "outputs": [
    {
     "data": {
      "text/plain": [
       "Brand  Size \n",
       "3121   750mL    33\n",
       "5678   750mL    16\n",
       "15365  750mL     2\n",
       "Name: count, dtype: int64"
      ]
     },
     "execution_count": 73,
     "metadata": {},
     "output_type": "execute_result"
    }
   ],
   "source": [
    "# Filtrar las filas donde la columna 'Brand' sea igual a '3121', '5678' o '15365'\n",
    "brands_to_check = [3121, 5678, 15365]\n",
    "df_filtered = df_BegInvFinal[df_BegInvFinal['Brand'].isin(brands_to_check)]\n",
    "\n",
    "# Mostrar solo las columnas 'Brand' y 'Size' para las brands seleccionadas\n",
    "df_filtered[['Brand', 'Size']].value_counts()\n"
   ]
  },
  {
   "cell_type": "code",
   "execution_count": 74,
   "metadata": {},
   "outputs": [
    {
     "name": "stdout",
     "output_type": "stream",
     "text": [
      "<class 'pandas.core.series.Series'>\n",
      "RangeIndex: 2372474 entries, 0 to 2372473\n",
      "Series name: Size\n",
      "Non-Null Count    Dtype \n",
      "--------------    ----- \n",
      "2372474 non-null  object\n",
      "dtypes: object(1)\n",
      "memory usage: 18.1+ MB\n"
     ]
    }
   ],
   "source": [
    "# Llenar los espacios vacíos en la columna 'Size' con el valor '750mL'\n",
    "df_PurchasesFinal.fillna({'Size':'750mL'}, inplace=True)\n",
    "\n",
    "# Verificar que se hayan llenado los valores nulos\n",
    "df_PurchasesFinal['Size'].info()\n"
   ]
  },
  {
   "cell_type": "code",
   "execution_count": 75,
   "metadata": {},
   "outputs": [
    {
     "name": "stdout",
     "output_type": "stream",
     "text": [
      "<class 'pandas.core.frame.DataFrame'>\n",
      "RangeIndex: 2372474 entries, 0 to 2372473\n",
      "Data columns (total 16 columns):\n",
      " #   Column          Dtype  \n",
      "---  ------          -----  \n",
      " 0   InventoryId     object \n",
      " 1   Store           int64  \n",
      " 2   Brand           int64  \n",
      " 3   Description     object \n",
      " 4   Size            object \n",
      " 5   VendorNumber    int64  \n",
      " 6   VendorName      object \n",
      " 7   PONumber        int64  \n",
      " 8   PODate          object \n",
      " 9   ReceivingDate   object \n",
      " 10  InvoiceDate     object \n",
      " 11  PayDate         object \n",
      " 12  PurchasePrice   float64\n",
      " 13  Quantity        int64  \n",
      " 14  Dollars         float64\n",
      " 15  Classification  int64  \n",
      "dtypes: float64(2), int64(6), object(8)\n",
      "memory usage: 289.6+ MB\n"
     ]
    }
   ],
   "source": [
    "df_PurchasesFinal.info()"
   ]
  },
  {
   "cell_type": "code",
   "execution_count": 142,
   "metadata": {},
   "outputs": [
    {
     "name": "stdout",
     "output_type": "stream",
     "text": [
      "Empty DataFrame\n",
      "Columns: [InventoryId, Store, Brand, Description, Size, VendorNumber, VendorName, PONumber, PODate, ReceivingDate, InvoiceDate, PayDate, PurchasePrice, Quantity, Dollars, Classification]\n",
      "Index: []\n"
     ]
    }
   ],
   "source": [
    "# Filtrar la fila donde 'Brand' es igual a 4202\n",
    "row_brand_4202 = df_PurchasesFinal[df_PurchasesFinal['Brand'] == 4202]\n",
    "\n",
    "# Mostrar la fila\n",
    "print(row_brand_4202)\n"
   ]
  },
  {
   "cell_type": "code",
   "execution_count": 76,
   "metadata": {},
   "outputs": [
    {
     "name": "stdout",
     "output_type": "stream",
     "text": [
      "Series([], dtype: int64)\n"
     ]
    }
   ],
   "source": [
    "total_nulos_purchasesfinal = df_PurchasesFinal.isnull().sum()[df_PurchasesFinal.isnull().sum()>0]\n",
    "print(total_nulos_purchasesfinal)"
   ]
  },
  {
   "cell_type": "markdown",
   "metadata": {},
   "source": [
    "#### Clave unica para df_PurchasesFinal"
   ]
  },
  {
   "cell_type": "code",
   "execution_count": 79,
   "metadata": {},
   "outputs": [
    {
     "name": "stdout",
     "output_type": "stream",
     "text": [
      "             InventoryId  PONumber ReceivingDate  count\n",
      "0        10_HORNSEY_1001     11191    2016-07-19      1\n",
      "1        10_HORNSEY_1001     11589    2016-08-16      1\n",
      "2        10_HORNSEY_1003     12369    2016-10-04      1\n",
      "3        10_HORNSEY_1003     12585    2016-10-19      1\n",
      "4        10_HORNSEY_1003     12676    2016-10-28      1\n",
      "...                  ...       ...           ...    ...\n",
      "2372469  9_BLACKPOOL_984     11898    2016-09-07      1\n",
      "2372470  9_BLACKPOOL_984     12689    2016-10-26      1\n",
      "2372471  9_BLACKPOOL_984     13286    2016-12-07      1\n",
      "2372472  9_BLACKPOOL_984     13604    2016-12-28      1\n",
      "2372473  9_BLACKPOOL_999      9028    2016-02-29      1\n",
      "\n",
      "[2372474 rows x 4 columns]\n"
     ]
    }
   ],
   "source": [
    "# Agrupar por las columnas 'Brand' y 'VendorNo' y contar los duplicados\n",
    "duplicates_count_2 = df_PurchasesFinal.groupby(['InventoryId', 'PONumber','ReceivingDate']).size().reset_index(name='count')\n",
    "\n",
    "# Mostrar el resultado\n",
    "print(duplicates_count_2)\n"
   ]
  },
  {
   "cell_type": "code",
   "execution_count": 358,
   "metadata": {},
   "outputs": [],
   "source": [
    "# Agrupar por las columnas 'Brand' y 'VendorNo' y contar los duplicados\n",
    "duplicates_count_2 = df_PurchasesFinal.groupby(['Store', 'Brand','Description']).size().reset_index(name='count')\n"
   ]
  },
  {
   "cell_type": "code",
   "execution_count": 359,
   "metadata": {},
   "outputs": [
    {
     "name": "stdout",
     "output_type": "stream",
     "text": [
      "<class 'pandas.core.frame.DataFrame'>\n",
      "RangeIndex: 244679 entries, 0 to 244678\n",
      "Data columns (total 4 columns):\n",
      " #   Column       Non-Null Count   Dtype \n",
      "---  ------       --------------   ----- \n",
      " 0   Store        244679 non-null  int64 \n",
      " 1   Brand        244679 non-null  int64 \n",
      " 2   Description  244679 non-null  object\n",
      " 3   count        244679 non-null  int64 \n",
      "dtypes: int64(3), object(1)\n",
      "memory usage: 7.5+ MB\n"
     ]
    }
   ],
   "source": [
    "duplicates_count_2.info()"
   ]
  },
  {
   "cell_type": "code",
   "execution_count": 80,
   "metadata": {},
   "outputs": [
    {
     "name": "stdout",
     "output_type": "stream",
     "text": [
      "<class 'pandas.core.frame.DataFrame'>\n",
      "RangeIndex: 2372474 entries, 0 to 2372473\n",
      "Data columns (total 4 columns):\n",
      " #   Column         Dtype \n",
      "---  ------         ----- \n",
      " 0   InventoryId    object\n",
      " 1   PONumber       int64 \n",
      " 2   ReceivingDate  object\n",
      " 3   count          int64 \n",
      "dtypes: int64(2), object(2)\n",
      "memory usage: 72.4+ MB\n"
     ]
    }
   ],
   "source": [
    "duplicates_count_2.info()"
   ]
  },
  {
   "cell_type": "code",
   "execution_count": 81,
   "metadata": {},
   "outputs": [
    {
     "name": "stdout",
     "output_type": "stream",
     "text": [
      "Series([], dtype: int64)\n"
     ]
    }
   ],
   "source": [
    "total_nulos_df_duplicates = duplicates_count_2.isnull().sum()[duplicates_count_2.isnull().sum()>0]\n",
    "print(total_nulos_df_duplicates)"
   ]
  },
  {
   "cell_type": "markdown",
   "metadata": {},
   "source": [
    "### LIMPIAR VACIOS DE MIS TABLAS"
   ]
  },
  {
   "cell_type": "markdown",
   "metadata": {},
   "source": [
    "#### TABLA PURCHASESFINAL"
   ]
  },
  {
   "cell_type": "code",
   "execution_count": 82,
   "metadata": {},
   "outputs": [
    {
     "name": "stdout",
     "output_type": "stream",
     "text": [
      "<class 'pandas.core.frame.DataFrame'>\n",
      "RangeIndex: 2372474 entries, 0 to 2372473\n",
      "Data columns (total 16 columns):\n",
      " #   Column          Dtype  \n",
      "---  ------          -----  \n",
      " 0   InventoryId     object \n",
      " 1   Store           int64  \n",
      " 2   Brand           int64  \n",
      " 3   Description     object \n",
      " 4   Size            object \n",
      " 5   VendorNumber    int64  \n",
      " 6   VendorName      object \n",
      " 7   PONumber        int64  \n",
      " 8   PODate          object \n",
      " 9   ReceivingDate   object \n",
      " 10  InvoiceDate     object \n",
      " 11  PayDate         object \n",
      " 12  PurchasePrice   float64\n",
      " 13  Quantity        int64  \n",
      " 14  Dollars         float64\n",
      " 15  Classification  int64  \n",
      "dtypes: float64(2), int64(6), object(8)\n",
      "memory usage: 289.6+ MB\n"
     ]
    }
   ],
   "source": [
    "# Eliminar espacios en blanco al inicio y al final de cada texto en todas las columnas\n",
    "df_PurchasesFinal = df_PurchasesFinal.map(lambda x: x.strip() if isinstance(x, str) else x)\n",
    "\n",
    "# Mostrar el DataFrame actualizado\n",
    "df_PurchasesFinal.info()\n"
   ]
  },
  {
   "cell_type": "code",
   "execution_count": 83,
   "metadata": {},
   "outputs": [
    {
     "data": {
      "text/plain": [
       "Series([], dtype: int64)"
      ]
     },
     "execution_count": 83,
     "metadata": {},
     "output_type": "execute_result"
    }
   ],
   "source": [
    "df_PurchasesFinal.isnull().sum()[df_PurchasesFinal.isnull().sum()>0]"
   ]
  },
  {
   "cell_type": "markdown",
   "metadata": {},
   "source": [
    "#### TABLA SALESFINAL"
   ]
  },
  {
   "cell_type": "code",
   "execution_count": 84,
   "metadata": {},
   "outputs": [
    {
     "name": "stdout",
     "output_type": "stream",
     "text": [
      "<class 'pandas.core.frame.DataFrame'>\n",
      "RangeIndex: 1048575 entries, 0 to 1048574\n",
      "Data columns (total 14 columns):\n",
      " #   Column          Non-Null Count    Dtype  \n",
      "---  ------          --------------    -----  \n",
      " 0   InventoryId     1048575 non-null  object \n",
      " 1   Store           1048575 non-null  int64  \n",
      " 2   Brand           1048575 non-null  int64  \n",
      " 3   Description     1048575 non-null  object \n",
      " 4   Size            1048575 non-null  object \n",
      " 5   SalesQuantity   1048575 non-null  int64  \n",
      " 6   SalesDollars    1048575 non-null  float64\n",
      " 7   SalesPrice      1048575 non-null  float64\n",
      " 8   SalesDate       1048575 non-null  object \n",
      " 9   Volume          1048575 non-null  int64  \n",
      " 10  Classification  1048575 non-null  int64  \n",
      " 11  ExciseTax       1048575 non-null  float64\n",
      " 12  VendorNo        1048575 non-null  int64  \n",
      " 13  VendorName      1048575 non-null  object \n",
      "dtypes: float64(3), int64(6), object(5)\n",
      "memory usage: 112.0+ MB\n"
     ]
    }
   ],
   "source": [
    "# Eliminar espacios en blanco al inicio y al final de cada texto en todas las columnas\n",
    "df_SalesFinal = df_SalesFinal.map(lambda x: x.strip() if isinstance(x, str) else x)\n",
    "\n",
    "# Mostrar el DataFrame actualizado\n",
    "df_SalesFinal.info()\n"
   ]
  },
  {
   "cell_type": "code",
   "execution_count": 85,
   "metadata": {},
   "outputs": [
    {
     "data": {
      "text/plain": [
       "Series([], dtype: int64)"
      ]
     },
     "execution_count": 85,
     "metadata": {},
     "output_type": "execute_result"
    }
   ],
   "source": [
    "df_SalesFinal.isnull().sum()[df_SalesFinal.isnull().sum()>0]"
   ]
  },
  {
   "cell_type": "markdown",
   "metadata": {},
   "source": [
    "### TABLA DF_INVENTORY"
   ]
  },
  {
   "cell_type": "code",
   "execution_count": 86,
   "metadata": {},
   "outputs": [
    {
     "name": "stdout",
     "output_type": "stream",
     "text": [
      "<class 'pandas.core.frame.DataFrame'>\n",
      "RangeIndex: 431018 entries, 0 to 431017\n",
      "Data columns (total 9 columns):\n",
      " #   Column         Non-Null Count   Dtype  \n",
      "---  ------         --------------   -----  \n",
      " 0   InventoryId    431018 non-null  object \n",
      " 1   Store          431018 non-null  int64  \n",
      " 2   City           431018 non-null  object \n",
      " 3   Brand          431018 non-null  int64  \n",
      " 4   Description    431018 non-null  object \n",
      " 5   Size           431018 non-null  object \n",
      " 6   onHand         431018 non-null  int64  \n",
      " 7   Price          431018 non-null  float64\n",
      " 8   InventoryDate  431018 non-null  object \n",
      "dtypes: float64(1), int64(3), object(5)\n",
      "memory usage: 29.6+ MB\n"
     ]
    }
   ],
   "source": [
    "# Eliminar espacios en blanco al inicio y al final de cada texto en todas las columnas\n",
    "df_Inventory = df_Inventory.map(lambda x: x.strip() if isinstance(x, str) else x)\n",
    "\n",
    "# Mostrar el DataFrame actualizado\n",
    "df_Inventory.info()\n"
   ]
  },
  {
   "cell_type": "code",
   "execution_count": 87,
   "metadata": {},
   "outputs": [
    {
     "data": {
      "text/plain": [
       "Series([], dtype: int64)"
      ]
     },
     "execution_count": 87,
     "metadata": {},
     "output_type": "execute_result"
    }
   ],
   "source": [
    "df_Inventory.isnull().sum()[df_Inventory.isnull().sum()>0]"
   ]
  },
  {
   "cell_type": "markdown",
   "metadata": {},
   "source": [
    "#### TABLA PURCHASEPRICES"
   ]
  },
  {
   "cell_type": "code",
   "execution_count": 147,
   "metadata": {},
   "outputs": [
    {
     "name": "stdout",
     "output_type": "stream",
     "text": [
      "<class 'pandas.core.frame.DataFrame'>\n",
      "Index: 12260 entries, 0 to 12260\n",
      "Data columns (total 9 columns):\n",
      " #   Column          Non-Null Count  Dtype  \n",
      "---  ------          --------------  -----  \n",
      " 0   Brand           12260 non-null  int64  \n",
      " 1   Description     12260 non-null  object \n",
      " 2   Price           12260 non-null  float64\n",
      " 3   Size            12260 non-null  object \n",
      " 4   Volume          12260 non-null  object \n",
      " 5   Classification  12260 non-null  int64  \n",
      " 6   PurchasePrice   12260 non-null  float64\n",
      " 7   VendorNumber    12260 non-null  int64  \n",
      " 8   VendorName      12260 non-null  object \n",
      "dtypes: float64(2), int64(3), object(4)\n",
      "memory usage: 957.8+ KB\n"
     ]
    }
   ],
   "source": [
    "# Eliminar espacios en blanco al inicio y al final de cada texto en todas las columnas\n",
    "df_PurchasePrices = df_PurchasePrices.map(lambda x: x.strip() if isinstance(x, str) else x)\n",
    "\n",
    "# Mostrar el DataFrame actualizado\n",
    "df_PurchasePrices.info()\n"
   ]
  },
  {
   "cell_type": "code",
   "execution_count": 148,
   "metadata": {},
   "outputs": [
    {
     "data": {
      "text/plain": [
       "Series([], dtype: int64)"
      ]
     },
     "execution_count": 148,
     "metadata": {},
     "output_type": "execute_result"
    }
   ],
   "source": [
    "df_PurchasePrices.isnull().sum()[df_PurchasePrices.isnull().sum()>0]"
   ]
  },
  {
   "cell_type": "markdown",
   "metadata": {},
   "source": [
    "## GUARDAMOS NUESTROS ARCHIVOS LIMPIOS, SIN NULOS Y TRANSFORMADOS"
   ]
  },
  {
   "cell_type": "code",
   "execution_count": 88,
   "metadata": {},
   "outputs": [],
   "source": [
    "df_Inventory.to_csv('Fact_Inventory_paso1.csv', index=False)\n"
   ]
  },
  {
   "cell_type": "code",
   "execution_count": 89,
   "metadata": {},
   "outputs": [],
   "source": [
    "df_SalesFinal.to_csv('Fact_Sales_paso1.csv', index=False)\n"
   ]
  },
  {
   "cell_type": "code",
   "execution_count": 90,
   "metadata": {},
   "outputs": [],
   "source": [
    "df_PurchasesFinal.to_csv('Fact_Purchases_paso1.csv', index=False)\n"
   ]
  },
  {
   "cell_type": "code",
   "execution_count": 150,
   "metadata": {},
   "outputs": [],
   "source": [
    "df_PurchasePrices.to_csv('df_PurchasePrices_paso1.csv', index=False)"
   ]
  },
  {
   "cell_type": "markdown",
   "metadata": {},
   "source": [
    "## ABRIMOS NUEVAMENTE NUESTROS ARCHIVOS PARA SEGUIR TRABAJANDO"
   ]
  },
  {
   "cell_type": "code",
   "execution_count": 91,
   "metadata": {},
   "outputs": [],
   "source": [
    "import pandas as pd\n",
    "import numpy as np"
   ]
  },
  {
   "cell_type": "code",
   "execution_count": 92,
   "metadata": {},
   "outputs": [],
   "source": [
    "df_Inventory= pd.read_csv(\"Fact_Inventory_paso1.csv\")"
   ]
  },
  {
   "cell_type": "code",
   "execution_count": 443,
   "metadata": {},
   "outputs": [],
   "source": [
    "df_PurchasesFinal= pd.read_csv(\"Fact_Purchases_paso1.csv\")"
   ]
  },
  {
   "cell_type": "code",
   "execution_count": 444,
   "metadata": {},
   "outputs": [],
   "source": [
    "df_SalesFinal= pd.read_csv(\"Fact_Sales_paso1.csv\")"
   ]
  },
  {
   "cell_type": "code",
   "execution_count": 151,
   "metadata": {},
   "outputs": [],
   "source": [
    "df_PurchasePrices= pd.read_csv(\"df_PurchasePrices_paso1.csv\")"
   ]
  },
  {
   "cell_type": "markdown",
   "metadata": {},
   "source": [
    "#### Verificamos nuevamente nuestra data"
   ]
  },
  {
   "cell_type": "code",
   "execution_count": 97,
   "metadata": {},
   "outputs": [
    {
     "data": {
      "text/plain": [
       "(431018, 9)"
      ]
     },
     "execution_count": 97,
     "metadata": {},
     "output_type": "execute_result"
    }
   ],
   "source": [
    "df_Inventory.shape"
   ]
  },
  {
   "cell_type": "code",
   "execution_count": 101,
   "metadata": {},
   "outputs": [
    {
     "name": "stdout",
     "output_type": "stream",
     "text": [
      "<class 'pandas.core.frame.DataFrame'>\n",
      "RangeIndex: 431018 entries, 0 to 431017\n",
      "Data columns (total 9 columns):\n",
      " #   Column         Non-Null Count   Dtype  \n",
      "---  ------         --------------   -----  \n",
      " 0   InventoryId    431018 non-null  object \n",
      " 1   Store          431018 non-null  int64  \n",
      " 2   City           431018 non-null  object \n",
      " 3   Brand          431018 non-null  int64  \n",
      " 4   Description    431018 non-null  object \n",
      " 5   Size           431018 non-null  object \n",
      " 6   onHand         431018 non-null  int64  \n",
      " 7   Price          431018 non-null  float64\n",
      " 8   InventoryDate  431018 non-null  object \n",
      "dtypes: float64(1), int64(3), object(5)\n",
      "memory usage: 29.6+ MB\n"
     ]
    }
   ],
   "source": [
    "df_Inventory.info()"
   ]
  },
  {
   "cell_type": "code",
   "execution_count": 106,
   "metadata": {},
   "outputs": [
    {
     "data": {
      "text/plain": [
       "Series([], dtype: int64)"
      ]
     },
     "execution_count": 106,
     "metadata": {},
     "output_type": "execute_result"
    }
   ],
   "source": [
    "df_Inventory.isnull().sum()[df_Inventory.isnull().sum()>0]"
   ]
  },
  {
   "cell_type": "code",
   "execution_count": 98,
   "metadata": {},
   "outputs": [
    {
     "data": {
      "text/plain": [
       "(1048575, 14)"
      ]
     },
     "execution_count": 98,
     "metadata": {},
     "output_type": "execute_result"
    }
   ],
   "source": [
    "df_SalesFinal.shape"
   ]
  },
  {
   "cell_type": "code",
   "execution_count": 102,
   "metadata": {},
   "outputs": [
    {
     "name": "stdout",
     "output_type": "stream",
     "text": [
      "<class 'pandas.core.frame.DataFrame'>\n",
      "RangeIndex: 1048575 entries, 0 to 1048574\n",
      "Data columns (total 14 columns):\n",
      " #   Column          Non-Null Count    Dtype  \n",
      "---  ------          --------------    -----  \n",
      " 0   InventoryId     1048575 non-null  object \n",
      " 1   Store           1048575 non-null  int64  \n",
      " 2   Brand           1048575 non-null  int64  \n",
      " 3   Description     1048575 non-null  object \n",
      " 4   Size            1048575 non-null  object \n",
      " 5   SalesQuantity   1048575 non-null  int64  \n",
      " 6   SalesDollars    1048575 non-null  float64\n",
      " 7   SalesPrice      1048575 non-null  float64\n",
      " 8   SalesDate       1048575 non-null  object \n",
      " 9   Volume          1048575 non-null  int64  \n",
      " 10  Classification  1048575 non-null  int64  \n",
      " 11  ExciseTax       1048575 non-null  float64\n",
      " 12  VendorNo        1048575 non-null  int64  \n",
      " 13  VendorName      1048575 non-null  object \n",
      "dtypes: float64(3), int64(6), object(5)\n",
      "memory usage: 112.0+ MB\n"
     ]
    }
   ],
   "source": [
    "df_SalesFinal.info()"
   ]
  },
  {
   "cell_type": "code",
   "execution_count": 105,
   "metadata": {},
   "outputs": [
    {
     "data": {
      "text/plain": [
       "Series([], dtype: int64)"
      ]
     },
     "execution_count": 105,
     "metadata": {},
     "output_type": "execute_result"
    }
   ],
   "source": [
    "df_SalesFinal.isnull().sum()[df_SalesFinal.isnull().sum()>0]"
   ]
  },
  {
   "cell_type": "code",
   "execution_count": 99,
   "metadata": {},
   "outputs": [
    {
     "data": {
      "text/plain": [
       "(2372474, 16)"
      ]
     },
     "execution_count": 99,
     "metadata": {},
     "output_type": "execute_result"
    }
   ],
   "source": [
    "df_PurchasesFinal.shape"
   ]
  },
  {
   "cell_type": "code",
   "execution_count": 103,
   "metadata": {},
   "outputs": [
    {
     "name": "stdout",
     "output_type": "stream",
     "text": [
      "<class 'pandas.core.frame.DataFrame'>\n",
      "RangeIndex: 2372474 entries, 0 to 2372473\n",
      "Data columns (total 16 columns):\n",
      " #   Column          Dtype  \n",
      "---  ------          -----  \n",
      " 0   InventoryId     object \n",
      " 1   Store           int64  \n",
      " 2   Brand           int64  \n",
      " 3   Description     object \n",
      " 4   Size            object \n",
      " 5   VendorNumber    int64  \n",
      " 6   VendorName      object \n",
      " 7   PONumber        int64  \n",
      " 8   PODate          object \n",
      " 9   ReceivingDate   object \n",
      " 10  InvoiceDate     object \n",
      " 11  PayDate         object \n",
      " 12  PurchasePrice   float64\n",
      " 13  Quantity        int64  \n",
      " 14  Dollars         float64\n",
      " 15  Classification  int64  \n",
      "dtypes: float64(2), int64(6), object(8)\n",
      "memory usage: 289.6+ MB\n"
     ]
    }
   ],
   "source": [
    "df_PurchasesFinal.info()"
   ]
  },
  {
   "cell_type": "code",
   "execution_count": 104,
   "metadata": {},
   "outputs": [
    {
     "data": {
      "text/plain": [
       "Series([], dtype: int64)"
      ]
     },
     "execution_count": 104,
     "metadata": {},
     "output_type": "execute_result"
    }
   ],
   "source": [
    "df_PurchasesFinal.isnull().sum()[df_PurchasesFinal.isnull().sum()>0]"
   ]
  },
  {
   "cell_type": "code",
   "execution_count": 152,
   "metadata": {},
   "outputs": [
    {
     "data": {
      "text/plain": [
       "(12260, 9)"
      ]
     },
     "execution_count": 152,
     "metadata": {},
     "output_type": "execute_result"
    }
   ],
   "source": [
    "df_PurchasePrices.shape"
   ]
  },
  {
   "cell_type": "code",
   "execution_count": 153,
   "metadata": {},
   "outputs": [
    {
     "name": "stdout",
     "output_type": "stream",
     "text": [
      "<class 'pandas.core.frame.DataFrame'>\n",
      "RangeIndex: 12260 entries, 0 to 12259\n",
      "Data columns (total 9 columns):\n",
      " #   Column          Non-Null Count  Dtype  \n",
      "---  ------          --------------  -----  \n",
      " 0   Brand           12260 non-null  int64  \n",
      " 1   Description     12260 non-null  object \n",
      " 2   Price           12260 non-null  float64\n",
      " 3   Size            12260 non-null  object \n",
      " 4   Volume          12260 non-null  object \n",
      " 5   Classification  12260 non-null  int64  \n",
      " 6   PurchasePrice   12260 non-null  float64\n",
      " 7   VendorNumber    12260 non-null  int64  \n",
      " 8   VendorName      12260 non-null  object \n",
      "dtypes: float64(2), int64(3), object(4)\n",
      "memory usage: 862.2+ KB\n"
     ]
    }
   ],
   "source": [
    "df_PurchasePrices.info()"
   ]
  },
  {
   "cell_type": "code",
   "execution_count": 154,
   "metadata": {},
   "outputs": [
    {
     "data": {
      "text/plain": [
       "Series([], dtype: int64)"
      ]
     },
     "execution_count": 154,
     "metadata": {},
     "output_type": "execute_result"
    }
   ],
   "source": [
    "df_PurchasePrices.isnull().sum()[df_PurchasePrices.isnull().sum()>0]"
   ]
  },
  {
   "cell_type": "markdown",
   "metadata": {},
   "source": [
    "## CREACION DE TABLAS DIMENSIONALES"
   ]
  },
  {
   "cell_type": "markdown",
   "metadata": {},
   "source": [
    "#### Primero verificamos caracterísitcas de nuestra data"
   ]
  },
  {
   "cell_type": "markdown",
   "metadata": {},
   "source": [
    "##### Revisamos df_Inventory"
   ]
  },
  {
   "cell_type": "code",
   "execution_count": 108,
   "metadata": {},
   "outputs": [
    {
     "data": {
      "text/plain": [
       "Index(['InventoryId', 'Store', 'City', 'Brand', 'Description', 'Size',\n",
       "       'onHand', 'Price', 'InventoryDate'],\n",
       "      dtype='object')"
      ]
     },
     "execution_count": 108,
     "metadata": {},
     "output_type": "execute_result"
    }
   ],
   "source": [
    "df_Inventory.columns"
   ]
  },
  {
   "cell_type": "code",
   "execution_count": 132,
   "metadata": {},
   "outputs": [
    {
     "data": {
      "text/plain": [
       "(431018, 9)"
      ]
     },
     "execution_count": 132,
     "metadata": {},
     "output_type": "execute_result"
    }
   ],
   "source": [
    "df_Inventory.shape"
   ]
  },
  {
   "cell_type": "code",
   "execution_count": 113,
   "metadata": {},
   "outputs": [
    {
     "data": {
      "text/plain": [
       "Brand\n",
       "6983     159\n",
       "77       159\n",
       "6976     159\n",
       "6967     159\n",
       "15527    159\n",
       "        ... \n",
       "21418      1\n",
       "17841      1\n",
       "15070      1\n",
       "13808      1\n",
       "8930       1\n",
       "Name: count, Length: 10759, dtype: int64"
      ]
     },
     "execution_count": 113,
     "metadata": {},
     "output_type": "execute_result"
    }
   ],
   "source": [
    "df_Inventory['Brand'].value_counts()"
   ]
  },
  {
   "cell_type": "code",
   "execution_count": 118,
   "metadata": {},
   "outputs": [
    {
     "name": "stdout",
     "output_type": "stream",
     "text": [
      "       Brand  Description\n",
      "54       178            2\n",
      "116      311            2\n",
      "126      350            2\n",
      "143      381            2\n",
      "257      652            2\n",
      "...      ...          ...\n",
      "10406  43937            2\n",
      "10472  44613            2\n",
      "10496  44742            2\n",
      "10552  45322            2\n",
      "10596  45837            2\n",
      "\n",
      "[117 rows x 2 columns]\n",
      "Number of Brands with more than one unique Description: 117\n"
     ]
    }
   ],
   "source": [
    "# Agrupar por 'Brand' y contar los valores únicos de 'Description'\n",
    "df_grouped = df_Inventory.groupby('Brand')['Description'].nunique().reset_index()\n",
    "\n",
    "# Filtrar los casos donde hay más de un valor único de 'Description'\n",
    "df_multiple_descriptions = df_grouped[df_grouped['Description'] > 1]\n",
    "\n",
    "# Ver cuántos Brand tienen más de una Description\n",
    "count_brands = df_multiple_descriptions.shape[0]\n",
    "\n",
    "# Mostrar los Brand con más de una Description\n",
    "print(df_multiple_descriptions[['Brand', 'Description']])\n",
    "\n",
    "# Mostrar cuántos Brand tienen más de una Description\n",
    "print(f\"Number of Brands with more than one unique Description: {count_brands}\")\n"
   ]
  },
  {
   "cell_type": "code",
   "execution_count": 119,
   "metadata": {},
   "outputs": [
    {
     "data": {
      "text/plain": [
       "array([2])"
      ]
     },
     "execution_count": 119,
     "metadata": {},
     "output_type": "execute_result"
    }
   ],
   "source": [
    "df_multiple_descriptions['Description'].unique()"
   ]
  },
  {
   "cell_type": "code",
   "execution_count": 124,
   "metadata": {},
   "outputs": [
    {
     "data": {
      "text/plain": [
       "array([\"Wild Turkey Russell's RSV\", \"W Turkey Russell's RSV 10 Yr\"],\n",
       "      dtype=object)"
      ]
     },
     "execution_count": 124,
     "metadata": {},
     "output_type": "execute_result"
    }
   ],
   "source": [
    "# Filtrar la fila donde 'Brand' es igual a 178\n",
    "row_brand_178 = df_Inventory[df_Inventory['Brand'] == 178]\n",
    "\n",
    "# Mostrar la fila\n",
    "row_brand_178['Description'].unique()\n"
   ]
  },
  {
   "cell_type": "code",
   "execution_count": 126,
   "metadata": {},
   "outputs": [
    {
     "data": {
      "text/plain": [
       "array(['The Glenlivet 12 Yr Gift Pk', 'The Glenlivet w/2 50mLs Pak'],\n",
       "      dtype=object)"
      ]
     },
     "execution_count": 126,
     "metadata": {},
     "output_type": "execute_result"
    }
   ],
   "source": [
    "# Filtrar la fila donde 'Brand' es igual a 178\n",
    "row_brand_311 = df_Inventory[df_Inventory['Brand'] == 311]\n",
    "\n",
    "# Mostrar la fila\n",
    "row_brand_311['Description'].unique()\n"
   ]
  },
  {
   "cell_type": "markdown",
   "metadata": {},
   "source": [
    "#### CONCLUSION: El valor de la columna \"Description\" para la misma Brand, está escrito de forma diferente en el inventario de inicio de año y fin de año, esto se debe corregir."
   ]
  },
  {
   "cell_type": "markdown",
   "metadata": {},
   "source": [
    "##### Revisamos df_PurchaisePrices"
   ]
  },
  {
   "cell_type": "code",
   "execution_count": 155,
   "metadata": {},
   "outputs": [
    {
     "data": {
      "text/plain": [
       "(12260, 9)"
      ]
     },
     "execution_count": 155,
     "metadata": {},
     "output_type": "execute_result"
    }
   ],
   "source": [
    "df_PurchasePrices.shape"
   ]
  },
  {
   "cell_type": "code",
   "execution_count": 166,
   "metadata": {},
   "outputs": [
    {
     "data": {
      "text/plain": [
       "Brand\n",
       "46964    1\n",
       "58       1\n",
       "62       1\n",
       "63       1\n",
       "33052    1\n",
       "        ..\n",
       "126      1\n",
       "115      1\n",
       "79       1\n",
       "77       1\n",
       "75       1\n",
       "Name: count, Length: 12260, dtype: int64"
      ]
     },
     "execution_count": 166,
     "metadata": {},
     "output_type": "execute_result"
    }
   ],
   "source": [
    "df_PurchasePrices['Brand'].value_counts()"
   ]
  },
  {
   "cell_type": "code",
   "execution_count": 167,
   "metadata": {},
   "outputs": [
    {
     "data": {
      "text/plain": [
       "Size\n",
       "750mL          9823\n",
       "1500mL          486\n",
       "1750mL          433\n",
       "1000mL          427\n",
       "375mL           318\n",
       "50mL            276\n",
       "3000mL          104\n",
       "187mL            52\n",
       "500mL            51\n",
       "187mL 4 Pk       48\n",
       "5000mL           44\n",
       "200mL            26\n",
       "300mL            24\n",
       "4000mL           16\n",
       "1500ml           11\n",
       "720mL            11\n",
       "100mL             8\n",
       "750mL 2 Pk        6\n",
       "250mL 4 Pk        6\n",
       "50mL 4 Pk         6\n",
       "330mL             5\n",
       "180mL             5\n",
       "50mL 3 Pk         5\n",
       "20000mL           5\n",
       "50mL 5 Pk         4\n",
       "200mL 3 Pk        4\n",
       "6000mL            4\n",
       "Unknown           4\n",
       "187mL 3 Pk        4\n",
       "375mL 2 Pk        3\n",
       "200mL 4 Pk        3\n",
       "750mL 3 Pk        3\n",
       "18000mL           3\n",
       "250mL             3\n",
       "150mL             2\n",
       "100mL 4 Pk        2\n",
       "375mL 3 Pk        2\n",
       "750mL + 3/        2\n",
       "750mL 6 Pk        2\n",
       "600mL             2\n",
       "560mL             2\n",
       "20mL 5 Pk         1\n",
       "750mL + 4/        1\n",
       "1000mL 2 Pk       1\n",
       "650mL             1\n",
       "750mL 12 P        1\n",
       "750mL + 1/        1\n",
       "50mL 12 Pk        1\n",
       "400mL             1\n",
       "162.5mL           1\n",
       "200mL 5 Pk        1\n",
       "1100ml            1\n",
       "19500mL           1\n",
       "3750mL            1\n",
       "750mL  3          1\n",
       "9000mL            1\n",
       "Name: count, dtype: int64"
      ]
     },
     "execution_count": 167,
     "metadata": {},
     "output_type": "execute_result"
    }
   ],
   "source": [
    "df_PurchasePrices['Size'].value_counts()"
   ]
  },
  {
   "cell_type": "code",
   "execution_count": 168,
   "metadata": {},
   "outputs": [
    {
     "data": {
      "text/plain": [
       "Description\n",
       "Bacardi Superior Rum            7\n",
       "Jagermeister Liqueur            7\n",
       "Capt Morgan Spiced Rum          6\n",
       "Patron Silver Tequila           6\n",
       "Jim Beam                        6\n",
       "                               ..\n",
       "Priest Ranch Sauvignon Blanc    1\n",
       "DLD Syrah -Les Gosses           1\n",
       "Morgan Winery Albarino          1\n",
       "Chateau D'Armailhac 2014        1\n",
       "Three Olives Espresso Vodka     1\n",
       "Name: count, Length: 11114, dtype: int64"
      ]
     },
     "execution_count": 168,
     "metadata": {},
     "output_type": "execute_result"
    }
   ],
   "source": [
    "df_PurchasePrices['Description'].value_counts()"
   ]
  },
  {
   "cell_type": "code",
   "execution_count": 157,
   "metadata": {},
   "outputs": [
    {
     "name": "stdout",
     "output_type": "stream",
     "text": [
      "Empty DataFrame\n",
      "Columns: [Brand, Description]\n",
      "Index: []\n",
      "Number of Brands with more than one unique Description: 0\n"
     ]
    }
   ],
   "source": [
    "# Agrupar por 'Brand' y contar los valores únicos de 'Description'\n",
    "df_grouped_pp = df_PurchasePrices.groupby('Brand')['Description'].nunique().reset_index()\n",
    "\n",
    "# Filtrar los casos donde hay más de un valor único de 'Description'\n",
    "df_multiple_descriptions_pp = df_grouped_pp[df_grouped_pp['Description'] > 1]\n",
    "\n",
    "# Ver cuántos Brand tienen más de una Description\n",
    "count_brands_pp = df_multiple_descriptions_pp.shape[0]\n",
    "\n",
    "# Mostrar los Brand con más de una Description\n",
    "print(df_multiple_descriptions_pp[['Brand', 'Description']])\n",
    "\n",
    "# Mostrar cuántos Brand tienen más de una Description\n",
    "print(f\"Number of Brands with more than one unique Description: {count_brands_pp}\")\n"
   ]
  },
  {
   "cell_type": "code",
   "execution_count": 170,
   "metadata": {},
   "outputs": [
    {
     "name": "stdout",
     "output_type": "stream",
     "text": [
      "Empty DataFrame\n",
      "Columns: [Brand, Size]\n",
      "Index: []\n",
      "Number of Brands with more than one unique Size: 0\n"
     ]
    }
   ],
   "source": [
    "# Agrupar por 'Brand' y contar los valores únicos de 'Size'\n",
    "df_grouped_pp2 = df_PurchasePrices.groupby('Brand')['Size'].nunique().reset_index()\n",
    "\n",
    "# Filtrar los casos donde hay más de un valor único de 'Description'\n",
    "df_multiple_size_pp = df_grouped_pp2[df_grouped_pp2['Size'] > 1]\n",
    "\n",
    "# Ver cuántos Brand tienen más de una Description\n",
    "count_brands_pp2 = df_multiple_size_pp.shape[0]\n",
    "\n",
    "# Mostrar los Brand con más de una Description\n",
    "print(df_multiple_size_pp[['Brand', 'Size']])\n",
    "\n",
    "# Mostrar cuántos Brand tienen más de una Description\n",
    "print(f\"Number of Brands with more than one unique Size: {count_brands_pp2}\")\n"
   ]
  },
  {
   "cell_type": "code",
   "execution_count": 175,
   "metadata": {},
   "outputs": [
    {
     "name": "stdout",
     "output_type": "stream",
     "text": [
      "                        Description  Brand\n",
      "27             1800 Coconut Tequila      2\n",
      "29       1800 Reposado Gold Tequila      5\n",
      "31              1800 Silver Tequila      4\n",
      "65                       99 Bananas      2\n",
      "66                  99 Blackberries      2\n",
      "...                             ...    ...\n",
      "11022     Yellow Tail Sweet Red Roo      2\n",
      "11023   Yellow Tail Sweet White Roo      2\n",
      "11024   Yellow Tail Tree Free Chard      2\n",
      "11034                    Yukon Jack      4\n",
      "11055  Zardetto Private Cuvee Glara      2\n",
      "\n",
      "[791 rows x 2 columns]\n",
      "Number of Description with more than one unique Brand: 791\n"
     ]
    }
   ],
   "source": [
    "# Agrupar por 'Description' y contar los valores únicos de 'Brand'\n",
    "df_grouped_pp3 = df_PurchasePrices.groupby('Description')['Brand'].nunique().reset_index()\n",
    "\n",
    "# Filtrar los casos donde hay más de un valor único de 'Brand'\n",
    "df_multiple_brand_pp = df_grouped_pp3[df_grouped_pp3['Brand'] > 1]\n",
    "\n",
    "# Ver cuántos Description tienen más de una Brand\n",
    "count_brand_pp = df_multiple_brand_pp.shape[0]\n",
    "\n",
    "# Mostrar los Description con más de una Brand\n",
    "print(df_multiple_brand_pp[['Description', 'Brand']])\n",
    "\n",
    "# Mostrar cuántos Description tienen más de una Brand\n",
    "print(f\"Number of Description with more than one unique Brand: {count_brand_pp}\")\n"
   ]
  },
  {
   "cell_type": "code",
   "execution_count": 176,
   "metadata": {},
   "outputs": [
    {
     "name": "stdout",
     "output_type": "stream",
     "text": [
      "                        Description  Size\n",
      "27             1800 Coconut Tequila     2\n",
      "29       1800 Reposado Gold Tequila     5\n",
      "31              1800 Silver Tequila     4\n",
      "65                       99 Bananas     2\n",
      "66                  99 Blackberries     2\n",
      "...                             ...   ...\n",
      "11022     Yellow Tail Sweet Red Roo     2\n",
      "11023   Yellow Tail Sweet White Roo     2\n",
      "11024   Yellow Tail Tree Free Chard     2\n",
      "11034                    Yukon Jack     4\n",
      "11055  Zardetto Private Cuvee Glara     2\n",
      "\n",
      "[760 rows x 2 columns]\n",
      "Number of Description with more than one unique Brand: 760\n"
     ]
    }
   ],
   "source": [
    "# Agrupar por 'Description' y contar los valores únicos de 'Size'\n",
    "df_grouped_pp4 = df_PurchasePrices.groupby('Description')['Size'].nunique().reset_index()\n",
    "\n",
    "# Filtrar los casos donde hay más de un valor único de 'Size'\n",
    "df_multiple_size_pp2 = df_grouped_pp4[df_grouped_pp4['Size'] > 1]\n",
    "\n",
    "# Ver cuántos Description tienen más de una Brand\n",
    "count_size_pp2 = df_multiple_size_pp2.shape[0]\n",
    "\n",
    "# Mostrar los Brand con más de una Description\n",
    "print(df_multiple_size_pp2[['Description', 'Size']])\n",
    "\n",
    "# Mostrar cuántos Description tienen más de una Size\n",
    "print(f\"Number of Description with more than one unique Brand: {count_size_pp2}\")\n"
   ]
  },
  {
   "cell_type": "code",
   "execution_count": 290,
   "metadata": {},
   "outputs": [
    {
     "name": "stdout",
     "output_type": "stream",
     "text": [
      "                       Description  Classification\n",
      "5319              J Roget Spumante               2\n",
      "6557          M & R Sweet Vermouth               2\n",
      "6558          M & R X Dry Vermouth               2\n",
      "8588  Richards Wild Irish Rose Red               2\n",
      "9163  Shady Fruit Real Ruby Red Gr               2\n",
      "9193     Sho Chiku Bai Takara Sake               2\n",
      "9660  Stock Italian Sweet Vermouth               2\n",
      "Number of Descrption with more than one unique Classification: 7\n"
     ]
    }
   ],
   "source": [
    "# Agrupar por 'Description' y contar los valores únicos de 'Classification'\n",
    "df_grouped_pp8 = df_PurchasePrices.groupby('Description')['Classification'].nunique().reset_index()\n",
    "\n",
    "# Filtrar los casos donde hay más de un valor único de 'Classification'\n",
    "df_multiple_class = df_grouped_pp8[df_grouped_pp8['Classification'] > 1]\n",
    "\n",
    "# Ver cuántos Description tienen más de un Classification\n",
    "count_class= df_multiple_class.shape[0]\n",
    "\n",
    "# Mostrar los Description con más de un Classification\n",
    "print(df_multiple_class[['Description', 'Classification']])\n",
    "\n",
    "# Mostrar cuántos Description tienen más de un Classification\n",
    "print(f\"Number of Descrption with more than one unique Classification: {count_class}\")\n"
   ]
  },
  {
   "cell_type": "markdown",
   "metadata": {},
   "source": [
    "#### CONCLUSION: La tabla PurchasePrices tiene valor unico a Brand"
   ]
  },
  {
   "cell_type": "markdown",
   "metadata": {},
   "source": [
    "#### Revisamos la tabla PurchaiseFinal"
   ]
  },
  {
   "cell_type": "code",
   "execution_count": 229,
   "metadata": {},
   "outputs": [
    {
     "data": {
      "text/plain": [
       "(2372474, 16)"
      ]
     },
     "execution_count": 229,
     "metadata": {},
     "output_type": "execute_result"
    }
   ],
   "source": [
    "df_PurchasesFinal.shape"
   ]
  },
  {
   "cell_type": "code",
   "execution_count": 230,
   "metadata": {},
   "outputs": [
    {
     "data": {
      "text/plain": [
       "VendorNumber\n",
       "3960      243326\n",
       "12546     189832\n",
       "1392      185574\n",
       "4425      176781\n",
       "3252      162567\n",
       "           ...  \n",
       "1439           1\n",
       "201359         1\n",
       "9099           1\n",
       "4901           1\n",
       "54             1\n",
       "Name: count, Length: 126, dtype: int64"
      ]
     },
     "execution_count": 230,
     "metadata": {},
     "output_type": "execute_result"
    }
   ],
   "source": [
    "df_PurchasesFinal['VendorNumber'].value_counts()"
   ]
  },
  {
   "cell_type": "markdown",
   "metadata": {},
   "source": [
    "#### Revisamos la tabla SalesFinal"
   ]
  },
  {
   "cell_type": "code",
   "execution_count": 231,
   "metadata": {},
   "outputs": [
    {
     "data": {
      "text/plain": [
       "(1048575, 14)"
      ]
     },
     "execution_count": 231,
     "metadata": {},
     "output_type": "execute_result"
    }
   ],
   "source": [
    "df_SalesFinal.shape"
   ]
  },
  {
   "cell_type": "code",
   "execution_count": 232,
   "metadata": {},
   "outputs": [
    {
     "data": {
      "text/plain": [
       "VendorNo\n",
       "3960      125869\n",
       "12546      94057\n",
       "4425       76625\n",
       "1392       70792\n",
       "3252       65240\n",
       "           ...  \n",
       "172662         1\n",
       "9710           1\n",
       "1265           1\n",
       "2              1\n",
       "1002           1\n",
       "Name: count, Length: 116, dtype: int64"
      ]
     },
     "execution_count": 232,
     "metadata": {},
     "output_type": "execute_result"
    }
   ],
   "source": [
    "df_SalesFinal['VendorNo'].value_counts()"
   ]
  },
  {
   "cell_type": "markdown",
   "metadata": {},
   "source": [
    "#### Revisamos la tabla InvoicePurchases"
   ]
  },
  {
   "cell_type": "code",
   "execution_count": 177,
   "metadata": {},
   "outputs": [
    {
     "data": {
      "text/plain": [
       "(5543, 10)"
      ]
     },
     "execution_count": 177,
     "metadata": {},
     "output_type": "execute_result"
    }
   ],
   "source": [
    "df_InvoicePurchases.shape"
   ]
  },
  {
   "cell_type": "code",
   "execution_count": 193,
   "metadata": {},
   "outputs": [
    {
     "data": {
      "text/plain": [
       "Index(['VendorNumber', 'VendorName', 'InvoiceDate', 'PONumber', 'PODate',\n",
       "       'PayDate', 'Quantity', 'Dollars', 'Freight', 'Approval'],\n",
       "      dtype='object')"
      ]
     },
     "execution_count": 193,
     "metadata": {},
     "output_type": "execute_result"
    }
   ],
   "source": [
    "df_InvoicePurchases.columns"
   ]
  },
  {
   "cell_type": "code",
   "execution_count": 178,
   "metadata": {},
   "outputs": [
    {
     "data": {
      "text/plain": [
       "VendorNumber\n",
       "4425      82\n",
       "2000      67\n",
       "1587      58\n",
       "4380      55\n",
       "516       55\n",
       "          ..\n",
       "1439       1\n",
       "201359     1\n",
       "9099       1\n",
       "4901       1\n",
       "54         1\n",
       "Name: count, Length: 126, dtype: int64"
      ]
     },
     "execution_count": 178,
     "metadata": {},
     "output_type": "execute_result"
    }
   ],
   "source": [
    "df_InvoicePurchases['VendorNumber'].value_counts()"
   ]
  },
  {
   "cell_type": "code",
   "execution_count": 192,
   "metadata": {},
   "outputs": [
    {
     "data": {
      "text/plain": [
       "array(['VINEYARD BRANDS INC        ', 'VINEYARD BRANDS LLC        '],\n",
       "      dtype=object)"
      ]
     },
     "execution_count": 192,
     "metadata": {},
     "output_type": "execute_result"
    }
   ],
   "source": [
    "# Filtrar la fila donde 'VendorNumber' es igual a 1587\n",
    "row_VendorNumber_1587_ip = df_InvoicePurchases[df_InvoicePurchases['VendorNumber'] == 1587]\n",
    "\n",
    "# Mostrar la fila\n",
    "row_VendorNumber_1587_ip['VendorName'].unique()\n"
   ]
  },
  {
   "cell_type": "code",
   "execution_count": 199,
   "metadata": {},
   "outputs": [
    {
     "data": {
      "text/plain": [
       "array(['2016-01-04', '2016-01-11', '2016-01-18', '2016-02-02',\n",
       "       '2016-02-03', '2016-02-09', '2016-02-22', '2016-03-01',\n",
       "       '2016-03-08', '2016-03-11', '2016-03-21', '2016-03-28',\n",
       "       '2016-04-01', '2016-04-08', '2016-04-15', '2016-04-18',\n",
       "       '2016-04-30', '2016-05-07', '2016-05-12', '2016-05-23',\n",
       "       '2016-05-28', '2016-05-31', '2016-06-13', '2016-06-19',\n",
       "       '2016-06-27', '2016-07-01', '2016-07-04', '2016-07-07',\n",
       "       '2016-07-12', '2016-07-23', '2016-07-30', '2016-08-08',\n",
       "       '2016-08-12', '2016-08-16', '2016-08-30', '2016-08-31',\n",
       "       '2016-09-06', '2016-09-20', '2016-09-23', '2016-10-01',\n",
       "       '2016-10-08', '2016-10-07', '2016-10-10', '2016-10-23',\n",
       "       '2016-10-27', '2016-11-04', '2016-11-12', '2016-11-15',\n",
       "       '2016-11-29', '2016-12-06', '2016-12-09', '2016-12-18',\n",
       "       '2016-12-25', '2016-12-29', '2017-01-03'], dtype=object)"
      ]
     },
     "execution_count": 199,
     "metadata": {},
     "output_type": "execute_result"
    }
   ],
   "source": [
    "# Filtrar la fila donde 'VendorName' es igual a 'VINEYARD BRANDS INC        '\n",
    "row_VendorName_1 = df_InvoicePurchases[df_InvoicePurchases['VendorName'] == 'VINEYARD BRANDS INC        ']\n",
    "\n",
    "# Mostrar la fila\n",
    "row_VendorName_1['InvoiceDate'].unique()\n"
   ]
  },
  {
   "cell_type": "code",
   "execution_count": 200,
   "metadata": {},
   "outputs": [
    {
     "data": {
      "text/plain": [
       "array(['2016-12-05', '2016-12-25', '2017-01-03'], dtype=object)"
      ]
     },
     "execution_count": 200,
     "metadata": {},
     "output_type": "execute_result"
    }
   ],
   "source": [
    "# Filtrar la fila donde 'VendorName' es igual a 'VINEYARD BRANDS LLC        '\n",
    "row_VendorName_2 = df_InvoicePurchases[df_InvoicePurchases['VendorName'] == 'VINEYARD BRANDS LLC        ']\n",
    "\n",
    "# Mostrar la fila\n",
    "row_VendorName_2['InvoiceDate'].unique()\n"
   ]
  },
  {
   "cell_type": "markdown",
   "metadata": {},
   "source": [
    "#### CONCLUSION: Se debe borrar \"VINEYARD BRANDS LLC\" por tener pocas compras, debe ser nombre erroneo"
   ]
  },
  {
   "cell_type": "code",
   "execution_count": 210,
   "metadata": {},
   "outputs": [
    {
     "data": {
      "text/plain": [
       "array([ 1128,  1650,  1392,  6215,  6355,  7245, 99166, 28776,  8892,\n",
       "        1587, 90058])"
      ]
     },
     "execution_count": 210,
     "metadata": {},
     "output_type": "execute_result"
    }
   ],
   "source": [
    "# Filtrar la fila donde 'InvoiceDate' es igual a '2016-12-25'\n",
    "row_date = df_InvoicePurchases[df_InvoicePurchases['InvoiceDate'] == '2016-12-25']\n",
    "\n",
    "# Mostrar la fila\n",
    "row_date['VendorNumber'].unique()\n"
   ]
  },
  {
   "cell_type": "code",
   "execution_count": 212,
   "metadata": {},
   "outputs": [
    {
     "name": "stdout",
     "output_type": "stream",
     "text": [
      "VendorNumber  VendorName                 \n",
      "1128          BROWN-FORMAN CORP              1\n",
      "1392          CONSTELLATION BRANDS INC       1\n",
      "1587          VINEYARD BRANDS INC            1\n",
      "              VINEYARD BRANDS LLC            1\n",
      "1650          Circa Wines                    1\n",
      "6215          MOONLIGHT MEADERY              1\n",
      "6355          NICHE W & S                    1\n",
      "7245          PROXIMO SPIRITS INC.           1\n",
      "8892          TRINCHERO FAMILY ESTATES       1\n",
      "28776         TALL SHIP DISTILLERY LLC       1\n",
      "90058         ZORVINO VINEYARDS              1\n",
      "99166         STARK BREWING COMPANY          1\n",
      "Name: count, dtype: int64\n"
     ]
    }
   ],
   "source": [
    "# Filtrar la fila donde 'InvoiceDate' es igual a '2016-12-25'\n",
    "row_date = df_InvoicePurchases[df_InvoicePurchases['InvoiceDate'] == '2016-12-25']\n",
    "\n",
    "# Mostrar la fila\n",
    "print(row_date[['VendorNumber','VendorName']].value_counts())\n",
    "\n",
    "\n"
   ]
  },
  {
   "cell_type": "code",
   "execution_count": 220,
   "metadata": {},
   "outputs": [
    {
     "data": {
      "text/plain": [
       "array(['SOUTHERN WINE & SPIRITS NE ', 'SOUTHERN GLAZERS W&S OF NE '],\n",
       "      dtype=object)"
      ]
     },
     "execution_count": 220,
     "metadata": {},
     "output_type": "execute_result"
    }
   ],
   "source": [
    "# Filtrar la fila donde 'VendorNumber' es igual a 2000\n",
    "row_VendorNumber_2000 = df_InvoicePurchases[df_InvoicePurchases['VendorNumber'] == 2000]\n",
    "\n",
    "# Mostrar la fila\n",
    "row_VendorNumber_2000['VendorName'].unique()\n"
   ]
  },
  {
   "cell_type": "code",
   "execution_count": 221,
   "metadata": {},
   "outputs": [
    {
     "data": {
      "text/plain": [
       "array(['2016-01-05', '2016-01-17', '2016-01-21', '2016-01-31',\n",
       "       '2016-02-02', '2016-02-10', '2016-02-19', '2016-03-01',\n",
       "       '2016-02-29', '2016-03-07', '2016-03-15', '2016-03-28',\n",
       "       '2016-04-01', '2016-04-05', '2016-04-16', '2016-04-19',\n",
       "       '2016-04-28', '2016-05-08', '2016-05-09', '2016-05-18',\n",
       "       '2016-05-25', '2016-06-06', '2016-06-07', '2016-06-19',\n",
       "       '2016-06-23', '2016-07-05', '2016-07-04', '2016-07-08',\n",
       "       '2016-07-12', '2016-07-20', '2016-07-26', '2016-08-08',\n",
       "       '2016-08-11', '2016-08-16', '2016-08-22', '2016-08-31',\n",
       "       '2016-09-05', '2016-09-13', '2016-09-26', '2016-09-29',\n",
       "       '2016-10-08', '2016-10-07', '2016-10-11', '2016-10-22',\n",
       "       '2016-10-29', '2016-11-02', '2016-11-12', '2016-11-19',\n",
       "       '2016-11-28', '2016-12-01', '2016-12-08', '2016-12-17',\n",
       "       '2016-12-26', '2016-12-30', '2017-01-08'], dtype=object)"
      ]
     },
     "execution_count": 221,
     "metadata": {},
     "output_type": "execute_result"
    }
   ],
   "source": [
    "# Filtrar la fila donde 'VendorName' es igual a 'SOUTHERN WINE & SPIRITS NE'\n",
    "row_VendorName_1 = df_InvoicePurchases[df_InvoicePurchases['VendorName'] == 'SOUTHERN WINE & SPIRITS NE ']\n",
    "\n",
    "# Mostrar la fila\n",
    "row_VendorName_1['InvoiceDate'].unique()\n"
   ]
  },
  {
   "cell_type": "code",
   "execution_count": 222,
   "metadata": {},
   "outputs": [
    {
     "data": {
      "text/plain": [
       "array(['2016-09-17', '2016-09-24', '2016-09-27', '2016-10-07',\n",
       "       '2016-10-16', '2016-10-23', '2016-11-01', '2016-11-07',\n",
       "       '2016-11-26', '2016-11-30', '2016-12-12', '2016-12-27'],\n",
       "      dtype=object)"
      ]
     },
     "execution_count": 222,
     "metadata": {},
     "output_type": "execute_result"
    }
   ],
   "source": [
    "# Filtrar la fila donde 'VendorName' es igual a 'SOUTHERN GLAZERS W&S OF NE '\n",
    "row_VendorName_2 = df_InvoicePurchases[df_InvoicePurchases['VendorName'] == 'SOUTHERN GLAZERS W&S OF NE ']\n",
    "\n",
    "# Mostrar la fila\n",
    "row_VendorName_2['InvoiceDate'].unique()\n"
   ]
  },
  {
   "cell_type": "markdown",
   "metadata": {},
   "source": [
    "#### CONCLUSION: Se debe borrar 'SOUTHERN GLAZERS W&S OF NE' por tener pocas compras, debe ser nombre erróneo"
   ]
  },
  {
   "cell_type": "code",
   "execution_count": 223,
   "metadata": {},
   "outputs": [
    {
     "data": {
      "text/plain": [
       "array([  480,  4380,  2242, 90011,  9744,  3951, 90053,  4848,  5612,\n",
       "        6785,  2000, 28776, 90017, 90024,  1601,  9625,   516, 17031,\n",
       "        9206,  9819,  1587])"
      ]
     },
     "execution_count": 223,
     "metadata": {},
     "output_type": "execute_result"
    }
   ],
   "source": [
    "# Filtrar la fila donde 'InvoiceDate' es igual a '2016-10-07'\n",
    "row_date = df_InvoicePurchases[df_InvoicePurchases['InvoiceDate'] == '2016-10-07']\n",
    "\n",
    "# Mostrar la fila\n",
    "row_date['VendorNumber'].unique()\n"
   ]
  },
  {
   "cell_type": "code",
   "execution_count": 224,
   "metadata": {},
   "outputs": [
    {
     "name": "stdout",
     "output_type": "stream",
     "text": [
      "VendorNumber  VendorName                 \n",
      "480           BACARDI USA INC                1\n",
      "516           BANFI PRODUCTS CORP            1\n",
      "1587          VINEYARD BRANDS INC            1\n",
      "1601          VRANKEN AMERICA                1\n",
      "2000          SOUTHERN GLAZERS W&S OF NE     1\n",
      "              SOUTHERN WINE & SPIRITS NE     1\n",
      "2242          DELICATO VINEYARDS INC         1\n",
      "3951          HIGHLAND WINE MERCHANTS LLC    1\n",
      "4380          CHARLES JACQUIN ET CIE INC     1\n",
      "4848          LAIRD & CO                     1\n",
      "5612          MILTONS DISTRIBUTING CO        1\n",
      "6785          PALM BAY INTERNATIONAL INC     1\n",
      "9206          PHILLIPS PRODUCTS CO.          1\n",
      "9625          WESTERN SPIRITS BEVERAGE CO    1\n",
      "9744          FREDERICK WILDMAN & SONS       1\n",
      "9819          TREASURY WINE ESTATES          1\n",
      "17031         FLAG HILL WINERY & VINEYARD    1\n",
      "28776         TALL SHIP DISTILLERY LLC       1\n",
      "90011         FORTUNE WINE BROKERS LLC       1\n",
      "90017         THE IMPORTED GRAPE LLC         1\n",
      "90024         VINILANDIA USA                 1\n",
      "90053         INCREDIBREW INC                1\n",
      "Name: count, dtype: int64\n"
     ]
    }
   ],
   "source": [
    "# Filtrar la fila donde 'InvoiceDate' es igual a '2016-10-07'\n",
    "row_date = df_InvoicePurchases[df_InvoicePurchases['InvoiceDate'] == '2016-10-07']\n",
    "\n",
    "# Mostrar la fila\n",
    "print(row_date[['VendorNumber','VendorName']].value_counts())\n",
    "\n",
    "\n"
   ]
  },
  {
   "cell_type": "markdown",
   "metadata": {},
   "source": [
    "#### Revisamos la tabla PurchaisePrices"
   ]
  },
  {
   "cell_type": "code",
   "execution_count": 179,
   "metadata": {},
   "outputs": [
    {
     "data": {
      "text/plain": [
       "(12260, 9)"
      ]
     },
     "execution_count": 179,
     "metadata": {},
     "output_type": "execute_result"
    }
   ],
   "source": [
    "df_PurchasePrices.shape"
   ]
  },
  {
   "cell_type": "code",
   "execution_count": 180,
   "metadata": {},
   "outputs": [
    {
     "data": {
      "text/plain": [
       "VendorNumber\n",
       "4425     1639\n",
       "9165      965\n",
       "9552      960\n",
       "10754     897\n",
       "3252      527\n",
       "         ... \n",
       "99166       1\n",
       "9099        1\n",
       "54          1\n",
       "90059       1\n",
       "5083        1\n",
       "Name: count, Length: 131, dtype: int64"
      ]
     },
     "execution_count": 180,
     "metadata": {},
     "output_type": "execute_result"
    }
   ],
   "source": [
    "df_PurchasePrices['VendorNumber'].value_counts()"
   ]
  },
  {
   "cell_type": "code",
   "execution_count": 187,
   "metadata": {},
   "outputs": [
    {
     "data": {
      "text/plain": [
       "VendorName\n",
       "MARTIGNETTI COMPANIES          1639\n",
       "ULTRA BEVERAGE COMPANY LLP      965\n",
       "M S WALKER INC                  960\n",
       "PERFECTA WINES                  897\n",
       "E & J GALLO WINERY              527\n",
       "                               ... \n",
       "TRUETT HURST                      1\n",
       "STARK BREWING COMPANY             1\n",
       "AAPER ALCOHOL & CHEMICAL CO       1\n",
       "BLACK COVE BEVERAGES              1\n",
       "LOYAL DOG WINERY                  1\n",
       "Name: count, Length: 133, dtype: int64"
      ]
     },
     "execution_count": 187,
     "metadata": {},
     "output_type": "execute_result"
    }
   ],
   "source": [
    "df_PurchasePrices['VendorName'].value_counts()"
   ]
  },
  {
   "cell_type": "code",
   "execution_count": 188,
   "metadata": {},
   "outputs": [
    {
     "name": "stdout",
     "output_type": "stream",
     "text": [
      "    VendorNumber  VendorName\n",
      "20          1587           2\n",
      "26          2000           2\n",
      "Number of VendorNumber with more than one unique VendorName: 2\n"
     ]
    }
   ],
   "source": [
    "# Agrupar por 'VendorNumber' y contar los valores únicos de 'VendorName'\n",
    "df_grouped_pp5 = df_PurchasePrices.groupby('VendorNumber')['VendorName'].nunique().reset_index()\n",
    "\n",
    "# Filtrar los casos donde hay más de un valor único de 'VendorName'\n",
    "df_multiple_VendorName = df_grouped_pp5[df_grouped_pp5['VendorName'] > 1]\n",
    "\n",
    "# Ver cuántos VendorNumber tienen más de un VendorName\n",
    "count_VendorName = df_multiple_VendorName.shape[0]\n",
    "\n",
    "# Mostrar los VendorNumber con más de un VendorName\n",
    "print(df_multiple_VendorName[['VendorNumber', 'VendorName']])\n",
    "\n",
    "# Mostrar cuántos VendorNumber tienen más de un VendorName\n",
    "print(f\"Number of VendorNumber with more than one unique VendorName: {count_VendorName}\")\n"
   ]
  },
  {
   "cell_type": "code",
   "execution_count": 190,
   "metadata": {},
   "outputs": [
    {
     "data": {
      "text/plain": [
       "array(['VINEYARD BRANDS INC', 'VINEYARD BRANDS LLC'], dtype=object)"
      ]
     },
     "execution_count": 190,
     "metadata": {},
     "output_type": "execute_result"
    }
   ],
   "source": [
    "# Filtrar la fila donde 'VendorNumber' es igual a 1587\n",
    "row_VendorNumber_1587 = df_PurchasePrices[df_PurchasePrices['VendorNumber'] == 1587]\n",
    "\n",
    "# Mostrar la fila\n",
    "row_VendorNumber_1587['VendorName'].unique()\n"
   ]
  },
  {
   "cell_type": "code",
   "execution_count": 225,
   "metadata": {},
   "outputs": [
    {
     "data": {
      "text/plain": [
       "array(['SOUTHERN WINE & SPIRITS NE', 'SOUTHERN GLAZERS W&S OF NE'],\n",
       "      dtype=object)"
      ]
     },
     "execution_count": 225,
     "metadata": {},
     "output_type": "execute_result"
    }
   ],
   "source": [
    "# Filtrar la fila donde 'VendorNumber' es igual a 2000\n",
    "row_VendorNumber_2000 = df_PurchasePrices[df_PurchasePrices['VendorNumber'] == 2000]\n",
    "\n",
    "# Mostrar la fila\n",
    "row_VendorNumber_2000['VendorName'].unique()\n"
   ]
  },
  {
   "cell_type": "markdown",
   "metadata": {},
   "source": [
    "#### Elimino las filas de VendorName que tienen distintos valores para un mismo VendorNumber de mi datafrme \"PurchasePrices\" (que tiene la mayor cantidad de vendors)"
   ]
  },
  {
   "cell_type": "markdown",
   "metadata": {},
   "source": [
    "#### Vendor 1 detectado"
   ]
  },
  {
   "cell_type": "code",
   "execution_count": 218,
   "metadata": {},
   "outputs": [
    {
     "name": "stdout",
     "output_type": "stream",
     "text": [
      "       Brand                   Description  Price    Size Volume  \\\n",
      "0         58   Gekkeikan Black & Gold Sake  12.99   750mL    750   \n",
      "1         62      Herradura Silver Tequila  36.99   750mL    750   \n",
      "2         63    Herradura Reposado Tequila  38.99   750mL    750   \n",
      "3         72          No. 3 London Dry Gin  34.99   750mL    750   \n",
      "4         75     Three Olives Tomato Vodka  14.99   750mL    750   \n",
      "...      ...                           ...    ...     ...    ...   \n",
      "12255  44917     Ferreira 10-Yr Tawny Port  24.99   750mL    750   \n",
      "12256  44944     Sanford Santa Rita Pnt Nr  22.99   750mL    750   \n",
      "12257  45016  Neal One Lane Bridg Cab Svgn  93.99   750mL    750   \n",
      "12258  46011       Folonari Pnt Nr Venezie  12.99  1500ml   1500   \n",
      "12259  46964     Calera Viognier Mt Harlan  35.99   750mL    750   \n",
      "\n",
      "       Classification  PurchasePrice  VendorNumber                  VendorName  \n",
      "0                   1           9.28          8320     SHAW ROSS INT L IMP LTD  \n",
      "1                   1          28.67          1128           BROWN-FORMAN CORP  \n",
      "2                   1          30.46          1128           BROWN-FORMAN CORP  \n",
      "3                   1          26.11          9165  ULTRA BEVERAGE COMPANY LLP  \n",
      "4                   1          10.94          7245        PROXIMO SPIRITS INC.  \n",
      "...               ...            ...           ...                         ...  \n",
      "12255               2          16.55         90024              VINILANDIA USA  \n",
      "12256               2          14.93          4425       MARTIGNETTI COMPANIES  \n",
      "12257               2          61.43         10754              PERFECTA WINES  \n",
      "12258               2           8.90          9744    FREDERICK WILDMAN & SONS  \n",
      "12259               2          24.32         10754              PERFECTA WINES  \n",
      "\n",
      "[12257 rows x 9 columns]\n"
     ]
    }
   ],
   "source": [
    "# Eliminar filas donde 'VendorName' es igual a 'VINEYARD BRANDS LLC'\n",
    "df_PurchasePrices = df_PurchasePrices[df_PurchasePrices['VendorName'] != 'VINEYARD BRANDS LLC']\n",
    "\n",
    "# Mostrar el DataFrame actualizado (opcional)\n",
    "print(df_PurchasePrices)\n"
   ]
  },
  {
   "cell_type": "code",
   "execution_count": 219,
   "metadata": {},
   "outputs": [
    {
     "data": {
      "text/plain": [
       "array(['VINEYARD BRANDS INC'], dtype=object)"
      ]
     },
     "execution_count": 219,
     "metadata": {},
     "output_type": "execute_result"
    }
   ],
   "source": [
    "# Filtrar la fila donde 'VendorNumber' es igual a 1587\n",
    "row_VendorNumber_1587 = df_PurchasePrices[df_PurchasePrices['VendorNumber'] == 1587]\n",
    "\n",
    "# Mostrar la fila\n",
    "row_VendorNumber_1587['VendorName'].unique()\n"
   ]
  },
  {
   "cell_type": "markdown",
   "metadata": {},
   "source": [
    "#### Vendor 2 detectado"
   ]
  },
  {
   "cell_type": "code",
   "execution_count": 191,
   "metadata": {},
   "outputs": [
    {
     "data": {
      "text/plain": [
       "array(['SOUTHERN WINE & SPIRITS NE', 'SOUTHERN GLAZERS W&S OF NE'],\n",
       "      dtype=object)"
      ]
     },
     "execution_count": 191,
     "metadata": {},
     "output_type": "execute_result"
    }
   ],
   "source": [
    "# Filtrar la fila donde 'VendorNumber' es igual a 2000\n",
    "row_VendorNumber_2000 = df_PurchasePrices[df_PurchasePrices['VendorNumber'] == 2000]\n",
    "\n",
    "# Mostrar la fila\n",
    "row_VendorNumber_2000['VendorName'].unique()\n"
   ]
  },
  {
   "cell_type": "code",
   "execution_count": 226,
   "metadata": {},
   "outputs": [
    {
     "name": "stdout",
     "output_type": "stream",
     "text": [
      "       Brand                   Description  Price    Size Volume  \\\n",
      "0         58   Gekkeikan Black & Gold Sake  12.99   750mL    750   \n",
      "1         62      Herradura Silver Tequila  36.99   750mL    750   \n",
      "2         63    Herradura Reposado Tequila  38.99   750mL    750   \n",
      "3         72          No. 3 London Dry Gin  34.99   750mL    750   \n",
      "4         75     Three Olives Tomato Vodka  14.99   750mL    750   \n",
      "...      ...                           ...    ...     ...    ...   \n",
      "12255  44917     Ferreira 10-Yr Tawny Port  24.99   750mL    750   \n",
      "12256  44944     Sanford Santa Rita Pnt Nr  22.99   750mL    750   \n",
      "12257  45016  Neal One Lane Bridg Cab Svgn  93.99   750mL    750   \n",
      "12258  46011       Folonari Pnt Nr Venezie  12.99  1500ml   1500   \n",
      "12259  46964     Calera Viognier Mt Harlan  35.99   750mL    750   \n",
      "\n",
      "       Classification  PurchasePrice  VendorNumber                  VendorName  \n",
      "0                   1           9.28          8320     SHAW ROSS INT L IMP LTD  \n",
      "1                   1          28.67          1128           BROWN-FORMAN CORP  \n",
      "2                   1          30.46          1128           BROWN-FORMAN CORP  \n",
      "3                   1          26.11          9165  ULTRA BEVERAGE COMPANY LLP  \n",
      "4                   1          10.94          7245        PROXIMO SPIRITS INC.  \n",
      "...               ...            ...           ...                         ...  \n",
      "12255               2          16.55         90024              VINILANDIA USA  \n",
      "12256               2          14.93          4425       MARTIGNETTI COMPANIES  \n",
      "12257               2          61.43         10754              PERFECTA WINES  \n",
      "12258               2           8.90          9744    FREDERICK WILDMAN & SONS  \n",
      "12259               2          24.32         10754              PERFECTA WINES  \n",
      "\n",
      "[12248 rows x 9 columns]\n"
     ]
    }
   ],
   "source": [
    "# Eliminar filas donde 'VendorName' es igual a 'VINEYARD BRANDS LLC'\n",
    "df_PurchasePrices = df_PurchasePrices[df_PurchasePrices['VendorName'] != 'SOUTHERN GLAZERS W&S OF NE']\n",
    "\n",
    "# Mostrar el DataFrame actualizado (opcional)\n",
    "print(df_PurchasePrices)\n"
   ]
  },
  {
   "cell_type": "code",
   "execution_count": 227,
   "metadata": {},
   "outputs": [
    {
     "data": {
      "text/plain": [
       "array(['SOUTHERN WINE & SPIRITS NE'], dtype=object)"
      ]
     },
     "execution_count": 227,
     "metadata": {},
     "output_type": "execute_result"
    }
   ],
   "source": [
    "# Filtrar la fila donde 'VendorNumber' es igual a 2000\n",
    "row_VendorNumber_2000 = df_PurchasePrices[df_PurchasePrices['VendorNumber'] == 2000]\n",
    "\n",
    "# Mostrar la fila\n",
    "row_VendorNumber_2000['VendorName'].unique()\n"
   ]
  },
  {
   "cell_type": "markdown",
   "metadata": {},
   "source": [
    "### Guardamos nuestro dataframe con los nuevos cambios"
   ]
  },
  {
   "cell_type": "code",
   "execution_count": 228,
   "metadata": {},
   "outputs": [],
   "source": [
    "df_PurchasePrices.to_csv('df_PurchasePrices_paso2.csv', index=False)"
   ]
  },
  {
   "cell_type": "markdown",
   "metadata": {},
   "source": [
    "### Lo abrimos nuevamente y verificamos"
   ]
  },
  {
   "cell_type": "code",
   "execution_count": 233,
   "metadata": {},
   "outputs": [],
   "source": [
    "df_PurchasePrices= pd.read_csv(\"df_PurchasePrices_paso2.csv\")"
   ]
  },
  {
   "cell_type": "code",
   "execution_count": 235,
   "metadata": {},
   "outputs": [
    {
     "data": {
      "text/plain": [
       "Index(['Brand', 'Description', 'Price', 'Size', 'Volume', 'Classification',\n",
       "       'PurchasePrice', 'VendorNumber', 'VendorName'],\n",
       "      dtype='object')"
      ]
     },
     "execution_count": 235,
     "metadata": {},
     "output_type": "execute_result"
    }
   ],
   "source": [
    "df_PurchasePrices.columns"
   ]
  },
  {
   "cell_type": "code",
   "execution_count": 310,
   "metadata": {},
   "outputs": [
    {
     "name": "stdout",
     "output_type": "stream",
     "text": [
      "<class 'pandas.core.frame.DataFrame'>\n",
      "Index: 0 entries\n",
      "Data columns (total 9 columns):\n",
      " #   Column          Non-Null Count  Dtype  \n",
      "---  ------          --------------  -----  \n",
      " 0   Brand           0 non-null      int64  \n",
      " 1   Description     0 non-null      object \n",
      " 2   Price           0 non-null      float64\n",
      " 3   Size            0 non-null      object \n",
      " 4   Volume          0 non-null      object \n",
      " 5   Classification  0 non-null      int64  \n",
      " 6   PurchasePrice   0 non-null      float64\n",
      " 7   VendorNumber    0 non-null      int64  \n",
      " 8   VendorName      0 non-null      object \n",
      "dtypes: float64(2), int64(3), object(4)\n",
      "memory usage: 0.0+ bytes\n"
     ]
    }
   ],
   "source": [
    "# Verificar si hay duplicados basados en las columnas Brand, Description y Size\n",
    "duplicated_rows_dfPP = df_PurchasePrices[df_PurchasePrices.duplicated(subset=['Brand', 'Description', 'Size'], keep=False)]\n",
    "\n",
    "# Mostrar las filas duplicadas\n",
    "duplicated_rows_dfPP.info()\n"
   ]
  },
  {
   "cell_type": "code",
   "execution_count": 234,
   "metadata": {},
   "outputs": [
    {
     "name": "stdout",
     "output_type": "stream",
     "text": [
      "Empty DataFrame\n",
      "Columns: [VendorNumber, VendorName]\n",
      "Index: []\n",
      "Number of VendorNumber with more than one unique VendorName: 0\n"
     ]
    }
   ],
   "source": [
    "# Agrupar por 'VendorNumber' y contar los valores únicos de 'VendorName'\n",
    "df_grouped_pp6 = df_PurchasePrices.groupby('VendorNumber')['VendorName'].nunique().reset_index()\n",
    "\n",
    "# Filtrar los casos donde hay más de un valor único de 'VendorName'\n",
    "df_multiple_VendorName_vf = df_grouped_pp6[df_grouped_pp6['VendorName'] > 1]\n",
    "\n",
    "# Ver cuántos VendorNumber tienen más de un VendorName\n",
    "count_VendorName_vf = df_multiple_VendorName_vf.shape[0]\n",
    "\n",
    "# Mostrar los VendorNumber con más de un VendorName\n",
    "print(df_multiple_VendorName_vf[['VendorNumber', 'VendorName']])\n",
    "\n",
    "# Mostrar cuántos VendorNumber tienen más de un VendorName\n",
    "print(f\"Number of VendorNumber with more than one unique VendorName: {count_VendorName_vf}\")\n"
   ]
  },
  {
   "cell_type": "code",
   "execution_count": 311,
   "metadata": {},
   "outputs": [
    {
     "name": "stdout",
     "output_type": "stream",
     "text": [
      "Empty DataFrame\n",
      "Columns: [Brand, Size]\n",
      "Index: []\n",
      "Number of Brand with more than one unique Size: 0\n"
     ]
    }
   ],
   "source": [
    "# Agrupar por 'Brand' y contar los valores únicos de 'Size'\n",
    "df_grouped_pp8 = df_PurchasePrices.groupby('Brand')['Size'].nunique().reset_index()\n",
    "\n",
    "# Filtrar los casos donde hay más de un valor único de 'Size'\n",
    "df_multiple_class = df_grouped_pp8[df_grouped_pp8['Size'] > 1]\n",
    "\n",
    "# Ver cuántos Brand tienen más de un Size\n",
    "count_class= df_multiple_class.shape[0]\n",
    "\n",
    "# Mostrar los Brand con más de un Size\n",
    "print(df_multiple_class[['Brand', 'Size']])\n",
    "\n",
    "# Mostrar cuántos Brand tienen más de un Size\n",
    "print(f\"Number of Brand with more than one unique Size: {count_class}\")\n"
   ]
  },
  {
   "cell_type": "code",
   "execution_count": 312,
   "metadata": {},
   "outputs": [
    {
     "name": "stdout",
     "output_type": "stream",
     "text": [
      "Empty DataFrame\n",
      "Columns: [Brand, Classification]\n",
      "Index: []\n",
      "Number of Brand with more than one unique Classification: 0\n"
     ]
    }
   ],
   "source": [
    "# Agrupar por 'Brand' y contar los valores únicos de 'Classification'\n",
    "df_grouped_pp8 = df_PurchasePrices.groupby('Brand')['Classification'].nunique().reset_index()\n",
    "\n",
    "# Filtrar los casos donde hay más de un valor único de 'Classification'\n",
    "df_multiple_class = df_grouped_pp8[df_grouped_pp8['Classification'] > 1]\n",
    "\n",
    "# Ver cuántos Brand tienen más de un Classification\n",
    "count_class= df_multiple_class.shape[0]\n",
    "\n",
    "# Mostrar los Brand con más de un Classification\n",
    "print(df_multiple_class[['Brand', 'Classification']])\n",
    "\n",
    "# Mostrar cuántos Brand tienen más de un Classification\n",
    "print(f\"Number of Brand with more than one unique Classification: {count_class}\")\n"
   ]
  },
  {
   "cell_type": "code",
   "execution_count": 313,
   "metadata": {},
   "outputs": [
    {
     "name": "stdout",
     "output_type": "stream",
     "text": [
      "Empty DataFrame\n",
      "Columns: [Brand, Description]\n",
      "Index: []\n",
      "Number of Brand with more than one unique Description: 0\n"
     ]
    }
   ],
   "source": [
    "# Agrupar por 'Brand' y contar los valores únicos de 'Description'\n",
    "df_grouped_pp8 = df_PurchasePrices.groupby('Brand')['Description'].nunique().reset_index()\n",
    "\n",
    "# Filtrar los casos donde hay más de un valor único de 'Description'\n",
    "df_multiple_class = df_grouped_pp8[df_grouped_pp8['Description'] > 1]\n",
    "\n",
    "# Ver cuántos Brand tienen más de un Description\n",
    "count_class= df_multiple_class.shape[0]\n",
    "\n",
    "# Mostrar los Brand con más de un Description\n",
    "print(df_multiple_class[['Brand', 'Description']])\n",
    "\n",
    "# Mostrar cuántos Brand tienen más de un Description\n",
    "print(f\"Number of Brand with more than one unique Description: {count_class}\")\n"
   ]
  },
  {
   "cell_type": "code",
   "execution_count": 314,
   "metadata": {},
   "outputs": [
    {
     "name": "stdout",
     "output_type": "stream",
     "text": [
      "Empty DataFrame\n",
      "Columns: [Brand, PurchasePrice]\n",
      "Index: []\n",
      "Number of Brand with more than one unique PurchasePrice: 0\n"
     ]
    }
   ],
   "source": [
    "# Agrupar por 'Brand' y contar los valores únicos de 'PurchasePrice'\n",
    "df_grouped_pp8 = df_PurchasePrices.groupby('Brand')['PurchasePrice'].nunique().reset_index()\n",
    "\n",
    "# Filtrar los casos donde hay más de un valor único de 'PurchasePrice'\n",
    "df_multiple_class = df_grouped_pp8[df_grouped_pp8['PurchasePrice'] > 1]\n",
    "\n",
    "# Ver cuántos Brand tienen más de un PurchasePrice\n",
    "count_class= df_multiple_class.shape[0]\n",
    "\n",
    "# Mostrar los Brand con más de un PurchasePrice\n",
    "print(df_multiple_class[['Brand', 'PurchasePrice']])\n",
    "\n",
    "# Mostrar cuántos Brand tienen más de un PurchaisePrice\n",
    "print(f\"Number of Brand with more than one unique PurchasePrice: {count_class}\")\n"
   ]
  },
  {
   "cell_type": "code",
   "execution_count": 315,
   "metadata": {},
   "outputs": [
    {
     "name": "stdout",
     "output_type": "stream",
     "text": [
      "Empty DataFrame\n",
      "Columns: [Brand, VendorNumber]\n",
      "Index: []\n",
      "Number of Brand with more than one unique VendorNumber: 0\n"
     ]
    }
   ],
   "source": [
    "# Agrupar por 'Brand' y contar los valores únicos de 'VendorNumber'\n",
    "df_grouped_pp8 = df_PurchasePrices.groupby('Brand')['VendorNumber'].nunique().reset_index()\n",
    "\n",
    "# Filtrar los casos donde hay más de un valor único de 'VendorNumber'\n",
    "df_multiple_class = df_grouped_pp8[df_grouped_pp8['VendorNumber'] > 1]\n",
    "\n",
    "# Ver cuántos Brand tienen más de un VendorNumber\n",
    "count_class= df_multiple_class.shape[0]\n",
    "\n",
    "# Mostrar los Brand con más de un VendorNumber\n",
    "print(df_multiple_class[['Brand', 'VendorNumber']])\n",
    "\n",
    "# Mostrar cuántos Brand tienen más de un VendorNumber\n",
    "print(f\"Number of Brand with more than one unique VendorNumber: {count_class}\")\n"
   ]
  },
  {
   "cell_type": "code",
   "execution_count": 316,
   "metadata": {},
   "outputs": [
    {
     "name": "stdout",
     "output_type": "stream",
     "text": [
      "Empty DataFrame\n",
      "Columns: [Brand, VendorName]\n",
      "Index: []\n",
      "Number of Brand with more than one unique VendorName: 0\n"
     ]
    }
   ],
   "source": [
    "# Agrupar por 'Brand' y contar los valores únicos de 'VendorName'\n",
    "df_grouped_pp8 = df_PurchasePrices.groupby('Brand')['VendorName'].nunique().reset_index()\n",
    "\n",
    "# Filtrar los casos donde hay más de un valor único de 'VendorName'\n",
    "df_multiple_class = df_grouped_pp8[df_grouped_pp8['VendorName'] > 1]\n",
    "\n",
    "# Ver cuántos Brand tienen más de un VendorName\n",
    "count_class= df_multiple_class.shape[0]\n",
    "\n",
    "# Mostrar los Brand con más de un VendorName\n",
    "print(df_multiple_class[['Brand', 'VendorName']])\n",
    "\n",
    "# Mostrar cuántos Brand tienen más de un VendorNumber\n",
    "print(f\"Number of Brand with more than one unique VendorName: {count_class}\")\n"
   ]
  },
  {
   "cell_type": "code",
   "execution_count": 317,
   "metadata": {},
   "outputs": [
    {
     "name": "stdout",
     "output_type": "stream",
     "text": [
      "Empty DataFrame\n",
      "Columns: [Brand, Volume]\n",
      "Index: []\n",
      "Number of Brand with more than one unique Volume: 0\n"
     ]
    }
   ],
   "source": [
    "# Agrupar por 'Brand' y contar los valores únicos de 'Volume'\n",
    "df_grouped_pp8 = df_PurchasePrices.groupby('Brand')['Volume'].nunique().reset_index()\n",
    "\n",
    "# Filtrar los casos donde hay más de un valor único de 'Volume'\n",
    "df_multiple_class = df_grouped_pp8[df_grouped_pp8['Volume'] > 1]\n",
    "\n",
    "# Ver cuántos Brand tienen más de un Volume\n",
    "count_class= df_multiple_class.shape[0]\n",
    "\n",
    "# Mostrar los Brand con más de un Volume\n",
    "print(df_multiple_class[['Brand', 'Volume']])\n",
    "\n",
    "# Mostrar cuántos Brand tienen más de un Volume\n",
    "print(f\"Number of Brand with more than one unique Volume: {count_class}\")\n"
   ]
  },
  {
   "cell_type": "code",
   "execution_count": 318,
   "metadata": {},
   "outputs": [
    {
     "name": "stdout",
     "output_type": "stream",
     "text": [
      "Empty DataFrame\n",
      "Columns: [Brand, Price]\n",
      "Index: []\n",
      "Number of Brand with more than one unique Price: 0\n"
     ]
    }
   ],
   "source": [
    "# Agrupar por 'Brand' y contar los valores únicos de 'Price'\n",
    "df_grouped_pp8 = df_PurchasePrices.groupby('Brand')['Price'].nunique().reset_index()\n",
    "\n",
    "# Filtrar los casos donde hay más de un valor único de 'Price'\n",
    "df_multiple_class = df_grouped_pp8[df_grouped_pp8['Price'] > 1]\n",
    "\n",
    "# Ver cuántos Brand tienen más de un Price\n",
    "count_class= df_multiple_class.shape[0]\n",
    "\n",
    "# Mostrar los Brand con más de un Price\n",
    "print(df_multiple_class[['Brand', 'Price']])\n",
    "\n",
    "# Mostrar cuántos Brand tienen más de un Price\n",
    "print(f\"Number of Brand with more than one unique Price: {count_class}\")\n"
   ]
  },
  {
   "cell_type": "code",
   "execution_count": 350,
   "metadata": {},
   "outputs": [
    {
     "data": {
      "text/plain": [
       "Index(['InventoryId', 'Store', 'Brand', 'Description', 'Size', 'VendorNumber',\n",
       "       'VendorName', 'PONumber', 'PODate', 'ReceivingDate', 'InvoiceDate',\n",
       "       'PayDate', 'PurchasePrice', 'Quantity', 'Dollars', 'Classification'],\n",
       "      dtype='object')"
      ]
     },
     "execution_count": 350,
     "metadata": {},
     "output_type": "execute_result"
    }
   ],
   "source": [
    "df_PurchasesFinal.columns"
   ]
  },
  {
   "cell_type": "code",
   "execution_count": 351,
   "metadata": {},
   "outputs": [
    {
     "data": {
      "text/plain": [
       "(2372474, 16)"
      ]
     },
     "execution_count": 351,
     "metadata": {},
     "output_type": "execute_result"
    }
   ],
   "source": [
    "df_PurchasesFinal.shape"
   ]
  },
  {
   "cell_type": "code",
   "execution_count": 357,
   "metadata": {},
   "outputs": [
    {
     "data": {
      "text/plain": [
       "InventoryId\n",
       "73_DONCASTER_8068     180\n",
       "73_DONCASTER_3545     178\n",
       "76_DONCASTER_1233     175\n",
       "76_DONCASTER_5364     174\n",
       "67_EANVERNESS_3545    171\n",
       "                     ... \n",
       "76_DONCASTER_1074       1\n",
       "23_ARBINGTON_1074       1\n",
       "15_WANBORNE_1069        1\n",
       "52_GRAYCOTT_759         1\n",
       "74_PAENTMARWY_3907      1\n",
       "Name: count, Length: 245907, dtype: int64"
      ]
     },
     "execution_count": 357,
     "metadata": {},
     "output_type": "execute_result"
    }
   ],
   "source": [
    "df_PurchasesFinal['InventoryId'].value_counts()"
   ]
  },
  {
   "cell_type": "markdown",
   "metadata": {},
   "source": [
    "### CONCLUSION: Usamos el dataframe PurchaisePrices ya corregido para crear nuestras tablas DIMENSIONALES"
   ]
  },
  {
   "cell_type": "code",
   "execution_count": 319,
   "metadata": {},
   "outputs": [
    {
     "data": {
      "text/html": [
       "<div>\n",
       "<style scoped>\n",
       "    .dataframe tbody tr th:only-of-type {\n",
       "        vertical-align: middle;\n",
       "    }\n",
       "\n",
       "    .dataframe tbody tr th {\n",
       "        vertical-align: top;\n",
       "    }\n",
       "\n",
       "    .dataframe thead th {\n",
       "        text-align: right;\n",
       "    }\n",
       "</style>\n",
       "<table border=\"1\" class=\"dataframe\">\n",
       "  <thead>\n",
       "    <tr style=\"text-align: right;\">\n",
       "      <th></th>\n",
       "      <th>Brand</th>\n",
       "      <th>Description</th>\n",
       "      <th>Price</th>\n",
       "      <th>Size</th>\n",
       "      <th>Volume</th>\n",
       "      <th>Classification</th>\n",
       "      <th>PurchasePrice</th>\n",
       "      <th>VendorNumber</th>\n",
       "      <th>VendorName</th>\n",
       "    </tr>\n",
       "  </thead>\n",
       "  <tbody>\n",
       "    <tr>\n",
       "      <th>0</th>\n",
       "      <td>58</td>\n",
       "      <td>Gekkeikan Black &amp; Gold Sake</td>\n",
       "      <td>12.99</td>\n",
       "      <td>750mL</td>\n",
       "      <td>750</td>\n",
       "      <td>1</td>\n",
       "      <td>9.28</td>\n",
       "      <td>8320</td>\n",
       "      <td>SHAW ROSS INT L IMP LTD</td>\n",
       "    </tr>\n",
       "    <tr>\n",
       "      <th>1</th>\n",
       "      <td>62</td>\n",
       "      <td>Herradura Silver Tequila</td>\n",
       "      <td>36.99</td>\n",
       "      <td>750mL</td>\n",
       "      <td>750</td>\n",
       "      <td>1</td>\n",
       "      <td>28.67</td>\n",
       "      <td>1128</td>\n",
       "      <td>BROWN-FORMAN CORP</td>\n",
       "    </tr>\n",
       "    <tr>\n",
       "      <th>2</th>\n",
       "      <td>63</td>\n",
       "      <td>Herradura Reposado Tequila</td>\n",
       "      <td>38.99</td>\n",
       "      <td>750mL</td>\n",
       "      <td>750</td>\n",
       "      <td>1</td>\n",
       "      <td>30.46</td>\n",
       "      <td>1128</td>\n",
       "      <td>BROWN-FORMAN CORP</td>\n",
       "    </tr>\n",
       "    <tr>\n",
       "      <th>3</th>\n",
       "      <td>72</td>\n",
       "      <td>No. 3 London Dry Gin</td>\n",
       "      <td>34.99</td>\n",
       "      <td>750mL</td>\n",
       "      <td>750</td>\n",
       "      <td>1</td>\n",
       "      <td>26.11</td>\n",
       "      <td>9165</td>\n",
       "      <td>ULTRA BEVERAGE COMPANY LLP</td>\n",
       "    </tr>\n",
       "    <tr>\n",
       "      <th>4</th>\n",
       "      <td>75</td>\n",
       "      <td>Three Olives Tomato Vodka</td>\n",
       "      <td>14.99</td>\n",
       "      <td>750mL</td>\n",
       "      <td>750</td>\n",
       "      <td>1</td>\n",
       "      <td>10.94</td>\n",
       "      <td>7245</td>\n",
       "      <td>PROXIMO SPIRITS INC.</td>\n",
       "    </tr>\n",
       "  </tbody>\n",
       "</table>\n",
       "</div>"
      ],
      "text/plain": [
       "   Brand                  Description  Price   Size Volume  Classification  \\\n",
       "0     58  Gekkeikan Black & Gold Sake  12.99  750mL    750               1   \n",
       "1     62     Herradura Silver Tequila  36.99  750mL    750               1   \n",
       "2     63   Herradura Reposado Tequila  38.99  750mL    750               1   \n",
       "3     72         No. 3 London Dry Gin  34.99  750mL    750               1   \n",
       "4     75    Three Olives Tomato Vodka  14.99  750mL    750               1   \n",
       "\n",
       "   PurchasePrice  VendorNumber                  VendorName  \n",
       "0           9.28          8320     SHAW ROSS INT L IMP LTD  \n",
       "1          28.67          1128           BROWN-FORMAN CORP  \n",
       "2          30.46          1128           BROWN-FORMAN CORP  \n",
       "3          26.11          9165  ULTRA BEVERAGE COMPANY LLP  \n",
       "4          10.94          7245        PROXIMO SPIRITS INC.  "
      ]
     },
     "execution_count": 319,
     "metadata": {},
     "output_type": "execute_result"
    }
   ],
   "source": [
    "df_PurchasePrices.head()"
   ]
  },
  {
   "cell_type": "markdown",
   "metadata": {},
   "source": [
    "### Creamos la tabla Detalle_Brand"
   ]
  },
  {
   "cell_type": "code",
   "execution_count": 447,
   "metadata": {},
   "outputs": [],
   "source": [
    "# Extraer valores únicos de todas las columnas de PurchasePrice\n",
    "Detalle_Brand = df_PurchasePrices[['Brand', 'Description', 'Price', 'Size', 'Volume', 'Classification', 'PurchasePrice', 'VendorNumber', 'VendorName']].drop_duplicates().reset_index(drop=True)\n"
   ]
  },
  {
   "cell_type": "markdown",
   "metadata": {},
   "source": [
    "#### Creamos el ID"
   ]
  },
  {
   "cell_type": "code",
   "execution_count": 448,
   "metadata": {},
   "outputs": [],
   "source": [
    "# Generar BrandID en Detalle_Brand\n",
    "Detalle_Brand['BrandID'] = Detalle_Brand.index + 1"
   ]
  },
  {
   "cell_type": "code",
   "execution_count": 449,
   "metadata": {},
   "outputs": [
    {
     "data": {
      "text/plain": [
       "(12248, 10)"
      ]
     },
     "execution_count": 449,
     "metadata": {},
     "output_type": "execute_result"
    }
   ],
   "source": [
    "Detalle_Brand.shape"
   ]
  },
  {
   "cell_type": "code",
   "execution_count": 450,
   "metadata": {},
   "outputs": [
    {
     "data": {
      "text/plain": [
       "Index(['Brand', 'Description', 'Price', 'Size', 'Volume', 'Classification',\n",
       "       'PurchasePrice', 'VendorNumber', 'VendorName', 'BrandID'],\n",
       "      dtype='object')"
      ]
     },
     "execution_count": 450,
     "metadata": {},
     "output_type": "execute_result"
    }
   ],
   "source": [
    "Detalle_Brand.columns"
   ]
  },
  {
   "cell_type": "code",
   "execution_count": 451,
   "metadata": {},
   "outputs": [
    {
     "data": {
      "text/plain": [
       "Brand               int64\n",
       "Description        object\n",
       "Price             float64\n",
       "Size               object\n",
       "Volume             object\n",
       "Classification      int64\n",
       "PurchasePrice     float64\n",
       "VendorNumber        int64\n",
       "VendorName         object\n",
       "BrandID             int64\n",
       "dtype: object"
      ]
     },
     "execution_count": 451,
     "metadata": {},
     "output_type": "execute_result"
    }
   ],
   "source": [
    "Detalle_Brand.dtypes"
   ]
  },
  {
   "cell_type": "markdown",
   "metadata": {},
   "source": [
    "### Creamos mas tablas Dim de la tabla Detalle_Brand"
   ]
  },
  {
   "cell_type": "markdown",
   "metadata": {},
   "source": [
    "#### Creamos la tabla DimDescription"
   ]
  },
  {
   "cell_type": "code",
   "execution_count": 366,
   "metadata": {},
   "outputs": [],
   "source": [
    "# Extraer valores únicos de todas las columnas de DimBrand\n",
    "DimDescription = Detalle_Brand[['Description']].drop_duplicates().reset_index(drop=True)\n"
   ]
  },
  {
   "cell_type": "markdown",
   "metadata": {},
   "source": [
    "#### Creamos el ID"
   ]
  },
  {
   "cell_type": "code",
   "execution_count": 367,
   "metadata": {},
   "outputs": [],
   "source": [
    "# Generar DescriptionId en DimDescription\n",
    "DimDescription['DescriptionID'] = DimDescription.index + 1"
   ]
  },
  {
   "cell_type": "code",
   "execution_count": 368,
   "metadata": {},
   "outputs": [
    {
     "data": {
      "text/plain": [
       "(11102, 2)"
      ]
     },
     "execution_count": 368,
     "metadata": {},
     "output_type": "execute_result"
    }
   ],
   "source": [
    "DimDescription.shape"
   ]
  },
  {
   "cell_type": "code",
   "execution_count": 369,
   "metadata": {},
   "outputs": [
    {
     "data": {
      "text/plain": [
       "Index(['Description', 'DescriptionID'], dtype='object')"
      ]
     },
     "execution_count": 369,
     "metadata": {},
     "output_type": "execute_result"
    }
   ],
   "source": [
    "DimDescription.columns"
   ]
  },
  {
   "cell_type": "code",
   "execution_count": 370,
   "metadata": {},
   "outputs": [
    {
     "data": {
      "text/plain": [
       "Description      object\n",
       "DescriptionID     int64\n",
       "dtype: object"
      ]
     },
     "execution_count": 370,
     "metadata": {},
     "output_type": "execute_result"
    }
   ],
   "source": [
    "DimDescription.dtypes"
   ]
  },
  {
   "cell_type": "markdown",
   "metadata": {},
   "source": [
    "#### Creamos la tabla DimSize"
   ]
  },
  {
   "cell_type": "code",
   "execution_count": 371,
   "metadata": {},
   "outputs": [],
   "source": [
    "# Extraer valores únicos de todas las columnas de DimBrand\n",
    "DimSize = Detalle_Brand[['Size']].drop_duplicates().reset_index(drop=True)\n"
   ]
  },
  {
   "cell_type": "markdown",
   "metadata": {},
   "source": [
    "#### Creamos el ID"
   ]
  },
  {
   "cell_type": "code",
   "execution_count": 373,
   "metadata": {},
   "outputs": [],
   "source": [
    "# Generar SizeID en DimSize\n",
    "DimSize['SizeID'] = DimSize.index + 1"
   ]
  },
  {
   "cell_type": "code",
   "execution_count": 374,
   "metadata": {},
   "outputs": [
    {
     "data": {
      "text/plain": [
       "(56, 2)"
      ]
     },
     "execution_count": 374,
     "metadata": {},
     "output_type": "execute_result"
    }
   ],
   "source": [
    "DimSize.shape"
   ]
  },
  {
   "cell_type": "code",
   "execution_count": 375,
   "metadata": {},
   "outputs": [
    {
     "data": {
      "text/plain": [
       "Index(['Size', 'SizeID'], dtype='object')"
      ]
     },
     "execution_count": 375,
     "metadata": {},
     "output_type": "execute_result"
    }
   ],
   "source": [
    "DimSize.columns"
   ]
  },
  {
   "cell_type": "code",
   "execution_count": 376,
   "metadata": {},
   "outputs": [
    {
     "data": {
      "text/plain": [
       "Size      object\n",
       "SizeID     int64\n",
       "dtype: object"
      ]
     },
     "execution_count": 376,
     "metadata": {},
     "output_type": "execute_result"
    }
   ],
   "source": [
    "DimSize.dtypes"
   ]
  },
  {
   "cell_type": "markdown",
   "metadata": {},
   "source": [
    "#### Creamos la tabla DimClassification"
   ]
  },
  {
   "cell_type": "code",
   "execution_count": 377,
   "metadata": {},
   "outputs": [],
   "source": [
    "# Extraer valores únicos de todas las columnas de DimBrand\n",
    "DimClassification = Detalle_Brand[['Classification']].drop_duplicates().reset_index(drop=True)\n"
   ]
  },
  {
   "cell_type": "markdown",
   "metadata": {},
   "source": [
    "#### Creamos el ID"
   ]
  },
  {
   "cell_type": "code",
   "execution_count": 378,
   "metadata": {},
   "outputs": [],
   "source": [
    "# Generar ClassID en DimClassification\n",
    "DimClassification['ClassID'] = DimClassification.index + 1"
   ]
  },
  {
   "cell_type": "code",
   "execution_count": 379,
   "metadata": {},
   "outputs": [
    {
     "data": {
      "text/plain": [
       "(2, 2)"
      ]
     },
     "execution_count": 379,
     "metadata": {},
     "output_type": "execute_result"
    }
   ],
   "source": [
    "DimClassification.shape"
   ]
  },
  {
   "cell_type": "code",
   "execution_count": 380,
   "metadata": {},
   "outputs": [
    {
     "data": {
      "text/plain": [
       "Index(['Classification', 'ClassID'], dtype='object')"
      ]
     },
     "execution_count": 380,
     "metadata": {},
     "output_type": "execute_result"
    }
   ],
   "source": [
    "DimClassification.columns"
   ]
  },
  {
   "cell_type": "code",
   "execution_count": 381,
   "metadata": {},
   "outputs": [
    {
     "data": {
      "text/plain": [
       "Classification    int64\n",
       "ClassID           int64\n",
       "dtype: object"
      ]
     },
     "execution_count": 381,
     "metadata": {},
     "output_type": "execute_result"
    }
   ],
   "source": [
    "DimClassification.dtypes"
   ]
  },
  {
   "cell_type": "markdown",
   "metadata": {},
   "source": [
    "#### Creamos la tabla DimVendor"
   ]
  },
  {
   "cell_type": "code",
   "execution_count": 496,
   "metadata": {},
   "outputs": [],
   "source": [
    "# Extraer valores únicos de todas las columnas de DimBrand\n",
    "DimVendor = Detalle_Brand[['VendorNumber','VendorName']].drop_duplicates().reset_index(drop=True)\n"
   ]
  },
  {
   "cell_type": "code",
   "execution_count": 497,
   "metadata": {},
   "outputs": [
    {
     "data": {
      "text/plain": [
       "VendorNumber\n",
       "4425     1639\n",
       "9165      965\n",
       "9552      960\n",
       "10754     897\n",
       "3252      527\n",
       "         ... \n",
       "99166       1\n",
       "9099        1\n",
       "54          1\n",
       "90059       1\n",
       "5083        1\n",
       "Name: count, Length: 131, dtype: int64"
      ]
     },
     "execution_count": 497,
     "metadata": {},
     "output_type": "execute_result"
    }
   ],
   "source": [
    "Detalle_Brand['VendorNumber'].value_counts()"
   ]
  },
  {
   "cell_type": "code",
   "execution_count": 498,
   "metadata": {},
   "outputs": [
    {
     "data": {
      "text/plain": [
       "VendorNumber\n",
       "8320     1\n",
       "1128     1\n",
       "9165     1\n",
       "7245     1\n",
       "8112     1\n",
       "        ..\n",
       "9099     1\n",
       "3551     1\n",
       "54       1\n",
       "90059    1\n",
       "5083     1\n",
       "Name: count, Length: 131, dtype: int64"
      ]
     },
     "execution_count": 498,
     "metadata": {},
     "output_type": "execute_result"
    }
   ],
   "source": [
    "DimVendor['VendorNumber'].value_counts()"
   ]
  },
  {
   "cell_type": "code",
   "execution_count": 499,
   "metadata": {},
   "outputs": [
    {
     "data": {
      "text/plain": [
       "VendorNumber\n",
       "4425      82\n",
       "2000      67\n",
       "1587      58\n",
       "4380      55\n",
       "516       55\n",
       "          ..\n",
       "1439       1\n",
       "201359     1\n",
       "9099       1\n",
       "4901       1\n",
       "54         1\n",
       "Name: count, Length: 126, dtype: int64"
      ]
     },
     "execution_count": 499,
     "metadata": {},
     "output_type": "execute_result"
    }
   ],
   "source": [
    "df_InvoicePurchases['VendorNumber'].value_counts()"
   ]
  },
  {
   "cell_type": "markdown",
   "metadata": {},
   "source": [
    "#### Creamos el ID"
   ]
  },
  {
   "cell_type": "code",
   "execution_count": 500,
   "metadata": {},
   "outputs": [],
   "source": [
    "# Generar VendorID en DimVendor\n",
    "DimVendor['VendorID'] = DimVendor.index + 1"
   ]
  },
  {
   "cell_type": "code",
   "execution_count": 501,
   "metadata": {},
   "outputs": [
    {
     "data": {
      "text/plain": [
       "Index(['VendorNumber', 'VendorName', 'VendorID'], dtype='object')"
      ]
     },
     "execution_count": 501,
     "metadata": {},
     "output_type": "execute_result"
    }
   ],
   "source": [
    "DimVendor.columns"
   ]
  },
  {
   "cell_type": "markdown",
   "metadata": {},
   "source": [
    "### Guardamos nuestras tablas Dim Creadas"
   ]
  },
  {
   "cell_type": "code",
   "execution_count": 452,
   "metadata": {},
   "outputs": [],
   "source": [
    "Detalle_Brand.to_csv('Detalle_Brand.csv', index=False)\n"
   ]
  },
  {
   "cell_type": "code",
   "execution_count": 392,
   "metadata": {},
   "outputs": [],
   "source": [
    "DimDescription.to_csv('Dim_Description.csv', index=False)\n"
   ]
  },
  {
   "cell_type": "code",
   "execution_count": 393,
   "metadata": {},
   "outputs": [],
   "source": [
    "DimSize.to_csv('Dim_Size.csv', index=False)\n"
   ]
  },
  {
   "cell_type": "code",
   "execution_count": 394,
   "metadata": {},
   "outputs": [],
   "source": [
    "DimClassification.to_csv('Dim_Class.csv', index=False)\n"
   ]
  },
  {
   "cell_type": "code",
   "execution_count": 502,
   "metadata": {},
   "outputs": [],
   "source": [
    "DimVendor.to_csv('Dim_Vendor.csv', index=False)\n"
   ]
  },
  {
   "cell_type": "markdown",
   "metadata": {},
   "source": [
    "### Volvemos a cargar lo que vamos a usar"
   ]
  },
  {
   "cell_type": "code",
   "execution_count": 453,
   "metadata": {},
   "outputs": [],
   "source": [
    "Detalle_Brand= pd.read_csv('Detalle_Brand.csv')"
   ]
  },
  {
   "cell_type": "code",
   "execution_count": 398,
   "metadata": {},
   "outputs": [],
   "source": [
    "DimDescription= pd.read_csv('Dim_Description.csv')"
   ]
  },
  {
   "cell_type": "code",
   "execution_count": 399,
   "metadata": {},
   "outputs": [],
   "source": [
    "DimSize= pd.read_csv('Dim_Size.csv')"
   ]
  },
  {
   "cell_type": "code",
   "execution_count": 400,
   "metadata": {},
   "outputs": [],
   "source": [
    "DimClassification = pd.read_csv('Dim_Class.csv')"
   ]
  },
  {
   "cell_type": "code",
   "execution_count": 503,
   "metadata": {},
   "outputs": [],
   "source": [
    "DimVendor = pd.read_csv('Dim_Vendor.csv')"
   ]
  },
  {
   "cell_type": "markdown",
   "metadata": {},
   "source": [
    "#### Insertamos BrandID en las tablas de hechos df_SalesFinal y df_PurchasesFinal y borramos las columnas redundantes y filas vacias/nulas"
   ]
  },
  {
   "cell_type": "code",
   "execution_count": 403,
   "metadata": {},
   "outputs": [
    {
     "data": {
      "text/plain": [
       "Index(['InventoryId', 'Store', 'Brand', 'Description', 'Size', 'SalesQuantity',\n",
       "       'SalesDollars', 'SalesPrice', 'SalesDate', 'Volume', 'Classification',\n",
       "       'ExciseTax', 'VendorNo', 'VendorName'],\n",
       "      dtype='object')"
      ]
     },
     "execution_count": 403,
     "metadata": {},
     "output_type": "execute_result"
    }
   ],
   "source": [
    "df_SalesFinal.columns"
   ]
  },
  {
   "cell_type": "code",
   "execution_count": 405,
   "metadata": {},
   "outputs": [
    {
     "data": {
      "text/plain": [
       "(1048575, 14)"
      ]
     },
     "execution_count": 405,
     "metadata": {},
     "output_type": "execute_result"
    }
   ],
   "source": [
    "df_SalesFinal.shape"
   ]
  },
  {
   "cell_type": "code",
   "execution_count": 454,
   "metadata": {},
   "outputs": [
    {
     "data": {
      "text/plain": [
       "Index(['Brand', 'Description', 'Price', 'Size', 'Volume', 'Classification',\n",
       "       'PurchasePrice', 'VendorNumber', 'VendorName', 'BrandID'],\n",
       "      dtype='object')"
      ]
     },
     "execution_count": 454,
     "metadata": {},
     "output_type": "execute_result"
    }
   ],
   "source": [
    "Detalle_Brand.columns"
   ]
  },
  {
   "cell_type": "code",
   "execution_count": 455,
   "metadata": {},
   "outputs": [],
   "source": [
    "# Realizar un merge entre df_PurchasesFinal y df_SalesFinal y Detalle_brand basándose en BrandID y Brand\n",
    "df_SalesFinal = df_SalesFinal.merge(Detalle_Brand[['BrandID','Brand']], left_on='Brand', right_on='Brand', how='left')\n",
    "df_PurchasesFinal = df_PurchasesFinal.merge(Detalle_Brand[['BrandID','Brand']], left_on='Brand', right_on='Brand', how='left')"
   ]
  },
  {
   "cell_type": "code",
   "execution_count": 456,
   "metadata": {},
   "outputs": [
    {
     "data": {
      "text/plain": [
       "Index(['InventoryId', 'Store', 'Brand', 'Description', 'Size', 'SalesQuantity',\n",
       "       'SalesDollars', 'SalesPrice', 'SalesDate', 'Volume', 'Classification',\n",
       "       'ExciseTax', 'VendorNo', 'VendorName', 'BrandID'],\n",
       "      dtype='object')"
      ]
     },
     "execution_count": 456,
     "metadata": {},
     "output_type": "execute_result"
    }
   ],
   "source": [
    "df_SalesFinal.columns"
   ]
  },
  {
   "cell_type": "code",
   "execution_count": 457,
   "metadata": {},
   "outputs": [
    {
     "data": {
      "text/plain": [
       "Index(['InventoryId', 'Store', 'Brand', 'Description', 'Size', 'VendorNumber',\n",
       "       'VendorName', 'PONumber', 'PODate', 'ReceivingDate', 'InvoiceDate',\n",
       "       'PayDate', 'PurchasePrice', 'Quantity', 'Dollars', 'Classification',\n",
       "       'BrandID'],\n",
       "      dtype='object')"
      ]
     },
     "execution_count": 457,
     "metadata": {},
     "output_type": "execute_result"
    }
   ],
   "source": [
    "df_PurchasesFinal.columns"
   ]
  },
  {
   "cell_type": "code",
   "execution_count": 458,
   "metadata": {},
   "outputs": [],
   "source": [
    "# Elimino la columna 'Brand'\n",
    "df_SalesFinal = df_SalesFinal.drop(columns=['Brand'])\n",
    "df_PurchasesFinal = df_PurchasesFinal.drop(columns=['Brand'])\n"
   ]
  },
  {
   "cell_type": "markdown",
   "metadata": {},
   "source": [
    "#### Reviso que no tenga datos nulos, en caso se encontrar los eliminamos"
   ]
  },
  {
   "cell_type": "code",
   "execution_count": 459,
   "metadata": {},
   "outputs": [
    {
     "name": "stdout",
     "output_type": "stream",
     "text": [
      "Series([], dtype: int64)\n"
     ]
    }
   ],
   "source": [
    "total_nulos_salesfinal = df_SalesFinal.isnull().sum()[df_SalesFinal.isnull().sum()>0]\n",
    "print(total_nulos_salesfinal)"
   ]
  },
  {
   "cell_type": "code",
   "execution_count": 460,
   "metadata": {},
   "outputs": [
    {
     "name": "stdout",
     "output_type": "stream",
     "text": [
      "BrandID    215\n",
      "dtype: int64\n"
     ]
    }
   ],
   "source": [
    "total_nulos_purchasesfinal = df_PurchasesFinal.isnull().sum()[df_PurchasesFinal.isnull().sum()>0]\n",
    "print(total_nulos_purchasesfinal)"
   ]
  },
  {
   "cell_type": "code",
   "execution_count": 461,
   "metadata": {},
   "outputs": [
    {
     "name": "stdout",
     "output_type": "stream",
     "text": [
      "                 InventoryId  Store        Description   Size  VendorNumber  \\\n",
      "1593834     54_GUTHRAM_27276     54     Zaccagnini Rsl  750mL          2000   \n",
      "1593835   76_DONCASTER_27276     76     Zaccagnini Rsl  750mL          2000   \n",
      "1593836  66_EANVERNESS_27276     66     Zaccagnini Rsl  750mL          2000   \n",
      "1593837     33_HORNSEY_27276     33     Zaccagnini Rsl  750mL          2000   \n",
      "1593838  67_EANVERNESS_27276     67     Zaccagnini Rsl  750mL          2000   \n",
      "...                      ...    ...                ...    ...           ...   \n",
      "2254855   73_DONCASTER_27764     73  Warre's Port 2000  375mL          1587   \n",
      "2254856   55_DRY GULCH_27764     55  Warre's Port 2000  375mL          1587   \n",
      "2254857   50_MOUNTMEND_27764     50  Warre's Port 2000  375mL          1587   \n",
      "2254858   69_MOUNTMEND_27764     69  Warre's Port 2000  375mL          1587   \n",
      "2310907   38_GOULCREST_27765     38  Warre's Port 2003  375mL          1587   \n",
      "\n",
      "                         VendorName  PONumber      PODate ReceivingDate  \\\n",
      "1593834  SOUTHERN GLAZERS W&S OF NE     11896  2016-08-31    2016-09-09   \n",
      "1593835  SOUTHERN GLAZERS W&S OF NE     11896  2016-08-31    2016-09-08   \n",
      "1593836  SOUTHERN GLAZERS W&S OF NE     11896  2016-08-31    2016-09-09   \n",
      "1593837  SOUTHERN GLAZERS W&S OF NE     11896  2016-08-31    2016-09-08   \n",
      "1593838  SOUTHERN GLAZERS W&S OF NE     11896  2016-08-31    2016-09-08   \n",
      "...                             ...       ...         ...           ...   \n",
      "2254855         VINEYARD BRANDS LLC     13371  2016-12-05    2016-12-16   \n",
      "2254856         VINEYARD BRANDS LLC     13371  2016-12-05    2016-12-15   \n",
      "2254857         VINEYARD BRANDS LLC     13371  2016-12-05    2016-12-16   \n",
      "2254858         VINEYARD BRANDS LLC     13371  2016-12-05    2016-12-16   \n",
      "2310907         VINEYARD BRANDS LLC     13482  2016-12-12    2016-12-20   \n",
      "\n",
      "        InvoiceDate     PayDate  PurchasePrice  Quantity  Dollars  \\\n",
      "1593834  2016-09-17  2016-10-21           6.12        48   293.76   \n",
      "1593835  2016-09-17  2016-10-21           6.12        84   514.08   \n",
      "1593836  2016-09-17  2016-10-21           6.12        84   514.08   \n",
      "1593837  2016-09-17  2016-10-21           6.12        72   440.64   \n",
      "1593838  2016-09-17  2016-10-21           6.12        84   514.08   \n",
      "...             ...         ...            ...       ...      ...   \n",
      "2254855  2016-12-27  2017-01-21          24.99        12   299.88   \n",
      "2254856  2016-12-27  2017-01-21          24.99        12   299.88   \n",
      "2254857  2016-12-27  2017-01-21          24.99        24   599.76   \n",
      "2254858  2016-12-27  2017-01-21          24.99        12   299.88   \n",
      "2310907  2016-12-27  2017-02-06          23.33        11   256.63   \n",
      "\n",
      "         Classification  BrandID  \n",
      "1593834               2      NaN  \n",
      "1593835               2      NaN  \n",
      "1593836               2      NaN  \n",
      "1593837               2      NaN  \n",
      "1593838               2      NaN  \n",
      "...                 ...      ...  \n",
      "2254855               2      NaN  \n",
      "2254856               2      NaN  \n",
      "2254857               2      NaN  \n",
      "2254858               2      NaN  \n",
      "2310907               2      NaN  \n",
      "\n",
      "[215 rows x 16 columns]\n"
     ]
    }
   ],
   "source": [
    "print(df_PurchasesFinal[df_PurchasesFinal['BrandID'].isnull()])\n"
   ]
  },
  {
   "cell_type": "code",
   "execution_count": 462,
   "metadata": {},
   "outputs": [],
   "source": [
    "# Borramos las filas que tienen BrandID = NaN\n",
    "df_PurchasesFinal = df_PurchasesFinal.dropna(subset=['BrandID'])\n"
   ]
  },
  {
   "cell_type": "code",
   "execution_count": 463,
   "metadata": {},
   "outputs": [
    {
     "name": "stdout",
     "output_type": "stream",
     "text": [
      "Series([], dtype: int64)\n"
     ]
    }
   ],
   "source": [
    "# Verificamos nuevamente si quedan nulos\n",
    "total_nulos_purchasesfinal = df_PurchasesFinal.isnull().sum()[df_PurchasesFinal.isnull().sum() > 0]\n",
    "print(total_nulos_purchasesfinal)\n"
   ]
  },
  {
   "cell_type": "code",
   "execution_count": 464,
   "metadata": {},
   "outputs": [
    {
     "data": {
      "text/plain": [
       "(2372259, 16)"
      ]
     },
     "execution_count": 464,
     "metadata": {},
     "output_type": "execute_result"
    }
   ],
   "source": [
    "# Mostrar el DataFrame actualizado\n",
    "df_PurchasesFinal.shape"
   ]
  },
  {
   "cell_type": "markdown",
   "metadata": {},
   "source": [
    "#### Insertamos DescriptionID en la tabla de hechos df_SalesFinal y df_PurchasesFinal y borramos las columnas redundantes o filas nulas/vacias"
   ]
  },
  {
   "cell_type": "code",
   "execution_count": 465,
   "metadata": {},
   "outputs": [
    {
     "data": {
      "text/plain": [
       "Index(['InventoryId', 'Store', 'Description', 'Size', 'SalesQuantity',\n",
       "       'SalesDollars', 'SalesPrice', 'SalesDate', 'Volume', 'Classification',\n",
       "       'ExciseTax', 'VendorNo', 'VendorName', 'BrandID'],\n",
       "      dtype='object')"
      ]
     },
     "execution_count": 465,
     "metadata": {},
     "output_type": "execute_result"
    }
   ],
   "source": [
    "df_SalesFinal.columns"
   ]
  },
  {
   "cell_type": "code",
   "execution_count": 466,
   "metadata": {},
   "outputs": [
    {
     "data": {
      "text/plain": [
       "Index(['InventoryId', 'Store', 'Description', 'Size', 'VendorNumber',\n",
       "       'VendorName', 'PONumber', 'PODate', 'ReceivingDate', 'InvoiceDate',\n",
       "       'PayDate', 'PurchasePrice', 'Quantity', 'Dollars', 'Classification',\n",
       "       'BrandID'],\n",
       "      dtype='object')"
      ]
     },
     "execution_count": 466,
     "metadata": {},
     "output_type": "execute_result"
    }
   ],
   "source": [
    "df_PurchasesFinal.columns"
   ]
  },
  {
   "cell_type": "code",
   "execution_count": 467,
   "metadata": {},
   "outputs": [],
   "source": [
    "# Realizar un merge entre df_PurchasesFinal y df_SalesFinal con DimDescription basándose en la columna Description\n",
    "df_SalesFinal = df_SalesFinal.merge(DimDescription[['DescriptionID','Description']], left_on='Description', right_on='Description', how='left')\n",
    "df_PurchasesFinal = df_PurchasesFinal.merge(DimDescription[['DescriptionID','Description']], left_on='Description', right_on='Description', how='left')"
   ]
  },
  {
   "cell_type": "code",
   "execution_count": 468,
   "metadata": {},
   "outputs": [],
   "source": [
    "# Elimino la columna 'Description'\n",
    "df_SalesFinal = df_SalesFinal.drop(columns=['Description'])\n",
    "df_PurchasesFinal = df_PurchasesFinal.drop(columns=['Description'])\n"
   ]
  },
  {
   "cell_type": "markdown",
   "metadata": {},
   "source": [
    "#### Reviso que no tenga datos nulos, en caso se encontrar los eliminamos"
   ]
  },
  {
   "cell_type": "code",
   "execution_count": 469,
   "metadata": {},
   "outputs": [
    {
     "name": "stdout",
     "output_type": "stream",
     "text": [
      "Series([], dtype: int64)\n"
     ]
    }
   ],
   "source": [
    "total_nulos_salesfinal = df_SalesFinal.isnull().sum()[df_SalesFinal.isnull().sum()>0]\n",
    "print(total_nulos_salesfinal)"
   ]
  },
  {
   "cell_type": "code",
   "execution_count": 470,
   "metadata": {},
   "outputs": [
    {
     "name": "stdout",
     "output_type": "stream",
     "text": [
      "Series([], dtype: int64)\n"
     ]
    }
   ],
   "source": [
    "total_nulos_purchasesfinal = df_PurchasesFinal.isnull().sum()[df_PurchasesFinal.isnull().sum()>0]\n",
    "print(total_nulos_purchasesfinal)"
   ]
  },
  {
   "cell_type": "code",
   "execution_count": 471,
   "metadata": {},
   "outputs": [
    {
     "data": {
      "text/plain": [
       "Index(['InventoryId', 'Store', 'Size', 'SalesQuantity', 'SalesDollars',\n",
       "       'SalesPrice', 'SalesDate', 'Volume', 'Classification', 'ExciseTax',\n",
       "       'VendorNo', 'VendorName', 'BrandID', 'DescriptionID'],\n",
       "      dtype='object')"
      ]
     },
     "execution_count": 471,
     "metadata": {},
     "output_type": "execute_result"
    }
   ],
   "source": [
    "# Mostrar el DataFrame actualizado\n",
    "df_SalesFinal.columns"
   ]
  },
  {
   "cell_type": "code",
   "execution_count": 472,
   "metadata": {},
   "outputs": [
    {
     "data": {
      "text/plain": [
       "Index(['InventoryId', 'Store', 'Size', 'VendorNumber', 'VendorName',\n",
       "       'PONumber', 'PODate', 'ReceivingDate', 'InvoiceDate', 'PayDate',\n",
       "       'PurchasePrice', 'Quantity', 'Dollars', 'Classification', 'BrandID',\n",
       "       'DescriptionID'],\n",
       "      dtype='object')"
      ]
     },
     "execution_count": 472,
     "metadata": {},
     "output_type": "execute_result"
    }
   ],
   "source": [
    "# Mostrar el DataFrame actualizado\n",
    "df_PurchasesFinal.columns"
   ]
  },
  {
   "cell_type": "markdown",
   "metadata": {},
   "source": [
    "#### Insertamos SizeID en la tabla de hechos df_SalesFinal y df_PurchasesFinal y borramos las columnas redundantes o filas nulas/vacias"
   ]
  },
  {
   "cell_type": "code",
   "execution_count": 473,
   "metadata": {},
   "outputs": [],
   "source": [
    "# Realizar un merge entre df_PurchasesFinal y df_SalesFinal con DimSize basándose en la columna Size\n",
    "df_SalesFinal = df_SalesFinal.merge(DimSize[['SizeID','Size']], left_on='Size', right_on='Size', how='left')\n",
    "df_PurchasesFinal = df_PurchasesFinal.merge(DimSize[['SizeID','Size']], left_on='Size', right_on='Size', how='left')"
   ]
  },
  {
   "cell_type": "code",
   "execution_count": 474,
   "metadata": {},
   "outputs": [],
   "source": [
    "# Elimino la columna 'Size'\n",
    "df_SalesFinal = df_SalesFinal.drop(columns=['Size'])\n",
    "df_PurchasesFinal = df_PurchasesFinal.drop(columns=['Size'])\n"
   ]
  },
  {
   "cell_type": "markdown",
   "metadata": {},
   "source": [
    "#### Reviso que no tenga datos nulos, en caso se encontrar los eliminamos"
   ]
  },
  {
   "cell_type": "code",
   "execution_count": 475,
   "metadata": {},
   "outputs": [
    {
     "name": "stdout",
     "output_type": "stream",
     "text": [
      "SizeID    283935\n",
      "dtype: int64\n"
     ]
    }
   ],
   "source": [
    "total_nulos_salesfinal = df_SalesFinal.isnull().sum()[df_SalesFinal.isnull().sum()>0]\n",
    "print(total_nulos_salesfinal)"
   ]
  },
  {
   "cell_type": "code",
   "execution_count": 476,
   "metadata": {},
   "outputs": [
    {
     "name": "stdout",
     "output_type": "stream",
     "text": [
      "SizeID    987037\n",
      "dtype: int64\n"
     ]
    }
   ],
   "source": [
    "total_nulos_purchasesfinal = df_PurchasesFinal.isnull().sum()[df_PurchasesFinal.isnull().sum()>0]\n",
    "print(total_nulos_purchasesfinal)"
   ]
  },
  {
   "cell_type": "code",
   "execution_count": 482,
   "metadata": {},
   "outputs": [],
   "source": [
    "# Borramos las filas que tienen SizeID = NaN\n",
    "df_SalesFinal = df_SalesFinal.dropna(subset=['SizeID'])\n"
   ]
  },
  {
   "cell_type": "code",
   "execution_count": 483,
   "metadata": {},
   "outputs": [],
   "source": [
    "# Borramos las filas que tienen SizeID = NaN\n",
    "df_PurchasesFinal = df_PurchasesFinal.dropna(subset=['SizeID'])\n"
   ]
  },
  {
   "cell_type": "code",
   "execution_count": 484,
   "metadata": {},
   "outputs": [
    {
     "name": "stdout",
     "output_type": "stream",
     "text": [
      "Series([], dtype: int64)\n"
     ]
    }
   ],
   "source": [
    "# Verificamos nuevamente si quedan nulos\n",
    "total_nulos_salesfinal = df_SalesFinal.isnull().sum()[df_SalesFinal.isnull().sum() > 0]\n",
    "print(total_nulos_salesfinal)\n"
   ]
  },
  {
   "cell_type": "code",
   "execution_count": 485,
   "metadata": {},
   "outputs": [
    {
     "name": "stdout",
     "output_type": "stream",
     "text": [
      "Series([], dtype: int64)\n"
     ]
    }
   ],
   "source": [
    "# Verificamos nuevamente si quedan nulos\n",
    "total_nulos_purchasesfinal = df_PurchasesFinal.isnull().sum()[df_PurchasesFinal.isnull().sum() > 0]\n",
    "print(total_nulos_purchasesfinal)\n",
    "\n"
   ]
  },
  {
   "cell_type": "code",
   "execution_count": 486,
   "metadata": {},
   "outputs": [
    {
     "data": {
      "text/plain": [
       "(764640, 14)"
      ]
     },
     "execution_count": 486,
     "metadata": {},
     "output_type": "execute_result"
    }
   ],
   "source": [
    "df_SalesFinal.shape"
   ]
  },
  {
   "cell_type": "code",
   "execution_count": 487,
   "metadata": {},
   "outputs": [
    {
     "data": {
      "text/plain": [
       "(1385222, 16)"
      ]
     },
     "execution_count": 487,
     "metadata": {},
     "output_type": "execute_result"
    }
   ],
   "source": [
    "df_PurchasesFinal.shape"
   ]
  },
  {
   "cell_type": "markdown",
   "metadata": {},
   "source": [
    "#### Insertamos ClassificationID en la tabla de hechos df_SalesFinal y df_PurchasesFinal y borramos las columnas redundantes o filas nulas/vacias"
   ]
  },
  {
   "cell_type": "code",
   "execution_count": 488,
   "metadata": {},
   "outputs": [
    {
     "data": {
      "text/plain": [
       "Index(['Classification', 'ClassID'], dtype='object')"
      ]
     },
     "execution_count": 488,
     "metadata": {},
     "output_type": "execute_result"
    }
   ],
   "source": [
    "DimClassification.columns"
   ]
  },
  {
   "cell_type": "code",
   "execution_count": 489,
   "metadata": {},
   "outputs": [],
   "source": [
    "# Realizar un merge entre df_PurchasesFinal y df_SalesFinal con DimClassification basándose en la columna Classification\n",
    "df_SalesFinal = df_SalesFinal.merge(DimClassification[['ClassID','Classification']], left_on='Classification', right_on='Classification', how='left')\n",
    "df_PurchasesFinal = df_PurchasesFinal.merge(DimClassification[['ClassID','Classification']], left_on='Classification', right_on='Classification', how='left')"
   ]
  },
  {
   "cell_type": "code",
   "execution_count": 490,
   "metadata": {},
   "outputs": [],
   "source": [
    "# Elimino la columna 'Classification'\n",
    "df_SalesFinal = df_SalesFinal.drop(columns=['Classification'])\n",
    "df_PurchasesFinal = df_PurchasesFinal.drop(columns=['Classification'])\n"
   ]
  },
  {
   "cell_type": "markdown",
   "metadata": {},
   "source": [
    "#### Reviso que no tenga datos nulos, en caso se encontrar los eliminamos"
   ]
  },
  {
   "cell_type": "code",
   "execution_count": 491,
   "metadata": {},
   "outputs": [
    {
     "name": "stdout",
     "output_type": "stream",
     "text": [
      "Series([], dtype: int64)\n"
     ]
    }
   ],
   "source": [
    "total_nulos_salesfinal = df_SalesFinal.isnull().sum()[df_SalesFinal.isnull().sum()>0]\n",
    "print(total_nulos_salesfinal)"
   ]
  },
  {
   "cell_type": "code",
   "execution_count": 492,
   "metadata": {},
   "outputs": [
    {
     "name": "stdout",
     "output_type": "stream",
     "text": [
      "Series([], dtype: int64)\n"
     ]
    }
   ],
   "source": [
    "total_nulos_purchasesfinal = df_PurchasesFinal.isnull().sum()[df_PurchasesFinal.isnull().sum()>0]\n",
    "print(total_nulos_purchasesfinal)"
   ]
  },
  {
   "cell_type": "markdown",
   "metadata": {},
   "source": [
    "#### Insertamos VendorID en la tabla de hechos df_SalesFinal y df_PurchasesFinal y borramos las columnas redundantes o filas nulas/vacias"
   ]
  },
  {
   "cell_type": "code",
   "execution_count": 504,
   "metadata": {},
   "outputs": [
    {
     "data": {
      "text/plain": [
       "Index(['VendorNumber', 'VendorName', 'VendorID'], dtype='object')"
      ]
     },
     "execution_count": 504,
     "metadata": {},
     "output_type": "execute_result"
    }
   ],
   "source": [
    "DimVendor.columns"
   ]
  },
  {
   "cell_type": "code",
   "execution_count": 505,
   "metadata": {},
   "outputs": [
    {
     "data": {
      "text/plain": [
       "Index(['InventoryId', 'Store', 'SalesQuantity', 'SalesDollars', 'SalesPrice',\n",
       "       'SalesDate', 'Volume', 'ExciseTax', 'VendorNo', 'VendorName', 'BrandID',\n",
       "       'DescriptionID', 'SizeID', 'ClassID'],\n",
       "      dtype='object')"
      ]
     },
     "execution_count": 505,
     "metadata": {},
     "output_type": "execute_result"
    }
   ],
   "source": [
    "df_SalesFinal.columns"
   ]
  },
  {
   "cell_type": "code",
   "execution_count": 506,
   "metadata": {},
   "outputs": [
    {
     "data": {
      "text/plain": [
       "Index(['InventoryId', 'Store', 'VendorNumber', 'VendorName', 'PONumber',\n",
       "       'PODate', 'ReceivingDate', 'InvoiceDate', 'PayDate', 'PurchasePrice',\n",
       "       'Quantity', 'Dollars', 'BrandID', 'DescriptionID', 'SizeID', 'ClassID'],\n",
       "      dtype='object')"
      ]
     },
     "execution_count": 506,
     "metadata": {},
     "output_type": "execute_result"
    }
   ],
   "source": [
    "df_PurchasesFinal.columns"
   ]
  },
  {
   "cell_type": "code",
   "execution_count": 507,
   "metadata": {},
   "outputs": [],
   "source": [
    "# Realizar un merge entre df_PurchasesFinal y df_SalesFinal con DimVendor basándonos en la columna VendorNumber\n",
    "df_SalesFinal = df_SalesFinal.merge(DimVendor[['VendorNumber', 'VendorID']], left_on='VendorNo', right_on='VendorNumber', how='left')\n",
    "df_PurchasesFinal = df_PurchasesFinal.merge(DimVendor[['VendorNumber', 'VendorID']], left_on='VendorNumber', right_on='VendorNumber', how='left')"
   ]
  },
  {
   "cell_type": "code",
   "execution_count": 508,
   "metadata": {},
   "outputs": [],
   "source": [
    "# Elimino las columnas 'VendorNo', 'VendorNumber' y 'Vendorname'\n",
    "df_SalesFinal = df_SalesFinal.drop(columns=['VendorName','VendorNo'])\n",
    "df_PurchasesFinal = df_PurchasesFinal.drop(columns=['VendorName','VendorNumber'])\n"
   ]
  },
  {
   "cell_type": "markdown",
   "metadata": {},
   "source": [
    "#### Revisamos nuestras tablas de hechos"
   ]
  },
  {
   "cell_type": "code",
   "execution_count": 509,
   "metadata": {},
   "outputs": [
    {
     "data": {
      "text/plain": [
       "Index(['InventoryId', 'Store', 'SalesQuantity', 'SalesDollars', 'SalesPrice',\n",
       "       'SalesDate', 'Volume', 'ExciseTax', 'BrandID', 'DescriptionID',\n",
       "       'SizeID', 'ClassID', 'VendorNumber', 'VendorID'],\n",
       "      dtype='object')"
      ]
     },
     "execution_count": 509,
     "metadata": {},
     "output_type": "execute_result"
    }
   ],
   "source": [
    "df_SalesFinal.columns"
   ]
  },
  {
   "cell_type": "code",
   "execution_count": 512,
   "metadata": {},
   "outputs": [],
   "source": [
    "# Elimino la columna 'VendorNumber'\n",
    "df_SalesFinal = df_SalesFinal.drop(columns=['VendorNumber'])"
   ]
  },
  {
   "cell_type": "markdown",
   "metadata": {},
   "source": [
    "#### Reviso que no tenga datos nulos, en caso se encontrar los eliminamos"
   ]
  },
  {
   "cell_type": "code",
   "execution_count": 531,
   "metadata": {},
   "outputs": [
    {
     "name": "stdout",
     "output_type": "stream",
     "text": [
      "Series([], dtype: int64)\n"
     ]
    }
   ],
   "source": [
    "total_nulos_salesfinal = df_SalesFinal.isnull().sum()[df_SalesFinal.isnull().sum()>0]\n",
    "print(total_nulos_salesfinal)"
   ]
  },
  {
   "cell_type": "code",
   "execution_count": 532,
   "metadata": {},
   "outputs": [
    {
     "name": "stdout",
     "output_type": "stream",
     "text": [
      "Series([], dtype: int64)\n"
     ]
    }
   ],
   "source": [
    "total_nulos_purchasesfinal = df_PurchasesFinal.isnull().sum()[df_PurchasesFinal.isnull().sum()>0]\n",
    "print(total_nulos_purchasesfinal)"
   ]
  },
  {
   "cell_type": "markdown",
   "metadata": {},
   "source": [
    "### Guardamos PurchasesFinal y SalesFinal con los nuevos cambios realizados y volvemos a abrir"
   ]
  },
  {
   "cell_type": "markdown",
   "metadata": {},
   "source": [
    "#### Guardamos"
   ]
  },
  {
   "cell_type": "code",
   "execution_count": 517,
   "metadata": {},
   "outputs": [],
   "source": [
    "df_SalesFinal.to_csv('Fact_Sales_paso2.csv', index=False)\n"
   ]
  },
  {
   "cell_type": "code",
   "execution_count": 518,
   "metadata": {},
   "outputs": [],
   "source": [
    "df_PurchasesFinal.to_csv('Fact_Purchases_paso2.csv', index=False)\n"
   ]
  },
  {
   "cell_type": "markdown",
   "metadata": {},
   "source": [
    "#### Abrimos lo que vamos a seguir usando"
   ]
  },
  {
   "cell_type": "code",
   "execution_count": 519,
   "metadata": {},
   "outputs": [],
   "source": [
    "df_SalesFinal= pd.read_csv('Fact_Sales_paso2.csv')"
   ]
  },
  {
   "cell_type": "code",
   "execution_count": 520,
   "metadata": {},
   "outputs": [],
   "source": [
    "df_PurchasesFinal.to_csv('Fact_Purchases_paso2.csv', index=False)\n"
   ]
  },
  {
   "cell_type": "markdown",
   "metadata": {},
   "source": [
    "#### Tabla PurchaseFinal"
   ]
  },
  {
   "cell_type": "code",
   "execution_count": 521,
   "metadata": {},
   "outputs": [
    {
     "data": {
      "text/plain": [
       "(1385222, 15)"
      ]
     },
     "execution_count": 521,
     "metadata": {},
     "output_type": "execute_result"
    }
   ],
   "source": [
    "df_PurchasesFinal.shape"
   ]
  },
  {
   "cell_type": "markdown",
   "metadata": {},
   "source": [
    "#### Tabla SalesFinal"
   ]
  },
  {
   "cell_type": "code",
   "execution_count": 522,
   "metadata": {},
   "outputs": [
    {
     "data": {
      "text/plain": [
       "(764640, 13)"
      ]
     },
     "execution_count": 522,
     "metadata": {},
     "output_type": "execute_result"
    }
   ],
   "source": [
    "df_SalesFinal.shape"
   ]
  },
  {
   "cell_type": "markdown",
   "metadata": {},
   "source": [
    "### Insertamos las PK de nuestras tablas dimensionales a la tabla Detalle_Brand"
   ]
  },
  {
   "cell_type": "code",
   "execution_count": 530,
   "metadata": {},
   "outputs": [
    {
     "data": {
      "text/plain": [
       "Brand               int64\n",
       "Description        object\n",
       "Price             float64\n",
       "Size               object\n",
       "Volume             object\n",
       "Classification      int64\n",
       "PurchasePrice     float64\n",
       "VendorNumber        int64\n",
       "VendorName         object\n",
       "BrandID             int64\n",
       "dtype: object"
      ]
     },
     "execution_count": 530,
     "metadata": {},
     "output_type": "execute_result"
    }
   ],
   "source": [
    "Detalle_Brand.dtypes"
   ]
  },
  {
   "cell_type": "markdown",
   "metadata": {},
   "source": [
    "#### Insertamos DescriptionID a la tabla Detalle_Brand"
   ]
  },
  {
   "cell_type": "code",
   "execution_count": 533,
   "metadata": {},
   "outputs": [],
   "source": [
    "# Realizar un merge entre Detalle_Brand con DimDescription basándose en la columna Description\n",
    "Detalle_Brand = Detalle_Brand.merge(DimDescription[['DescriptionID','Description']], left_on='Description', right_on='Description', how='left')\n"
   ]
  },
  {
   "cell_type": "code",
   "execution_count": 534,
   "metadata": {},
   "outputs": [],
   "source": [
    "# Elimino la columna 'Description'\n",
    "Detalle_Brand = Detalle_Brand.drop(columns=['Description'])\n"
   ]
  },
  {
   "cell_type": "markdown",
   "metadata": {},
   "source": [
    "#### Reviso que no tenga datos nulos, en caso se encontrar los eliminamos"
   ]
  },
  {
   "cell_type": "code",
   "execution_count": 535,
   "metadata": {},
   "outputs": [
    {
     "name": "stdout",
     "output_type": "stream",
     "text": [
      "Series([], dtype: int64)\n"
     ]
    }
   ],
   "source": [
    "total_nulos_detalle_brand = Detalle_Brand.isnull().sum()[Detalle_Brand.isnull().sum()>0]\n",
    "print(total_nulos_detalle_brand)"
   ]
  },
  {
   "cell_type": "markdown",
   "metadata": {},
   "source": [
    "#### Insertamos SizeID a la tabla Detalle_Brand"
   ]
  },
  {
   "cell_type": "code",
   "execution_count": 536,
   "metadata": {},
   "outputs": [],
   "source": [
    "# Realizar un merge entre Detalle_Brand con DimSize basándose en la columna Size\n",
    "Detalle_Brand = Detalle_Brand.merge(DimSize[['SizeID','Size']], left_on='Size', right_on='Size', how='left')\n"
   ]
  },
  {
   "cell_type": "code",
   "execution_count": 537,
   "metadata": {},
   "outputs": [],
   "source": [
    "# Elimino la columna 'Size'\n",
    "Detalle_Brand = Detalle_Brand.drop(columns=['Size'])\n"
   ]
  },
  {
   "cell_type": "markdown",
   "metadata": {},
   "source": [
    "#### Reviso que no tenga datos nulos, en caso se encontrar los eliminamos"
   ]
  },
  {
   "cell_type": "code",
   "execution_count": 538,
   "metadata": {},
   "outputs": [
    {
     "name": "stdout",
     "output_type": "stream",
     "text": [
      "Series([], dtype: int64)\n"
     ]
    }
   ],
   "source": [
    "total_nulos_detalle_brand = Detalle_Brand.isnull().sum()[Detalle_Brand.isnull().sum()>0]\n",
    "print(total_nulos_detalle_brand)"
   ]
  },
  {
   "cell_type": "markdown",
   "metadata": {},
   "source": [
    "#### Insertamos ClassID a la tabla Detalle_Brand"
   ]
  },
  {
   "cell_type": "code",
   "execution_count": 540,
   "metadata": {},
   "outputs": [],
   "source": [
    "# Realizar un merge entre Detalle_Brand con DimClassification basándose en la columna Classification\n",
    "Detalle_Brand = Detalle_Brand.merge(DimClassification[['ClassID','Classification']], left_on='Classification', right_on='Classification', how='left')\n"
   ]
  },
  {
   "cell_type": "code",
   "execution_count": 541,
   "metadata": {},
   "outputs": [],
   "source": [
    "# Elimino la columna 'Description'\n",
    "Detalle_Brand = Detalle_Brand.drop(columns=['Classification'])\n"
   ]
  },
  {
   "cell_type": "markdown",
   "metadata": {},
   "source": [
    "#### Reviso que no tenga datos nulos, en caso se encontrar los eliminamos"
   ]
  },
  {
   "cell_type": "code",
   "execution_count": 542,
   "metadata": {},
   "outputs": [
    {
     "name": "stdout",
     "output_type": "stream",
     "text": [
      "Series([], dtype: int64)\n"
     ]
    }
   ],
   "source": [
    "total_nulos_detalle_brand = Detalle_Brand.isnull().sum()[Detalle_Brand.isnull().sum()>0]\n",
    "print(total_nulos_detalle_brand)"
   ]
  },
  {
   "cell_type": "markdown",
   "metadata": {},
   "source": [
    "#### Insertamos VendorID a la tabla Detalle_Brand"
   ]
  },
  {
   "cell_type": "code",
   "execution_count": 544,
   "metadata": {},
   "outputs": [],
   "source": [
    "# Realizar un merge entre Detalle_Brand con DimVendor basándose en la columna VendorNumber\n",
    "Detalle_Brand = Detalle_Brand.merge(DimVendor[['VendorID','VendorNumber']], left_on='VendorNumber', right_on='VendorNumber', how='left')\n"
   ]
  },
  {
   "cell_type": "code",
   "execution_count": 545,
   "metadata": {},
   "outputs": [],
   "source": [
    "# Elimino la columna 'Description'\n",
    "Detalle_Brand = Detalle_Brand.drop(columns=['VendorNumber'])\n"
   ]
  },
  {
   "cell_type": "markdown",
   "metadata": {},
   "source": [
    "#### Reviso que no tenga datos nulos, en caso se encontrar los eliminamos"
   ]
  },
  {
   "cell_type": "code",
   "execution_count": 546,
   "metadata": {},
   "outputs": [
    {
     "name": "stdout",
     "output_type": "stream",
     "text": [
      "Series([], dtype: int64)\n"
     ]
    }
   ],
   "source": [
    "total_nulos_detalle_brand = Detalle_Brand.isnull().sum()[Detalle_Brand.isnull().sum()>0]\n",
    "print(total_nulos_detalle_brand)"
   ]
  },
  {
   "cell_type": "markdown",
   "metadata": {},
   "source": [
    "#### Revisamos nuestra tabla"
   ]
  },
  {
   "cell_type": "code",
   "execution_count": 547,
   "metadata": {},
   "outputs": [
    {
     "data": {
      "text/plain": [
       "(12248, 10)"
      ]
     },
     "execution_count": 547,
     "metadata": {},
     "output_type": "execute_result"
    }
   ],
   "source": [
    "Detalle_Brand.shape"
   ]
  },
  {
   "cell_type": "code",
   "execution_count": 548,
   "metadata": {},
   "outputs": [
    {
     "data": {
      "text/plain": [
       "Brand              int64\n",
       "Price            float64\n",
       "Volume            object\n",
       "PurchasePrice    float64\n",
       "VendorName        object\n",
       "BrandID            int64\n",
       "DescriptionID      int64\n",
       "SizeID             int64\n",
       "ClassID            int64\n",
       "VendorID           int64\n",
       "dtype: object"
      ]
     },
     "execution_count": 548,
     "metadata": {},
     "output_type": "execute_result"
    }
   ],
   "source": [
    "Detalle_Brand.dtypes"
   ]
  },
  {
   "cell_type": "markdown",
   "metadata": {},
   "source": [
    "## Guardamos nuestra Tabla Detalle_Brand"
   ]
  },
  {
   "cell_type": "code",
   "execution_count": 549,
   "metadata": {},
   "outputs": [],
   "source": [
    "Detalle_Brand.to_csv('Detalle_Brand.csv', index=False)\n"
   ]
  },
  {
   "cell_type": "markdown",
   "metadata": {},
   "source": [
    "## Analisis de Tabla Inventory"
   ]
  },
  {
   "cell_type": "code",
   "execution_count": 523,
   "metadata": {},
   "outputs": [
    {
     "data": {
      "text/plain": [
       "(431018, 9)"
      ]
     },
     "execution_count": 523,
     "metadata": {},
     "output_type": "execute_result"
    }
   ],
   "source": [
    "df_Inventory.shape"
   ]
  },
  {
   "cell_type": "code",
   "execution_count": 553,
   "metadata": {},
   "outputs": [
    {
     "data": {
      "text/plain": [
       "Index(['InventoryId', 'Store', 'City', 'Brand', 'Description', 'Size',\n",
       "       'onHand', 'Price', 'InventoryDate'],\n",
       "      dtype='object')"
      ]
     },
     "execution_count": 553,
     "metadata": {},
     "output_type": "execute_result"
    }
   ],
   "source": [
    "df_Inventory.columns"
   ]
  },
  {
   "cell_type": "markdown",
   "metadata": {},
   "source": [
    "## Abrimos nuevamente nuestros archivos"
   ]
  },
  {
   "cell_type": "code",
   "execution_count": 2,
   "metadata": {},
   "outputs": [],
   "source": [
    "import pandas as pd\n",
    "import numpy as np"
   ]
  },
  {
   "cell_type": "code",
   "execution_count": 3,
   "metadata": {},
   "outputs": [],
   "source": [
    "Detalle_Brand=pd.read_csv('Detalle_Brand.csv')"
   ]
  },
  {
   "cell_type": "code",
   "execution_count": 4,
   "metadata": {},
   "outputs": [
    {
     "data": {
      "text/plain": [
       "Index(['Brand', 'Price', 'Volume', 'PurchasePrice', 'VendorName', 'BrandID',\n",
       "       'DescriptionID', 'SizeID', 'ClassID', 'VendorID'],\n",
       "      dtype='object')"
      ]
     },
     "execution_count": 4,
     "metadata": {},
     "output_type": "execute_result"
    }
   ],
   "source": [
    "Detalle_Brand.columns"
   ]
  },
  {
   "cell_type": "code",
   "execution_count": 5,
   "metadata": {},
   "outputs": [],
   "source": [
    "df_Inventory=pd.read_csv('Fact_Inventory_paso1.csv')"
   ]
  },
  {
   "cell_type": "code",
   "execution_count": 6,
   "metadata": {},
   "outputs": [],
   "source": [
    "df_SalesFinal=pd.read_csv('Fact_Sales_paso2.csv')"
   ]
  },
  {
   "cell_type": "code",
   "execution_count": 7,
   "metadata": {},
   "outputs": [],
   "source": [
    "df_PurchasesFinal= pd.read_csv('Fact_Purchases_paso2.csv')"
   ]
  },
  {
   "cell_type": "markdown",
   "metadata": {},
   "source": [
    "#### Revisamos la data"
   ]
  },
  {
   "cell_type": "code",
   "execution_count": 8,
   "metadata": {},
   "outputs": [
    {
     "data": {
      "text/plain": [
       "Index(['InventoryId', 'Store', 'City', 'Brand', 'Description', 'Size',\n",
       "       'onHand', 'Price', 'InventoryDate'],\n",
       "      dtype='object')"
      ]
     },
     "execution_count": 8,
     "metadata": {},
     "output_type": "execute_result"
    }
   ],
   "source": [
    "df_Inventory.columns"
   ]
  },
  {
   "cell_type": "code",
   "execution_count": 9,
   "metadata": {},
   "outputs": [
    {
     "data": {
      "text/plain": [
       "Index(['InventoryId', 'Store', 'SalesQuantity', 'SalesDollars', 'SalesPrice',\n",
       "       'SalesDate', 'Volume', 'ExciseTax', 'BrandID', 'DescriptionID',\n",
       "       'SizeID', 'ClassID', 'VendorID'],\n",
       "      dtype='object')"
      ]
     },
     "execution_count": 9,
     "metadata": {},
     "output_type": "execute_result"
    }
   ],
   "source": [
    "df_SalesFinal.columns"
   ]
  },
  {
   "cell_type": "code",
   "execution_count": 10,
   "metadata": {},
   "outputs": [
    {
     "data": {
      "text/plain": [
       "Index(['InventoryId', 'Store', 'PONumber', 'PODate', 'ReceivingDate',\n",
       "       'InvoiceDate', 'PayDate', 'PurchasePrice', 'Quantity', 'Dollars',\n",
       "       'BrandID', 'DescriptionID', 'SizeID', 'ClassID', 'VendorID'],\n",
       "      dtype='object')"
      ]
     },
     "execution_count": 10,
     "metadata": {},
     "output_type": "execute_result"
    }
   ],
   "source": [
    "df_PurchasesFinal.columns"
   ]
  },
  {
   "cell_type": "code",
   "execution_count": 11,
   "metadata": {},
   "outputs": [
    {
     "data": {
      "text/plain": [
       "Store\n",
       "34    12468\n",
       "69    11124\n",
       "50    10782\n",
       "73    10686\n",
       "67    10320\n",
       "      ...  \n",
       "29     2736\n",
       "45     2639\n",
       "16     2593\n",
       "28     2095\n",
       "3       944\n",
       "Name: count, Length: 80, dtype: int64"
      ]
     },
     "execution_count": 11,
     "metadata": {},
     "output_type": "execute_result"
    }
   ],
   "source": [
    "df_Inventory['Store'].value_counts()\n"
   ]
  },
  {
   "cell_type": "code",
   "execution_count": 12,
   "metadata": {},
   "outputs": [
    {
     "data": {
      "text/plain": [
       "Store\n",
       "15    27976\n",
       "76    26743\n",
       "1     26508\n",
       "34    26400\n",
       "10    25511\n",
       "      ...  \n",
       "36     2369\n",
       "37     2197\n",
       "29     1721\n",
       "3      1217\n",
       "26     1083\n",
       "Name: count, Length: 79, dtype: int64"
      ]
     },
     "execution_count": 12,
     "metadata": {},
     "output_type": "execute_result"
    }
   ],
   "source": [
    "df_SalesFinal['Store'].value_counts()"
   ]
  },
  {
   "cell_type": "code",
   "execution_count": 13,
   "metadata": {},
   "outputs": [
    {
     "data": {
      "text/plain": [
       "Store\n",
       "76    83194\n",
       "73    65244\n",
       "38    62154\n",
       "34    57470\n",
       "66    57094\n",
       "      ...  \n",
       "46     3418\n",
       "36     3260\n",
       "29     2562\n",
       "3      1795\n",
       "26     1742\n",
       "Name: count, Length: 80, dtype: int64"
      ]
     },
     "execution_count": 13,
     "metadata": {},
     "output_type": "execute_result"
    }
   ],
   "source": [
    "df_PurchasesFinal['Store'].value_counts()"
   ]
  },
  {
   "cell_type": "markdown",
   "metadata": {},
   "source": [
    "## Generacion de tabla DimStore"
   ]
  },
  {
   "cell_type": "code",
   "execution_count": 23,
   "metadata": {},
   "outputs": [],
   "source": [
    "# Extraer valores únicos de todas las columnas de df_Inventory\n",
    "DimStore = df_Inventory[['Store','City']].drop_duplicates().reset_index(drop=True)\n"
   ]
  },
  {
   "cell_type": "code",
   "execution_count": 24,
   "metadata": {},
   "outputs": [
    {
     "data": {
      "text/plain": [
       "Store\n",
       "1     1\n",
       "2     1\n",
       "3     1\n",
       "4     1\n",
       "5     1\n",
       "     ..\n",
       "76    1\n",
       "77    1\n",
       "78    1\n",
       "79    1\n",
       "81    1\n",
       "Name: count, Length: 80, dtype: int64"
      ]
     },
     "execution_count": 24,
     "metadata": {},
     "output_type": "execute_result"
    }
   ],
   "source": [
    "DimStore['Store'].value_counts()"
   ]
  },
  {
   "cell_type": "code",
   "execution_count": 21,
   "metadata": {},
   "outputs": [
    {
     "data": {
      "text/plain": [
       "City\n",
       "MOUNTMEND       32329\n",
       "EANVERNESS      25890\n",
       "DONCASTER       20921\n",
       "HORNSEY         20199\n",
       "GOULCREST       15991\n",
       "                ...  \n",
       "LUTON            2861\n",
       "KNIFE'S EDGE     2741\n",
       "AYLESBURY        2736\n",
       "VERITAS          2639\n",
       "LUNDY            2593\n",
       "Name: count, Length: 68, dtype: int64"
      ]
     },
     "execution_count": 21,
     "metadata": {},
     "output_type": "execute_result"
    }
   ],
   "source": [
    "df_Inventory['City'].value_counts()"
   ]
  },
  {
   "cell_type": "markdown",
   "metadata": {},
   "source": [
    "#### Creamos el ID"
   ]
  },
  {
   "cell_type": "code",
   "execution_count": 25,
   "metadata": {},
   "outputs": [],
   "source": [
    "# Generar StoreID en DimStore\n",
    "DimStore['StoreID'] = DimStore.index + 1"
   ]
  },
  {
   "cell_type": "code",
   "execution_count": 26,
   "metadata": {},
   "outputs": [
    {
     "data": {
      "text/plain": [
       "Store       int64\n",
       "City       object\n",
       "StoreID     int64\n",
       "dtype: object"
      ]
     },
     "execution_count": 26,
     "metadata": {},
     "output_type": "execute_result"
    }
   ],
   "source": [
    "DimStore.dtypes"
   ]
  },
  {
   "cell_type": "markdown",
   "metadata": {},
   "source": [
    "### Guardamos nuestra tabla Dim Creada"
   ]
  },
  {
   "cell_type": "code",
   "execution_count": null,
   "metadata": {},
   "outputs": [],
   "source": [
    "DimStore.to_csv('Dim_Store.csv', index=False)"
   ]
  },
  {
   "cell_type": "markdown",
   "metadata": {},
   "source": [
    "### Volvemos a cargar lo que vamos a usar"
   ]
  },
  {
   "cell_type": "code",
   "execution_count": 15,
   "metadata": {},
   "outputs": [],
   "source": [
    "DimStore= pd.read_csv('Dim_Store.csv')"
   ]
  },
  {
   "cell_type": "code",
   "execution_count": 16,
   "metadata": {},
   "outputs": [
    {
     "data": {
      "text/plain": [
       "Index(['Store', 'City', 'StoreID'], dtype='object')"
      ]
     },
     "execution_count": 16,
     "metadata": {},
     "output_type": "execute_result"
    }
   ],
   "source": [
    "DimStore.columns"
   ]
  },
  {
   "cell_type": "markdown",
   "metadata": {},
   "source": [
    "#### Insertamos StoreID en las tablas de hechos df_SalesFinal, df_PurchasesFinal y df_Inventory y borramos las columnas redundantes y filas vacias/nulas"
   ]
  },
  {
   "cell_type": "code",
   "execution_count": 17,
   "metadata": {},
   "outputs": [],
   "source": [
    "# Realizar un merge entre df_PurchasesFinal, df_SalesFinal y df_Inventory basándose en StoreID y Store\n",
    "df_Inventory = df_Inventory.merge(DimStore[['StoreID','Store']],left_on='Store', right_on='Store', how='left')\n",
    "df_SalesFinal = df_SalesFinal.merge(DimStore[['StoreID','Store']], left_on='Store', right_on='Store', how='left')\n",
    "df_PurchasesFinal = df_PurchasesFinal.merge(DimStore[['StoreID','Store']], left_on='Store', right_on='Store', how='left')\n"
   ]
  },
  {
   "cell_type": "markdown",
   "metadata": {},
   "source": [
    "#### Revisión previa de la tabla DImStore"
   ]
  },
  {
   "cell_type": "code",
   "execution_count": 18,
   "metadata": {},
   "outputs": [
    {
     "name": "stdout",
     "output_type": "stream",
     "text": [
      "Empty DataFrame\n",
      "Columns: [Store, City]\n",
      "Index: []\n",
      "Number of Store with more than one unique City: 0\n"
     ]
    }
   ],
   "source": [
    "# Agrupar por 'Store' y contar los valores únicos de 'City'\n",
    "df_grouped_DS = DimStore.groupby('Store')['City'].nunique().reset_index()\n",
    "\n",
    "# Filtrar los casos donde hay más de un valor único de 'City'\n",
    "df_multiple_city = df_grouped_DS[df_grouped_DS['City'] > 1]\n",
    "\n",
    "# Ver cuántos Store tienen más de un City\n",
    "count_city= df_multiple_city.shape[0]\n",
    "\n",
    "# Mostrar los Store con más de un City\n",
    "print(df_multiple_city[['Store', 'City']])\n",
    "\n",
    "# Mostrar cuántos Store tienen más de un City\n",
    "print(f\"Number of Store with more than one unique City: {count_city}\")\n"
   ]
  },
  {
   "cell_type": "code",
   "execution_count": 22,
   "metadata": {},
   "outputs": [
    {
     "name": "stdout",
     "output_type": "stream",
     "text": [
      "            City  Store\n",
      "21     DONCASTER      2\n",
      "23    EANVERNESS      3\n",
      "28     GOULCREST      2\n",
      "32  HARDERSFIELD      2\n",
      "35       HORNSEY      4\n",
      "41      LARNWICK      2\n",
      "46     MOUNTMEND      4\n",
      "Number of City with more than one unique Store: 7\n"
     ]
    }
   ],
   "source": [
    "# Agrupar por 'City' y contar los valores únicos de 'Store'\n",
    "df_grouped_DS = DimStore.groupby('City')['Store'].nunique().reset_index()\n",
    "\n",
    "# Filtrar los casos donde hay más de un valor único de 'Store'\n",
    "df_multiple_store = df_grouped_DS[df_grouped_DS['Store'] > 1]\n",
    "\n",
    "# Ver cuántos City tienen más de un Store\n",
    "count_store= df_multiple_store.shape[0]\n",
    "\n",
    "# Mostrar los City con más de un Store\n",
    "print(df_multiple_store[['City', 'Store']])\n",
    "\n",
    "# Mostrar cuántos City tienen más de un Store\n",
    "print(f\"Number of City with more than one unique Store: {count_store}\")\n"
   ]
  },
  {
   "cell_type": "markdown",
   "metadata": {},
   "source": [
    "## Generacion de tabla DimCity"
   ]
  },
  {
   "cell_type": "code",
   "execution_count": 23,
   "metadata": {},
   "outputs": [
    {
     "data": {
      "text/plain": [
       "City\n",
       "HORNSEY         4\n",
       "MOUNTMEND       4\n",
       "EANVERNESS      3\n",
       "HARDERSFIELD    2\n",
       "LARNWICK        2\n",
       "               ..\n",
       "BARNCOMBE       1\n",
       "TAMWORTH        1\n",
       "EASTHAVEN       1\n",
       "BALLYMENA       1\n",
       "PEMBROKE        1\n",
       "Name: count, Length: 68, dtype: int64"
      ]
     },
     "execution_count": 23,
     "metadata": {},
     "output_type": "execute_result"
    }
   ],
   "source": [
    "DimStore['City'].value_counts()"
   ]
  },
  {
   "cell_type": "code",
   "execution_count": 24,
   "metadata": {},
   "outputs": [],
   "source": [
    "# Extraer valores únicos de City de todas las columnas de DimStore\n",
    "DimCity = DimStore[['City']].drop_duplicates().reset_index(drop=True)"
   ]
  },
  {
   "cell_type": "code",
   "execution_count": 25,
   "metadata": {},
   "outputs": [
    {
     "data": {
      "text/plain": [
       "City\n",
       "HARDERSFIELD    1\n",
       "ASHBORNE        1\n",
       "HORNSEY         1\n",
       "EANVERNESS      1\n",
       "SUTTON          1\n",
       "               ..\n",
       "BARNCOMBE       1\n",
       "TAMWORTH        1\n",
       "EASTHAVEN       1\n",
       "BALLYMENA       1\n",
       "PEMBROKE        1\n",
       "Name: count, Length: 68, dtype: int64"
      ]
     },
     "execution_count": 25,
     "metadata": {},
     "output_type": "execute_result"
    }
   ],
   "source": [
    "DimCity['City'].value_counts()"
   ]
  },
  {
   "cell_type": "markdown",
   "metadata": {},
   "source": [
    "#### Creamos el ID"
   ]
  },
  {
   "cell_type": "code",
   "execution_count": 26,
   "metadata": {},
   "outputs": [],
   "source": [
    "# Generar CityID en DimCity\n",
    "DimCity['CityID'] = DimCity.index + 1"
   ]
  },
  {
   "cell_type": "code",
   "execution_count": 27,
   "metadata": {},
   "outputs": [
    {
     "data": {
      "text/plain": [
       "City      object\n",
       "CityID     int64\n",
       "dtype: object"
      ]
     },
     "execution_count": 27,
     "metadata": {},
     "output_type": "execute_result"
    }
   ],
   "source": [
    "DimCity.dtypes"
   ]
  },
  {
   "cell_type": "markdown",
   "metadata": {},
   "source": [
    "### Guardamos nuestra tabla Dim Creada"
   ]
  },
  {
   "cell_type": "code",
   "execution_count": 28,
   "metadata": {},
   "outputs": [],
   "source": [
    "DimCity.to_csv('Dim_City.csv', index=False)"
   ]
  },
  {
   "cell_type": "markdown",
   "metadata": {},
   "source": [
    "#### Volvemos a abrir nuestra tabla"
   ]
  },
  {
   "cell_type": "code",
   "execution_count": 29,
   "metadata": {},
   "outputs": [],
   "source": [
    "DimCity= pd.read_csv('Dim_City.csv')"
   ]
  },
  {
   "cell_type": "code",
   "execution_count": 30,
   "metadata": {},
   "outputs": [
    {
     "data": {
      "text/plain": [
       "Index(['City', 'CityID'], dtype='object')"
      ]
     },
     "execution_count": 30,
     "metadata": {},
     "output_type": "execute_result"
    }
   ],
   "source": [
    "DimCity.columns"
   ]
  },
  {
   "cell_type": "markdown",
   "metadata": {},
   "source": [
    "#### Insertamos CityID en la tabla DimStore y borramos las columnas redundantes y/o filas vacias/nulas"
   ]
  },
  {
   "cell_type": "code",
   "execution_count": 31,
   "metadata": {},
   "outputs": [],
   "source": [
    "# Realizar un merge entre DimStore y DimCity basándose en CityID y CIty\n",
    "DimStore = DimStore.merge(DimCity[['CityID','City']],left_on='City', right_on='City', how='left')"
   ]
  },
  {
   "cell_type": "code",
   "execution_count": 32,
   "metadata": {},
   "outputs": [
    {
     "data": {
      "text/plain": [
       "Index(['Store', 'City', 'StoreID', 'CityID'], dtype='object')"
      ]
     },
     "execution_count": 32,
     "metadata": {},
     "output_type": "execute_result"
    }
   ],
   "source": [
    "DimStore.columns"
   ]
  },
  {
   "cell_type": "code",
   "execution_count": 33,
   "metadata": {},
   "outputs": [
    {
     "data": {
      "text/plain": [
       "Index(['Store', 'StoreID', 'CityID'], dtype='object')"
      ]
     },
     "execution_count": 33,
     "metadata": {},
     "output_type": "execute_result"
    }
   ],
   "source": [
    "# Elimino la columna \"City\" de DimStore\n",
    "DimStore = DimStore.drop(columns=['City'])\n",
    "DimStore.columns"
   ]
  },
  {
   "cell_type": "markdown",
   "metadata": {},
   "source": [
    "### Guardamos y luego abrimos nuestra tabla DimStore"
   ]
  },
  {
   "cell_type": "code",
   "execution_count": 54,
   "metadata": {},
   "outputs": [],
   "source": [
    "DimStore.to_csv('Dim_Store.csv', index=False)"
   ]
  },
  {
   "cell_type": "code",
   "execution_count": 55,
   "metadata": {},
   "outputs": [],
   "source": [
    "DimStore= pd.read_csv('Dim_Store.csv')"
   ]
  },
  {
   "cell_type": "code",
   "execution_count": 56,
   "metadata": {},
   "outputs": [
    {
     "data": {
      "text/plain": [
       "Index(['Store', 'StoreID', 'CityID'], dtype='object')"
      ]
     },
     "execution_count": 56,
     "metadata": {},
     "output_type": "execute_result"
    }
   ],
   "source": [
    "DimStore.columns"
   ]
  },
  {
   "cell_type": "markdown",
   "metadata": {},
   "source": [
    "### Continuamos con el borrado de la columna Store en las Tablas df_Inventory, df_PurchasesFinal y df_SalesFinal"
   ]
  },
  {
   "cell_type": "code",
   "execution_count": 35,
   "metadata": {},
   "outputs": [
    {
     "data": {
      "text/plain": [
       "Index(['InventoryId', 'Store', 'City', 'Brand', 'Description', 'Size',\n",
       "       'onHand', 'Price', 'InventoryDate', 'StoreID'],\n",
       "      dtype='object')"
      ]
     },
     "execution_count": 35,
     "metadata": {},
     "output_type": "execute_result"
    }
   ],
   "source": [
    "df_Inventory.columns"
   ]
  },
  {
   "cell_type": "code",
   "execution_count": 36,
   "metadata": {},
   "outputs": [
    {
     "data": {
      "text/plain": [
       "Index(['InventoryId', 'Store', 'PONumber', 'PODate', 'ReceivingDate',\n",
       "       'InvoiceDate', 'PayDate', 'PurchasePrice', 'Quantity', 'Dollars',\n",
       "       'BrandID', 'DescriptionID', 'SizeID', 'ClassID', 'VendorID', 'StoreID'],\n",
       "      dtype='object')"
      ]
     },
     "execution_count": 36,
     "metadata": {},
     "output_type": "execute_result"
    }
   ],
   "source": [
    "df_PurchasesFinal.columns"
   ]
  },
  {
   "cell_type": "code",
   "execution_count": 37,
   "metadata": {},
   "outputs": [
    {
     "data": {
      "text/plain": [
       "Index(['InventoryId', 'Store', 'SalesQuantity', 'SalesDollars', 'SalesPrice',\n",
       "       'SalesDate', 'Volume', 'ExciseTax', 'BrandID', 'DescriptionID',\n",
       "       'SizeID', 'ClassID', 'VendorID', 'StoreID'],\n",
       "      dtype='object')"
      ]
     },
     "execution_count": 37,
     "metadata": {},
     "output_type": "execute_result"
    }
   ],
   "source": [
    "df_SalesFinal.columns"
   ]
  },
  {
   "cell_type": "code",
   "execution_count": 38,
   "metadata": {},
   "outputs": [],
   "source": [
    "# Elimino la columna 'Store'\n",
    "df_Inventory=df_Inventory.drop(columns=['Store'])\n",
    "df_SalesFinal = df_SalesFinal.drop(columns=['Store'])\n",
    "df_PurchasesFinal = df_PurchasesFinal.drop(columns=['Store'])"
   ]
  },
  {
   "cell_type": "markdown",
   "metadata": {},
   "source": [
    "\n",
    "#### Reviso que no tenga datos nulos, en caso se encontrar los eliminamos\n"
   ]
  },
  {
   "cell_type": "code",
   "execution_count": 39,
   "metadata": {},
   "outputs": [
    {
     "name": "stdout",
     "output_type": "stream",
     "text": [
      "Series([], dtype: int64)\n"
     ]
    }
   ],
   "source": [
    "total_nulos_salesfinal = df_SalesFinal.isnull().sum()[df_SalesFinal.isnull().sum()>0]\n",
    "print(total_nulos_salesfinal)"
   ]
  },
  {
   "cell_type": "code",
   "execution_count": 40,
   "metadata": {},
   "outputs": [
    {
     "name": "stdout",
     "output_type": "stream",
     "text": [
      "Series([], dtype: int64)\n"
     ]
    }
   ],
   "source": [
    "total_nulos_purchasesfinal = df_PurchasesFinal.isnull().sum()[df_PurchasesFinal.isnull().sum()>0]\n",
    "print(total_nulos_purchasesfinal)"
   ]
  },
  {
   "cell_type": "code",
   "execution_count": 41,
   "metadata": {},
   "outputs": [
    {
     "name": "stdout",
     "output_type": "stream",
     "text": [
      "Series([], dtype: int64)\n"
     ]
    }
   ],
   "source": [
    "total_nulos_inventory = df_Inventory.isnull().sum()[df_Inventory.isnull().sum()>0]\n",
    "print(total_nulos_inventory)"
   ]
  },
  {
   "cell_type": "markdown",
   "metadata": {},
   "source": [
    "### Insertamos 'CityID', 'BrandID', 'DescriptionID', 'SizeID', en la tabla df_Inventory y borramos las columnas redundantes y/o filas vacias/nulas"
   ]
  },
  {
   "cell_type": "markdown",
   "metadata": {},
   "source": [
    "#### Primero abrimos nuestras Dim"
   ]
  },
  {
   "cell_type": "code",
   "execution_count": 46,
   "metadata": {},
   "outputs": [],
   "source": [
    "DimDescription= pd.read_csv('Dim_Description.csv')"
   ]
  },
  {
   "cell_type": "code",
   "execution_count": 48,
   "metadata": {},
   "outputs": [],
   "source": [
    "DimSize=pd.read_csv('Dim_Size.csv')"
   ]
  },
  {
   "cell_type": "code",
   "execution_count": 49,
   "metadata": {},
   "outputs": [],
   "source": [
    "Detalle_Brand=pd.read_csv('Detalle_Brand.csv')"
   ]
  },
  {
   "cell_type": "code",
   "execution_count": 50,
   "metadata": {},
   "outputs": [
    {
     "data": {
      "text/plain": [
       "Index(['Brand', 'Price', 'Volume', 'PurchasePrice', 'VendorName', 'BrandID',\n",
       "       'DescriptionID', 'SizeID', 'ClassID', 'VendorID'],\n",
       "      dtype='object')"
      ]
     },
     "execution_count": 50,
     "metadata": {},
     "output_type": "execute_result"
    }
   ],
   "source": [
    "Detalle_Brand.columns"
   ]
  },
  {
   "cell_type": "code",
   "execution_count": 52,
   "metadata": {},
   "outputs": [],
   "source": [
    "# Borramos la columna VendorName en la tabla Detalle_Brand\n",
    "Detalle_Brand=Detalle_Brand.drop(columns=['VendorName'])"
   ]
  },
  {
   "cell_type": "code",
   "execution_count": 53,
   "metadata": {},
   "outputs": [
    {
     "data": {
      "text/plain": [
       "Index(['Brand', 'Price', 'Volume', 'PurchasePrice', 'BrandID', 'DescriptionID',\n",
       "       'SizeID', 'ClassID', 'VendorID'],\n",
       "      dtype='object')"
      ]
     },
     "execution_count": 53,
     "metadata": {},
     "output_type": "execute_result"
    }
   ],
   "source": [
    "Detalle_Brand.columns"
   ]
  },
  {
   "cell_type": "markdown",
   "metadata": {},
   "source": [
    "#### Insertamos todas las Dim en Inventory"
   ]
  },
  {
   "cell_type": "code",
   "execution_count": 57,
   "metadata": {},
   "outputs": [
    {
     "data": {
      "text/plain": [
       "Index(['InventoryId', 'City', 'Brand', 'Description', 'Size', 'onHand',\n",
       "       'Price', 'InventoryDate', 'StoreID'],\n",
       "      dtype='object')"
      ]
     },
     "execution_count": 57,
     "metadata": {},
     "output_type": "execute_result"
    }
   ],
   "source": [
    "# Revisamos las columnas\n",
    "df_Inventory.columns"
   ]
  },
  {
   "cell_type": "code",
   "execution_count": 58,
   "metadata": {},
   "outputs": [
    {
     "data": {
      "text/plain": [
       "Index(['City', 'CityID'], dtype='object')"
      ]
     },
     "execution_count": 58,
     "metadata": {},
     "output_type": "execute_result"
    }
   ],
   "source": [
    "DimCity.columns"
   ]
  },
  {
   "cell_type": "code",
   "execution_count": 59,
   "metadata": {},
   "outputs": [
    {
     "data": {
      "text/plain": [
       "Index(['Brand', 'Price', 'Volume', 'PurchasePrice', 'BrandID', 'DescriptionID',\n",
       "       'SizeID', 'ClassID', 'VendorID'],\n",
       "      dtype='object')"
      ]
     },
     "execution_count": 59,
     "metadata": {},
     "output_type": "execute_result"
    }
   ],
   "source": [
    "Detalle_Brand.columns"
   ]
  },
  {
   "cell_type": "code",
   "execution_count": 60,
   "metadata": {},
   "outputs": [
    {
     "data": {
      "text/plain": [
       "Index(['Description', 'DescriptionID'], dtype='object')"
      ]
     },
     "execution_count": 60,
     "metadata": {},
     "output_type": "execute_result"
    }
   ],
   "source": [
    "DimDescription.columns"
   ]
  },
  {
   "cell_type": "code",
   "execution_count": 61,
   "metadata": {},
   "outputs": [
    {
     "data": {
      "text/plain": [
       "Index(['Size', 'SizeID'], dtype='object')"
      ]
     },
     "execution_count": 61,
     "metadata": {},
     "output_type": "execute_result"
    }
   ],
   "source": [
    "DimSize.columns"
   ]
  },
  {
   "cell_type": "code",
   "execution_count": 62,
   "metadata": {},
   "outputs": [],
   "source": [
    "# Realizar un merge entre las Dim y df_Inventory\n",
    "df_Inventory = df_Inventory.merge(DimCity[['CityID','City']],left_on='City', right_on='City', how='left')\n",
    "df_Inventory = df_Inventory.merge(Detalle_Brand[['BrandID','Brand']],left_on='Brand', right_on='Brand', how='left')\n",
    "df_Inventory = df_Inventory.merge(DimDescription[['DescriptionID','Description']],left_on='Description', right_on='Description', how='left')\n",
    "df_Inventory = df_Inventory.merge(DimSize[['SizeID','Size']],left_on='Size', right_on='Size', how='left')\n"
   ]
  },
  {
   "cell_type": "markdown",
   "metadata": {},
   "source": [
    "#### Borramos las columnas redundantes"
   ]
  },
  {
   "cell_type": "code",
   "execution_count": 63,
   "metadata": {},
   "outputs": [],
   "source": [
    "# Elimino las columnas 'City', 'Brand','Description' y 'Size'\n",
    "df_Inventory=df_Inventory.drop(columns=['City'])\n",
    "df_Inventory=df_Inventory.drop(columns=['Brand'])\n",
    "df_Inventory=df_Inventory.drop(columns=['Description'])\n",
    "df_Inventory=df_Inventory.drop(columns=['Size'])"
   ]
  },
  {
   "cell_type": "code",
   "execution_count": 64,
   "metadata": {},
   "outputs": [
    {
     "data": {
      "text/plain": [
       "Index(['InventoryId', 'onHand', 'Price', 'InventoryDate', 'StoreID', 'CityID',\n",
       "       'BrandID', 'DescriptionID', 'SizeID'],\n",
       "      dtype='object')"
      ]
     },
     "execution_count": 64,
     "metadata": {},
     "output_type": "execute_result"
    }
   ],
   "source": [
    "# Revisamos\n",
    "df_Inventory.columns"
   ]
  },
  {
   "cell_type": "markdown",
   "metadata": {},
   "source": [
    "\n",
    "#### Reviso que no tenga datos nulos, en caso se encontrar los eliminamos"
   ]
  },
  {
   "cell_type": "code",
   "execution_count": 67,
   "metadata": {},
   "outputs": [
    {
     "name": "stdout",
     "output_type": "stream",
     "text": [
      "BrandID             93\n",
      "DescriptionID     8381\n",
      "SizeID           85945\n",
      "dtype: int64\n"
     ]
    }
   ],
   "source": [
    "total_nulos_inventory = df_Inventory.isnull().sum()[df_Inventory.isnull().sum()>0]\n",
    "print(total_nulos_inventory)"
   ]
  },
  {
   "cell_type": "code",
   "execution_count": 68,
   "metadata": {},
   "outputs": [
    {
     "data": {
      "text/plain": [
       "(431018, 9)"
      ]
     },
     "execution_count": 68,
     "metadata": {},
     "output_type": "execute_result"
    }
   ],
   "source": [
    "df_Inventory.shape"
   ]
  },
  {
   "cell_type": "code",
   "execution_count": 69,
   "metadata": {},
   "outputs": [
    {
     "name": "stdout",
     "output_type": "stream",
     "text": [
      "               InventoryId  onHand  Price InventoryDate  StoreID  CityID  \\\n",
      "219762   6_GOULCREST_27276      24   8.99    2016-12-31        6       6   \n",
      "225329   8_ALNERWICK_27276       5   8.99    2016-12-31        8       8   \n",
      "234154    11_CARDEND_27276       2   8.99    2016-12-31       11      10   \n",
      "236042    12_LEESIDE_27276      19   8.99    2016-12-31       12      11   \n",
      "239932   14_BROMWICH_27276      19   8.99    2016-12-31       14      13   \n",
      "...                    ...     ...    ...           ...      ...     ...   \n",
      "418259  76_DONCASTER_27494      10  18.99    2016-12-31       76      62   \n",
      "418301  76_DONCASTER_27764      20  37.99    2016-12-31       76      62   \n",
      "418302  76_DONCASTER_27765       9  34.99    2016-12-31       76      62   \n",
      "418357  76_DONCASTER_27969      23  36.99    2016-12-31       76      62   \n",
      "423217  78_EASTHAVEN_27276      18   8.99    2016-12-31       78      66   \n",
      "\n",
      "        BrandID  DescriptionID  SizeID  \n",
      "219762      NaN            NaN     1.0  \n",
      "225329      NaN            NaN     1.0  \n",
      "234154      NaN            NaN     1.0  \n",
      "236042      NaN            NaN     1.0  \n",
      "239932      NaN            NaN     1.0  \n",
      "...         ...            ...     ...  \n",
      "418259      NaN            NaN     1.0  \n",
      "418301      NaN            NaN     5.0  \n",
      "418302      NaN            NaN     5.0  \n",
      "418357      NaN            NaN     1.0  \n",
      "423217      NaN            NaN     1.0  \n",
      "\n",
      "[93 rows x 9 columns]\n"
     ]
    }
   ],
   "source": [
    "print(df_Inventory[df_Inventory['BrandID'].isnull()])"
   ]
  },
  {
   "cell_type": "code",
   "execution_count": 70,
   "metadata": {},
   "outputs": [
    {
     "name": "stdout",
     "output_type": "stream",
     "text": [
      "                InventoryId  onHand  Price InventoryDate  StoreID  CityID  \\\n",
      "116     1_HARDERSFIELD_1001       0   5.99    2016-01-01        1       1   \n",
      "124     1_HARDERSFIELD_1020       1  24.99    2016-01-01        1       1   \n",
      "128     1_HARDERSFIELD_1024      53  31.99    2016-01-01        1       1   \n",
      "159     1_HARDERSFIELD_1214       5   9.99    2016-01-01        1       1   \n",
      "178     1_HARDERSFIELD_1282       0  25.99    2016-01-01        1       1   \n",
      "...                     ...     ...    ...           ...      ...     ...   \n",
      "430794    81_PEMBROKE_41070      15  12.99    2016-12-31       80      68   \n",
      "430824    81_PEMBROKE_41927      20  14.99    2016-12-31       80      68   \n",
      "430856    81_PEMBROKE_42874      72  16.95    2016-12-31       80      68   \n",
      "430927    81_PEMBROKE_44742      11  42.99    2016-12-31       80      68   \n",
      "430942    81_PEMBROKE_45322      52   8.99    2016-12-31       80      68   \n",
      "\n",
      "        BrandID  DescriptionID  SizeID  \n",
      "116      8855.0            NaN    10.0  \n",
      "124      4550.0            NaN     1.0  \n",
      "128      8869.0            NaN     1.0  \n",
      "159      6879.0            NaN     1.0  \n",
      "178       142.0            NaN     1.0  \n",
      "...         ...            ...     ...  \n",
      "430794   3177.0            NaN     1.0  \n",
      "430824   3207.0            NaN     1.0  \n",
      "430856   3233.0            NaN     1.0  \n",
      "430927   6825.0            NaN     1.0  \n",
      "430942   3296.0            NaN     1.0  \n",
      "\n",
      "[8381 rows x 9 columns]\n"
     ]
    }
   ],
   "source": [
    "print(df_Inventory[df_Inventory['DescriptionID'].isnull()])"
   ]
  },
  {
   "cell_type": "code",
   "execution_count": 71,
   "metadata": {},
   "outputs": [
    {
     "name": "stdout",
     "output_type": "stream",
     "text": [
      "               InventoryId  onHand  Price InventoryDate  StoreID  CityID  \\\n",
      "8       1_HARDERSFIELD_115       5  27.99    2016-01-01        1       1   \n",
      "10      1_HARDERSFIELD_126      17  29.99    2016-01-01        1       1   \n",
      "12      1_HARDERSFIELD_171      12  49.99    2016-01-01        1       1   \n",
      "19      1_HARDERSFIELD_254      13  10.99    2016-01-01        1       1   \n",
      "20      1_HARDERSFIELD_261      14  12.99    2016-01-01        1       1   \n",
      "...                    ...     ...    ...           ...      ...     ...   \n",
      "430894   81_PEMBROKE_44038      50  10.99    2016-12-31       80      68   \n",
      "430904   81_PEMBROKE_44208      19  18.99    2016-12-31       80      68   \n",
      "430951   81_PEMBROKE_45535      21  10.99    2016-12-31       80      68   \n",
      "430976   81_PEMBROKE_46202      75   8.95    2016-12-31       80      68   \n",
      "430991   81_PEMBROKE_46568      10   8.99    2016-12-31       80      68   \n",
      "\n",
      "        BrandID  DescriptionID  SizeID  \n",
      "8           8.0            8.0     NaN  \n",
      "10          9.0            9.0     NaN  \n",
      "12         11.0           11.0     NaN  \n",
      "19         20.0           20.0     NaN  \n",
      "20         21.0           21.0     NaN  \n",
      "...         ...            ...     ...  \n",
      "430894   3261.0         2835.0     NaN  \n",
      "430904   3269.0         1871.0     NaN  \n",
      "430951   3303.0         2876.0     NaN  \n",
      "430976   3327.0         2798.0     NaN  \n",
      "430991   3641.0         3194.0     NaN  \n",
      "\n",
      "[85945 rows x 9 columns]\n"
     ]
    }
   ],
   "source": [
    "print(df_Inventory[df_Inventory['SizeID'].isnull()])"
   ]
  },
  {
   "cell_type": "code",
   "execution_count": 72,
   "metadata": {},
   "outputs": [],
   "source": [
    "# Borramos las filas que tienen BrandID, DescriptionID y SizeID = NaN\n",
    "df_Inventory = df_Inventory.dropna(subset=['BrandID'])\n",
    "df_Inventory = df_Inventory.dropna(subset=['DescriptionID'])\n",
    "df_Inventory = df_Inventory.dropna(subset=['SizeID'])"
   ]
  },
  {
   "cell_type": "code",
   "execution_count": 73,
   "metadata": {},
   "outputs": [
    {
     "name": "stdout",
     "output_type": "stream",
     "text": [
      "Series([], dtype: int64)\n"
     ]
    }
   ],
   "source": [
    "# Verificamos nuevamente si quedan nulos\n",
    "total_nulos_inventory = df_Inventory.isnull().sum()[df_Inventory.isnull().sum()>0]\n",
    "print(total_nulos_inventory)\n"
   ]
  },
  {
   "cell_type": "code",
   "execution_count": 74,
   "metadata": {},
   "outputs": [
    {
     "data": {
      "text/plain": [
       "(337728, 9)"
      ]
     },
     "execution_count": 74,
     "metadata": {},
     "output_type": "execute_result"
    }
   ],
   "source": [
    "# Mostrar el DataFrame actualizado\n",
    "df_Inventory.shape\n"
   ]
  },
  {
   "cell_type": "code",
   "execution_count": 75,
   "metadata": {},
   "outputs": [
    {
     "data": {
      "text/plain": [
       "Index(['InventoryId', 'onHand', 'Price', 'InventoryDate', 'StoreID', 'CityID',\n",
       "       'BrandID', 'DescriptionID', 'SizeID'],\n",
       "      dtype='object')"
      ]
     },
     "execution_count": 75,
     "metadata": {},
     "output_type": "execute_result"
    }
   ],
   "source": [
    "df_Inventory.columns"
   ]
  },
  {
   "cell_type": "markdown",
   "metadata": {},
   "source": [
    "### Guardamos y volvemos a abrir nuestras tablas Detalle_Brand y df_Inventory"
   ]
  },
  {
   "cell_type": "code",
   "execution_count": 76,
   "metadata": {},
   "outputs": [],
   "source": [
    "Detalle_Brand.to_csv('Detalle_Brand.csv', index=False)\n",
    "df_Inventory.to_csv('Fact_Inventory.csv',index=False)\n"
   ]
  },
  {
   "cell_type": "code",
   "execution_count": 77,
   "metadata": {},
   "outputs": [],
   "source": [
    "Detalle_Brand= pd.read_csv('Detalle_Brand.csv')\n",
    "df_Inventory= pd.read_csv('Fact_Inventory.csv')\n"
   ]
  },
  {
   "cell_type": "markdown",
   "metadata": {},
   "source": [
    "## Revisamos los tipos de datos de todas nuestras tablas"
   ]
  },
  {
   "cell_type": "code",
   "execution_count": 79,
   "metadata": {},
   "outputs": [
    {
     "data": {
      "text/plain": [
       "City      object\n",
       "CityID     int64\n",
       "dtype: object"
      ]
     },
     "execution_count": 79,
     "metadata": {},
     "output_type": "execute_result"
    }
   ],
   "source": [
    "DimCity.dtypes"
   ]
  },
  {
   "cell_type": "code",
   "execution_count": 81,
   "metadata": {},
   "outputs": [],
   "source": [
    "DimClassification=pd.read_csv('Dim_Class.csv')"
   ]
  },
  {
   "cell_type": "code",
   "execution_count": 82,
   "metadata": {},
   "outputs": [
    {
     "data": {
      "text/plain": [
       "Classification    int64\n",
       "ClassID           int64\n",
       "dtype: object"
      ]
     },
     "execution_count": 82,
     "metadata": {},
     "output_type": "execute_result"
    }
   ],
   "source": [
    "DimClassification.dtypes"
   ]
  },
  {
   "cell_type": "code",
   "execution_count": 83,
   "metadata": {},
   "outputs": [
    {
     "data": {
      "text/plain": [
       "Description      object\n",
       "DescriptionID     int64\n",
       "dtype: object"
      ]
     },
     "execution_count": 83,
     "metadata": {},
     "output_type": "execute_result"
    }
   ],
   "source": [
    "DimDescription.dtypes"
   ]
  },
  {
   "cell_type": "code",
   "execution_count": 84,
   "metadata": {},
   "outputs": [
    {
     "data": {
      "text/plain": [
       "Size      object\n",
       "SizeID     int64\n",
       "dtype: object"
      ]
     },
     "execution_count": 84,
     "metadata": {},
     "output_type": "execute_result"
    }
   ],
   "source": [
    "DimSize.dtypes"
   ]
  },
  {
   "cell_type": "code",
   "execution_count": 85,
   "metadata": {},
   "outputs": [
    {
     "data": {
      "text/plain": [
       "Store      int64\n",
       "StoreID    int64\n",
       "CityID     int64\n",
       "dtype: object"
      ]
     },
     "execution_count": 85,
     "metadata": {},
     "output_type": "execute_result"
    }
   ],
   "source": [
    "DimStore.dtypes"
   ]
  },
  {
   "cell_type": "code",
   "execution_count": 87,
   "metadata": {},
   "outputs": [],
   "source": [
    "DimVendor=pd.read_csv('Dim_Vendor.csv')"
   ]
  },
  {
   "cell_type": "code",
   "execution_count": 88,
   "metadata": {},
   "outputs": [
    {
     "data": {
      "text/plain": [
       "VendorNumber     int64\n",
       "VendorName      object\n",
       "VendorID         int64\n",
       "dtype: object"
      ]
     },
     "execution_count": 88,
     "metadata": {},
     "output_type": "execute_result"
    }
   ],
   "source": [
    "DimVendor.dtypes"
   ]
  },
  {
   "cell_type": "code",
   "execution_count": 89,
   "metadata": {},
   "outputs": [
    {
     "data": {
      "text/plain": [
       "Brand              int64\n",
       "Price            float64\n",
       "Volume            object\n",
       "PurchasePrice    float64\n",
       "BrandID            int64\n",
       "DescriptionID      int64\n",
       "SizeID             int64\n",
       "ClassID            int64\n",
       "VendorID           int64\n",
       "dtype: object"
      ]
     },
     "execution_count": 89,
     "metadata": {},
     "output_type": "execute_result"
    }
   ],
   "source": [
    "Detalle_Brand.dtypes"
   ]
  },
  {
   "cell_type": "code",
   "execution_count": 90,
   "metadata": {},
   "outputs": [
    {
     "data": {
      "text/plain": [
       "InventoryId       object\n",
       "onHand             int64\n",
       "Price            float64\n",
       "InventoryDate     object\n",
       "StoreID            int64\n",
       "CityID             int64\n",
       "BrandID          float64\n",
       "DescriptionID    float64\n",
       "SizeID           float64\n",
       "dtype: object"
      ]
     },
     "execution_count": 90,
     "metadata": {},
     "output_type": "execute_result"
    }
   ],
   "source": [
    "df_Inventory.dtypes"
   ]
  },
  {
   "cell_type": "code",
   "execution_count": 91,
   "metadata": {},
   "outputs": [
    {
     "data": {
      "text/plain": [
       "InventoryId       object\n",
       "SalesQuantity      int64\n",
       "SalesDollars     float64\n",
       "SalesPrice       float64\n",
       "SalesDate         object\n",
       "Volume             int64\n",
       "ExciseTax        float64\n",
       "BrandID            int64\n",
       "DescriptionID      int64\n",
       "SizeID           float64\n",
       "ClassID            int64\n",
       "VendorID           int64\n",
       "StoreID            int64\n",
       "dtype: object"
      ]
     },
     "execution_count": 91,
     "metadata": {},
     "output_type": "execute_result"
    }
   ],
   "source": [
    "df_SalesFinal.dtypes"
   ]
  },
  {
   "cell_type": "code",
   "execution_count": 92,
   "metadata": {},
   "outputs": [
    {
     "data": {
      "text/plain": [
       "InventoryId       object\n",
       "PONumber           int64\n",
       "PODate            object\n",
       "ReceivingDate     object\n",
       "InvoiceDate       object\n",
       "PayDate           object\n",
       "PurchasePrice    float64\n",
       "Quantity           int64\n",
       "Dollars          float64\n",
       "BrandID          float64\n",
       "DescriptionID      int64\n",
       "SizeID           float64\n",
       "ClassID            int64\n",
       "VendorID           int64\n",
       "StoreID            int64\n",
       "dtype: object"
      ]
     },
     "execution_count": 92,
     "metadata": {},
     "output_type": "execute_result"
    }
   ],
   "source": [
    "df_PurchasesFinal.dtypes"
   ]
  },
  {
   "cell_type": "markdown",
   "metadata": {},
   "source": [
    "### Borramos InventoryId porque ya no es clave primaria, por tanto tampoco foranea"
   ]
  },
  {
   "cell_type": "code",
   "execution_count": 93,
   "metadata": {},
   "outputs": [],
   "source": [
    "# Elimino la columna 'InventoryId'\n",
    "df_Inventory=df_Inventory.drop(columns=['InventoryId'])\n",
    "df_SalesFinal=df_SalesFinal.drop(columns=['InventoryId'])\n",
    "df_PurchasesFinal=df_PurchasesFinal.drop(columns=['InventoryId'])"
   ]
  },
  {
   "cell_type": "markdown",
   "metadata": {},
   "source": [
    "### Creamos PK a nuestras 3 tablas de hechos Inventory, Purchases y Sales"
   ]
  },
  {
   "cell_type": "code",
   "execution_count": 94,
   "metadata": {},
   "outputs": [],
   "source": [
    "# Generar PurchaseID en PurchasesFinal\n",
    "df_PurchasesFinal['PurchaseID'] = df_PurchasesFinal.index + 1"
   ]
  },
  {
   "cell_type": "code",
   "execution_count": 95,
   "metadata": {},
   "outputs": [],
   "source": [
    "# Generar SalesID en SalesFinal\n",
    "df_SalesFinal['SalesID'] = df_SalesFinal.index + 1"
   ]
  },
  {
   "cell_type": "code",
   "execution_count": 96,
   "metadata": {},
   "outputs": [],
   "source": [
    "# Generar InventoryID en df_Inventory\n",
    "df_Inventory['InventoryID'] = df_Inventory.index + 1"
   ]
  },
  {
   "cell_type": "markdown",
   "metadata": {},
   "source": [
    "### Revisamos"
   ]
  },
  {
   "cell_type": "code",
   "execution_count": 97,
   "metadata": {},
   "outputs": [
    {
     "data": {
      "text/plain": [
       "onHand             int64\n",
       "Price            float64\n",
       "InventoryDate     object\n",
       "StoreID            int64\n",
       "CityID             int64\n",
       "BrandID          float64\n",
       "DescriptionID    float64\n",
       "SizeID           float64\n",
       "InventoryID        int64\n",
       "dtype: object"
      ]
     },
     "execution_count": 97,
     "metadata": {},
     "output_type": "execute_result"
    }
   ],
   "source": [
    "df_Inventory.dtypes"
   ]
  },
  {
   "cell_type": "code",
   "execution_count": 98,
   "metadata": {},
   "outputs": [
    {
     "data": {
      "text/plain": [
       "PONumber           int64\n",
       "PODate            object\n",
       "ReceivingDate     object\n",
       "InvoiceDate       object\n",
       "PayDate           object\n",
       "PurchasePrice    float64\n",
       "Quantity           int64\n",
       "Dollars          float64\n",
       "BrandID          float64\n",
       "DescriptionID      int64\n",
       "SizeID           float64\n",
       "ClassID            int64\n",
       "VendorID           int64\n",
       "StoreID            int64\n",
       "PurchaseID         int64\n",
       "dtype: object"
      ]
     },
     "execution_count": 98,
     "metadata": {},
     "output_type": "execute_result"
    }
   ],
   "source": [
    "df_PurchasesFinal.dtypes"
   ]
  },
  {
   "cell_type": "code",
   "execution_count": 99,
   "metadata": {},
   "outputs": [
    {
     "data": {
      "text/plain": [
       "SalesQuantity      int64\n",
       "SalesDollars     float64\n",
       "SalesPrice       float64\n",
       "SalesDate         object\n",
       "Volume             int64\n",
       "ExciseTax        float64\n",
       "BrandID            int64\n",
       "DescriptionID      int64\n",
       "SizeID           float64\n",
       "ClassID            int64\n",
       "VendorID           int64\n",
       "StoreID            int64\n",
       "SalesID            int64\n",
       "dtype: object"
      ]
     },
     "execution_count": 99,
     "metadata": {},
     "output_type": "execute_result"
    }
   ],
   "source": [
    "df_SalesFinal.dtypes"
   ]
  },
  {
   "cell_type": "markdown",
   "metadata": {},
   "source": [
    "## Cambiar a tipo fecha las columnas de mis dataframes"
   ]
  },
  {
   "cell_type": "code",
   "execution_count": 103,
   "metadata": {},
   "outputs": [],
   "source": [
    "# Convertir todas las columnas que contienen 'Date' en su nombre a formato de fecha\n",
    "df_SalesFinal[df_SalesFinal.columns[df_SalesFinal.columns.str.contains('Date')]] = df_SalesFinal[df_SalesFinal.columns[df_SalesFinal.columns.str.contains('Date')]].apply(pd.to_datetime)\n",
    "df_PurchasesFinal[df_PurchasesFinal.columns[df_PurchasesFinal.columns.str.contains('Date')]] = df_PurchasesFinal[df_PurchasesFinal.columns[df_PurchasesFinal.columns.str.contains('Date')]].apply(pd.to_datetime)\n",
    "df_Inventory[df_Inventory.columns[df_Inventory.columns.str.contains('Date')]] = df_Inventory[df_Inventory.columns[df_Inventory.columns.str.contains('Date')]].apply(pd.to_datetime)"
   ]
  },
  {
   "cell_type": "markdown",
   "metadata": {},
   "source": [
    "### Cambiar a tipo entero algunas columnas"
   ]
  },
  {
   "cell_type": "code",
   "execution_count": 105,
   "metadata": {},
   "outputs": [],
   "source": [
    "# Redondear los valores de las columnas y luego convertir a int64\n",
    "df_SalesFinal['SizeID'] = df_SalesFinal['SizeID'].round().astype('int64')\n",
    "df_PurchasesFinal['BrandID'] = df_PurchasesFinal['BrandID'].round().astype('int64')\n",
    "df_PurchasesFinal['SizeID'] = df_PurchasesFinal['SizeID'].round().astype('int64')\n",
    "df_Inventory['BrandID'] = df_Inventory['BrandID'].round().astype('int64')\n",
    "df_Inventory['SizeID'] = df_Inventory['SizeID'].round().astype('int64')"
   ]
  },
  {
   "cell_type": "code",
   "execution_count": 109,
   "metadata": {},
   "outputs": [],
   "source": [
    "df_Inventory['DescriptionID'] = df_Inventory['DescriptionID'].round().astype('int64')"
   ]
  },
  {
   "cell_type": "markdown",
   "metadata": {},
   "source": [
    "### REVISAMOS LOS TIPOS DE DATOS DE NUESTRAS TABLAS"
   ]
  },
  {
   "cell_type": "code",
   "execution_count": 110,
   "metadata": {},
   "outputs": [
    {
     "data": {
      "text/plain": [
       "onHand                    int64\n",
       "Price                   float64\n",
       "InventoryDate    datetime64[ns]\n",
       "StoreID                   int64\n",
       "CityID                    int64\n",
       "BrandID                   int64\n",
       "DescriptionID             int64\n",
       "SizeID                    int64\n",
       "InventoryID               int64\n",
       "dtype: object"
      ]
     },
     "execution_count": 110,
     "metadata": {},
     "output_type": "execute_result"
    }
   ],
   "source": [
    "df_Inventory.dtypes"
   ]
  },
  {
   "cell_type": "code",
   "execution_count": 111,
   "metadata": {},
   "outputs": [
    {
     "data": {
      "text/plain": [
       "SalesQuantity             int64\n",
       "SalesDollars            float64\n",
       "SalesPrice              float64\n",
       "SalesDate        datetime64[ns]\n",
       "Volume                    int64\n",
       "ExciseTax               float64\n",
       "BrandID                   int64\n",
       "DescriptionID             int64\n",
       "SizeID                    int64\n",
       "ClassID                   int64\n",
       "VendorID                  int64\n",
       "StoreID                   int64\n",
       "SalesID                   int64\n",
       "dtype: object"
      ]
     },
     "execution_count": 111,
     "metadata": {},
     "output_type": "execute_result"
    }
   ],
   "source": [
    "df_SalesFinal.dtypes"
   ]
  },
  {
   "cell_type": "code",
   "execution_count": 112,
   "metadata": {},
   "outputs": [
    {
     "data": {
      "text/plain": [
       "PONumber                  int64\n",
       "PODate           datetime64[ns]\n",
       "ReceivingDate    datetime64[ns]\n",
       "InvoiceDate      datetime64[ns]\n",
       "PayDate          datetime64[ns]\n",
       "PurchasePrice           float64\n",
       "Quantity                  int64\n",
       "Dollars                 float64\n",
       "BrandID                   int64\n",
       "DescriptionID             int64\n",
       "SizeID                    int64\n",
       "ClassID                   int64\n",
       "VendorID                  int64\n",
       "StoreID                   int64\n",
       "PurchaseID                int64\n",
       "dtype: object"
      ]
     },
     "execution_count": 112,
     "metadata": {},
     "output_type": "execute_result"
    }
   ],
   "source": [
    "df_PurchasesFinal.dtypes"
   ]
  },
  {
   "cell_type": "markdown",
   "metadata": {},
   "source": [
    "### GUARDAR TODAS LAS TABLAS ELEGIDAS COMO DIM"
   ]
  },
  {
   "cell_type": "code",
   "execution_count": 116,
   "metadata": {},
   "outputs": [],
   "source": [
    "DimCity.to_csv('Dim_City.csv',index=False)"
   ]
  },
  {
   "cell_type": "code",
   "execution_count": 117,
   "metadata": {},
   "outputs": [],
   "source": [
    "DimClassification.to_csv('Dim_Class.csv',index=False)"
   ]
  },
  {
   "cell_type": "code",
   "execution_count": 118,
   "metadata": {},
   "outputs": [],
   "source": [
    "DimDescription.to_csv('Dim_Descrption.csv',index=False)"
   ]
  },
  {
   "cell_type": "code",
   "execution_count": 119,
   "metadata": {},
   "outputs": [],
   "source": [
    "DimSize.to_csv('Dim_Size.csv',index=False)"
   ]
  },
  {
   "cell_type": "code",
   "execution_count": 120,
   "metadata": {},
   "outputs": [],
   "source": [
    "DimStore.to_csv('Dim_Store.csv',index=False)"
   ]
  },
  {
   "cell_type": "code",
   "execution_count": 121,
   "metadata": {},
   "outputs": [],
   "source": [
    "DimVendor.to_csv('Dim_Vendor.csv',index=False)"
   ]
  },
  {
   "cell_type": "markdown",
   "metadata": {},
   "source": [
    "### GUARDAR TODAS LAS TABLAS ELEGIDAS COMO HECHOS"
   ]
  },
  {
   "cell_type": "code",
   "execution_count": 113,
   "metadata": {},
   "outputs": [],
   "source": [
    "df_Inventory.to_csv('Fact_Inventory.csv',index=False)\n"
   ]
  },
  {
   "cell_type": "code",
   "execution_count": 114,
   "metadata": {},
   "outputs": [],
   "source": [
    "df_SalesFinal.to_csv('Fact_Sales.csv', index=False)\n"
   ]
  },
  {
   "cell_type": "code",
   "execution_count": 115,
   "metadata": {},
   "outputs": [],
   "source": [
    "df_PurchasesFinal.to_csv('Fact_Purchases.csv', index=False)\n"
   ]
  },
  {
   "cell_type": "markdown",
   "metadata": {},
   "source": [
    "### Revisamos DimBrand"
   ]
  },
  {
   "cell_type": "code",
   "execution_count": 1,
   "metadata": {},
   "outputs": [],
   "source": [
    "import pandas as pd"
   ]
  },
  {
   "cell_type": "code",
   "execution_count": 2,
   "metadata": {},
   "outputs": [],
   "source": [
    "DimBrand= pd.read_csv('Detalle_Brand.csv')"
   ]
  },
  {
   "cell_type": "code",
   "execution_count": 3,
   "metadata": {},
   "outputs": [
    {
     "data": {
      "text/plain": [
       "Index(['Brand', 'Price', 'Volume', 'PurchasePrice', 'BrandID', 'DescriptionID',\n",
       "       'SizeID', 'ClassID', 'VendorID'],\n",
       "      dtype='object')"
      ]
     },
     "execution_count": 3,
     "metadata": {},
     "output_type": "execute_result"
    }
   ],
   "source": [
    "DimBrand.columns"
   ]
  },
  {
   "cell_type": "code",
   "execution_count": 4,
   "metadata": {},
   "outputs": [],
   "source": [
    "# Eliminamos las que no son parte de DimBrand\n",
    "DimBrand=DimBrand.drop(columns=['Price'])\n",
    "DimBrand=DimBrand.drop(columns=['Volume'])\n",
    "DimBrand=DimBrand.drop(columns=['PurchasePrice'])"
   ]
  },
  {
   "cell_type": "code",
   "execution_count": 5,
   "metadata": {},
   "outputs": [
    {
     "name": "stdout",
     "output_type": "stream",
     "text": [
      "Empty DataFrame\n",
      "Columns: [Brand, VendorID]\n",
      "Index: []\n",
      "Number of Brand with more than one unique Vendor: 0\n"
     ]
    }
   ],
   "source": [
    "# Agrupar por 'Brand' y contar los valores únicos de 'Vendor'\n",
    "df_grouped_DB = DimBrand.groupby('Brand')['VendorID'].nunique().reset_index()\n",
    "\n",
    "# Filtrar los casos donde hay más de un valor único de 'Vendor'\n",
    "df_multiple_vendor = df_grouped_DB[df_grouped_DB['VendorID'] > 1]\n",
    "\n",
    "# Ver cuántos Brand tienen más de un Vendor\n",
    "count_vendor= df_multiple_vendor.shape[0]\n",
    "\n",
    "# Mostrar los Brand con más de un Vendor\n",
    "print(df_multiple_vendor[['Brand', 'VendorID']])\n",
    "\n",
    "# Mostrar cuántos Brand tienen más de un Vendor\n",
    "print(f\"Number of Brand with more than one unique Vendor: {count_vendor}\")\n"
   ]
  },
  {
   "cell_type": "code",
   "execution_count": 7,
   "metadata": {},
   "outputs": [
    {
     "data": {
      "text/plain": [
       "Brand            int64\n",
       "BrandID          int64\n",
       "DescriptionID    int64\n",
       "SizeID           int64\n",
       "ClassID          int64\n",
       "VendorID         int64\n",
       "dtype: object"
      ]
     },
     "execution_count": 7,
     "metadata": {},
     "output_type": "execute_result"
    }
   ],
   "source": [
    "DimBrand.dtypes"
   ]
  },
  {
   "cell_type": "markdown",
   "metadata": {},
   "source": [
    "### Guardamos nuestra DimBrand"
   ]
  },
  {
   "cell_type": "code",
   "execution_count": 8,
   "metadata": {},
   "outputs": [],
   "source": [
    "DimBrand.to_csv('Dim_Brand.csv', index=False)\n"
   ]
  }
 ],
 "metadata": {
  "kernelspec": {
   "display_name": "Python 3",
   "language": "python",
   "name": "python3"
  },
  "language_info": {
   "codemirror_mode": {
    "name": "ipython",
    "version": 3
   },
   "file_extension": ".py",
   "mimetype": "text/x-python",
   "name": "python",
   "nbconvert_exporter": "python",
   "pygments_lexer": "ipython3",
   "version": "3.12.5"
  }
 },
 "nbformat": 4,
 "nbformat_minor": 2
}
