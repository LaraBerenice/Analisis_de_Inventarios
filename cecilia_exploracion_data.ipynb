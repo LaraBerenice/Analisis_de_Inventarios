{
 "cells": [
  {
   "cell_type": "markdown",
   "metadata": {},
   "source": [
    "# ANALISIS EXPLORATORIO INICIAL"
   ]
  },
  {
   "cell_type": "markdown",
   "metadata": {},
   "source": [
    "### Dataset \"BegInvFinal12312016\""
   ]
  },
  {
   "cell_type": "code",
   "execution_count": 1,
   "metadata": {},
   "outputs": [],
   "source": [
    "import numpy as np\n",
    "import pandas as pd"
   ]
  },
  {
   "cell_type": "code",
   "execution_count": 21,
   "metadata": {},
   "outputs": [],
   "source": [
    "df_BegInvFinal=pd.read_csv(\"BegInvFINAL12312016.csv\")"
   ]
  },
  {
   "cell_type": "code",
   "execution_count": 22,
   "metadata": {},
   "outputs": [
    {
     "data": {
      "text/plain": [
       "Index(['InventoryId', 'Store', 'City', 'Brand', 'Description', 'Size',\n",
       "       'onHand', 'Price', 'startDate'],\n",
       "      dtype='object')"
      ]
     },
     "execution_count": 22,
     "metadata": {},
     "output_type": "execute_result"
    }
   ],
   "source": [
    "df_BegInvFinal.columns"
   ]
  },
  {
   "cell_type": "code",
   "execution_count": 23,
   "metadata": {},
   "outputs": [
    {
     "data": {
      "text/plain": [
       "InventoryId     object\n",
       "Store            int64\n",
       "City            object\n",
       "Brand            int64\n",
       "Description     object\n",
       "Size            object\n",
       "onHand           int64\n",
       "Price          float64\n",
       "startDate       object\n",
       "dtype: object"
      ]
     },
     "execution_count": 23,
     "metadata": {},
     "output_type": "execute_result"
    }
   ],
   "source": [
    "df_BegInvFinal.dtypes"
   ]
  },
  {
   "cell_type": "code",
   "execution_count": 35,
   "metadata": {},
   "outputs": [
    {
     "data": {
      "text/plain": [
       "(206529, 9)"
      ]
     },
     "execution_count": 35,
     "metadata": {},
     "output_type": "execute_result"
    }
   ],
   "source": [
    "df_BegInvFinal.shape"
   ]
  },
  {
   "cell_type": "code",
   "execution_count": 36,
   "metadata": {},
   "outputs": [
    {
     "name": "stdout",
     "output_type": "stream",
     "text": [
      "<class 'pandas.core.frame.DataFrame'>\n",
      "RangeIndex: 206529 entries, 0 to 206528\n",
      "Data columns (total 9 columns):\n",
      " #   Column       Non-Null Count   Dtype  \n",
      "---  ------       --------------   -----  \n",
      " 0   InventoryId  206529 non-null  object \n",
      " 1   Store        206529 non-null  int64  \n",
      " 2   City         206529 non-null  object \n",
      " 3   Brand        206529 non-null  int64  \n",
      " 4   Description  206529 non-null  object \n",
      " 5   Size         206529 non-null  object \n",
      " 6   onHand       206529 non-null  int64  \n",
      " 7   Price        206529 non-null  float64\n",
      " 8   startDate    206529 non-null  object \n",
      "dtypes: float64(1), int64(3), object(5)\n",
      "memory usage: 14.2+ MB\n"
     ]
    }
   ],
   "source": [
    "df_BegInvFinal.info()"
   ]
  },
  {
   "cell_type": "code",
   "execution_count": 25,
   "metadata": {},
   "outputs": [
    {
     "data": {
      "text/html": [
       "<div>\n",
       "<style scoped>\n",
       "    .dataframe tbody tr th:only-of-type {\n",
       "        vertical-align: middle;\n",
       "    }\n",
       "\n",
       "    .dataframe tbody tr th {\n",
       "        vertical-align: top;\n",
       "    }\n",
       "\n",
       "    .dataframe thead th {\n",
       "        text-align: right;\n",
       "    }\n",
       "</style>\n",
       "<table border=\"1\" class=\"dataframe\">\n",
       "  <thead>\n",
       "    <tr style=\"text-align: right;\">\n",
       "      <th></th>\n",
       "      <th>InventoryId</th>\n",
       "      <th>Store</th>\n",
       "      <th>City</th>\n",
       "      <th>Brand</th>\n",
       "      <th>Description</th>\n",
       "      <th>Size</th>\n",
       "      <th>onHand</th>\n",
       "      <th>Price</th>\n",
       "      <th>startDate</th>\n",
       "    </tr>\n",
       "  </thead>\n",
       "  <tbody>\n",
       "    <tr>\n",
       "      <th>0</th>\n",
       "      <td>1_HARDERSFIELD_58</td>\n",
       "      <td>1</td>\n",
       "      <td>HARDERSFIELD</td>\n",
       "      <td>58</td>\n",
       "      <td>Gekkeikan Black &amp; Gold Sake</td>\n",
       "      <td>750mL</td>\n",
       "      <td>8</td>\n",
       "      <td>12.99</td>\n",
       "      <td>2016-01-01</td>\n",
       "    </tr>\n",
       "    <tr>\n",
       "      <th>1</th>\n",
       "      <td>1_HARDERSFIELD_60</td>\n",
       "      <td>1</td>\n",
       "      <td>HARDERSFIELD</td>\n",
       "      <td>60</td>\n",
       "      <td>Canadian Club 1858 VAP</td>\n",
       "      <td>750mL</td>\n",
       "      <td>7</td>\n",
       "      <td>10.99</td>\n",
       "      <td>2016-01-01</td>\n",
       "    </tr>\n",
       "    <tr>\n",
       "      <th>2</th>\n",
       "      <td>1_HARDERSFIELD_62</td>\n",
       "      <td>1</td>\n",
       "      <td>HARDERSFIELD</td>\n",
       "      <td>62</td>\n",
       "      <td>Herradura Silver Tequila</td>\n",
       "      <td>750mL</td>\n",
       "      <td>6</td>\n",
       "      <td>36.99</td>\n",
       "      <td>2016-01-01</td>\n",
       "    </tr>\n",
       "    <tr>\n",
       "      <th>3</th>\n",
       "      <td>1_HARDERSFIELD_63</td>\n",
       "      <td>1</td>\n",
       "      <td>HARDERSFIELD</td>\n",
       "      <td>63</td>\n",
       "      <td>Herradura Reposado Tequila</td>\n",
       "      <td>750mL</td>\n",
       "      <td>3</td>\n",
       "      <td>38.99</td>\n",
       "      <td>2016-01-01</td>\n",
       "    </tr>\n",
       "    <tr>\n",
       "      <th>4</th>\n",
       "      <td>1_HARDERSFIELD_72</td>\n",
       "      <td>1</td>\n",
       "      <td>HARDERSFIELD</td>\n",
       "      <td>72</td>\n",
       "      <td>No. 3 London Dry Gin</td>\n",
       "      <td>750mL</td>\n",
       "      <td>6</td>\n",
       "      <td>34.99</td>\n",
       "      <td>2016-01-01</td>\n",
       "    </tr>\n",
       "  </tbody>\n",
       "</table>\n",
       "</div>"
      ],
      "text/plain": [
       "         InventoryId  Store          City  Brand                  Description  \\\n",
       "0  1_HARDERSFIELD_58      1  HARDERSFIELD     58  Gekkeikan Black & Gold Sake   \n",
       "1  1_HARDERSFIELD_60      1  HARDERSFIELD     60       Canadian Club 1858 VAP   \n",
       "2  1_HARDERSFIELD_62      1  HARDERSFIELD     62     Herradura Silver Tequila   \n",
       "3  1_HARDERSFIELD_63      1  HARDERSFIELD     63   Herradura Reposado Tequila   \n",
       "4  1_HARDERSFIELD_72      1  HARDERSFIELD     72         No. 3 London Dry Gin   \n",
       "\n",
       "    Size  onHand  Price   startDate  \n",
       "0  750mL       8  12.99  2016-01-01  \n",
       "1  750mL       7  10.99  2016-01-01  \n",
       "2  750mL       6  36.99  2016-01-01  \n",
       "3  750mL       3  38.99  2016-01-01  \n",
       "4  750mL       6  34.99  2016-01-01  "
      ]
     },
     "execution_count": 25,
     "metadata": {},
     "output_type": "execute_result"
    }
   ],
   "source": [
    "df_BegInvFinal.head()"
   ]
  },
  {
   "cell_type": "code",
   "execution_count": 27,
   "metadata": {},
   "outputs": [
    {
     "data": {
      "text/plain": [
       "Series([], dtype: int64)"
      ]
     },
     "execution_count": 27,
     "metadata": {},
     "output_type": "execute_result"
    }
   ],
   "source": [
    "df_BegInvFinal.isnull().sum()[df_BegInvFinal.isnull().sum()>0]"
   ]
  },
  {
   "cell_type": "markdown",
   "metadata": {},
   "source": [
    "### Dataset \"EndInvFinal12312016\""
   ]
  },
  {
   "cell_type": "code",
   "execution_count": 28,
   "metadata": {},
   "outputs": [],
   "source": [
    "df_EndInvFinal=pd.read_csv(\"EndInvFINAL12312016.csv\")"
   ]
  },
  {
   "cell_type": "code",
   "execution_count": 29,
   "metadata": {},
   "outputs": [
    {
     "data": {
      "text/plain": [
       "Index(['InventoryId', 'Store', 'City', 'Brand', 'Description', 'Size',\n",
       "       'onHand', 'Price', 'endDate'],\n",
       "      dtype='object')"
      ]
     },
     "execution_count": 29,
     "metadata": {},
     "output_type": "execute_result"
    }
   ],
   "source": [
    "df_EndInvFinal.columns"
   ]
  },
  {
   "cell_type": "code",
   "execution_count": 30,
   "metadata": {},
   "outputs": [
    {
     "data": {
      "text/plain": [
       "InventoryId     object\n",
       "Store            int64\n",
       "City            object\n",
       "Brand            int64\n",
       "Description     object\n",
       "Size            object\n",
       "onHand           int64\n",
       "Price          float64\n",
       "endDate         object\n",
       "dtype: object"
      ]
     },
     "execution_count": 30,
     "metadata": {},
     "output_type": "execute_result"
    }
   ],
   "source": [
    "df_EndInvFinal.dtypes"
   ]
  },
  {
   "cell_type": "code",
   "execution_count": 31,
   "metadata": {},
   "outputs": [
    {
     "data": {
      "text/plain": [
       "(224489, 9)"
      ]
     },
     "execution_count": 31,
     "metadata": {},
     "output_type": "execute_result"
    }
   ],
   "source": [
    "df_EndInvFinal.shape"
   ]
  },
  {
   "cell_type": "code",
   "execution_count": 33,
   "metadata": {},
   "outputs": [
    {
     "name": "stdout",
     "output_type": "stream",
     "text": [
      "<class 'pandas.core.frame.DataFrame'>\n",
      "RangeIndex: 224489 entries, 0 to 224488\n",
      "Data columns (total 9 columns):\n",
      " #   Column       Non-Null Count   Dtype  \n",
      "---  ------       --------------   -----  \n",
      " 0   InventoryId  224489 non-null  object \n",
      " 1   Store        224489 non-null  int64  \n",
      " 2   City         223205 non-null  object \n",
      " 3   Brand        224489 non-null  int64  \n",
      " 4   Description  224489 non-null  object \n",
      " 5   Size         224489 non-null  object \n",
      " 6   onHand       224489 non-null  int64  \n",
      " 7   Price        224489 non-null  float64\n",
      " 8   endDate      224489 non-null  object \n",
      "dtypes: float64(1), int64(3), object(5)\n",
      "memory usage: 15.4+ MB\n"
     ]
    }
   ],
   "source": [
    "df_EndInvFinal.info()"
   ]
  },
  {
   "cell_type": "code",
   "execution_count": 34,
   "metadata": {},
   "outputs": [
    {
     "data": {
      "text/html": [
       "<div>\n",
       "<style scoped>\n",
       "    .dataframe tbody tr th:only-of-type {\n",
       "        vertical-align: middle;\n",
       "    }\n",
       "\n",
       "    .dataframe tbody tr th {\n",
       "        vertical-align: top;\n",
       "    }\n",
       "\n",
       "    .dataframe thead th {\n",
       "        text-align: right;\n",
       "    }\n",
       "</style>\n",
       "<table border=\"1\" class=\"dataframe\">\n",
       "  <thead>\n",
       "    <tr style=\"text-align: right;\">\n",
       "      <th></th>\n",
       "      <th>InventoryId</th>\n",
       "      <th>Store</th>\n",
       "      <th>City</th>\n",
       "      <th>Brand</th>\n",
       "      <th>Description</th>\n",
       "      <th>Size</th>\n",
       "      <th>onHand</th>\n",
       "      <th>Price</th>\n",
       "      <th>endDate</th>\n",
       "    </tr>\n",
       "  </thead>\n",
       "  <tbody>\n",
       "    <tr>\n",
       "      <th>0</th>\n",
       "      <td>1_HARDERSFIELD_58</td>\n",
       "      <td>1</td>\n",
       "      <td>HARDERSFIELD</td>\n",
       "      <td>58</td>\n",
       "      <td>Gekkeikan Black &amp; Gold Sake</td>\n",
       "      <td>750mL</td>\n",
       "      <td>11</td>\n",
       "      <td>12.99</td>\n",
       "      <td>2016-12-31</td>\n",
       "    </tr>\n",
       "    <tr>\n",
       "      <th>1</th>\n",
       "      <td>1_HARDERSFIELD_62</td>\n",
       "      <td>1</td>\n",
       "      <td>HARDERSFIELD</td>\n",
       "      <td>62</td>\n",
       "      <td>Herradura Silver Tequila</td>\n",
       "      <td>750mL</td>\n",
       "      <td>7</td>\n",
       "      <td>36.99</td>\n",
       "      <td>2016-12-31</td>\n",
       "    </tr>\n",
       "    <tr>\n",
       "      <th>2</th>\n",
       "      <td>1_HARDERSFIELD_63</td>\n",
       "      <td>1</td>\n",
       "      <td>HARDERSFIELD</td>\n",
       "      <td>63</td>\n",
       "      <td>Herradura Reposado Tequila</td>\n",
       "      <td>750mL</td>\n",
       "      <td>7</td>\n",
       "      <td>38.99</td>\n",
       "      <td>2016-12-31</td>\n",
       "    </tr>\n",
       "    <tr>\n",
       "      <th>3</th>\n",
       "      <td>1_HARDERSFIELD_72</td>\n",
       "      <td>1</td>\n",
       "      <td>HARDERSFIELD</td>\n",
       "      <td>72</td>\n",
       "      <td>No. 3 London Dry Gin</td>\n",
       "      <td>750mL</td>\n",
       "      <td>4</td>\n",
       "      <td>34.99</td>\n",
       "      <td>2016-12-31</td>\n",
       "    </tr>\n",
       "    <tr>\n",
       "      <th>4</th>\n",
       "      <td>1_HARDERSFIELD_75</td>\n",
       "      <td>1</td>\n",
       "      <td>HARDERSFIELD</td>\n",
       "      <td>75</td>\n",
       "      <td>Three Olives Tomato Vodka</td>\n",
       "      <td>750mL</td>\n",
       "      <td>7</td>\n",
       "      <td>14.99</td>\n",
       "      <td>2016-12-31</td>\n",
       "    </tr>\n",
       "  </tbody>\n",
       "</table>\n",
       "</div>"
      ],
      "text/plain": [
       "         InventoryId  Store          City  Brand                  Description  \\\n",
       "0  1_HARDERSFIELD_58      1  HARDERSFIELD     58  Gekkeikan Black & Gold Sake   \n",
       "1  1_HARDERSFIELD_62      1  HARDERSFIELD     62     Herradura Silver Tequila   \n",
       "2  1_HARDERSFIELD_63      1  HARDERSFIELD     63   Herradura Reposado Tequila   \n",
       "3  1_HARDERSFIELD_72      1  HARDERSFIELD     72         No. 3 London Dry Gin   \n",
       "4  1_HARDERSFIELD_75      1  HARDERSFIELD     75    Three Olives Tomato Vodka   \n",
       "\n",
       "    Size  onHand  Price     endDate  \n",
       "0  750mL      11  12.99  2016-12-31  \n",
       "1  750mL       7  36.99  2016-12-31  \n",
       "2  750mL       7  38.99  2016-12-31  \n",
       "3  750mL       4  34.99  2016-12-31  \n",
       "4  750mL       7  14.99  2016-12-31  "
      ]
     },
     "execution_count": 34,
     "metadata": {},
     "output_type": "execute_result"
    }
   ],
   "source": [
    "df_EndInvFinal.head()"
   ]
  },
  {
   "cell_type": "markdown",
   "metadata": {},
   "source": [
    "### Dataset \"InvoicePurchases12312016\""
   ]
  },
  {
   "cell_type": "code",
   "execution_count": 38,
   "metadata": {},
   "outputs": [],
   "source": [
    "df_InvoicePurchases= pd.read_csv(\"InvoicePurchases12312016.csv\")"
   ]
  },
  {
   "cell_type": "code",
   "execution_count": 39,
   "metadata": {},
   "outputs": [
    {
     "data": {
      "text/plain": [
       "Index(['VendorNumber', 'VendorName', 'InvoiceDate', 'PONumber', 'PODate',\n",
       "       'PayDate', 'Quantity', 'Dollars', 'Freight', 'Approval'],\n",
       "      dtype='object')"
      ]
     },
     "execution_count": 39,
     "metadata": {},
     "output_type": "execute_result"
    }
   ],
   "source": [
    "df_InvoicePurchases.columns"
   ]
  },
  {
   "cell_type": "code",
   "execution_count": 40,
   "metadata": {},
   "outputs": [
    {
     "data": {
      "text/plain": [
       "VendorNumber      int64\n",
       "VendorName       object\n",
       "InvoiceDate      object\n",
       "PONumber          int64\n",
       "PODate           object\n",
       "PayDate          object\n",
       "Quantity          int64\n",
       "Dollars         float64\n",
       "Freight         float64\n",
       "Approval         object\n",
       "dtype: object"
      ]
     },
     "execution_count": 40,
     "metadata": {},
     "output_type": "execute_result"
    }
   ],
   "source": [
    "df_InvoicePurchases.dtypes"
   ]
  },
  {
   "cell_type": "code",
   "execution_count": 43,
   "metadata": {},
   "outputs": [
    {
     "data": {
      "text/plain": [
       "(5543, 10)"
      ]
     },
     "execution_count": 43,
     "metadata": {},
     "output_type": "execute_result"
    }
   ],
   "source": [
    "df_InvoicePurchases.shape"
   ]
  },
  {
   "cell_type": "code",
   "execution_count": 41,
   "metadata": {},
   "outputs": [
    {
     "name": "stdout",
     "output_type": "stream",
     "text": [
      "<class 'pandas.core.frame.DataFrame'>\n",
      "RangeIndex: 5543 entries, 0 to 5542\n",
      "Data columns (total 10 columns):\n",
      " #   Column        Non-Null Count  Dtype  \n",
      "---  ------        --------------  -----  \n",
      " 0   VendorNumber  5543 non-null   int64  \n",
      " 1   VendorName    5543 non-null   object \n",
      " 2   InvoiceDate   5543 non-null   object \n",
      " 3   PONumber      5543 non-null   int64  \n",
      " 4   PODate        5543 non-null   object \n",
      " 5   PayDate       5543 non-null   object \n",
      " 6   Quantity      5543 non-null   int64  \n",
      " 7   Dollars       5543 non-null   float64\n",
      " 8   Freight       5543 non-null   float64\n",
      " 9   Approval      374 non-null    object \n",
      "dtypes: float64(2), int64(3), object(5)\n",
      "memory usage: 433.2+ KB\n"
     ]
    }
   ],
   "source": [
    "df_InvoicePurchases.info()"
   ]
  },
  {
   "cell_type": "code",
   "execution_count": 42,
   "metadata": {},
   "outputs": [
    {
     "data": {
      "text/html": [
       "<div>\n",
       "<style scoped>\n",
       "    .dataframe tbody tr th:only-of-type {\n",
       "        vertical-align: middle;\n",
       "    }\n",
       "\n",
       "    .dataframe tbody tr th {\n",
       "        vertical-align: top;\n",
       "    }\n",
       "\n",
       "    .dataframe thead th {\n",
       "        text-align: right;\n",
       "    }\n",
       "</style>\n",
       "<table border=\"1\" class=\"dataframe\">\n",
       "  <thead>\n",
       "    <tr style=\"text-align: right;\">\n",
       "      <th></th>\n",
       "      <th>VendorNumber</th>\n",
       "      <th>VendorName</th>\n",
       "      <th>InvoiceDate</th>\n",
       "      <th>PONumber</th>\n",
       "      <th>PODate</th>\n",
       "      <th>PayDate</th>\n",
       "      <th>Quantity</th>\n",
       "      <th>Dollars</th>\n",
       "      <th>Freight</th>\n",
       "      <th>Approval</th>\n",
       "    </tr>\n",
       "  </thead>\n",
       "  <tbody>\n",
       "    <tr>\n",
       "      <th>0</th>\n",
       "      <td>105</td>\n",
       "      <td>ALTAMAR BRANDS LLC</td>\n",
       "      <td>2016-01-04</td>\n",
       "      <td>8124</td>\n",
       "      <td>2015-12-21</td>\n",
       "      <td>2016-02-16</td>\n",
       "      <td>6</td>\n",
       "      <td>214.26</td>\n",
       "      <td>3.47</td>\n",
       "      <td>NaN</td>\n",
       "    </tr>\n",
       "    <tr>\n",
       "      <th>1</th>\n",
       "      <td>4466</td>\n",
       "      <td>AMERICAN VINTAGE BEVERAGE</td>\n",
       "      <td>2016-01-07</td>\n",
       "      <td>8137</td>\n",
       "      <td>2015-12-22</td>\n",
       "      <td>2016-02-21</td>\n",
       "      <td>15</td>\n",
       "      <td>140.55</td>\n",
       "      <td>8.57</td>\n",
       "      <td>NaN</td>\n",
       "    </tr>\n",
       "    <tr>\n",
       "      <th>2</th>\n",
       "      <td>388</td>\n",
       "      <td>ATLANTIC IMPORTING COMPANY</td>\n",
       "      <td>2016-01-09</td>\n",
       "      <td>8169</td>\n",
       "      <td>2015-12-24</td>\n",
       "      <td>2016-02-16</td>\n",
       "      <td>5</td>\n",
       "      <td>106.60</td>\n",
       "      <td>4.61</td>\n",
       "      <td>NaN</td>\n",
       "    </tr>\n",
       "    <tr>\n",
       "      <th>3</th>\n",
       "      <td>480</td>\n",
       "      <td>BACARDI USA INC</td>\n",
       "      <td>2016-01-12</td>\n",
       "      <td>8106</td>\n",
       "      <td>2015-12-20</td>\n",
       "      <td>2016-02-05</td>\n",
       "      <td>10100</td>\n",
       "      <td>137483.78</td>\n",
       "      <td>2935.20</td>\n",
       "      <td>NaN</td>\n",
       "    </tr>\n",
       "    <tr>\n",
       "      <th>4</th>\n",
       "      <td>516</td>\n",
       "      <td>BANFI PRODUCTS CORP</td>\n",
       "      <td>2016-01-07</td>\n",
       "      <td>8170</td>\n",
       "      <td>2015-12-24</td>\n",
       "      <td>2016-02-12</td>\n",
       "      <td>1935</td>\n",
       "      <td>15527.25</td>\n",
       "      <td>429.20</td>\n",
       "      <td>NaN</td>\n",
       "    </tr>\n",
       "  </tbody>\n",
       "</table>\n",
       "</div>"
      ],
      "text/plain": [
       "   VendorNumber                   VendorName InvoiceDate  PONumber  \\\n",
       "0           105  ALTAMAR BRANDS LLC           2016-01-04      8124   \n",
       "1          4466  AMERICAN VINTAGE BEVERAGE    2016-01-07      8137   \n",
       "2           388  ATLANTIC IMPORTING COMPANY   2016-01-09      8169   \n",
       "3           480  BACARDI USA INC              2016-01-12      8106   \n",
       "4           516  BANFI PRODUCTS CORP          2016-01-07      8170   \n",
       "\n",
       "       PODate     PayDate  Quantity    Dollars  Freight Approval  \n",
       "0  2015-12-21  2016-02-16         6     214.26     3.47      NaN  \n",
       "1  2015-12-22  2016-02-21        15     140.55     8.57      NaN  \n",
       "2  2015-12-24  2016-02-16         5     106.60     4.61      NaN  \n",
       "3  2015-12-20  2016-02-05     10100  137483.78  2935.20      NaN  \n",
       "4  2015-12-24  2016-02-12      1935   15527.25   429.20      NaN  "
      ]
     },
     "execution_count": 42,
     "metadata": {},
     "output_type": "execute_result"
    }
   ],
   "source": [
    "df_InvoicePurchases.head()"
   ]
  },
  {
   "cell_type": "markdown",
   "metadata": {},
   "source": [
    "### Dataset \"2017PurchasePricesDec\""
   ]
  },
  {
   "cell_type": "code",
   "execution_count": 60,
   "metadata": {},
   "outputs": [],
   "source": [
    "df_PurchasePrices=pd.read_csv(\"2017PurchasePricesDec.csv\")"
   ]
  },
  {
   "cell_type": "code",
   "execution_count": 61,
   "metadata": {},
   "outputs": [
    {
     "data": {
      "text/plain": [
       "Index(['Brand', 'Description', 'Price', 'Size', 'Volume', 'Classification',\n",
       "       'PurchasePrice', 'VendorNumber', 'VendorName'],\n",
       "      dtype='object')"
      ]
     },
     "execution_count": 61,
     "metadata": {},
     "output_type": "execute_result"
    }
   ],
   "source": [
    "df_PurchasePrices.columns"
   ]
  },
  {
   "cell_type": "code",
   "execution_count": 62,
   "metadata": {},
   "outputs": [
    {
     "data": {
      "text/plain": [
       "Brand               int64\n",
       "Description        object\n",
       "Price             float64\n",
       "Size               object\n",
       "Volume             object\n",
       "Classification      int64\n",
       "PurchasePrice     float64\n",
       "VendorNumber        int64\n",
       "VendorName         object\n",
       "dtype: object"
      ]
     },
     "execution_count": 62,
     "metadata": {},
     "output_type": "execute_result"
    }
   ],
   "source": [
    "df_PurchasePrices.dtypes"
   ]
  },
  {
   "cell_type": "code",
   "execution_count": 63,
   "metadata": {},
   "outputs": [
    {
     "data": {
      "text/plain": [
       "(12261, 9)"
      ]
     },
     "execution_count": 63,
     "metadata": {},
     "output_type": "execute_result"
    }
   ],
   "source": [
    "df_PurchasePrices.shape"
   ]
  },
  {
   "cell_type": "code",
   "execution_count": 64,
   "metadata": {},
   "outputs": [
    {
     "name": "stdout",
     "output_type": "stream",
     "text": [
      "<class 'pandas.core.frame.DataFrame'>\n",
      "RangeIndex: 12261 entries, 0 to 12260\n",
      "Data columns (total 9 columns):\n",
      " #   Column          Non-Null Count  Dtype  \n",
      "---  ------          --------------  -----  \n",
      " 0   Brand           12261 non-null  int64  \n",
      " 1   Description     12260 non-null  object \n",
      " 2   Price           12261 non-null  float64\n",
      " 3   Size            12260 non-null  object \n",
      " 4   Volume          12260 non-null  object \n",
      " 5   Classification  12261 non-null  int64  \n",
      " 6   PurchasePrice   12261 non-null  float64\n",
      " 7   VendorNumber    12261 non-null  int64  \n",
      " 8   VendorName      12261 non-null  object \n",
      "dtypes: float64(2), int64(3), object(4)\n",
      "memory usage: 862.2+ KB\n"
     ]
    }
   ],
   "source": [
    "df_PurchasePrices.info()"
   ]
  },
  {
   "cell_type": "code",
   "execution_count": 65,
   "metadata": {},
   "outputs": [
    {
     "data": {
      "text/html": [
       "<div>\n",
       "<style scoped>\n",
       "    .dataframe tbody tr th:only-of-type {\n",
       "        vertical-align: middle;\n",
       "    }\n",
       "\n",
       "    .dataframe tbody tr th {\n",
       "        vertical-align: top;\n",
       "    }\n",
       "\n",
       "    .dataframe thead th {\n",
       "        text-align: right;\n",
       "    }\n",
       "</style>\n",
       "<table border=\"1\" class=\"dataframe\">\n",
       "  <thead>\n",
       "    <tr style=\"text-align: right;\">\n",
       "      <th></th>\n",
       "      <th>Brand</th>\n",
       "      <th>Description</th>\n",
       "      <th>Price</th>\n",
       "      <th>Size</th>\n",
       "      <th>Volume</th>\n",
       "      <th>Classification</th>\n",
       "      <th>PurchasePrice</th>\n",
       "      <th>VendorNumber</th>\n",
       "      <th>VendorName</th>\n",
       "    </tr>\n",
       "  </thead>\n",
       "  <tbody>\n",
       "    <tr>\n",
       "      <th>0</th>\n",
       "      <td>58</td>\n",
       "      <td>Gekkeikan Black &amp; Gold Sake</td>\n",
       "      <td>12.99</td>\n",
       "      <td>750mL</td>\n",
       "      <td>750</td>\n",
       "      <td>1</td>\n",
       "      <td>9.28</td>\n",
       "      <td>8320</td>\n",
       "      <td>SHAW ROSS INT L IMP LTD</td>\n",
       "    </tr>\n",
       "    <tr>\n",
       "      <th>1</th>\n",
       "      <td>62</td>\n",
       "      <td>Herradura Silver Tequila</td>\n",
       "      <td>36.99</td>\n",
       "      <td>750mL</td>\n",
       "      <td>750</td>\n",
       "      <td>1</td>\n",
       "      <td>28.67</td>\n",
       "      <td>1128</td>\n",
       "      <td>BROWN-FORMAN CORP</td>\n",
       "    </tr>\n",
       "    <tr>\n",
       "      <th>2</th>\n",
       "      <td>63</td>\n",
       "      <td>Herradura Reposado Tequila</td>\n",
       "      <td>38.99</td>\n",
       "      <td>750mL</td>\n",
       "      <td>750</td>\n",
       "      <td>1</td>\n",
       "      <td>30.46</td>\n",
       "      <td>1128</td>\n",
       "      <td>BROWN-FORMAN CORP</td>\n",
       "    </tr>\n",
       "    <tr>\n",
       "      <th>3</th>\n",
       "      <td>72</td>\n",
       "      <td>No. 3 London Dry Gin</td>\n",
       "      <td>34.99</td>\n",
       "      <td>750mL</td>\n",
       "      <td>750</td>\n",
       "      <td>1</td>\n",
       "      <td>26.11</td>\n",
       "      <td>9165</td>\n",
       "      <td>ULTRA BEVERAGE COMPANY LLP</td>\n",
       "    </tr>\n",
       "    <tr>\n",
       "      <th>4</th>\n",
       "      <td>75</td>\n",
       "      <td>Three Olives Tomato Vodka</td>\n",
       "      <td>14.99</td>\n",
       "      <td>750mL</td>\n",
       "      <td>750</td>\n",
       "      <td>1</td>\n",
       "      <td>10.94</td>\n",
       "      <td>7245</td>\n",
       "      <td>PROXIMO SPIRITS INC.</td>\n",
       "    </tr>\n",
       "  </tbody>\n",
       "</table>\n",
       "</div>"
      ],
      "text/plain": [
       "   Brand                  Description  Price   Size Volume  Classification  \\\n",
       "0     58  Gekkeikan Black & Gold Sake  12.99  750mL    750               1   \n",
       "1     62     Herradura Silver Tequila  36.99  750mL    750               1   \n",
       "2     63   Herradura Reposado Tequila  38.99  750mL    750               1   \n",
       "3     72         No. 3 London Dry Gin  34.99  750mL    750               1   \n",
       "4     75    Three Olives Tomato Vodka  14.99  750mL    750               1   \n",
       "\n",
       "   PurchasePrice  VendorNumber                   VendorName  \n",
       "0           9.28          8320  SHAW ROSS INT L IMP LTD      \n",
       "1          28.67          1128  BROWN-FORMAN CORP            \n",
       "2          30.46          1128  BROWN-FORMAN CORP            \n",
       "3          26.11          9165  ULTRA BEVERAGE COMPANY LLP   \n",
       "4          10.94          7245  PROXIMO SPIRITS INC.         "
      ]
     },
     "execution_count": 65,
     "metadata": {},
     "output_type": "execute_result"
    }
   ],
   "source": [
    "df_PurchasePrices.head()"
   ]
  },
  {
   "cell_type": "markdown",
   "metadata": {},
   "source": [
    "### Dataset \"SalesFINAL12312016\""
   ]
  },
  {
   "cell_type": "code",
   "execution_count": 44,
   "metadata": {},
   "outputs": [],
   "source": [
    "df_SalesFinal= pd.read_csv(\"SalesFINAL12312016.csv\")"
   ]
  },
  {
   "cell_type": "code",
   "execution_count": 45,
   "metadata": {},
   "outputs": [
    {
     "data": {
      "text/plain": [
       "Index(['InventoryId', 'Store', 'Brand', 'Description', 'Size', 'SalesQuantity',\n",
       "       'SalesDollars', 'SalesPrice', 'SalesDate', 'Volume', 'Classification',\n",
       "       'ExciseTax', 'VendorNo', 'VendorName'],\n",
       "      dtype='object')"
      ]
     },
     "execution_count": 45,
     "metadata": {},
     "output_type": "execute_result"
    }
   ],
   "source": [
    "df_SalesFinal.columns"
   ]
  },
  {
   "cell_type": "code",
   "execution_count": 50,
   "metadata": {},
   "outputs": [
    {
     "data": {
      "text/plain": [
       "InventoryId        object\n",
       "Store               int64\n",
       "Brand               int64\n",
       "Description        object\n",
       "Size               object\n",
       "SalesQuantity       int64\n",
       "SalesDollars      float64\n",
       "SalesPrice        float64\n",
       "SalesDate          object\n",
       "Volume              int64\n",
       "Classification      int64\n",
       "ExciseTax         float64\n",
       "VendorNo            int64\n",
       "VendorName         object\n",
       "dtype: object"
      ]
     },
     "execution_count": 50,
     "metadata": {},
     "output_type": "execute_result"
    }
   ],
   "source": [
    "df_SalesFinal.dtypes"
   ]
  },
  {
   "cell_type": "code",
   "execution_count": 47,
   "metadata": {},
   "outputs": [
    {
     "data": {
      "text/plain": [
       "(1048575, 14)"
      ]
     },
     "execution_count": 47,
     "metadata": {},
     "output_type": "execute_result"
    }
   ],
   "source": [
    "df_SalesFinal.shape"
   ]
  },
  {
   "cell_type": "code",
   "execution_count": 48,
   "metadata": {},
   "outputs": [
    {
     "name": "stdout",
     "output_type": "stream",
     "text": [
      "<class 'pandas.core.frame.DataFrame'>\n",
      "RangeIndex: 1048575 entries, 0 to 1048574\n",
      "Data columns (total 14 columns):\n",
      " #   Column          Non-Null Count    Dtype  \n",
      "---  ------          --------------    -----  \n",
      " 0   InventoryId     1048575 non-null  object \n",
      " 1   Store           1048575 non-null  int64  \n",
      " 2   Brand           1048575 non-null  int64  \n",
      " 3   Description     1048575 non-null  object \n",
      " 4   Size            1048575 non-null  object \n",
      " 5   SalesQuantity   1048575 non-null  int64  \n",
      " 6   SalesDollars    1048575 non-null  float64\n",
      " 7   SalesPrice      1048575 non-null  float64\n",
      " 8   SalesDate       1048575 non-null  object \n",
      " 9   Volume          1048575 non-null  int64  \n",
      " 10  Classification  1048575 non-null  int64  \n",
      " 11  ExciseTax       1048575 non-null  float64\n",
      " 12  VendorNo        1048575 non-null  int64  \n",
      " 13  VendorName      1048575 non-null  object \n",
      "dtypes: float64(3), int64(6), object(5)\n",
      "memory usage: 112.0+ MB\n"
     ]
    }
   ],
   "source": [
    "df_SalesFinal.info()"
   ]
  },
  {
   "cell_type": "code",
   "execution_count": 49,
   "metadata": {},
   "outputs": [
    {
     "data": {
      "text/html": [
       "<div>\n",
       "<style scoped>\n",
       "    .dataframe tbody tr th:only-of-type {\n",
       "        vertical-align: middle;\n",
       "    }\n",
       "\n",
       "    .dataframe tbody tr th {\n",
       "        vertical-align: top;\n",
       "    }\n",
       "\n",
       "    .dataframe thead th {\n",
       "        text-align: right;\n",
       "    }\n",
       "</style>\n",
       "<table border=\"1\" class=\"dataframe\">\n",
       "  <thead>\n",
       "    <tr style=\"text-align: right;\">\n",
       "      <th></th>\n",
       "      <th>InventoryId</th>\n",
       "      <th>Store</th>\n",
       "      <th>Brand</th>\n",
       "      <th>Description</th>\n",
       "      <th>Size</th>\n",
       "      <th>SalesQuantity</th>\n",
       "      <th>SalesDollars</th>\n",
       "      <th>SalesPrice</th>\n",
       "      <th>SalesDate</th>\n",
       "      <th>Volume</th>\n",
       "      <th>Classification</th>\n",
       "      <th>ExciseTax</th>\n",
       "      <th>VendorNo</th>\n",
       "      <th>VendorName</th>\n",
       "    </tr>\n",
       "  </thead>\n",
       "  <tbody>\n",
       "    <tr>\n",
       "      <th>0</th>\n",
       "      <td>1_HARDERSFIELD_1004</td>\n",
       "      <td>1</td>\n",
       "      <td>1004</td>\n",
       "      <td>Jim Beam w/2 Rocks Glasses</td>\n",
       "      <td>750mL</td>\n",
       "      <td>1</td>\n",
       "      <td>16.49</td>\n",
       "      <td>16.49</td>\n",
       "      <td>1/1/2016</td>\n",
       "      <td>750</td>\n",
       "      <td>1</td>\n",
       "      <td>0.79</td>\n",
       "      <td>12546</td>\n",
       "      <td>JIM BEAM BRANDS COMPANY</td>\n",
       "    </tr>\n",
       "    <tr>\n",
       "      <th>1</th>\n",
       "      <td>1_HARDERSFIELD_1004</td>\n",
       "      <td>1</td>\n",
       "      <td>1004</td>\n",
       "      <td>Jim Beam w/2 Rocks Glasses</td>\n",
       "      <td>750mL</td>\n",
       "      <td>2</td>\n",
       "      <td>32.98</td>\n",
       "      <td>16.49</td>\n",
       "      <td>1/2/2016</td>\n",
       "      <td>750</td>\n",
       "      <td>1</td>\n",
       "      <td>1.57</td>\n",
       "      <td>12546</td>\n",
       "      <td>JIM BEAM BRANDS COMPANY</td>\n",
       "    </tr>\n",
       "    <tr>\n",
       "      <th>2</th>\n",
       "      <td>1_HARDERSFIELD_1004</td>\n",
       "      <td>1</td>\n",
       "      <td>1004</td>\n",
       "      <td>Jim Beam w/2 Rocks Glasses</td>\n",
       "      <td>750mL</td>\n",
       "      <td>1</td>\n",
       "      <td>16.49</td>\n",
       "      <td>16.49</td>\n",
       "      <td>1/3/2016</td>\n",
       "      <td>750</td>\n",
       "      <td>1</td>\n",
       "      <td>0.79</td>\n",
       "      <td>12546</td>\n",
       "      <td>JIM BEAM BRANDS COMPANY</td>\n",
       "    </tr>\n",
       "    <tr>\n",
       "      <th>3</th>\n",
       "      <td>1_HARDERSFIELD_1004</td>\n",
       "      <td>1</td>\n",
       "      <td>1004</td>\n",
       "      <td>Jim Beam w/2 Rocks Glasses</td>\n",
       "      <td>750mL</td>\n",
       "      <td>1</td>\n",
       "      <td>14.49</td>\n",
       "      <td>14.49</td>\n",
       "      <td>1/8/2016</td>\n",
       "      <td>750</td>\n",
       "      <td>1</td>\n",
       "      <td>0.79</td>\n",
       "      <td>12546</td>\n",
       "      <td>JIM BEAM BRANDS COMPANY</td>\n",
       "    </tr>\n",
       "    <tr>\n",
       "      <th>4</th>\n",
       "      <td>1_HARDERSFIELD_1005</td>\n",
       "      <td>1</td>\n",
       "      <td>1005</td>\n",
       "      <td>Maker's Mark Combo Pack</td>\n",
       "      <td>375mL 2 Pk</td>\n",
       "      <td>2</td>\n",
       "      <td>69.98</td>\n",
       "      <td>34.99</td>\n",
       "      <td>1/9/2016</td>\n",
       "      <td>375</td>\n",
       "      <td>1</td>\n",
       "      <td>0.79</td>\n",
       "      <td>12546</td>\n",
       "      <td>JIM BEAM BRANDS COMPANY</td>\n",
       "    </tr>\n",
       "  </tbody>\n",
       "</table>\n",
       "</div>"
      ],
      "text/plain": [
       "           InventoryId  Store  Brand                 Description        Size  \\\n",
       "0  1_HARDERSFIELD_1004      1   1004  Jim Beam w/2 Rocks Glasses       750mL   \n",
       "1  1_HARDERSFIELD_1004      1   1004  Jim Beam w/2 Rocks Glasses       750mL   \n",
       "2  1_HARDERSFIELD_1004      1   1004  Jim Beam w/2 Rocks Glasses       750mL   \n",
       "3  1_HARDERSFIELD_1004      1   1004  Jim Beam w/2 Rocks Glasses       750mL   \n",
       "4  1_HARDERSFIELD_1005      1   1005     Maker's Mark Combo Pack  375mL 2 Pk   \n",
       "\n",
       "   SalesQuantity  SalesDollars  SalesPrice SalesDate  Volume  Classification  \\\n",
       "0              1         16.49       16.49  1/1/2016     750               1   \n",
       "1              2         32.98       16.49  1/2/2016     750               1   \n",
       "2              1         16.49       16.49  1/3/2016     750               1   \n",
       "3              1         14.49       14.49  1/8/2016     750               1   \n",
       "4              2         69.98       34.99  1/9/2016     375               1   \n",
       "\n",
       "   ExciseTax  VendorNo                   VendorName  \n",
       "0       0.79     12546  JIM BEAM BRANDS COMPANY      \n",
       "1       1.57     12546  JIM BEAM BRANDS COMPANY      \n",
       "2       0.79     12546  JIM BEAM BRANDS COMPANY      \n",
       "3       0.79     12546  JIM BEAM BRANDS COMPANY      \n",
       "4       0.79     12546  JIM BEAM BRANDS COMPANY      "
      ]
     },
     "execution_count": 49,
     "metadata": {},
     "output_type": "execute_result"
    }
   ],
   "source": [
    "df_SalesFinal.head()"
   ]
  },
  {
   "cell_type": "markdown",
   "metadata": {},
   "source": [
    "### DATASET PurchasesFINAL12312016"
   ]
  },
  {
   "cell_type": "code",
   "execution_count": 66,
   "metadata": {},
   "outputs": [],
   "source": [
    "df_PurchasesFinal=pd.read_csv(\"PurchasesFINAL12312016.csv\")"
   ]
  },
  {
   "cell_type": "code",
   "execution_count": 67,
   "metadata": {},
   "outputs": [
    {
     "data": {
      "text/plain": [
       "Index(['InventoryId', 'Store', 'Brand', 'Description', 'Size', 'VendorNumber',\n",
       "       'VendorName', 'PONumber', 'PODate', 'ReceivingDate', 'InvoiceDate',\n",
       "       'PayDate', 'PurchasePrice', 'Quantity', 'Dollars', 'Classification'],\n",
       "      dtype='object')"
      ]
     },
     "execution_count": 67,
     "metadata": {},
     "output_type": "execute_result"
    }
   ],
   "source": [
    "df_PurchasesFinal.columns"
   ]
  },
  {
   "cell_type": "code",
   "execution_count": 68,
   "metadata": {},
   "outputs": [
    {
     "data": {
      "text/plain": [
       "InventoryId        object\n",
       "Store               int64\n",
       "Brand               int64\n",
       "Description        object\n",
       "Size               object\n",
       "VendorNumber        int64\n",
       "VendorName         object\n",
       "PONumber            int64\n",
       "PODate             object\n",
       "ReceivingDate      object\n",
       "InvoiceDate        object\n",
       "PayDate            object\n",
       "PurchasePrice     float64\n",
       "Quantity            int64\n",
       "Dollars           float64\n",
       "Classification      int64\n",
       "dtype: object"
      ]
     },
     "execution_count": 68,
     "metadata": {},
     "output_type": "execute_result"
    }
   ],
   "source": [
    "df_PurchasesFinal.dtypes"
   ]
  },
  {
   "cell_type": "code",
   "execution_count": 69,
   "metadata": {},
   "outputs": [
    {
     "data": {
      "text/plain": [
       "(2372474, 16)"
      ]
     },
     "execution_count": 69,
     "metadata": {},
     "output_type": "execute_result"
    }
   ],
   "source": [
    "df_PurchasesFinal.shape"
   ]
  },
  {
   "cell_type": "code",
   "execution_count": 72,
   "metadata": {},
   "outputs": [
    {
     "name": "stdout",
     "output_type": "stream",
     "text": [
      "<class 'pandas.core.frame.DataFrame'>\n",
      "RangeIndex: 2372474 entries, 0 to 2372473\n",
      "Data columns (total 16 columns):\n",
      " #   Column          Dtype  \n",
      "---  ------          -----  \n",
      " 0   InventoryId     object \n",
      " 1   Store           int64  \n",
      " 2   Brand           int64  \n",
      " 3   Description     object \n",
      " 4   Size            object \n",
      " 5   VendorNumber    int64  \n",
      " 6   VendorName      object \n",
      " 7   PONumber        int64  \n",
      " 8   PODate          object \n",
      " 9   ReceivingDate   object \n",
      " 10  InvoiceDate     object \n",
      " 11  PayDate         object \n",
      " 12  PurchasePrice   float64\n",
      " 13  Quantity        int64  \n",
      " 14  Dollars         float64\n",
      " 15  Classification  int64  \n",
      "dtypes: float64(2), int64(6), object(8)\n",
      "memory usage: 289.6+ MB\n"
     ]
    }
   ],
   "source": [
    "df_PurchasesFinal.info()"
   ]
  },
  {
   "cell_type": "code",
   "execution_count": 73,
   "metadata": {},
   "outputs": [
    {
     "data": {
      "text/html": [
       "<div>\n",
       "<style scoped>\n",
       "    .dataframe tbody tr th:only-of-type {\n",
       "        vertical-align: middle;\n",
       "    }\n",
       "\n",
       "    .dataframe tbody tr th {\n",
       "        vertical-align: top;\n",
       "    }\n",
       "\n",
       "    .dataframe thead th {\n",
       "        text-align: right;\n",
       "    }\n",
       "</style>\n",
       "<table border=\"1\" class=\"dataframe\">\n",
       "  <thead>\n",
       "    <tr style=\"text-align: right;\">\n",
       "      <th></th>\n",
       "      <th>InventoryId</th>\n",
       "      <th>Store</th>\n",
       "      <th>Brand</th>\n",
       "      <th>Description</th>\n",
       "      <th>Size</th>\n",
       "      <th>VendorNumber</th>\n",
       "      <th>VendorName</th>\n",
       "      <th>PONumber</th>\n",
       "      <th>PODate</th>\n",
       "      <th>ReceivingDate</th>\n",
       "      <th>InvoiceDate</th>\n",
       "      <th>PayDate</th>\n",
       "      <th>PurchasePrice</th>\n",
       "      <th>Quantity</th>\n",
       "      <th>Dollars</th>\n",
       "      <th>Classification</th>\n",
       "    </tr>\n",
       "  </thead>\n",
       "  <tbody>\n",
       "    <tr>\n",
       "      <th>0</th>\n",
       "      <td>69_MOUNTMEND_8412</td>\n",
       "      <td>69</td>\n",
       "      <td>8412</td>\n",
       "      <td>Tequila Ocho Plata Fresno</td>\n",
       "      <td>750mL</td>\n",
       "      <td>105</td>\n",
       "      <td>ALTAMAR BRANDS LLC</td>\n",
       "      <td>8124</td>\n",
       "      <td>2015-12-21</td>\n",
       "      <td>2016-01-02</td>\n",
       "      <td>2016-01-04</td>\n",
       "      <td>2016-02-16</td>\n",
       "      <td>35.71</td>\n",
       "      <td>6</td>\n",
       "      <td>214.26</td>\n",
       "      <td>1</td>\n",
       "    </tr>\n",
       "    <tr>\n",
       "      <th>1</th>\n",
       "      <td>30_CULCHETH_5255</td>\n",
       "      <td>30</td>\n",
       "      <td>5255</td>\n",
       "      <td>TGI Fridays Ultimte Mudslide</td>\n",
       "      <td>1.75L</td>\n",
       "      <td>4466</td>\n",
       "      <td>AMERICAN VINTAGE BEVERAGE</td>\n",
       "      <td>8137</td>\n",
       "      <td>2015-12-22</td>\n",
       "      <td>2016-01-01</td>\n",
       "      <td>2016-01-07</td>\n",
       "      <td>2016-02-21</td>\n",
       "      <td>9.35</td>\n",
       "      <td>4</td>\n",
       "      <td>37.40</td>\n",
       "      <td>1</td>\n",
       "    </tr>\n",
       "    <tr>\n",
       "      <th>2</th>\n",
       "      <td>34_PITMERDEN_5215</td>\n",
       "      <td>34</td>\n",
       "      <td>5215</td>\n",
       "      <td>TGI Fridays Long Island Iced</td>\n",
       "      <td>1.75L</td>\n",
       "      <td>4466</td>\n",
       "      <td>AMERICAN VINTAGE BEVERAGE</td>\n",
       "      <td>8137</td>\n",
       "      <td>2015-12-22</td>\n",
       "      <td>2016-01-02</td>\n",
       "      <td>2016-01-07</td>\n",
       "      <td>2016-02-21</td>\n",
       "      <td>9.41</td>\n",
       "      <td>5</td>\n",
       "      <td>47.05</td>\n",
       "      <td>1</td>\n",
       "    </tr>\n",
       "    <tr>\n",
       "      <th>3</th>\n",
       "      <td>1_HARDERSFIELD_5255</td>\n",
       "      <td>1</td>\n",
       "      <td>5255</td>\n",
       "      <td>TGI Fridays Ultimte Mudslide</td>\n",
       "      <td>1.75L</td>\n",
       "      <td>4466</td>\n",
       "      <td>AMERICAN VINTAGE BEVERAGE</td>\n",
       "      <td>8137</td>\n",
       "      <td>2015-12-22</td>\n",
       "      <td>2016-01-01</td>\n",
       "      <td>2016-01-07</td>\n",
       "      <td>2016-02-21</td>\n",
       "      <td>9.35</td>\n",
       "      <td>6</td>\n",
       "      <td>56.10</td>\n",
       "      <td>1</td>\n",
       "    </tr>\n",
       "    <tr>\n",
       "      <th>4</th>\n",
       "      <td>76_DONCASTER_2034</td>\n",
       "      <td>76</td>\n",
       "      <td>2034</td>\n",
       "      <td>Glendalough Double Barrel</td>\n",
       "      <td>750mL</td>\n",
       "      <td>388</td>\n",
       "      <td>ATLANTIC IMPORTING COMPANY</td>\n",
       "      <td>8169</td>\n",
       "      <td>2015-12-24</td>\n",
       "      <td>2016-01-02</td>\n",
       "      <td>2016-01-09</td>\n",
       "      <td>2016-02-16</td>\n",
       "      <td>21.32</td>\n",
       "      <td>5</td>\n",
       "      <td>106.60</td>\n",
       "      <td>1</td>\n",
       "    </tr>\n",
       "  </tbody>\n",
       "</table>\n",
       "</div>"
      ],
      "text/plain": [
       "           InventoryId  Store  Brand                   Description   Size  \\\n",
       "0    69_MOUNTMEND_8412     69   8412     Tequila Ocho Plata Fresno  750mL   \n",
       "1     30_CULCHETH_5255     30   5255  TGI Fridays Ultimte Mudslide  1.75L   \n",
       "2    34_PITMERDEN_5215     34   5215  TGI Fridays Long Island Iced  1.75L   \n",
       "3  1_HARDERSFIELD_5255      1   5255  TGI Fridays Ultimte Mudslide  1.75L   \n",
       "4    76_DONCASTER_2034     76   2034     Glendalough Double Barrel  750mL   \n",
       "\n",
       "   VendorNumber                   VendorName  PONumber      PODate  \\\n",
       "0           105  ALTAMAR BRANDS LLC               8124  2015-12-21   \n",
       "1          4466  AMERICAN VINTAGE BEVERAGE        8137  2015-12-22   \n",
       "2          4466  AMERICAN VINTAGE BEVERAGE        8137  2015-12-22   \n",
       "3          4466  AMERICAN VINTAGE BEVERAGE        8137  2015-12-22   \n",
       "4           388  ATLANTIC IMPORTING COMPANY       8169  2015-12-24   \n",
       "\n",
       "  ReceivingDate InvoiceDate     PayDate  PurchasePrice  Quantity  Dollars  \\\n",
       "0    2016-01-02  2016-01-04  2016-02-16          35.71         6   214.26   \n",
       "1    2016-01-01  2016-01-07  2016-02-21           9.35         4    37.40   \n",
       "2    2016-01-02  2016-01-07  2016-02-21           9.41         5    47.05   \n",
       "3    2016-01-01  2016-01-07  2016-02-21           9.35         6    56.10   \n",
       "4    2016-01-02  2016-01-09  2016-02-16          21.32         5   106.60   \n",
       "\n",
       "   Classification  \n",
       "0               1  \n",
       "1               1  \n",
       "2               1  \n",
       "3               1  \n",
       "4               1  "
      ]
     },
     "execution_count": 73,
     "metadata": {},
     "output_type": "execute_result"
    }
   ],
   "source": [
    "df_PurchasesFinal.head()"
   ]
  },
  {
   "cell_type": "code",
   "execution_count": 76,
   "metadata": {},
   "outputs": [
    {
     "data": {
      "text/plain": [
       "array([1, 2])"
      ]
     },
     "execution_count": 76,
     "metadata": {},
     "output_type": "execute_result"
    }
   ],
   "source": [
    "df_PurchasesFinal[\"Classification\"].unique()"
   ]
  },
  {
   "cell_type": "code",
   "execution_count": 78,
   "metadata": {},
   "outputs": [
    {
     "name": "stdout",
     "output_type": "stream",
     "text": [
      "Size    3\n",
      "dtype: int64\n"
     ]
    }
   ],
   "source": [
    "total_nulos_purchasesfinal = df_PurchasesFinal.isnull().sum()[df_PurchasesFinal.isnull().sum()>0]\n",
    "print(total_nulos_purchasesfinal)"
   ]
  }
 ],
 "metadata": {
  "kernelspec": {
   "display_name": "Python 3",
   "language": "python",
   "name": "python3"
  },
  "language_info": {
   "codemirror_mode": {
    "name": "ipython",
    "version": 3
   },
   "file_extension": ".py",
   "mimetype": "text/x-python",
   "name": "python",
   "nbconvert_exporter": "python",
   "pygments_lexer": "ipython3",
   "version": "3.12.5"
  }
 },
 "nbformat": 4,
 "nbformat_minor": 2
}
